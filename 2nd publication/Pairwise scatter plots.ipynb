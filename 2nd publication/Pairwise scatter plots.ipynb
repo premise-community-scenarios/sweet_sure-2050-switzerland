{
 "cells": [
  {
   "cell_type": "code",
   "execution_count": 1,
   "id": "53c821bc-e1ac-4f41-9cc8-3121e47c9ef0",
   "metadata": {},
   "outputs": [],
   "source": [
    "import pandas as pd\n",
    "import seaborn as sns\n",
    "import matplotlib.pyplot as plt"
   ]
  },
  {
   "cell_type": "code",
   "execution_count": 2,
   "id": "600486bf-b14c-4d0e-8c96-0845c1386846",
   "metadata": {},
   "outputs": [],
   "source": [
    "# Load the Excel file\n",
    "file_path = '2000 iterations/remind_SSP2-PkBudg1150-SPS1_2050.xlsx'\n",
    "excel_data = pd.ExcelFile(file_path)"
   ]
  },
  {
   "cell_type": "code",
   "execution_count": 3,
   "id": "bfa18c53-bc16-4bca-9d77-0b21ef0d3273",
   "metadata": {},
   "outputs": [],
   "source": [
    "# Load the \"Technology shares\" sheet\n",
    "df = excel_data.parse('Technology shares')"
   ]
  },
  {
   "cell_type": "code",
   "execution_count": 4,
   "id": "566f30eb-bdfa-4321-bbd4-86b2e53a96ca",
   "metadata": {},
   "outputs": [],
   "source": [
    "# Define categories\n",
    "categories = {\n",
    "    'Wind': ['Wind - onshore-DDPM', 'Wind - onshore-Gearbox', 'Wind - offshore-DDPM', 'Wind - offshore-Gearbox'],\n",
    "    'PV': ['PV - c-Si', 'PV - CdTe', 'PV - CIGS', 'PV - a-Si', 'PV - Perovskite', 'PV - GaAs'],\n",
    "    'CSP': ['CSP - Parabolic trough', 'CSP - Solar tower'],\n",
    "    'Fuel cell, stationary': ['Fuel cell - Stationary - PEMFC', 'Fuel cell - Stationary - SOFC'],\n",
    "    'Electrolyzer': ['Electrolyzer - PEM', 'Electrolyzer - Alkaline', 'Electrolyzer - HTEL'],\n",
    "    'Battery, mobile': ['Battery-Mobile - NMC111', 'Battery-Mobile - NMC523', 'Battery-Mobile - NMC622', 'Battery-Mobile - NMC811',\n",
    "                        'Battery-Mobile - NMC955', 'Battery-Mobile - NCA', 'Battery-Mobile - LFP', 'Battery-Mobile - LiS',\n",
    "                        'Battery-Mobile - LiO2','Battery-Mobile - SIB',\n",
    "                       ], \n",
    "    'Battery, stationary': ['Battery-Stationary - NMC111-Stationary', 'Battery-Stationary - NMC523-Stationary', 'Battery-Stationary - NMC622-Stationary', \n",
    "                            'Battery-Stationary - NMC811-Stationary', 'Battery-Stationary - NMC955-Stationary', 'Battery-Stationary - Lead-Acid-Stationary',\n",
    "                            'Battery-Stationary - LFP-Stationary', 'Battery-Stationary - SIB-Stationary', 'Battery-Stationary - Redox-Flow-Stationary'\n",
    "                           ]  \n",
    "}"
   ]
  },
  {
   "cell_type": "code",
   "execution_count": 5,
   "id": "a7ab776e-bca1-4f82-9975-aff968f9cbc3",
   "metadata": {},
   "outputs": [],
   "source": [
    "def clean_column_name(col_name, category_name):\n",
    "    # Remove category prefix and hyphen\n",
    "    cleaned_name = col_name.replace(category_name + ' - ', '').replace(' - ', ' ')\n",
    "    cleaned_name = cleaned_name.replace('-Stationary', '').strip()\n",
    "    # Special handling for certain terms\n",
    "    if 'DDPM' in cleaned_name:\n",
    "        return cleaned_name.replace('Ddpm', 'DDPM')\n",
    "    elif 'PEMFC' in cleaned_name or 'SOFC' in cleaned_name:\n",
    "        return cleaned_name.split()[-1]\n",
    "    elif 'PEM' in cleaned_name or 'HTEL' in cleaned_name:\n",
    "        return cleaned_name.split()[-1].upper()\n",
    "    elif 'Battery-Mobile' in col_name or 'Battery-Stationary' in col_name:\n",
    "        tech_name = cleaned_name.split()[-1].upper()\n",
    "        return tech_name.replace('STATIONARY', '').strip()\n",
    "    else:\n",
    "        # Handle specific cases like GaAs, CdTe, and CIGS\n",
    "        if cleaned_name.lower() == 'gaas':\n",
    "            return 'GaAs'\n",
    "        elif cleaned_name.lower() == 'cdte':\n",
    "            return 'CdTe'\n",
    "        elif cleaned_name.lower() == 'cigs':\n",
    "            return 'CIGS'\n",
    "        return cleaned_name.title()\n",
    "\n",
    "# Function to create and save pairwise scatter plots for a given category\n",
    "def create_and_save_pairwise_scatter_plots(data, columns, category_name):\n",
    "    # Rename columns to remove category prefix and hyphen, capitalize subtechnology names\n",
    "    renamed_columns = {col: clean_column_name(col, category_name) for col in columns}\n",
    "    data_renamed = data[columns].rename(columns=renamed_columns)\n",
    "    \n",
    "    # Create pairwise scatter plot\n",
    "    pairplot = sns.pairplot(data_renamed, plot_kws={'s': 10})\n",
    "    pairplot.fig.suptitle(f'Pairwise Scatter Plots for {category_name.capitalize()}', y=1.02, fontsize=16)\n",
    "    \n",
    "    # Adjust font sizes for axes titles and tick labels\n",
    "    for ax in pairplot.axes.flatten():\n",
    "        ax.set_xlabel(ax.get_xlabel(), fontsize=12)\n",
    "        ax.set_ylabel(ax.get_ylabel(), fontsize=12)\n",
    "        ax.tick_params(axis='both', which='major', labelsize=10)\n",
    "    \n",
    "    # Set consistent figure size\n",
    "    pairplot.fig.set_size_inches(10, 10)\n",
    "    \n",
    "    # Save the plot\n",
    "    plt.savefig(f'pairwise_scatter_{category_name}_2000it.png', bbox_inches='tight')\n",
    "    plt.close()"
   ]
  },
  {
   "cell_type": "code",
   "execution_count": 6,
   "id": "60fa3ec0-fd2a-4998-acd0-d692cd19af59",
   "metadata": {},
   "outputs": [],
   "source": [
    "# Generate pairwise scatter plots for each category\n",
    "for category, columns in categories.items():\n",
    "    create_and_save_pairwise_scatter_plots(df, columns, category)"
   ]
  },
  {
   "cell_type": "code",
   "execution_count": null,
   "id": "da9415e2-7a56-471b-8114-0e973860dd9a",
   "metadata": {},
   "outputs": [],
   "source": []
  },
  {
   "cell_type": "code",
   "execution_count": null,
   "id": "7ca8a3fa-1eb5-463e-8195-aee760d1f777",
   "metadata": {},
   "outputs": [],
   "source": []
  }
 ],
 "metadata": {
  "kernelspec": {
   "display_name": "Python 3 (ipykernel)",
   "language": "python",
   "name": "python3"
  },
  "language_info": {
   "codemirror_mode": {
    "name": "ipython",
    "version": 3
   },
   "file_extension": ".py",
   "mimetype": "text/x-python",
   "name": "python",
   "nbconvert_exporter": "python",
   "pygments_lexer": "ipython3",
   "version": "3.11.10"
  }
 },
 "nbformat": 4,
 "nbformat_minor": 5
}
