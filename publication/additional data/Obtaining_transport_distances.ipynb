{
 "cells": [
  {
   "cell_type": "code",
   "execution_count": 1,
   "id": "86e1e200",
   "metadata": {},
   "outputs": [],
   "source": [
    "import pandas as pd"
   ]
  },
  {
   "cell_type": "markdown",
   "id": "e4da582f",
   "metadata": {},
   "source": [
    "### HS labels"
   ]
  },
  {
   "cell_type": "markdown",
   "id": "ec175a45",
   "metadata": {},
   "source": [
    "👓 Structure of HS2012 labels: https://unstats.un.org/unsd/classifications/Econ/Structure"
   ]
  },
  {
   "cell_type": "markdown",
   "id": "89d88843",
   "metadata": {},
   "source": [
    "For the metals, we choose all forms but those related to waste and scrap as that will be modelled in a later phase"
   ]
  },
  {
   "cell_type": "markdown",
   "id": "70ee15fd",
   "metadata": {},
   "source": [
    "We neglect wrought forms. As the transport for final products is expected to be modelled in ecoinvent"
   ]
  },
  {
   "cell_type": "code",
   "execution_count": 3,
   "id": "af8920ad",
   "metadata": {},
   "outputs": [],
   "source": [
    "metals = {\n",
    "    # Chapter 26 - Ores, slag and ash \n",
    "    'stibnite': [261710], # 261710 - Antimony ores and concentrates\n",
    "    'bauxite': [260600], # 260600 - Aluminium ores and concentrates\n",
    "    'chromite': [261000], # 261000 - Chromium ores and concentrates\n",
    "    'cobalt_ore': [260500], # 260500 - Cobalt ores and concentrates\n",
    "    'copper_ore': [260300], # 260300 - Copper ores and concentrates \n",
    "    'iron_ore': [260111,260120], # 260111 - Iron ores and concentrates; non-agglomerated \n",
    "                                 # 260112 - Iron ores and concentrates; agglomerated (excluding roasted iron pyrites)\n",
    "    'lead_ore': [260700], # 260700 - Lead ores and concentrates \n",
    "    'manganese_ore': [260200], # 260200 - Manganese ores and concentrates, including ferruginous manganese ores and concentrates with a manganese content of 20% or more, calculated on the dry weight \n",
    "    'molybdenite': [261310,261390], # 261310 - Molybdenum ores and concentrates; roasted \n",
    "                                    # 261390 - Molybdenum ores and concentrates; other than roasted\n",
    "    'nickel_ore': [260400], #  260400 - Nickel ores and concentrates\n",
    "    'phosphate_rock': [251010,251020], # 251010 - Natural calcium phosphates, natural aluminium calcium phosphates and phosphatic chalk; unground \n",
    "                                       # 251020 - Natural calcium phosphates, natural aluminium calcium phosphates and phosphatic chalk; ground\n",
    "    'silver_ore': [261610], # 261610 - Silver ores and concentrates\n",
    "    'tantalum_vanadium_niobium_ore': [261590], # 261590 - Niobium, tantalum, vanadium ores and concentrates \n",
    "    'tin_ore': [260900], # 260900 - Tin ores and concentrates \n",
    "    'titanium_ore': [261400], # 261400 - Titanium ores and concentrates\n",
    "    'tungsten_ore': [261100], # 261100 - Tungsten ores and concentrates \n",
    "    'uranium_ore': [261210], # 261210 - Uranium ores and concentrates \n",
    "    'zinc_ore': [260800], # 260800 - Zinc ores and concentrates\n",
    "    # Chapter 28 - Inorganic chemicals; organic and inorganic compounds of precious metals; \n",
    "    #              of rare earth metals, of radio-active elements and of isotopes\n",
    "    'aluminium_hydroxide': [281830], # 281830 - Aluminium hydroxide \n",
    "    'aluminium_oxide': [281820], # 281820 - Aluminium oxide; other than artificial corundum\n",
    "    'other_hydroxide': [282590], # 282590 - Inorganic bases, metal oxides, hydroxides and peroxides; n.e.c. in heading no. 2825\n",
    "    'other_borate': [284020], # 284020 - Borates; n.e.c. in heading no. 2840\n",
    "    'sodium_borate': [284019], # 284019 - Borates; disodium tetraborate (refined borax), other than anhydrous\n",
    "    'boric_oxid_acid': [281000], # 281000 - Oxides of boron; boric acids\n",
    "    'cobalt_hydroxide': [282200], # 282200 - Cobalt oxides and hydroxides; commercial cobalt oxides \n",
    "    'other_sulfate': [283329], # 283329 - Sulphates; n.e.c. in item no. 2833.2\n",
    "    'phosphorous': [280470], # 280470 - Phosphorus \n",
    "    'phosphoric_acid': [280920], # 280920 - Phosphoric acid and polyphosphoric acids \n",
    "    'potash': [281520], # 281520 - Potassium hydroxide (caustic potash) \n",
    "    'reo_scandium_yttrium': [280530], #  280530 - Earth-metals, rare; scandium and yttrium, whether or not intermixed or interalloyed\n",
    "    'selenium': [280490], #  280490 - Selenium \n",
    "    'sulfur': [280200], #  280200 - Sulphur; sublimed or precipitated, colloidal sulphur \n",
    "    'vanadium_oxide': [282530], # 282530 - Vanadium oxides and hydroxides\n",
    "    'lithium_hydroxide': [282520], # 282520 - Lithium oxide and hydroxide\n",
    "    'other_chloride': [282739], # 282739 - Chlorides; other than of ammonium, calcium, magnesium, aluminium and nickel\n",
    "    'lithium_carbonate': [283691], # 283691 - Carbonates; lithium carbonate\n",
    "    'other_carbonate': [283699], # 283699 - Carbonates; n.e.c. in heading no. 2836 and other than lithium or strontium\n",
    "    'other_carbide': [284990], #  284990 - Carbides; whether or not chemically defined, other than of calcium or silicon\n",
    "    'other_fluoride': [282619, 282690], # 282619 - Fluorides; other than of aluminium\n",
    "                                        # 282690 - Fluorides; fluorosilicates, fluoroaluminates and other complex fluorine salts, n.e.c. in heading no. 2826\n",
    "    'silicon': [280461], # 280461 - Silicon; containing by weight not less than 99.99% of silicon \n",
    "    # Metals\n",
    "    'antimony': [811010], # 811010 - Antimony and articles thereof; unwrought antimony, powders\n",
    "    'aluminium': [760110], # 760110 - Aluminium; unwrought, (not alloyed)\n",
    "    'aluminium_cast_alloy': [760120], # 760120 - Aluminium; unwrought, alloys \n",
    "    'bentonite': [250810], # 250810 - Clays (excluding expanded clays of heading no. 6806); bentonite, whether or not calcined\n",
    "    'beryllium': [811212], # 811212 - Beryllium and articles thereof; unwrought beryllium, powders\n",
    "    'boron_tellurium': [280450], # 280450 - Boron; tellurium\n",
    "    'cadmium': [810720], # 810720 - Cadmium; unwrought, powders\n",
    "    'chromium': [811221], # 811221 - Chromium and articles thereof; unwrought chromium, powders\n",
    "    'cobalt': [810520], # 810520 - Cobalt; mattes and other intermediate products of cobalt metallurgy, unwrought cobalt, powders\n",
    "    'copper_anode': [740200], # 740200 - Copper; unrefined, copper anodes for electrolytic refining\n",
    "    'copper_cathode': [740311], # 740311 - Copper; refined, unwrought, cathodes and sections of cathodes\n",
    "    'ga_ge_hf_in_nb_rh_va': [811292], # 811292 - Gallium, germanium, hafnium, indium, niobium (columbium), rhenium and vanadium; \n",
    "                                      # articles thereof, unwrought, including waste and scrap, powders\n",
    "    'gold': [710811,710812], # 710811 - Metals; gold, non-monetary, powder\n",
    "                             # 710812 - Metals; gold, non-monetary, unwrought (but not powder)\n",
    "    'graphite': [250410, 250490], # 250410 - Graphite; natural, in powder or in flakes\n",
    "                                  #  250490 - Graphite; natural, in other forms, excluding powder or flakes\n",
    "    # graphite = [690310] # 690310 - Refractory ceramic goods; containing by weight more than 50% of graphite or other forms of carbon or of a mixture of these products, excluding those of siliceous fossil meals or similar earths \n",
    "\n",
    "    'pgm': [711041], # 711041 - Metals; iridium, osmium, ruthenium, unwrought or in powder form \n",
    "    'pig_iron': [720110, 720120, 720150], # 720110 - Iron; non-alloy pig iron containing by weight 0.5% or less of phosphorus, in pigs, blocks or other primary forms\n",
    "                                          # 720120 - Iron; non-alloy pig iron containing by weight more than 0.5% of phosphorus, in pigs, blocks or other primary forms\n",
    "                                          # 720150 - Iron; alloy pig iron, spiegeleisen, in pigs, blocks or other primary forms\n",
    "    'lead': [780110,780191,780199], # 780110 - Lead; unwrought, refined\n",
    "                                    # 780191 - Lead; unwrought, unrefined, containing by weight antimony as the principal other element\n",
    "                                    # 780199 - Lead; unwrought, unrefined, not containing by weight antimony as the principal other element\n",
    "\n",
    "\n",
    "    'dolomite': [251810,251820,251830], #  2518 - Dolomite, whether or not calcined or sintered; including dolomite roughly trimmed, or merely cut by sawing or otherwise into blocks or slabs of rectangular (including square) shape; dolomite ramming mix\n",
    "    'magnesium': [810411,810419], # 810411 - Magnesium; unwrought, containing at least 99.8% by weight of magnesium \n",
    "                                  # 810419 - Magnesium; unwrought, containing less than 99.8% by weight of magnesium \n",
    "    'manganese': [811100], # 811100 - Manganese; articles thereof, including waste and scrap\n",
    "    'molybdenum': [810294], # 810294 - Molybdenum; unwrought, including bars and rods obtained simply by sintering \n",
    "    'nickel': [750210], # 750210 - Nickel; unwrought, not alloyed \n",
    "    'niobium': [720293], # 720293 - Ferro-alloys; ferro-niobium \n",
    "    'palladium': [711021], # 711021 - Metals; palladium, unwrought or in powder form \n",
    "    'platinum': [711011], #  711011 - Metals; platinum, unwrought or in powder form \n",
    "    'silica_sand': [250510], #  250510 - Sands; natural, silica and quartz sands, whether or not coloured \n",
    "    'tin': [800110], #  800110 - Tin; unwrought, not alloyed \n",
    "    'titanium': [810820], # 810820 - Titanium; unwrought, powders \n",
    "    'zinc': [790111, 790112], # 790111 - Zinc; unwrought, (not alloyed), containing by weight 99.99% or more of zinc \n",
    "                              # 790112 - Zinc; unwrought, (not alloyed), containing by weight less than 99.99% of zinc\n",
    "    'zirconium': [810920] # 810920 - Zirconium; unwrought, powders \n",
    "}"
   ]
  },
  {
   "cell_type": "markdown",
   "id": "bada6c8e",
   "metadata": {},
   "source": [
    "# Filter data"
   ]
  },
  {
   "cell_type": "markdown",
   "id": "a33db3bf",
   "metadata": {},
   "source": [
    "The csv coming from UNCTAD are too large. I need to filter them first. Then, I will be working with the dataframe where I have merged all modes of transport for the relevant metals."
   ]
  },
  {
   "cell_type": "code",
   "execution_count": 3,
   "id": "4b9aeaba",
   "metadata": {},
   "outputs": [],
   "source": [
    "def filter_and_save(df, filename, mode='w'):\n",
    "    # Filter rows based on HS2012Product values in the metals dictionary\n",
    "    filtered_df = df[df['HS2012Product'].isin([code for metal_codes in metals.values() for code in metal_codes])]\n",
    "    # Save or append to CSV\n",
    "    filtered_df.to_csv(filename, mode=mode, header=(mode == 'w'), index=False)"
   ]
  },
  {
   "cell_type": "code",
   "execution_count": 3,
   "id": "a8f4a030-9694-43ae-af42-6326c942269c",
   "metadata": {},
   "outputs": [
    {
     "ename": "ParserError",
     "evalue": "Error tokenizing data. C error: Calling read(nbytes) on source failed. Try engine='python'.",
     "output_type": "error",
     "traceback": [
      "\u001b[1;31m---------------------------------------------------------------------------\u001b[0m",
      "\u001b[1;31mParserError\u001b[0m                               Traceback (most recent call last)",
      "Cell \u001b[1;32mIn[3], line 1\u001b[0m\n\u001b[1;32m----> 1\u001b[0m df_road \u001b[38;5;241m=\u001b[39m \u001b[43mpd\u001b[49m\u001b[38;5;241;43m.\u001b[39;49m\u001b[43mread_csv\u001b[49m\u001b[43m(\u001b[49m\u001b[38;5;124;43m'\u001b[39;49m\u001b[38;5;124;43mUS_TransportCosts_Road_Detail_ST202101141213_v1.csv\u001b[39;49m\u001b[38;5;124;43m'\u001b[39;49m\u001b[43m)\u001b[49m\n\u001b[0;32m      2\u001b[0m df\u001b[38;5;241m.\u001b[39mhead()\n",
      "File \u001b[1;32m~\\AppData\\Local\\miniconda3\\envs\\PRISMA_310\\lib\\site-packages\\pandas\\io\\parsers\\readers.py:1026\u001b[0m, in \u001b[0;36mread_csv\u001b[1;34m(filepath_or_buffer, sep, delimiter, header, names, index_col, usecols, dtype, engine, converters, true_values, false_values, skipinitialspace, skiprows, skipfooter, nrows, na_values, keep_default_na, na_filter, verbose, skip_blank_lines, parse_dates, infer_datetime_format, keep_date_col, date_parser, date_format, dayfirst, cache_dates, iterator, chunksize, compression, thousands, decimal, lineterminator, quotechar, quoting, doublequote, escapechar, comment, encoding, encoding_errors, dialect, on_bad_lines, delim_whitespace, low_memory, memory_map, float_precision, storage_options, dtype_backend)\u001b[0m\n\u001b[0;32m   1013\u001b[0m kwds_defaults \u001b[38;5;241m=\u001b[39m _refine_defaults_read(\n\u001b[0;32m   1014\u001b[0m     dialect,\n\u001b[0;32m   1015\u001b[0m     delimiter,\n\u001b[1;32m   (...)\u001b[0m\n\u001b[0;32m   1022\u001b[0m     dtype_backend\u001b[38;5;241m=\u001b[39mdtype_backend,\n\u001b[0;32m   1023\u001b[0m )\n\u001b[0;32m   1024\u001b[0m kwds\u001b[38;5;241m.\u001b[39mupdate(kwds_defaults)\n\u001b[1;32m-> 1026\u001b[0m \u001b[38;5;28;01mreturn\u001b[39;00m \u001b[43m_read\u001b[49m\u001b[43m(\u001b[49m\u001b[43mfilepath_or_buffer\u001b[49m\u001b[43m,\u001b[49m\u001b[43m \u001b[49m\u001b[43mkwds\u001b[49m\u001b[43m)\u001b[49m\n",
      "File \u001b[1;32m~\\AppData\\Local\\miniconda3\\envs\\PRISMA_310\\lib\\site-packages\\pandas\\io\\parsers\\readers.py:626\u001b[0m, in \u001b[0;36m_read\u001b[1;34m(filepath_or_buffer, kwds)\u001b[0m\n\u001b[0;32m    623\u001b[0m     \u001b[38;5;28;01mreturn\u001b[39;00m parser\n\u001b[0;32m    625\u001b[0m \u001b[38;5;28;01mwith\u001b[39;00m parser:\n\u001b[1;32m--> 626\u001b[0m     \u001b[38;5;28;01mreturn\u001b[39;00m \u001b[43mparser\u001b[49m\u001b[38;5;241;43m.\u001b[39;49m\u001b[43mread\u001b[49m\u001b[43m(\u001b[49m\u001b[43mnrows\u001b[49m\u001b[43m)\u001b[49m\n",
      "File \u001b[1;32m~\\AppData\\Local\\miniconda3\\envs\\PRISMA_310\\lib\\site-packages\\pandas\\io\\parsers\\readers.py:1923\u001b[0m, in \u001b[0;36mTextFileReader.read\u001b[1;34m(self, nrows)\u001b[0m\n\u001b[0;32m   1916\u001b[0m nrows \u001b[38;5;241m=\u001b[39m validate_integer(\u001b[38;5;124m\"\u001b[39m\u001b[38;5;124mnrows\u001b[39m\u001b[38;5;124m\"\u001b[39m, nrows)\n\u001b[0;32m   1917\u001b[0m \u001b[38;5;28;01mtry\u001b[39;00m:\n\u001b[0;32m   1918\u001b[0m     \u001b[38;5;66;03m# error: \"ParserBase\" has no attribute \"read\"\u001b[39;00m\n\u001b[0;32m   1919\u001b[0m     (\n\u001b[0;32m   1920\u001b[0m         index,\n\u001b[0;32m   1921\u001b[0m         columns,\n\u001b[0;32m   1922\u001b[0m         col_dict,\n\u001b[1;32m-> 1923\u001b[0m     ) \u001b[38;5;241m=\u001b[39m \u001b[38;5;28;43mself\u001b[39;49m\u001b[38;5;241;43m.\u001b[39;49m\u001b[43m_engine\u001b[49m\u001b[38;5;241;43m.\u001b[39;49m\u001b[43mread\u001b[49m\u001b[43m(\u001b[49m\u001b[43m  \u001b[49m\u001b[38;5;66;43;03m# type: ignore[attr-defined]\u001b[39;49;00m\n\u001b[0;32m   1924\u001b[0m \u001b[43m        \u001b[49m\u001b[43mnrows\u001b[49m\n\u001b[0;32m   1925\u001b[0m \u001b[43m    \u001b[49m\u001b[43m)\u001b[49m\n\u001b[0;32m   1926\u001b[0m \u001b[38;5;28;01mexcept\u001b[39;00m \u001b[38;5;167;01mException\u001b[39;00m:\n\u001b[0;32m   1927\u001b[0m     \u001b[38;5;28mself\u001b[39m\u001b[38;5;241m.\u001b[39mclose()\n",
      "File \u001b[1;32m~\\AppData\\Local\\miniconda3\\envs\\PRISMA_310\\lib\\site-packages\\pandas\\io\\parsers\\c_parser_wrapper.py:234\u001b[0m, in \u001b[0;36mCParserWrapper.read\u001b[1;34m(self, nrows)\u001b[0m\n\u001b[0;32m    232\u001b[0m \u001b[38;5;28;01mtry\u001b[39;00m:\n\u001b[0;32m    233\u001b[0m     \u001b[38;5;28;01mif\u001b[39;00m \u001b[38;5;28mself\u001b[39m\u001b[38;5;241m.\u001b[39mlow_memory:\n\u001b[1;32m--> 234\u001b[0m         chunks \u001b[38;5;241m=\u001b[39m \u001b[38;5;28;43mself\u001b[39;49m\u001b[38;5;241;43m.\u001b[39;49m\u001b[43m_reader\u001b[49m\u001b[38;5;241;43m.\u001b[39;49m\u001b[43mread_low_memory\u001b[49m\u001b[43m(\u001b[49m\u001b[43mnrows\u001b[49m\u001b[43m)\u001b[49m\n\u001b[0;32m    235\u001b[0m         \u001b[38;5;66;03m# destructive to chunks\u001b[39;00m\n\u001b[0;32m    236\u001b[0m         data \u001b[38;5;241m=\u001b[39m _concatenate_chunks(chunks)\n",
      "File \u001b[1;32mparsers.pyx:838\u001b[0m, in \u001b[0;36mpandas._libs.parsers.TextReader.read_low_memory\u001b[1;34m()\u001b[0m\n",
      "File \u001b[1;32mparsers.pyx:905\u001b[0m, in \u001b[0;36mpandas._libs.parsers.TextReader._read_rows\u001b[1;34m()\u001b[0m\n",
      "File \u001b[1;32mparsers.pyx:874\u001b[0m, in \u001b[0;36mpandas._libs.parsers.TextReader._tokenize_rows\u001b[1;34m()\u001b[0m\n",
      "File \u001b[1;32mparsers.pyx:891\u001b[0m, in \u001b[0;36mpandas._libs.parsers.TextReader._check_tokenize_status\u001b[1;34m()\u001b[0m\n",
      "File \u001b[1;32mparsers.pyx:2061\u001b[0m, in \u001b[0;36mpandas._libs.parsers.raise_parser_error\u001b[1;34m()\u001b[0m\n",
      "\u001b[1;31mParserError\u001b[0m: Error tokenizing data. C error: Calling read(nbytes) on source failed. Try engine='python'."
     ]
    }
   ],
   "source": [
    "df_road = pd.read_csv('US_TransportCosts_Road_Detail_ST202101141213_v1.csv')\n",
    "df.head()"
   ]
  },
  {
   "cell_type": "code",
   "execution_count": 4,
   "id": "fea206f4",
   "metadata": {},
   "outputs": [],
   "source": [
    "# df_road = pd.read_csv('US_TransportCosts_Road_Detail_ST202101141213_v1.csv')\n",
    "# # Filter and save rows from the first dataframe\n",
    "# filter_and_save(df_road, 'filtered_metals_UNCTAD.csv', mode='w')"
   ]
  },
  {
   "cell_type": "code",
   "execution_count": 5,
   "id": "636b7b0c",
   "metadata": {},
   "outputs": [],
   "source": [
    "# df_railway = pd.read_csv('US_TransportCosts_Railway_Detail_ST202101141253_v1.csv')\n",
    "# # Filter and append rows from the second dataframe\n",
    "# filter_and_save(df_railway, 'filtered_metals_UNCTAD.csv', mode='a')"
   ]
  },
  {
   "cell_type": "code",
   "execution_count": 6,
   "id": "29003de3",
   "metadata": {
    "scrolled": true
   },
   "outputs": [
    {
     "name": "stderr",
     "output_type": "stream",
     "text": [
      "C:\\Users\\hahnme_a\\AppData\\Local\\Temp\\ipykernel_2848\\1596758414.py:1: DtypeWarning: Columns (10,12) have mixed types. Specify dtype option on import or set low_memory=False.\n",
      "  df_air = pd.read_csv('US_TransportCosts_Air_Detail_ST202101141441_v1.csv')\n"
     ]
    }
   ],
   "source": [
    "# df_air = pd.read_csv('US_TransportCosts_Air_Detail_ST202101141441_v1.csv')\n",
    "# # Filter and append rows from the third dataframe\n",
    "# filter_and_save(df_air, 'filtered_metals_UNCTAD.csv', mode='a')"
   ]
  },
  {
   "cell_type": "code",
   "execution_count": 6,
   "id": "24e41a7a",
   "metadata": {},
   "outputs": [],
   "source": [
    "df_sea = pd.read_csv('US_TransportCosts_Sea_Detail_ST202101141129_v1.csv')\n",
    "# Filter and append rows from the fourth dataframe\n",
    "filter_and_save(df_sea, 'filtered_metals_UNCTAD.csv', mode='a')"
   ]
  },
  {
   "cell_type": "markdown",
   "id": "4b424b95",
   "metadata": {},
   "source": [
    "# Weighted average"
   ]
  },
  {
   "attachments": {
    "image.png": {
     "image/png": "[encoded data removed]"
    }
   },
   "cell_type": "markdown",
   "id": "98957e4c",
   "metadata": {},
   "source": [
    "![image.png](attachment:image.png)"
   ]
  },
  {
   "cell_type": "code",
   "execution_count": 4,
   "id": "e2564027",
   "metadata": {},
   "outputs": [
    {
     "data": {
      "text/html": [
       "<div>\n",
       "<style scoped>\n",
       "    .dataframe tbody tr th:only-of-type {\n",
       "        vertical-align: middle;\n",
       "    }\n",
       "\n",
       "    .dataframe tbody tr th {\n",
       "        vertical-align: top;\n",
       "    }\n",
       "\n",
       "    .dataframe thead th {\n",
       "        text-align: right;\n",
       "    }\n",
       "</style>\n",
       "<table border=\"1\" class=\"dataframe\">\n",
       "  <thead>\n",
       "    <tr style=\"text-align: right;\">\n",
       "      <th></th>\n",
       "      <th>Year</th>\n",
       "      <th>Origin</th>\n",
       "      <th>Origin Label</th>\n",
       "      <th>Destination</th>\n",
       "      <th>Destination Label</th>\n",
       "      <th>HS2012Product</th>\n",
       "      <th>HS2012Product Label</th>\n",
       "      <th>TransportMode</th>\n",
       "      <th>TransportMode Label</th>\n",
       "      <th>Absolute value</th>\n",
       "      <th>Absolute value Footnote</th>\n",
       "      <th>CIF value (US dollars)</th>\n",
       "      <th>CIF value (US dollars) Footnote</th>\n",
       "      <th>FOB value (US dollars)</th>\n",
       "      <th>FOB value (US dollars) Footnote</th>\n",
       "      <th>Distance</th>\n",
       "      <th>Distance Footnote</th>\n",
       "      <th>Metal</th>\n",
       "    </tr>\n",
       "  </thead>\n",
       "  <tbody>\n",
       "    <tr>\n",
       "      <th>0</th>\n",
       "      <td>2016</td>\n",
       "      <td>4</td>\n",
       "      <td>Afghanistan</td>\n",
       "      <td>8</td>\n",
       "      <td>Albania</td>\n",
       "      <td>250410</td>\n",
       "      <td>Natural graphite in powder or in flakes - kilo...</td>\n",
       "      <td>32</td>\n",
       "      <td>Road</td>\n",
       "      <td>NaN</td>\n",
       "      <td>NaN</td>\n",
       "      <td>NaN</td>\n",
       "      <td>NaN</td>\n",
       "      <td>NaN</td>\n",
       "      <td>NaN</td>\n",
       "      <td>5882.192</td>\n",
       "      <td>NaN</td>\n",
       "      <td>graphite</td>\n",
       "    </tr>\n",
       "    <tr>\n",
       "      <th>1</th>\n",
       "      <td>2016</td>\n",
       "      <td>4</td>\n",
       "      <td>Afghanistan</td>\n",
       "      <td>8</td>\n",
       "      <td>Albania</td>\n",
       "      <td>250490</td>\n",
       "      <td>Natural graphite (excl. in powder or in flakes...</td>\n",
       "      <td>32</td>\n",
       "      <td>Road</td>\n",
       "      <td>NaN</td>\n",
       "      <td>NaN</td>\n",
       "      <td>NaN</td>\n",
       "      <td>NaN</td>\n",
       "      <td>NaN</td>\n",
       "      <td>NaN</td>\n",
       "      <td>5882.192</td>\n",
       "      <td>NaN</td>\n",
       "      <td>graphite</td>\n",
       "    </tr>\n",
       "    <tr>\n",
       "      <th>2</th>\n",
       "      <td>2016</td>\n",
       "      <td>4</td>\n",
       "      <td>Afghanistan</td>\n",
       "      <td>8</td>\n",
       "      <td>Albania</td>\n",
       "      <td>250510</td>\n",
       "      <td>Silica sands and quartz sands, whether or not ...</td>\n",
       "      <td>32</td>\n",
       "      <td>Road</td>\n",
       "      <td>NaN</td>\n",
       "      <td>NaN</td>\n",
       "      <td>NaN</td>\n",
       "      <td>NaN</td>\n",
       "      <td>NaN</td>\n",
       "      <td>NaN</td>\n",
       "      <td>5882.192</td>\n",
       "      <td>NaN</td>\n",
       "      <td>silica_sand</td>\n",
       "    </tr>\n",
       "    <tr>\n",
       "      <th>3</th>\n",
       "      <td>2016</td>\n",
       "      <td>4</td>\n",
       "      <td>Afghanistan</td>\n",
       "      <td>8</td>\n",
       "      <td>Albania</td>\n",
       "      <td>250810</td>\n",
       "      <td>Bentonite - kilograms</td>\n",
       "      <td>32</td>\n",
       "      <td>Road</td>\n",
       "      <td>NaN</td>\n",
       "      <td>NaN</td>\n",
       "      <td>NaN</td>\n",
       "      <td>NaN</td>\n",
       "      <td>NaN</td>\n",
       "      <td>NaN</td>\n",
       "      <td>5882.192</td>\n",
       "      <td>NaN</td>\n",
       "      <td>bentonite</td>\n",
       "    </tr>\n",
       "    <tr>\n",
       "      <th>4</th>\n",
       "      <td>2016</td>\n",
       "      <td>4</td>\n",
       "      <td>Afghanistan</td>\n",
       "      <td>8</td>\n",
       "      <td>Albania</td>\n",
       "      <td>251010</td>\n",
       "      <td>Natural calcium phosphates and natural alumini...</td>\n",
       "      <td>32</td>\n",
       "      <td>Road</td>\n",
       "      <td>NaN</td>\n",
       "      <td>NaN</td>\n",
       "      <td>NaN</td>\n",
       "      <td>NaN</td>\n",
       "      <td>NaN</td>\n",
       "      <td>NaN</td>\n",
       "      <td>5882.192</td>\n",
       "      <td>NaN</td>\n",
       "      <td>phosphate_rock</td>\n",
       "    </tr>\n",
       "  </tbody>\n",
       "</table>\n",
       "</div>"
      ],
      "text/plain": [
       "   Year  Origin Origin Label  Destination Destination Label  HS2012Product  \\\n",
       "0  2016       4  Afghanistan            8           Albania         250410   \n",
       "1  2016       4  Afghanistan            8           Albania         250490   \n",
       "2  2016       4  Afghanistan            8           Albania         250510   \n",
       "3  2016       4  Afghanistan            8           Albania         250810   \n",
       "4  2016       4  Afghanistan            8           Albania         251010   \n",
       "\n",
       "                                 HS2012Product Label  TransportMode  \\\n",
       "0  Natural graphite in powder or in flakes - kilo...             32   \n",
       "1  Natural graphite (excl. in powder or in flakes...             32   \n",
       "2  Silica sands and quartz sands, whether or not ...             32   \n",
       "3                              Bentonite - kilograms             32   \n",
       "4  Natural calcium phosphates and natural alumini...             32   \n",
       "\n",
       "  TransportMode Label  Absolute value Absolute value Footnote  \\\n",
       "0                Road             NaN                     NaN   \n",
       "1                Road             NaN                     NaN   \n",
       "2                Road             NaN                     NaN   \n",
       "3                Road             NaN                     NaN   \n",
       "4                Road             NaN                     NaN   \n",
       "\n",
       "   CIF value (US dollars) CIF value (US dollars) Footnote  \\\n",
       "0                     NaN                             NaN   \n",
       "1                     NaN                             NaN   \n",
       "2                     NaN                             NaN   \n",
       "3                     NaN                             NaN   \n",
       "4                     NaN                             NaN   \n",
       "\n",
       "   FOB value (US dollars) FOB value (US dollars) Footnote  Distance  \\\n",
       "0                     NaN                             NaN  5882.192   \n",
       "1                     NaN                             NaN  5882.192   \n",
       "2                     NaN                             NaN  5882.192   \n",
       "3                     NaN                             NaN  5882.192   \n",
       "4                     NaN                             NaN  5882.192   \n",
       "\n",
       "   Distance Footnote           Metal  \n",
       "0                NaN        graphite  \n",
       "1                NaN        graphite  \n",
       "2                NaN     silica_sand  \n",
       "3                NaN       bentonite  \n",
       "4                NaN  phosphate_rock  "
      ]
     },
     "execution_count": 4,
     "metadata": {},
     "output_type": "execute_result"
    }
   ],
   "source": [
    "df = pd.read_csv('filtered_metals_UNCTAD.csv')\n",
    "# Map the HS2012Product to metal names and create a new column 'Metal'\n",
    "df['Metal'] = df['HS2012Product'].map({code: metal for metal, codes in metals.items() for code in codes})\n",
    "df.head()"
   ]
  },
  {
   "cell_type": "code",
   "execution_count": 8,
   "id": "b44967fc",
   "metadata": {},
   "outputs": [],
   "source": [
    "# Function to compute the weighted average distance for a group\n",
    "def weighted_avg_distance(group):\n",
    "    country = group['Origin Label'].iloc[0]\n",
    "    metal = group['Metal'].iloc[0]\n",
    "    total_absolute_value = total_absolute_values[country, metal]\n",
    "    \n",
    "    total_weighted_distance = (group['Distance'] * group['Absolute value']).sum()\n",
    "    \n",
    "    # Check if total_absolute_value is not zero to avoid division by zero\n",
    "    if total_absolute_value != 0:\n",
    "        return total_weighted_distance / total_absolute_value\n",
    "    else:\n",
    "        return float('nan')  # or any other placeholder value you prefer"
   ]
  },
  {
   "cell_type": "code",
   "execution_count": 9,
   "id": "4d0cd49f",
   "metadata": {},
   "outputs": [],
   "source": [
    "# Compute the total absolute value for each combination of country and metal\n",
    "total_absolute_values = df.groupby(['Origin Label', 'Metal'])['Absolute value'].sum()"
   ]
  },
  {
   "cell_type": "code",
   "execution_count": 10,
   "id": "492c2192",
   "metadata": {},
   "outputs": [],
   "source": [
    "# Compute the weighted average distance for each combination of country, metal, and mode of transport\n",
    "result = df.groupby(['Origin Label', 'Metal', 'TransportMode Label']).apply(weighted_avg_distance).reset_index()\n",
    "result.columns = ['Origin Label', 'Metal', 'TransportMode Label', 'Weighted Average Distance']"
   ]
  },
  {
   "cell_type": "code",
   "execution_count": 11,
   "id": "9b16043d",
   "metadata": {},
   "outputs": [],
   "source": [
    "result.to_csv('transport_markets_data.csv', index=False)"
   ]
  },
  {
   "cell_type": "markdown",
   "id": "e83acf44",
   "metadata": {},
   "source": [
    "# Exploring the data"
   ]
  },
  {
   "cell_type": "code",
   "execution_count": 7,
   "id": "5efed2f6",
   "metadata": {},
   "outputs": [
    {
     "name": "stderr",
     "output_type": "stream",
     "text": [
      "C:\\Users\\hahnme_a\\AppData\\Local\\Temp\\ipykernel_16272\\1425541855.py:1: DtypeWarning: Columns (10,12) have mixed types. Specify dtype option on import or set low_memory=False.\n",
      "  df_air = pd.read_csv('US_TransportCosts_Air_Detail_ST202101141441_v1.csv')\n"
     ]
    }
   ],
   "source": [
    "df_air = pd.read_csv('US_TransportCosts_Air_Detail_ST202101141441_v1.csv')"
   ]
  },
  {
   "cell_type": "code",
   "execution_count": 8,
   "id": "d32f9ea7",
   "metadata": {
    "scrolled": true
   },
   "outputs": [
    {
     "name": "stdout",
     "output_type": "stream",
     "text": [
      "          Year  Origin Origin Label  Destination  \\\n",
      "15200744  2016     152        Chile            4   \n",
      "15205721  2016     152        Chile            8   \n",
      "15210698  2016     152        Chile           12   \n",
      "15215675  2016     152        Chile           24   \n",
      "15220652  2016     152        Chile           31   \n",
      "...        ...     ...          ...          ...   \n",
      "15808266  2016     152        Chile          860   \n",
      "15813243  2016     152        Chile          862   \n",
      "15818220  2016     152        Chile          887   \n",
      "15823197  2016     152        Chile          894   \n",
      "15828174  2016     152        Chile          926   \n",
      "\n",
      "                       Destination Label  HS2012Product  \\\n",
      "15200744                     Afghanistan         260800   \n",
      "15205721                         Albania         260800   \n",
      "15210698                         Algeria         260800   \n",
      "15215675                          Angola         260800   \n",
      "15220652                      Azerbaijan         260800   \n",
      "...                                  ...            ...   \n",
      "15808266                      Uzbekistan         260800   \n",
      "15813243  Venezuela (Bolivarian Rep. of)         260800   \n",
      "15818220                           Yemen         260800   \n",
      "15823197                          Zambia         260800   \n",
      "15828174                  United Kingdom         260800   \n",
      "\n",
      "                             HS2012Product Label  TransportMode  \\\n",
      "15200744  Zinc ores and concentrates - kilograms             10   \n",
      "15205721  Zinc ores and concentrates - kilograms             10   \n",
      "15210698  Zinc ores and concentrates - kilograms             10   \n",
      "15215675  Zinc ores and concentrates - kilograms             10   \n",
      "15220652  Zinc ores and concentrates - kilograms             10   \n",
      "...                                          ...            ...   \n",
      "15808266  Zinc ores and concentrates - kilograms             10   \n",
      "15813243  Zinc ores and concentrates - kilograms             10   \n",
      "15818220  Zinc ores and concentrates - kilograms             10   \n",
      "15823197  Zinc ores and concentrates - kilograms             10   \n",
      "15828174  Zinc ores and concentrates - kilograms             10   \n",
      "\n",
      "         TransportMode Label  Absolute value Absolute value Footnote  \\\n",
      "15200744                 Air             NaN                     NaN   \n",
      "15205721                 Air             NaN                     NaN   \n",
      "15210698                 Air             NaN                     NaN   \n",
      "15215675                 Air             NaN                     NaN   \n",
      "15220652                 Air             NaN                     NaN   \n",
      "...                      ...             ...                     ...   \n",
      "15808266                 Air             NaN                     NaN   \n",
      "15813243                 Air             NaN                     NaN   \n",
      "15818220                 Air             NaN                     NaN   \n",
      "15823197                 Air             NaN                     NaN   \n",
      "15828174                 Air             NaN                     NaN   \n",
      "\n",
      "          CIF value (US dollars) CIF value (US dollars) Footnote  \\\n",
      "15200744                     NaN                             NaN   \n",
      "15205721                     NaN                             NaN   \n",
      "15210698                     NaN                             NaN   \n",
      "15215675                     NaN                             NaN   \n",
      "15220652                     NaN                             NaN   \n",
      "...                          ...                             ...   \n",
      "15808266                     NaN                             NaN   \n",
      "15813243                     NaN                             NaN   \n",
      "15818220                     NaN                             NaN   \n",
      "15823197                     NaN                             NaN   \n",
      "15828174                     NaN                             NaN   \n",
      "\n",
      "          FOB value (US dollars) FOB value (US dollars) Footnote   Distance  \\\n",
      "15200744                     NaN                             NaN  21490.693   \n",
      "15205721                     NaN                             NaN  16529.145   \n",
      "15210698                     NaN                             NaN  14944.884   \n",
      "15215675                     NaN                             NaN  12785.587   \n",
      "15220652                     NaN                             NaN  19482.289   \n",
      "...                          ...                             ...        ...   \n",
      "15808266                     NaN                             NaN  21499.091   \n",
      "15813243                     NaN                             NaN   7090.028   \n",
      "15818220                     NaN                             NaN  17635.158   \n",
      "15823197                     NaN                             NaN  13659.884   \n",
      "15828174                     NaN                             NaN  15870.778   \n",
      "\n",
      "          Distance Footnote  \n",
      "15200744                NaN  \n",
      "15205721                NaN  \n",
      "15210698                NaN  \n",
      "15215675                NaN  \n",
      "15220652                NaN  \n",
      "...                     ...  \n",
      "15808266                NaN  \n",
      "15813243                NaN  \n",
      "15818220                NaN  \n",
      "15823197                NaN  \n",
      "15828174                NaN  \n",
      "\n",
      "[127 rows x 17 columns]\n"
     ]
    }
   ],
   "source": [
    "zinc_codes = metals['zinc_ore']\n",
    "# Filter rows for Chile and Zinc\n",
    "chile_zinc_df = df_air[(df_air['Origin Label'] == 'Chile') & (df_air['HS2012Product'].isin(zinc_codes))]\n",
    "\n",
    "print(chile_zinc_df)"
   ]
  },
  {
   "cell_type": "code",
   "execution_count": 10,
   "id": "8e8325bd",
   "metadata": {},
   "outputs": [],
   "source": [
    "chile_zinc_df.to_csv('delete1.csv')"
   ]
  },
  {
   "cell_type": "code",
   "execution_count": 9,
   "id": "22377aa5",
   "metadata": {
    "scrolled": true
   },
   "outputs": [
    {
     "name": "stdout",
     "output_type": "stream",
     "text": [
      "          Year  Origin Origin Label  Destination Destination Label  \\\n",
      "15956694  2016     156        China          156             China   \n",
      "15956695  2016     156        China          156             China   \n",
      "15956697  2016     156        China          156             China   \n",
      "15956698  2016     156        China          156             China   \n",
      "15956699  2016     156        China          156             China   \n",
      "...        ...     ...          ...          ...               ...   \n",
      "15960180  2016     156        China          156             China   \n",
      "15960181  2016     156        China          156             China   \n",
      "15960182  2016     156        China          156             China   \n",
      "15960183  2016     156        China          156             China   \n",
      "15960184  2016     156        China          156             China   \n",
      "\n",
      "          HS2012Product                                HS2012Product Label  \\\n",
      "15956694          20230  Frozen, boneless meat of bovine animals - kilo...   \n",
      "15956695          20714  Frozen cuts and edible offal of fowls of the s...   \n",
      "15956697          30333               Frozen sole \"Solea spp.\" - kilograms   \n",
      "15956698          30339  Frozen flat fish \"Pleuronectidae, Bothidae, Cy...   \n",
      "15956699          30342  Frozen yellowfin tunas \"Thunnus albacares\" - k...   \n",
      "...                 ...                                                ...   \n",
      "15960180         970200  Original engravings, prints and lithographs - ...   \n",
      "15960181         970300  Original sculptures and statuary, in any mater...   \n",
      "15960182         970400  Postage or revenue stamps, stamp-postmarks, fi...   \n",
      "15960183         970500  Collections and collector's pieces of zoologic...   \n",
      "15960184         970600            Antiques of > 100 years old - kilograms   \n",
      "\n",
      "          TransportMode TransportMode Label  Absolute value  \\\n",
      "15956694             10                 Air         730.676   \n",
      "15956695             10                 Air        1357.863   \n",
      "15956697             10                 Air           0.000   \n",
      "15956698             10                 Air           0.000   \n",
      "15956699             10                 Air           0.000   \n",
      "...                 ...                 ...             ...   \n",
      "15960180             10                 Air           0.000   \n",
      "15960181             10                 Air           0.000   \n",
      "15960182             10                 Air           0.000   \n",
      "15960183             10                 Air           0.000   \n",
      "15960184             10                 Air           0.000   \n",
      "\n",
      "         Absolute value Footnote  CIF value (US dollars)  \\\n",
      "15956694               Estimated                6059.545   \n",
      "15956695               Estimated               10050.020   \n",
      "15956697               Estimated                   0.000   \n",
      "15956698               Estimated                   0.000   \n",
      "15956699               Estimated                   0.000   \n",
      "...                          ...                     ...   \n",
      "15960180               Estimated                   0.000   \n",
      "15960181               Estimated                   0.000   \n",
      "15960182               Estimated                   0.000   \n",
      "15960183               Estimated                   0.000   \n",
      "15960184               Estimated                   0.000   \n",
      "\n",
      "         CIF value (US dollars) Footnote  FOB value (US dollars)  \\\n",
      "15956694                       Estimated                4180.671   \n",
      "15956695                       Estimated                7112.955   \n",
      "15956697                       Estimated                   0.000   \n",
      "15956698                       Estimated                   0.000   \n",
      "15956699                       Estimated                   0.000   \n",
      "...                                  ...                     ...   \n",
      "15960180                       Estimated                   0.000   \n",
      "15960181                       Estimated                   0.000   \n",
      "15960182                       Estimated                   0.000   \n",
      "15960183                       Estimated                   0.000   \n",
      "15960184                       Estimated                   0.000   \n",
      "\n",
      "         FOB value (US dollars) Footnote  Distance  Distance Footnote  \n",
      "15956694                       Estimated       NaN                NaN  \n",
      "15956695                       Estimated       NaN                NaN  \n",
      "15956697                       Estimated       NaN                NaN  \n",
      "15956698                       Estimated       NaN                NaN  \n",
      "15956699                       Estimated       NaN                NaN  \n",
      "...                                  ...       ...                ...  \n",
      "15960180                       Estimated       NaN                NaN  \n",
      "15960181                       Estimated       NaN                NaN  \n",
      "15960182                       Estimated       NaN                NaN  \n",
      "15960183                       Estimated       NaN                NaN  \n",
      "15960184                       Estimated       NaN                NaN  \n",
      "\n",
      "[2223 rows x 17 columns]\n"
     ]
    }
   ],
   "source": [
    "# Filter rows for exports from China to China and where Absolute value is not NaN\n",
    "china_exports_df = df_air[(df_air['Origin Label'] == 'China') & \n",
    "                          (df_air['Destination Label'] == 'China') & \n",
    "                          (~df_air['Absolute value'].isna())]\n",
    "\n",
    "print(china_exports_df)"
   ]
  },
  {
   "cell_type": "code",
   "execution_count": 11,
   "id": "0d55b8cc",
   "metadata": {},
   "outputs": [],
   "source": [
    "china_exports_df.to_csv('delete2.csv')"
   ]
  },
  {
   "cell_type": "code",
   "execution_count": null,
   "id": "6ef54a80",
   "metadata": {},
   "outputs": [],
   "source": []
  }
 ],
 "metadata": {
  "kernelspec": {
   "display_name": "Python 3 (ipykernel)",
   "language": "python",
   "name": "python3"
  },
  "language_info": {
   "codemirror_mode": {
    "name": "ipython",
    "version": 3
   },
   "file_extension": ".py",
   "mimetype": "text/x-python",
   "name": "python",
   "nbconvert_exporter": "python",
   "pygments_lexer": "ipython3",
   "version": "3.10.13"
  }
 },
 "nbformat": 4,
 "nbformat_minor": 5
}
