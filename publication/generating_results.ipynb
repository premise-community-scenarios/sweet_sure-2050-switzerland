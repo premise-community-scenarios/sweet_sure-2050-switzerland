{
 "cells": [
  {
   "cell_type": "markdown",
   "id": "d4d6fd0c-d89e-4eb1-b600-e856d8792c23",
   "metadata": {},
   "source": [
    "# *pathways*. Application to system-wide LCA of Swiss STEM scenarios"
   ]
  },
  {
   "cell_type": "markdown",
   "id": "fbd14d90-fd34-4eed-98c5-30ecd96aad9b",
   "metadata": {},
   "source": [
    "This notebook contains the code necessary to generate the results shown in the publication \"Switzerland’s net zero objective: quantifying impacts beyond borders\" "
   ]
  },
  {
   "cell_type": "markdown",
   "id": "7f3485b4-cc75-420a-99bb-0e08e56f11e2",
   "metadata": {},
   "source": [
    "Data packages were generated using *premise*, and can be found in this folder."
   ]
  },
  {
   "cell_type": "markdown",
   "id": "2b3e00b7-c833-4a69-9fc0-8d72c34d066c",
   "metadata": {},
   "source": [
    "Contact:\n",
    "\n",
    "- romain.sacchi@psi.ch\n",
    "- alvaro.hahn-menacho@psi.ch"
   ]
  },
  {
   "cell_type": "markdown",
   "id": "8dcd2491-5f92-4980-95ad-3e7fe86cfe3d",
   "metadata": {},
   "source": [
    "## Import *pathways* and other necessary modules"
   ]
  },
  {
   "cell_type": "code",
   "execution_count": 1,
   "id": "45ac9b05-1e2a-4839-afed-4edae65d9d8f",
   "metadata": {},
   "outputs": [],
   "source": [
    "from pathways import Pathways"
   ]
  },
  {
   "cell_type": "code",
   "execution_count": 2,
   "id": "9529213a-ed56-4c73-b08c-69198462ebe8",
   "metadata": {},
   "outputs": [],
   "source": [
    "import numpy as np\n",
    "import xarray as xr\n",
    "import numpy as np\n",
    "import pandas as pd\n",
    "from pathlib import Path"
   ]
  },
  {
   "cell_type": "markdown",
   "id": "e9b0b415-b734-4891-8781-92f17dd17442",
   "metadata": {},
   "source": [
    "## Set calculation parameters and export as .gzip"
   ]
  },
  {
   "cell_type": "code",
   "execution_count": 3,
   "id": "78d0ad42-1964-4686-8bd2-179b4c7c87bf",
   "metadata": {
    "scrolled": true
   },
   "outputs": [
    {
     "name": "stdout",
     "output_type": "stream",
     "text": [
      "Invalid datapackage: Descriptor validation error: {'path': 'mapping/mapping.yaml', 'profile': 'data-resource', 'name': 'mapping', 'format': 'yaml', 'mediatype': 'text/yaml', 'encoding': 'utf-8'} is not valid under any of the given schemas at \"resources/29\" in descriptor and at \"properties/resources/items/oneOf\" in profile\n",
      "Invalid datapackage: Descriptor validation error: 'data-resource' is not one of ['tabular-data-resource'] at \"resources/29/profile\" in descriptor and at \"properties/resources/items/properties/profile/enum\" in profile\n",
      "Log file: C:\\Users\\hahnme_a\\AppData\\Local\\pylca\\pathways\\Logs\\pathways.log\n",
      "Calculating LCA results for remind...\n",
      "--- Calculating LCA results for SSP2-NPi-SPS1...\n",
      "------ Calculating LCA results for 2020...\n"
     ]
    },
    {
     "name": "stderr",
     "output_type": "stream",
     "text": [
      "0% [#] 100% | ETA: 00:00:01\n",
      "Total time elapsed: 00:00:00\n"
     ]
    },
    {
     "name": "stdout",
     "output_type": "stream",
     "text": [
      "------ Calculating LCA results for 2030...\n"
     ]
    },
    {
     "name": "stderr",
     "output_type": "stream",
     "text": [
      "0% [#] 100% | ETA: 00:00:01\n",
      "Total time elapsed: 00:00:00\n"
     ]
    },
    {
     "name": "stdout",
     "output_type": "stream",
     "text": [
      "------ Calculating LCA results for 2040...\n"
     ]
    },
    {
     "name": "stderr",
     "output_type": "stream",
     "text": [
      "0% [#] 100% | ETA: 00:00:01\n",
      "Total time elapsed: 00:00:00\n"
     ]
    },
    {
     "name": "stdout",
     "output_type": "stream",
     "text": [
      "------ Calculating LCA results for 2050...\n"
     ]
    },
    {
     "name": "stderr",
     "output_type": "stream",
     "text": [
      "0% [#] 100% | ETA: 00:00:01\n",
      "Total time elapsed: 00:00:00\n",
      "0% [####] 100% | ETA: 00:00:00\n",
      "Total time elapsed: 00:01:45\n"
     ]
    },
    {
     "name": "stdout",
     "output_type": "stream",
     "text": [
      "Results exported to results_20240622_144745.gzip\n",
      "Invalid datapackage: Descriptor validation error: {'path': 'mapping/mapping.yaml', 'profile': 'data-resource', 'name': 'mapping', 'format': 'yaml', 'mediatype': 'text/yaml', 'encoding': 'utf-8'} is not valid under any of the given schemas at \"resources/29\" in descriptor and at \"properties/resources/items/oneOf\" in profile\n",
      "Invalid datapackage: Descriptor validation error: 'data-resource' is not one of ['tabular-data-resource'] at \"resources/29/profile\" in descriptor and at \"properties/resources/items/properties/profile/enum\" in profile\n",
      "Log file: C:\\Users\\hahnme_a\\AppData\\Local\\pylca\\pathways\\Logs\\pathways.log\n",
      "Calculating LCA results for remind...\n",
      "--- Calculating LCA results for SSP2-PkBudg1150-SPS1...\n",
      "------ Calculating LCA results for 2020...\n"
     ]
    },
    {
     "name": "stderr",
     "output_type": "stream",
     "text": [
      "0% [#] 100% | ETA: 00:00:01\n",
      "Total time elapsed: 00:00:00\n"
     ]
    },
    {
     "name": "stdout",
     "output_type": "stream",
     "text": [
      "------ Calculating LCA results for 2030...\n"
     ]
    },
    {
     "name": "stderr",
     "output_type": "stream",
     "text": [
      "0% [#] 100% | ETA: 00:00:00\n",
      "Total time elapsed: 00:00:00\n"
     ]
    },
    {
     "name": "stdout",
     "output_type": "stream",
     "text": [
      "------ Calculating LCA results for 2040...\n"
     ]
    },
    {
     "name": "stderr",
     "output_type": "stream",
     "text": [
      "0% [#] 100% | ETA: 00:00:00\n",
      "Total time elapsed: 00:00:00\n"
     ]
    },
    {
     "name": "stdout",
     "output_type": "stream",
     "text": [
      "------ Calculating LCA results for 2050...\n"
     ]
    },
    {
     "name": "stderr",
     "output_type": "stream",
     "text": [
      "0% [#] 100% | ETA: 00:00:00\n",
      "Total time elapsed: 00:00:00\n",
      "0% [####] 100% | ETA: 00:00:00\n",
      "Total time elapsed: 00:01:30\n"
     ]
    },
    {
     "name": "stdout",
     "output_type": "stream",
     "text": [
      "Results exported to results_20240622_145234.gzip\n",
      "Invalid datapackage: Descriptor validation error: {'path': 'mapping/mapping.yaml', 'profile': 'data-resource', 'name': 'mapping', 'format': 'yaml', 'mediatype': 'text/yaml', 'encoding': 'utf-8'} is not valid under any of the given schemas at \"resources/29\" in descriptor and at \"properties/resources/items/oneOf\" in profile\n",
      "Invalid datapackage: Descriptor validation error: 'data-resource' is not one of ['tabular-data-resource'] at \"resources/29/profile\" in descriptor and at \"properties/resources/items/properties/profile/enum\" in profile\n",
      "Log file: C:\\Users\\hahnme_a\\AppData\\Local\\pylca\\pathways\\Logs\\pathways.log\n",
      "Calculating LCA results for remind...\n",
      "--- Calculating LCA results for SSP2-PkBudg500-SPS1...\n",
      "------ Calculating LCA results for 2020...\n"
     ]
    },
    {
     "name": "stderr",
     "output_type": "stream",
     "text": [
      "0% [#] 100% | ETA: 00:00:01\n",
      "Total time elapsed: 00:00:00\n"
     ]
    },
    {
     "name": "stdout",
     "output_type": "stream",
     "text": [
      "------ Calculating LCA results for 2030...\n"
     ]
    },
    {
     "name": "stderr",
     "output_type": "stream",
     "text": [
      "0% [#] 100% | ETA: 00:00:00\n",
      "Total time elapsed: 00:00:00\n"
     ]
    },
    {
     "name": "stdout",
     "output_type": "stream",
     "text": [
      "------ Calculating LCA results for 2040...\n"
     ]
    },
    {
     "name": "stderr",
     "output_type": "stream",
     "text": [
      "0% [#] 100% | ETA: 00:00:00\n",
      "Total time elapsed: 00:00:00\n"
     ]
    },
    {
     "name": "stdout",
     "output_type": "stream",
     "text": [
      "------ Calculating LCA results for 2050...\n"
     ]
    },
    {
     "name": "stderr",
     "output_type": "stream",
     "text": [
      "0% [#] 100% | ETA: 00:00:00\n",
      "Total time elapsed: 00:00:00\n",
      "0% [####] 100% | ETA: 00:00:00\n",
      "Total time elapsed: 00:01:35\n"
     ]
    },
    {
     "name": "stdout",
     "output_type": "stream",
     "text": [
      "Results exported to results_20240622_145729.gzip\n",
      "Invalid datapackage: Descriptor validation error: {'path': 'mapping/mapping.yaml', 'profile': 'data-resource', 'name': 'mapping', 'format': 'yaml', 'mediatype': 'text/yaml', 'encoding': 'utf-8'} is not valid under any of the given schemas at \"resources/29\" in descriptor and at \"properties/resources/items/oneOf\" in profile\n",
      "Invalid datapackage: Descriptor validation error: 'data-resource' is not one of ['tabular-data-resource'] at \"resources/29/profile\" in descriptor and at \"properties/resources/items/properties/profile/enum\" in profile\n",
      "Log file: C:\\Users\\hahnme_a\\AppData\\Local\\pylca\\pathways\\Logs\\pathways.log\n",
      "Calculating LCA results for remind...\n",
      "--- Calculating LCA results for SSP2-NPi-SPS4...\n",
      "------ Calculating LCA results for 2020...\n"
     ]
    },
    {
     "name": "stderr",
     "output_type": "stream",
     "text": [
      "0% [#] 100% | ETA: 00:00:00\n",
      "Total time elapsed: 00:00:00\n"
     ]
    },
    {
     "name": "stdout",
     "output_type": "stream",
     "text": [
      "------ Calculating LCA results for 2030...\n"
     ]
    },
    {
     "name": "stderr",
     "output_type": "stream",
     "text": [
      "0% [#] 100% | ETA: 00:00:00\n",
      "Total time elapsed: 00:00:00\n"
     ]
    },
    {
     "name": "stdout",
     "output_type": "stream",
     "text": [
      "------ Calculating LCA results for 2040...\n"
     ]
    },
    {
     "name": "stderr",
     "output_type": "stream",
     "text": [
      "0% [#] 100% | ETA: 00:00:01\n",
      "Total time elapsed: 00:00:00\n"
     ]
    },
    {
     "name": "stdout",
     "output_type": "stream",
     "text": [
      "------ Calculating LCA results for 2050...\n"
     ]
    },
    {
     "name": "stderr",
     "output_type": "stream",
     "text": [
      "0% [#] 100% | ETA: 00:00:00\n",
      "Total time elapsed: 00:00:00\n",
      "0% [####] 100% | ETA: 00:00:00\n",
      "Total time elapsed: 00:02:11\n"
     ]
    },
    {
     "name": "stdout",
     "output_type": "stream",
     "text": [
      "Results exported to results_20240622_150302.gzip\n",
      "Invalid datapackage: Descriptor validation error: {'path': 'mapping/mapping.yaml', 'profile': 'data-resource', 'name': 'mapping', 'format': 'yaml', 'mediatype': 'text/yaml', 'encoding': 'utf-8'} is not valid under any of the given schemas at \"resources/29\" in descriptor and at \"properties/resources/items/oneOf\" in profile\n",
      "Invalid datapackage: Descriptor validation error: 'data-resource' is not one of ['tabular-data-resource'] at \"resources/29/profile\" in descriptor and at \"properties/resources/items/properties/profile/enum\" in profile\n",
      "Log file: C:\\Users\\hahnme_a\\AppData\\Local\\pylca\\pathways\\Logs\\pathways.log\n",
      "Calculating LCA results for remind...\n",
      "--- Calculating LCA results for SSP2-PkBudg1150-SPS4...\n",
      "------ Calculating LCA results for 2020...\n"
     ]
    },
    {
     "name": "stderr",
     "output_type": "stream",
     "text": [
      "0% [#] 100% | ETA: 00:00:00\n",
      "Total time elapsed: 00:00:00\n"
     ]
    },
    {
     "name": "stdout",
     "output_type": "stream",
     "text": [
      "------ Calculating LCA results for 2030...\n"
     ]
    },
    {
     "name": "stderr",
     "output_type": "stream",
     "text": [
      "0% [#] 100% | ETA: 00:00:01\n",
      "Total time elapsed: 00:00:00\n"
     ]
    },
    {
     "name": "stdout",
     "output_type": "stream",
     "text": [
      "------ Calculating LCA results for 2040...\n"
     ]
    },
    {
     "name": "stderr",
     "output_type": "stream",
     "text": [
      "0% [#] 100% | ETA: 00:00:01\n",
      "Total time elapsed: 00:00:00\n"
     ]
    },
    {
     "name": "stdout",
     "output_type": "stream",
     "text": [
      "------ Calculating LCA results for 2050...\n"
     ]
    },
    {
     "name": "stderr",
     "output_type": "stream",
     "text": [
      "0% [#] 100% | ETA: 00:00:01\n",
      "Total time elapsed: 00:00:00\n",
      "0% [####] 100% | ETA: 00:00:00\n",
      "Total time elapsed: 00:01:31\n"
     ]
    },
    {
     "name": "stdout",
     "output_type": "stream",
     "text": [
      "Results exported to results_20240622_150758.gzip\n",
      "Invalid datapackage: Descriptor validation error: {'path': 'mapping/mapping.yaml', 'profile': 'data-resource', 'name': 'mapping', 'format': 'yaml', 'mediatype': 'text/yaml', 'encoding': 'utf-8'} is not valid under any of the given schemas at \"resources/29\" in descriptor and at \"properties/resources/items/oneOf\" in profile\n",
      "Invalid datapackage: Descriptor validation error: 'data-resource' is not one of ['tabular-data-resource'] at \"resources/29/profile\" in descriptor and at \"properties/resources/items/properties/profile/enum\" in profile\n",
      "Log file: C:\\Users\\hahnme_a\\AppData\\Local\\pylca\\pathways\\Logs\\pathways.log\n",
      "Calculating LCA results for remind...\n",
      "--- Calculating LCA results for SSP2-PkBudg500-SPS4...\n",
      "------ Calculating LCA results for 2020...\n"
     ]
    },
    {
     "name": "stderr",
     "output_type": "stream",
     "text": [
      "0% [#] 100% | ETA: 00:00:00\n",
      "Total time elapsed: 00:00:00\n"
     ]
    },
    {
     "name": "stdout",
     "output_type": "stream",
     "text": [
      "------ Calculating LCA results for 2030...\n"
     ]
    },
    {
     "name": "stderr",
     "output_type": "stream",
     "text": [
      "0% [#] 100% | ETA: 00:00:00\n",
      "Total time elapsed: 00:00:00\n"
     ]
    },
    {
     "name": "stdout",
     "output_type": "stream",
     "text": [
      "------ Calculating LCA results for 2040...\n"
     ]
    },
    {
     "name": "stderr",
     "output_type": "stream",
     "text": [
      "0% [#] 100% | ETA: 00:00:01\n",
      "Total time elapsed: 00:00:00\n"
     ]
    },
    {
     "name": "stdout",
     "output_type": "stream",
     "text": [
      "------ Calculating LCA results for 2050...\n"
     ]
    },
    {
     "name": "stderr",
     "output_type": "stream",
     "text": [
      "0% [#] 100% | ETA: 00:00:00\n",
      "Total time elapsed: 00:00:00\n",
      "0% [####] 100% | ETA: 00:00:00\n",
      "Total time elapsed: 00:01:34\n"
     ]
    },
    {
     "name": "stdout",
     "output_type": "stream",
     "text": [
      "Results exported to results_20240622_151255.gzip\n"
     ]
    }
   ],
   "source": [
    "for scenario in [\n",
    "    \"remind-SSP2-NPi-stem-SPS1.zip\",\n",
    "    \"remind-SSP2-PkBudg1150-stem-SPS1.zip\",\n",
    "    \"remind-SSP2-PkBudg500-stem-SPS1.zip\",\n",
    "    \"remind-SSP2-NPi-stem-SPS4.zip\",\n",
    "    \"remind-SSP2-PkBudg1150-stem-SPS4.zip\",\n",
    "    \"remind-SSP2-PkBudg500-stem-SPS4.zip\",\n",
    "]:\n",
    "    p = Pathways(datapackage=scenario, debug=True)\n",
    "    \n",
    "    p.calculate(\n",
    "        methods=[\n",
    "            'EF v3.1 EN15804 - climate change - global warming potential (GWP100)',\n",
    "            'EF v3.1 EN15804 - material resources: metals/minerals - abiotic depletion potential (ADP): elements (ultimate reserves)',\n",
    "            'EF v3.1 EN15804 - ecotoxicity: freshwater - comparative toxic unit for ecosystems (CTUe)',\n",
    "            'EF v3.1 EN15804 - land use - soil quality index',\n",
    "            'EF v3.1 EN15804 - water use - user deprivation potential (deprivation-weighted water consumption)',\n",
    "            'EF v3.1 EN15804 - particulate matter formation - impact on human health',\n",
    "\n",
    "            'ReCiPe 2016 v1.03, midpoint (H) - particulate matter formation - particulate matter formation potential (PMFP)',\n",
    "            'ReCiPe 2016 v1.03, midpoint (H) - ecotoxicity: freshwater - freshwater ecotoxicity potential (FETP)',\n",
    "            'ReCiPe 2016 v1.03, midpoint (H) - water use - water consumption potential (WCP)',\n",
    "            'Crustal Scarcity Indicator 2020 - material resources: metals/minerals - crustal scarcity potential (CSP)',\n",
    "            'Ecological Footprint - land occupation - global hectares',\n",
    "            'selected LCI results - resource - land occupation'\n",
    "        ] \n",
    "        ,\n",
    "        regions=[\"CH\",],\n",
    "        scenarios=p.scenarios.pathway.values.tolist(),\n",
    "        variables=[v for v in p.scenarios.coords[\"variables\"].values if v.startswith(\"FE\")],\n",
    "        years=[\n",
    "            2020,\n",
    "            # 2025,\n",
    "            2030,\n",
    "            2040,\n",
    "            2050\n",
    "        ],\n",
    "        multiprocessing=False,\n",
    "        use_distributions=0,\n",
    "        # subshares=True,\n",
    "        \n",
    "    )\n",
    "    p.export_results()\n",
    "    del p"
   ]
  }
 ],
 "metadata": {
  "kernelspec": {
   "display_name": "Python 3 (ipykernel)",
   "language": "python",
   "name": "python3"
  },
  "language_info": {
   "codemirror_mode": {
    "name": "ipython",
    "version": 3
   },
   "file_extension": ".py",
   "mimetype": "text/x-python",
   "name": "python",
   "nbconvert_exporter": "python",
   "pygments_lexer": "ipython3",
   "version": "3.10.13"
  }
 },
 "nbformat": 4,
 "nbformat_minor": 5
}
