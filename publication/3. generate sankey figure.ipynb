{
 "cells": [
  {
   "metadata": {},
   "cell_type": "code",
   "outputs": [],
   "execution_count": null,
   "source": "import bw2io, bw2data",
   "id": "f932e5a66967c314"
  },
  {
   "metadata": {},
   "cell_type": "code",
   "outputs": [],
   "execution_count": null,
   "source": "bw2data.projects.set_current(\"ecoinvent-3.10-cutoff\")",
   "id": "4fadcafce06e6592"
  },
  {
   "metadata": {},
   "cell_type": "code",
   "outputs": [],
   "execution_count": null,
   "source": "bw2data.databases",
   "id": "84f225cb5cf05130"
  },
  {
   "metadata": {},
   "cell_type": "code",
   "outputs": [],
   "execution_count": null,
   "source": "from polyviz import sankey",
   "id": "33b21b937f63e99a"
  },
  {
   "metadata": {},
   "cell_type": "code",
   "outputs": [],
   "execution_count": null,
   "source": [
    "act = [\n",
    "    a for a in bw2data.Database(\"ei_cutoff_3.10_remind_SSP2-PkBudg1150_2020_SPS1 2024-11-25\")\n",
    "    if \"market for energy carriers for cars (SPS)\" in a[\"name\"]\n",
    "][0]\n",
    "act"
   ],
   "id": "5c446174b8004724"
  },
  {
   "metadata": {},
   "cell_type": "code",
   "outputs": [],
   "execution_count": null,
   "source": [
    "df = sankey(\n",
    "    activity=act,\n",
    "    method=('ReCiPe 2016 v1.03, midpoint (H)', 'particulate matter formation', 'particulate matter formation potential (PMFP)'),\n",
    "    amount=1.39e+11,\n",
    "    level=4\n",
    ")"
   ],
   "id": "82472ee684f7c925"
  },
  {
   "metadata": {},
   "cell_type": "code",
   "outputs": [],
   "execution_count": null,
   "source": "df[1].to_excel(\"sankey_pm_2020.xlsx\")",
   "id": "c7d6e97f9f7a7f67"
  },
  {
   "metadata": {},
   "cell_type": "code",
   "outputs": [],
   "execution_count": null,
   "source": [
    "act = [\n",
    "    a for a in bw2data.Database(\"ei_cutoff_3.10_remind_SSP2-PkBudg1150_2050_SPS1 2024-11-25\")\n",
    "    if \"market for energy carriers for cars (SPS)\" in a[\"name\"]\n",
    "][0]\n",
    "act"
   ],
   "id": "b9684ee4359c323d"
  },
  {
   "metadata": {},
   "cell_type": "code",
   "outputs": [],
   "execution_count": null,
   "source": [
    "df_2050 = sankey(\n",
    "    activity=act,\n",
    "    method=('ReCiPe 2016 v1.03, midpoint (H)', 'particulate matter formation', 'particulate matter formation potential (PMFP)'),\n",
    "    amount=0.566e+11,\n",
    "    level=4\n",
    ")"
   ],
   "id": "80812ad00d079d91"
  },
  {
   "metadata": {},
   "cell_type": "code",
   "outputs": [],
   "execution_count": null,
   "source": "df_2050[0]",
   "id": "8db211d1a1865b11"
  },
  {
   "metadata": {},
   "cell_type": "code",
   "outputs": [],
   "execution_count": null,
   "source": "df_2050[1].to_excel(\"sankey_pm_2050.xlsx\")",
   "id": "8de09f66634dabbf"
  },
  {
   "metadata": {},
   "cell_type": "code",
   "outputs": [],
   "execution_count": null,
   "source": [
    "del bw2data.databases[\"ei_cutoff_3.10_remind_SSP2-PkBudg1150_2020_SPS1 2024-08-14\"]\n",
    "del bw2data.databases[\"ei_cutoff_3.10_remind_SSP2-PkBudg1150_2050_SPS1 2024-08-14\"]"
   ],
   "id": "50c255373a3049a6"
  },
  {
   "metadata": {},
   "cell_type": "code",
   "outputs": [],
   "execution_count": null,
   "source": "print(1)",
   "id": "c40bdaf6e50c4123"
  },
  {
   "metadata": {},
   "cell_type": "code",
   "outputs": [],
   "execution_count": null,
   "source": "",
   "id": "8f74a4881eeb5f80"
  }
 ],
 "metadata": {
  "kernelspec": {
   "display_name": "Python 3 (ipykernel)",
   "language": "python",
   "name": "python3"
  },
  "language_info": {
   "codemirror_mode": {
    "name": "ipython",
    "version": 3
   },
   "file_extension": ".py",
   "mimetype": "text/x-python",
   "name": "python",
   "nbconvert_exporter": "python",
   "pygments_lexer": "ipython3",
   "version": "3.10.0"
  }
 },
 "nbformat": 4,
 "nbformat_minor": 5
}
