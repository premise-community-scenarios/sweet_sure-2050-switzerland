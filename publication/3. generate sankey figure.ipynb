{
 "cells": [
  {
   "cell_type": "code",
   "execution_count": 1,
   "id": "eb529a46-21cd-489e-b024-0b4a7858ca59",
   "metadata": {},
   "outputs": [],
   "source": [
    "import bw2io, bw2data"
   ]
  },
  {
   "cell_type": "code",
   "execution_count": 2,
   "id": "b02f8c01-8985-4fc0-b408-8963da586a14",
   "metadata": {},
   "outputs": [],
   "source": [
    "bw2data.projects.set_current(\"ei310\")"
   ]
  },
  {
   "cell_type": "code",
   "execution_count": 18,
   "id": "5f2ec3cb-0945-4e74-84d0-de0917102758",
   "metadata": {},
   "outputs": [],
   "source": [
    "from polyviz import sankey"
   ]
  },
  {
   "cell_type": "code",
   "execution_count": 21,
   "id": "3ffe9952-08f2-48a5-aad6-4178de930999",
   "metadata": {},
   "outputs": [
    {
     "data": {
      "text/plain": [
       "'market for energy carriers for cars (SPS)' (megajoule, CH, None)"
      ]
     },
     "execution_count": 21,
     "metadata": {},
     "output_type": "execute_result"
    }
   ],
   "source": [
    "act = [\n",
    "    a for a in bw2data.Database(\"ei_cutoff_3.10_remind_SSP2-PkBudg1150_2020_SPS1 2024-08-14\") \n",
    "    if \"market for energy carriers for cars (SPS)\" in a[\"name\"]\n",
    "][0]\n",
    "act"
   ]
  },
  {
   "cell_type": "code",
   "execution_count": 23,
   "id": "7960dd8d-2186-4e06-8a10-9af57809774b",
   "metadata": {},
   "outputs": [
    {
     "data": {
      "text/plain": [
       "[('ReCiPe 2016 v1.03, midpoint (E) no LT',\n",
       "  'particulate matter formation no LT',\n",
       "  'particulate matter formation potential (PMFP) no LT'),\n",
       " ('ReCiPe 2016 v1.03, midpoint (E)',\n",
       "  'particulate matter formation',\n",
       "  'particulate matter formation potential (PMFP)'),\n",
       " ('ReCiPe 2016 v1.03, midpoint (H) no LT',\n",
       "  'particulate matter formation no LT',\n",
       "  'particulate matter formation potential (PMFP) no LT'),\n",
       " ('ReCiPe 2016 v1.03, midpoint (H)',\n",
       "  'particulate matter formation',\n",
       "  'particulate matter formation potential (PMFP)'),\n",
       " ('ReCiPe 2016 v1.03, midpoint (I) no LT',\n",
       "  'particulate matter formation no LT',\n",
       "  'particulate matter formation potential (PMFP) no LT'),\n",
       " ('ReCiPe 2016 v1.03, midpoint (I)',\n",
       "  'particulate matter formation',\n",
       "  'particulate matter formation potential (PMFP)'),\n",
       " ('TRACI v2.1 no LT',\n",
       "  'particulate matter formation no LT',\n",
       "  'particulate matter formation potential (PMFP) no LT'),\n",
       " ('TRACI v2.1',\n",
       "  'particulate matter formation',\n",
       "  'particulate matter formation potential (PMFP)')]"
      ]
     },
     "execution_count": 23,
     "metadata": {},
     "output_type": "execute_result"
    }
   ],
   "source": [
    "[m for m in bw2data.methods if \"particulate matter formation potential\" in m[2]]"
   ]
  },
  {
   "cell_type": "code",
   "execution_count": 24,
   "id": "b2c904bb-5f56-498e-8834-b07bc3aae15b",
   "metadata": {},
   "outputs": [
    {
     "name": "stdout",
     "output_type": "stream",
     "text": [
      "Calculating supply chain score...\n"
     ]
    },
    {
     "name": "stderr",
     "output_type": "stream",
     "text": [
      "/opt/homebrew/Caskroom/miniforge/base/envs/premise/lib/python3.11/site-packages/scikits/umfpack/umfpack.py:736: UmfpackWarning: (almost) singular matrix! (estimated cond. number: 1.76e+13)\n",
      "  warnings.warn(msg, UmfpackWarning)\n"
     ]
    },
    {
     "name": "stdout",
     "output_type": "stream",
     "text": [
      "Sankey diagram generated.\n"
     ]
    }
   ],
   "source": [
    "df = sankey(\n",
    "    activity=act,\n",
    "    method=('ReCiPe 2016 v1.03, midpoint (H)', 'particulate matter formation', 'particulate matter formation potential (PMFP)'),\n",
    "    amount=1.4056e+11,\n",
    "    level=4\n",
    ")"
   ]
  },
  {
   "cell_type": "code",
   "execution_count": 25,
   "id": "f141f095-4016-470c-bd6a-46873bd742d6",
   "metadata": {},
   "outputs": [
    {
     "data": {
      "text/html": [
       "<div>\n",
       "<style scoped>\n",
       "    .dataframe tbody tr th:only-of-type {\n",
       "        vertical-align: middle;\n",
       "    }\n",
       "\n",
       "    .dataframe tbody tr th {\n",
       "        vertical-align: top;\n",
       "    }\n",
       "\n",
       "    .dataframe thead th {\n",
       "        text-align: right;\n",
       "    }\n",
       "</style>\n",
       "<table border=\"1\" class=\"dataframe\">\n",
       "  <thead>\n",
       "    <tr style=\"text-align: right;\">\n",
       "      <th></th>\n",
       "      <th>source</th>\n",
       "      <th>target</th>\n",
       "      <th>weight</th>\n",
       "      <th>unit</th>\n",
       "    </tr>\n",
       "  </thead>\n",
       "  <tbody>\n",
       "    <tr>\n",
       "      <th>0</th>\n",
       "      <td>m. for energy carriers for cars (SPS) (CH)</td>\n",
       "      <td>m. for energy carriers for cars (SPS) (CH)</td>\n",
       "      <td>1.040783e+07</td>\n",
       "      <td>kg PM2.5-Eq</td>\n",
       "    </tr>\n",
       "    <tr>\n",
       "      <th>1</th>\n",
       "      <td>activities below cutoff</td>\n",
       "      <td>m. for energy carriers for cars (SPS) (CH)</td>\n",
       "      <td>3.141175e+03</td>\n",
       "      <td>kg PM2.5-Eq</td>\n",
       "    </tr>\n",
       "    <tr>\n",
       "      <th>2</th>\n",
       "      <td>diesel, burned in passenger car vehicle (CH)</td>\n",
       "      <td>m. for energy carriers for cars (SPS) (CH)</td>\n",
       "      <td>5.368820e+06</td>\n",
       "      <td>kg PM2.5-Eq</td>\n",
       "    </tr>\n",
       "    <tr>\n",
       "      <th>3</th>\n",
       "      <td>electricity, used in passenger car vehicle (CH)</td>\n",
       "      <td>m. for energy carriers for cars (SPS) (CH)</td>\n",
       "      <td>1.203891e+05</td>\n",
       "      <td>kg PM2.5-Eq</td>\n",
       "    </tr>\n",
       "    <tr>\n",
       "      <th>4</th>\n",
       "      <td>petrol, burned in passenger car vehicle (CH)</td>\n",
       "      <td>m. for energy carriers for cars (SPS) (CH)</td>\n",
       "      <td>4.915477e+06</td>\n",
       "      <td>kg PM2.5-Eq</td>\n",
       "    </tr>\n",
       "    <tr>\n",
       "      <th>24</th>\n",
       "      <td>emissions</td>\n",
       "      <td>m. for energy carriers for cars (SPS) (CH)</td>\n",
       "      <td>2.146983e-01</td>\n",
       "      <td>kg PM2.5-Eq</td>\n",
       "    </tr>\n",
       "    <tr>\n",
       "      <th>5</th>\n",
       "      <td>m. for diesel (SPS) (CH)</td>\n",
       "      <td>diesel, burned in passenger car vehicle (CH)</td>\n",
       "      <td>1.540607e+06</td>\n",
       "      <td>kg PM2.5-Eq</td>\n",
       "    </tr>\n",
       "    <tr>\n",
       "      <th>6</th>\n",
       "      <td>m. for internal combustion engine, passenger c...</td>\n",
       "      <td>diesel, burned in passenger car vehicle (CH)</td>\n",
       "      <td>2.177261e+06</td>\n",
       "      <td>kg PM2.5-Eq</td>\n",
       "    </tr>\n",
       "    <tr>\n",
       "      <th>25</th>\n",
       "      <td>emissions</td>\n",
       "      <td>diesel, burned in passenger car vehicle (CH)</td>\n",
       "      <td>1.650952e+06</td>\n",
       "      <td>kg PM2.5-Eq</td>\n",
       "    </tr>\n",
       "    <tr>\n",
       "      <th>7</th>\n",
       "      <td>activities below cutoff</td>\n",
       "      <td>electricity, used in passenger car vehicle (CH)</td>\n",
       "      <td>1.203891e+05</td>\n",
       "      <td>kg PM2.5-Eq</td>\n",
       "    </tr>\n",
       "    <tr>\n",
       "      <th>8</th>\n",
       "      <td>m. for internal combustion engine, passenger c...</td>\n",
       "      <td>petrol, burned in passenger car vehicle (CH)</td>\n",
       "      <td>2.566583e+06</td>\n",
       "      <td>kg PM2.5-Eq</td>\n",
       "    </tr>\n",
       "    <tr>\n",
       "      <th>9</th>\n",
       "      <td>m. for petrol (SPS) (CH)</td>\n",
       "      <td>petrol, burned in passenger car vehicle (CH)</td>\n",
       "      <td>2.214080e+06</td>\n",
       "      <td>kg PM2.5-Eq</td>\n",
       "    </tr>\n",
       "    <tr>\n",
       "      <th>26</th>\n",
       "      <td>emissions</td>\n",
       "      <td>petrol, burned in passenger car vehicle (CH)</td>\n",
       "      <td>1.348137e+05</td>\n",
       "      <td>kg PM2.5-Eq</td>\n",
       "    </tr>\n",
       "    <tr>\n",
       "      <th>10</th>\n",
       "      <td>activities below cutoff</td>\n",
       "      <td>m. for diesel (SPS) (CH)</td>\n",
       "      <td>4.774141e+04</td>\n",
       "      <td>kg PM2.5-Eq</td>\n",
       "    </tr>\n",
       "    <tr>\n",
       "      <th>11</th>\n",
       "      <td>diesel import, from neighboring countries (CH)</td>\n",
       "      <td>m. for diesel (SPS) (CH)</td>\n",
       "      <td>1.492865e+06</td>\n",
       "      <td>kg PM2.5-Eq</td>\n",
       "    </tr>\n",
       "    <tr>\n",
       "      <th>12</th>\n",
       "      <td>internal combustion engine production, passeng...</td>\n",
       "      <td>m. for internal combustion engine, passenger c...</td>\n",
       "      <td>4.743844e+06</td>\n",
       "      <td>kg PM2.5-Eq</td>\n",
       "    </tr>\n",
       "    <tr>\n",
       "      <th>13</th>\n",
       "      <td>activities below cutoff</td>\n",
       "      <td>m. for petrol (SPS) (CH)</td>\n",
       "      <td>1.910338e+04</td>\n",
       "      <td>kg PM2.5-Eq</td>\n",
       "    </tr>\n",
       "    <tr>\n",
       "      <th>14</th>\n",
       "      <td>ethanol production from wood (CH)</td>\n",
       "      <td>m. for petrol (SPS) (CH)</td>\n",
       "      <td>1.056612e+05</td>\n",
       "      <td>kg PM2.5-Eq</td>\n",
       "    </tr>\n",
       "    <tr>\n",
       "      <th>15</th>\n",
       "      <td>petrol, low-sulfur, import from Europe (CH)</td>\n",
       "      <td>m. for petrol (SPS) (CH)</td>\n",
       "      <td>2.089316e+06</td>\n",
       "      <td>kg PM2.5-Eq</td>\n",
       "    </tr>\n",
       "    <tr>\n",
       "      <th>16</th>\n",
       "      <td>diesel, low-sulfur, import from Europe (CH)</td>\n",
       "      <td>diesel import, from neighboring countries (CH)</td>\n",
       "      <td>1.492865e+06</td>\n",
       "      <td>kg PM2.5-Eq</td>\n",
       "    </tr>\n",
       "    <tr>\n",
       "      <th>17</th>\n",
       "      <td>activities below cutoff</td>\n",
       "      <td>ethanol production from wood (CH)</td>\n",
       "      <td>8.038716e+04</td>\n",
       "      <td>kg PM2.5-Eq</td>\n",
       "    </tr>\n",
       "    <tr>\n",
       "      <th>27</th>\n",
       "      <td>emissions</td>\n",
       "      <td>ethanol production from wood (CH)</td>\n",
       "      <td>2.527400e+04</td>\n",
       "      <td>kg PM2.5-Eq</td>\n",
       "    </tr>\n",
       "    <tr>\n",
       "      <th>18</th>\n",
       "      <td>activities below cutoff</td>\n",
       "      <td>internal combustion engine production, passeng...</td>\n",
       "      <td>3.504268e+05</td>\n",
       "      <td>kg PM2.5-Eq</td>\n",
       "    </tr>\n",
       "    <tr>\n",
       "      <th>19</th>\n",
       "      <td>m. for aluminium, cast alloy (World)</td>\n",
       "      <td>internal combustion engine production, passeng...</td>\n",
       "      <td>1.178939e+06</td>\n",
       "      <td>kg PM2.5-Eq</td>\n",
       "    </tr>\n",
       "    <tr>\n",
       "      <th>20</th>\n",
       "      <td>m. for palladium (World)</td>\n",
       "      <td>internal combustion engine production, passeng...</td>\n",
       "      <td>2.163359e+06</td>\n",
       "      <td>kg PM2.5-Eq</td>\n",
       "    </tr>\n",
       "    <tr>\n",
       "      <th>21</th>\n",
       "      <td>m. for platinum (World)</td>\n",
       "      <td>internal combustion engine production, passeng...</td>\n",
       "      <td>1.051119e+06</td>\n",
       "      <td>kg PM2.5-Eq</td>\n",
       "    </tr>\n",
       "    <tr>\n",
       "      <th>22</th>\n",
       "      <td>activities below cutoff</td>\n",
       "      <td>petrol, low-sulfur, import from Europe (CH)</td>\n",
       "      <td>8.266875e+04</td>\n",
       "      <td>kg PM2.5-Eq</td>\n",
       "    </tr>\n",
       "    <tr>\n",
       "      <th>23</th>\n",
       "      <td>petrol production, low-sulfur (Europe without ...</td>\n",
       "      <td>petrol, low-sulfur, import from Europe (CH)</td>\n",
       "      <td>2.006647e+06</td>\n",
       "      <td>kg PM2.5-Eq</td>\n",
       "    </tr>\n",
       "    <tr>\n",
       "      <th>28</th>\n",
       "      <td>emissions</td>\n",
       "      <td>petrol, low-sulfur, import from Europe (CH)</td>\n",
       "      <td>2.767681e-05</td>\n",
       "      <td>kg PM2.5-Eq</td>\n",
       "    </tr>\n",
       "  </tbody>\n",
       "</table>\n",
       "</div>"
      ],
      "text/plain": [
       "                                               source  \\\n",
       "0          m. for energy carriers for cars (SPS) (CH)   \n",
       "1                             activities below cutoff   \n",
       "2        diesel, burned in passenger car vehicle (CH)   \n",
       "3     electricity, used in passenger car vehicle (CH)   \n",
       "4        petrol, burned in passenger car vehicle (CH)   \n",
       "24                                          emissions   \n",
       "5                            m. for diesel (SPS) (CH)   \n",
       "6   m. for internal combustion engine, passenger c...   \n",
       "25                                          emissions   \n",
       "7                             activities below cutoff   \n",
       "8   m. for internal combustion engine, passenger c...   \n",
       "9                            m. for petrol (SPS) (CH)   \n",
       "26                                          emissions   \n",
       "10                            activities below cutoff   \n",
       "11     diesel import, from neighboring countries (CH)   \n",
       "12  internal combustion engine production, passeng...   \n",
       "13                            activities below cutoff   \n",
       "14                  ethanol production from wood (CH)   \n",
       "15        petrol, low-sulfur, import from Europe (CH)   \n",
       "16        diesel, low-sulfur, import from Europe (CH)   \n",
       "17                            activities below cutoff   \n",
       "27                                          emissions   \n",
       "18                            activities below cutoff   \n",
       "19               m. for aluminium, cast alloy (World)   \n",
       "20                           m. for palladium (World)   \n",
       "21                            m. for platinum (World)   \n",
       "22                            activities below cutoff   \n",
       "23  petrol production, low-sulfur (Europe without ...   \n",
       "28                                          emissions   \n",
       "\n",
       "                                               target        weight  \\\n",
       "0          m. for energy carriers for cars (SPS) (CH)  1.040783e+07   \n",
       "1          m. for energy carriers for cars (SPS) (CH)  3.141175e+03   \n",
       "2          m. for energy carriers for cars (SPS) (CH)  5.368820e+06   \n",
       "3          m. for energy carriers for cars (SPS) (CH)  1.203891e+05   \n",
       "4          m. for energy carriers for cars (SPS) (CH)  4.915477e+06   \n",
       "24         m. for energy carriers for cars (SPS) (CH)  2.146983e-01   \n",
       "5        diesel, burned in passenger car vehicle (CH)  1.540607e+06   \n",
       "6        diesel, burned in passenger car vehicle (CH)  2.177261e+06   \n",
       "25       diesel, burned in passenger car vehicle (CH)  1.650952e+06   \n",
       "7     electricity, used in passenger car vehicle (CH)  1.203891e+05   \n",
       "8        petrol, burned in passenger car vehicle (CH)  2.566583e+06   \n",
       "9        petrol, burned in passenger car vehicle (CH)  2.214080e+06   \n",
       "26       petrol, burned in passenger car vehicle (CH)  1.348137e+05   \n",
       "10                           m. for diesel (SPS) (CH)  4.774141e+04   \n",
       "11                           m. for diesel (SPS) (CH)  1.492865e+06   \n",
       "12  m. for internal combustion engine, passenger c...  4.743844e+06   \n",
       "13                           m. for petrol (SPS) (CH)  1.910338e+04   \n",
       "14                           m. for petrol (SPS) (CH)  1.056612e+05   \n",
       "15                           m. for petrol (SPS) (CH)  2.089316e+06   \n",
       "16     diesel import, from neighboring countries (CH)  1.492865e+06   \n",
       "17                  ethanol production from wood (CH)  8.038716e+04   \n",
       "27                  ethanol production from wood (CH)  2.527400e+04   \n",
       "18  internal combustion engine production, passeng...  3.504268e+05   \n",
       "19  internal combustion engine production, passeng...  1.178939e+06   \n",
       "20  internal combustion engine production, passeng...  2.163359e+06   \n",
       "21  internal combustion engine production, passeng...  1.051119e+06   \n",
       "22        petrol, low-sulfur, import from Europe (CH)  8.266875e+04   \n",
       "23        petrol, low-sulfur, import from Europe (CH)  2.006647e+06   \n",
       "28        petrol, low-sulfur, import from Europe (CH)  2.767681e-05   \n",
       "\n",
       "           unit  \n",
       "0   kg PM2.5-Eq  \n",
       "1   kg PM2.5-Eq  \n",
       "2   kg PM2.5-Eq  \n",
       "3   kg PM2.5-Eq  \n",
       "4   kg PM2.5-Eq  \n",
       "24  kg PM2.5-Eq  \n",
       "5   kg PM2.5-Eq  \n",
       "6   kg PM2.5-Eq  \n",
       "25  kg PM2.5-Eq  \n",
       "7   kg PM2.5-Eq  \n",
       "8   kg PM2.5-Eq  \n",
       "9   kg PM2.5-Eq  \n",
       "26  kg PM2.5-Eq  \n",
       "10  kg PM2.5-Eq  \n",
       "11  kg PM2.5-Eq  \n",
       "12  kg PM2.5-Eq  \n",
       "13  kg PM2.5-Eq  \n",
       "14  kg PM2.5-Eq  \n",
       "15  kg PM2.5-Eq  \n",
       "16  kg PM2.5-Eq  \n",
       "17  kg PM2.5-Eq  \n",
       "27  kg PM2.5-Eq  \n",
       "18  kg PM2.5-Eq  \n",
       "19  kg PM2.5-Eq  \n",
       "20  kg PM2.5-Eq  \n",
       "21  kg PM2.5-Eq  \n",
       "22  kg PM2.5-Eq  \n",
       "23  kg PM2.5-Eq  \n",
       "28  kg PM2.5-Eq  "
      ]
     },
     "execution_count": 25,
     "metadata": {},
     "output_type": "execute_result"
    }
   ],
   "source": [
    "df[1]"
   ]
  },
  {
   "cell_type": "code",
   "execution_count": 26,
   "id": "4b6257cc-5567-4aed-b80e-cac89d531659",
   "metadata": {},
   "outputs": [],
   "source": [
    "df[1].to_excel(\"sankey_pm_2020.xlsx\")"
   ]
  },
  {
   "cell_type": "code",
   "execution_count": 28,
   "id": "cd3e3738-ce1a-48e1-94be-5b8b88c2d76e",
   "metadata": {},
   "outputs": [
    {
     "data": {
      "text/plain": [
       "'market for energy carriers for cars (SPS)' (megajoule, CH, None)"
      ]
     },
     "execution_count": 28,
     "metadata": {},
     "output_type": "execute_result"
    }
   ],
   "source": [
    "act = [\n",
    "    a for a in bw2data.Database(\"ei_cutoff_3.10_remind_SSP2-PkBudg1150_2050_SPS1 2024-08-14\") \n",
    "    if \"market for energy carriers for cars (SPS)\" in a[\"name\"]\n",
    "][0]\n",
    "act"
   ]
  },
  {
   "cell_type": "code",
   "execution_count": 29,
   "id": "bcc1f32e-eb5c-4fa7-bb42-db39ba129036",
   "metadata": {},
   "outputs": [
    {
     "name": "stdout",
     "output_type": "stream",
     "text": [
      "Calculating supply chain score...\n"
     ]
    },
    {
     "name": "stderr",
     "output_type": "stream",
     "text": [
      "/opt/homebrew/Caskroom/miniforge/base/envs/premise/lib/python3.11/site-packages/scikits/umfpack/umfpack.py:736: UmfpackWarning: (almost) singular matrix! (estimated cond. number: 1.21e+13)\n",
      "  warnings.warn(msg, UmfpackWarning)\n"
     ]
    },
    {
     "name": "stdout",
     "output_type": "stream",
     "text": [
      "Sankey diagram generated.\n"
     ]
    }
   ],
   "source": [
    "df_2050 = sankey(\n",
    "    activity=act,\n",
    "    method=('ReCiPe 2016 v1.03, midpoint (H)', 'particulate matter formation', 'particulate matter formation potential (PMFP)'),\n",
    "    amount=4.62e+10,\n",
    "    level=4\n",
    ")"
   ]
  },
  {
   "cell_type": "code",
   "execution_count": 32,
   "id": "ec1589c5-a4c2-4d6d-a5bb-8e78d845ebc0",
   "metadata": {},
   "outputs": [
    {
     "data": {
      "text/plain": [
       "'/Users/romain/GitHub/sweet_sure-2050-switzerland/dev/market for energy carriers for cars SPS megajoule CH ReCiPe 2016 v103 midpoint Hparticulate matter formationparticulate matter formation potential PMFP sankey.html'"
      ]
     },
     "execution_count": 32,
     "metadata": {},
     "output_type": "execute_result"
    }
   ],
   "source": [
    "df_2050[0]"
   ]
  },
  {
   "cell_type": "code",
   "execution_count": 30,
   "id": "80bf7c30-7a51-406b-95ab-1158d8e4eab9",
   "metadata": {},
   "outputs": [
    {
     "data": {
      "text/html": [
       "<div>\n",
       "<style scoped>\n",
       "    .dataframe tbody tr th:only-of-type {\n",
       "        vertical-align: middle;\n",
       "    }\n",
       "\n",
       "    .dataframe tbody tr th {\n",
       "        vertical-align: top;\n",
       "    }\n",
       "\n",
       "    .dataframe thead th {\n",
       "        text-align: right;\n",
       "    }\n",
       "</style>\n",
       "<table border=\"1\" class=\"dataframe\">\n",
       "  <thead>\n",
       "    <tr style=\"text-align: right;\">\n",
       "      <th></th>\n",
       "      <th>source</th>\n",
       "      <th>target</th>\n",
       "      <th>weight</th>\n",
       "      <th>unit</th>\n",
       "    </tr>\n",
       "  </thead>\n",
       "  <tbody>\n",
       "    <tr>\n",
       "      <th>0</th>\n",
       "      <td>m. for energy carriers for cars (SPS) (CH)</td>\n",
       "      <td>m. for energy carriers for cars (SPS) (CH)</td>\n",
       "      <td>5.284344e+06</td>\n",
       "      <td>kg PM2.5-Eq</td>\n",
       "    </tr>\n",
       "    <tr>\n",
       "      <th>1</th>\n",
       "      <td>activities below cutoff</td>\n",
       "      <td>m. for energy carriers for cars (SPS) (CH)</td>\n",
       "      <td>5.290773e+02</td>\n",
       "      <td>kg PM2.5-Eq</td>\n",
       "    </tr>\n",
       "    <tr>\n",
       "      <th>2</th>\n",
       "      <td>diesel, burned in passenger car vehicle (CH)</td>\n",
       "      <td>m. for energy carriers for cars (SPS) (CH)</td>\n",
       "      <td>3.573738e+05</td>\n",
       "      <td>kg PM2.5-Eq</td>\n",
       "    </tr>\n",
       "    <tr>\n",
       "      <th>3</th>\n",
       "      <td>electricity, used in passenger car vehicle (CH)</td>\n",
       "      <td>m. for energy carriers for cars (SPS) (CH)</td>\n",
       "      <td>4.037871e+06</td>\n",
       "      <td>kg PM2.5-Eq</td>\n",
       "    </tr>\n",
       "    <tr>\n",
       "      <th>4</th>\n",
       "      <td>hydrogen, used in passenger car vehicle (CH)</td>\n",
       "      <td>m. for energy carriers for cars (SPS) (CH)</td>\n",
       "      <td>5.389879e+05</td>\n",
       "      <td>kg PM2.5-Eq</td>\n",
       "    </tr>\n",
       "    <tr>\n",
       "      <th>...</th>\n",
       "      <td>...</td>\n",
       "      <td>...</td>\n",
       "      <td>...</td>\n",
       "      <td>...</td>\n",
       "    </tr>\n",
       "    <tr>\n",
       "      <th>68</th>\n",
       "      <td>activities below cutoff</td>\n",
       "      <td>m. for electricity, medium voltage (SPS) (CH)</td>\n",
       "      <td>3.844890e+04</td>\n",
       "      <td>kg PM2.5-Eq</td>\n",
       "    </tr>\n",
       "    <tr>\n",
       "      <th>69</th>\n",
       "      <td>m. for electricity, high voltage (SPS) (CH)</td>\n",
       "      <td>m. for electricity, medium voltage (SPS) (CH)</td>\n",
       "      <td>5.914413e+05</td>\n",
       "      <td>kg PM2.5-Eq</td>\n",
       "    </tr>\n",
       "    <tr>\n",
       "      <th>70</th>\n",
       "      <td>transmission network construction, electricity...</td>\n",
       "      <td>m. for electricity, medium voltage (SPS) (CH)</td>\n",
       "      <td>8.883321e+04</td>\n",
       "      <td>kg PM2.5-Eq</td>\n",
       "    </tr>\n",
       "    <tr>\n",
       "      <th>71</th>\n",
       "      <td>activities below cutoff</td>\n",
       "      <td>power distribution unit production, for electr...</td>\n",
       "      <td>8.166744e+04</td>\n",
       "      <td>kg PM2.5-Eq</td>\n",
       "    </tr>\n",
       "    <tr>\n",
       "      <th>72</th>\n",
       "      <td>diesel production, synthetic, Fischer Tropsch ...</td>\n",
       "      <td>synthetic diesel import, from neighboring coun...</td>\n",
       "      <td>1.192086e+05</td>\n",
       "      <td>kg PM2.5-Eq</td>\n",
       "    </tr>\n",
       "  </tbody>\n",
       "</table>\n",
       "<p>89 rows × 4 columns</p>\n",
       "</div>"
      ],
      "text/plain": [
       "                                               source  \\\n",
       "0          m. for energy carriers for cars (SPS) (CH)   \n",
       "1                             activities below cutoff   \n",
       "2        diesel, burned in passenger car vehicle (CH)   \n",
       "3     electricity, used in passenger car vehicle (CH)   \n",
       "4        hydrogen, used in passenger car vehicle (CH)   \n",
       "..                                                ...   \n",
       "68                            activities below cutoff   \n",
       "69        m. for electricity, high voltage (SPS) (CH)   \n",
       "70  transmission network construction, electricity...   \n",
       "71                            activities below cutoff   \n",
       "72  diesel production, synthetic, Fischer Tropsch ...   \n",
       "\n",
       "                                               target        weight  \\\n",
       "0          m. for energy carriers for cars (SPS) (CH)  5.284344e+06   \n",
       "1          m. for energy carriers for cars (SPS) (CH)  5.290773e+02   \n",
       "2          m. for energy carriers for cars (SPS) (CH)  3.573738e+05   \n",
       "3          m. for energy carriers for cars (SPS) (CH)  4.037871e+06   \n",
       "4          m. for energy carriers for cars (SPS) (CH)  5.389879e+05   \n",
       "..                                                ...           ...   \n",
       "68      m. for electricity, medium voltage (SPS) (CH)  3.844890e+04   \n",
       "69      m. for electricity, medium voltage (SPS) (CH)  5.914413e+05   \n",
       "70      m. for electricity, medium voltage (SPS) (CH)  8.883321e+04   \n",
       "71  power distribution unit production, for electr...  8.166744e+04   \n",
       "72  synthetic diesel import, from neighboring coun...  1.192086e+05   \n",
       "\n",
       "           unit  \n",
       "0   kg PM2.5-Eq  \n",
       "1   kg PM2.5-Eq  \n",
       "2   kg PM2.5-Eq  \n",
       "3   kg PM2.5-Eq  \n",
       "4   kg PM2.5-Eq  \n",
       "..          ...  \n",
       "68  kg PM2.5-Eq  \n",
       "69  kg PM2.5-Eq  \n",
       "70  kg PM2.5-Eq  \n",
       "71  kg PM2.5-Eq  \n",
       "72  kg PM2.5-Eq  \n",
       "\n",
       "[89 rows x 4 columns]"
      ]
     },
     "execution_count": 30,
     "metadata": {},
     "output_type": "execute_result"
    }
   ],
   "source": [
    "df_2050[1]"
   ]
  },
  {
   "cell_type": "code",
   "execution_count": 31,
   "id": "117b3a7d-7be0-4f8c-938c-412ca96964c3",
   "metadata": {},
   "outputs": [],
   "source": [
    "df_2050[1].to_excel(\"sankey_pm_2050.xlsx\")"
   ]
  },
  {
   "cell_type": "code",
   "execution_count": 25,
   "id": "a1ccb99a-0080-407b-b49a-a50f9ccacbce",
   "metadata": {},
   "outputs": [
    {
     "name": "stdout",
     "output_type": "stream",
     "text": [
      "Vacuuming database \n",
      "Vacuuming database \n"
     ]
    }
   ],
   "source": [
    "del bw2data.databases[\"ei_cutoff_3.10_remind_SSP2-PkBudg1150_2020_SPS1 2024-08-14\"]\n",
    "del bw2data.databases[\"ei_cutoff_3.10_remind_SSP2-PkBudg1150_2050_SPS1 2024-08-14\"]"
   ]
  },
  {
   "cell_type": "code",
   "execution_count": 26,
   "id": "83a4e7f2-ae78-4f50-9682-9a20eb506088",
   "metadata": {},
   "outputs": [
    {
     "name": "stdout",
     "output_type": "stream",
     "text": [
      "1\n"
     ]
    }
   ],
   "source": [
    "print(1)"
   ]
  },
  {
   "cell_type": "code",
   "execution_count": null,
   "id": "1ee1eca6-165f-404c-9799-21d626cb86d0",
   "metadata": {},
   "outputs": [],
   "source": []
  }
 ],
 "metadata": {
  "kernelspec": {
   "display_name": "Python 3 (ipykernel)",
   "language": "python",
   "name": "python3"
  },
  "language_info": {
   "codemirror_mode": {
    "name": "ipython",
    "version": 3
   },
   "file_extension": ".py",
   "mimetype": "text/x-python",
   "name": "python",
   "nbconvert_exporter": "python",
   "pygments_lexer": "ipython3",
   "version": "3.10.0"
  }
 },
 "nbformat": 4,
 "nbformat_minor": 5
}
