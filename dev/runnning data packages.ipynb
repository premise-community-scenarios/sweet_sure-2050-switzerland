{
 "cells": [
  {
   "cell_type": "code",
   "execution_count": 1,
   "id": "b79e4be8-b8be-41e8-9727-a25126d77260",
   "metadata": {},
   "outputs": [
    {
     "name": "stdout",
     "output_type": "stream",
     "text": [
      "Invalid datapackage: Descriptor validation error: {'path': 'mapping/mapping.yaml', 'profile': 'data-resource', 'name': 'mapping', 'format': 'yaml', 'mediatype': 'text/yaml', 'encoding': 'utf-8'} is not valid under any of the given schemas at \"resources/29\" in descriptor and at \"properties/resources/items/oneOf\" in profile\n",
      "Invalid datapackage: Descriptor validation error: 'data-resource' is not one of ['tabular-data-resource'] at \"resources/29/profile\" in descriptor and at \"properties/resources/items/properties/profile/enum\" in profile\n",
      "Log file: /Users/romain/Library/Logs/pathways/pathways.log\n"
     ]
    }
   ],
   "source": []
  },
  {
   "cell_type": "code",
   "execution_count": 2,
   "id": "f859b65d-97ac-4ac6-a33e-4f30103dab92",
   "metadata": {},
   "outputs": [],
   "source": [
    "elec = [\n",
    "        \"hydro_run_of_river\",\n",
    "        \"hydro (reservoir)\",\n",
    "        \"hydro (pumped storage)\",\n",
    "        \"nuclear (boiling water)\",\n",
    "        \"nuclear (pressure water)\",\n",
    "        \"oil (peak devices)\",\n",
    "        \"oil (DH CHP)\",\n",
    "        \"oil (industry CHP)\",\n",
    "        \"gas (CCGT)\",\n",
    "        \"gas (OCGT)\",\n",
    "        \"gas (CCGT CCS)\",\n",
    "        \"gas (CHP DH)\",\n",
    "        \"gas (fuel cell DH)\",\n",
    "        \"gas (CHP industry)\",\n",
    "        \"gas (CHP CCS industry)\",\n",
    "        \"gas (CHP fuel cell reformer)\",\n",
    "        \"gas (CHP single family)\",\n",
    "        \"gas (single family CHP fuel cell)\",\n",
    "        \"gas (multi family CHP)\",\n",
    "        \"gas (multi family CHP fuel cell)\",\n",
    "        \"biogas (services CHP)\",\n",
    "        \"gas (services CHP)\",\n",
    "        \"gas (services CHP fuel cell)\",\n",
    "        \"waste incineration, fossil (CHP)\",\n",
    "        \"waste incineration, fossil (industrial)\",\n",
    "        \"waste incineration, fossil (CHP, CCS)\",\n",
    "        \"waste incineration, fossil (industrial, CCS)\",\n",
    "        \"waste incineration, non-fossil (CHP)\",\n",
    "        \"waste incineration, non-fossil (industrial)\",\n",
    "        \"waste incineration, non-fossil (CHP, CCS)\",\n",
    "        \"waste incineration, non-fossil (industrial, CCS)\",\n",
    "        \"pv (large scale)\",\n",
    "        \"pv (industry)\",\n",
    "        \"pv (services)\",\n",
    "        \"pv residential (multi family)\",\n",
    "        \"pv residential (single family)\",\n",
    "        \"wind\",\n",
    "        \"geothermal\",\n",
    "        \"hydrogen fuel cell (DH CHP)\",\n",
    "        \"hydrogen fuel cell (industrial CHP)\",\n",
    "        \"hydrogen fuel cell (services CHP)\",\n",
    "        \"biomass (DH)\",\n",
    "        \"biomass (CHP)\",\n",
    "        \"biomass (CCS, BECCS)\",\n",
    "        \"biomass (CCS, industrial)\",\n",
    "        \"battery (large)\",\n",
    "        \"battery (medium)\",\n",
    "        \"battery (industry)\",\n",
    "        \"battery (services)\",\n",
    "        \"battery (single family)\",\n",
    "        \"battery (multi family)\",\n",
    "        \"CAES\",\n",
    "        \"import\",\n",
    "    ]"
   ]
  },
  {
   "cell_type": "code",
   "execution_count": 1,
   "id": "0b1db8ad-68cc-482c-9305-b0fdecfa5620",
   "metadata": {},
   "outputs": [],
   "source": [
    "import xarray as xr\n",
    "import numpy as np\n",
    "import pandas as pd\n",
    "\n",
    "def extract_non_zero_values(dataarray):\n",
    "    # Step 1: Flatten the DataArray to get the 1D array of values\n",
    "    flattened_data = dataarray.values.flatten()\n",
    "\n",
    "    # Step 2: Find the indices of non-zero values\n",
    "    non_zero_indices = np.nonzero(flattened_data)[0]\n",
    "\n",
    "    # Step 3: Extract non-zero values\n",
    "    non_zero_values = flattened_data[non_zero_indices]\n",
    "\n",
    "    # Step 4: Get the shape of the original DataArray\n",
    "    original_shape = dataarray.shape\n",
    "\n",
    "    # Step 5: Find the coordinates corresponding to the non-zero indices\n",
    "    coords = np.array(np.unravel_index(non_zero_indices, original_shape)).T\n",
    "\n",
    "    # Step 6: Create a pandas DataFrame with non-zero values and corresponding coordinates\n",
    "    coord_names = list(dataarray.dims)\n",
    "    coord_values = {dim: dataarray.coords[dim].values[coords[:, i]] for i, dim in enumerate(coord_names)}\n",
    "    \n",
    "    df = pd.DataFrame(coord_values)\n",
    "    df['value'] = non_zero_values\n",
    "\n",
    "    return df"
   ]
  },
  {
   "cell_type": "code",
   "execution_count": null,
   "id": "4c0317bf-cad0-4104-bfa3-531b35a14122",
   "metadata": {},
   "outputs": [
    {
     "name": "stdout",
     "output_type": "stream",
     "text": [
      "Invalid datapackage: Descriptor validation error: {'path': 'mapping/mapping.yaml', 'profile': 'data-resource', 'name': 'mapping', 'format': 'yaml', 'mediatype': 'text/yaml', 'encoding': 'utf-8'} is not valid under any of the given schemas at \"resources/29\" in descriptor and at \"properties/resources/items/oneOf\" in profile\n",
      "Invalid datapackage: Descriptor validation error: 'data-resource' is not one of ['tabular-data-resource'] at \"resources/29/profile\" in descriptor and at \"properties/resources/items/properties/profile/enum\" in profile\n",
      "Log file: /Users/romain/Library/Logs/pathways/pathways.log\n",
      "Calculating LCA results for remind...\n",
      "--- Calculating LCA results for SSP2-NPi-SPS1...\n",
      "------ Calculating LCA results for 2020...\n"
     ]
    },
    {
     "name": "stderr",
     "output_type": "stream",
     "text": [
      "0% [#] 100% | ETA: 00:00:01\n",
      "Total time elapsed: 00:00:00\n"
     ]
    },
    {
     "name": "stdout",
     "output_type": "stream",
     "text": [
      "------ Calculating LCA results for 2030...\n"
     ]
    },
    {
     "name": "stderr",
     "output_type": "stream",
     "text": [
      "0% [#] 100% | ETA: 00:00:01\n",
      "Total time elapsed: 00:00:00\n"
     ]
    },
    {
     "name": "stdout",
     "output_type": "stream",
     "text": [
      "------ Calculating LCA results for 2040...\n"
     ]
    },
    {
     "name": "stderr",
     "output_type": "stream",
     "text": [
      "0% [#] 100% | ETA: 00:00:01\n",
      "Total time elapsed: 00:00:00\n"
     ]
    },
    {
     "name": "stdout",
     "output_type": "stream",
     "text": [
      "------ Calculating LCA results for 2050...\n"
     ]
    },
    {
     "name": "stderr",
     "output_type": "stream",
     "text": [
      "0% [#] 100% | ETA: 00:00:01\n",
      "Total time elapsed: 00:00:00\n",
      "0% [####] 100% | ETA: 00:00:00\n",
      "Total time elapsed: 00:00:10\n"
     ]
    },
    {
     "name": "stdout",
     "output_type": "stream",
     "text": [
      "Invalid datapackage: Descriptor validation error: {'path': 'mapping/mapping.yaml', 'profile': 'data-resource', 'name': 'mapping', 'format': 'yaml', 'mediatype': 'text/yaml', 'encoding': 'utf-8'} is not valid under any of the given schemas at \"resources/29\" in descriptor and at \"properties/resources/items/oneOf\" in profile\n",
      "Invalid datapackage: Descriptor validation error: 'data-resource' is not one of ['tabular-data-resource'] at \"resources/29/profile\" in descriptor and at \"properties/resources/items/properties/profile/enum\" in profile\n",
      "Log file: /Users/romain/Library/Logs/pathways/pathways.log\n",
      "Calculating LCA results for remind...\n",
      "--- Calculating LCA results for SSP2-PkBudg1150-SPS1...\n",
      "------ Calculating LCA results for 2020...\n"
     ]
    },
    {
     "name": "stderr",
     "output_type": "stream",
     "text": [
      "0% [#] 100% | ETA: 00:00:01\n",
      "Total time elapsed: 00:00:00\n"
     ]
    },
    {
     "name": "stdout",
     "output_type": "stream",
     "text": [
      "------ Calculating LCA results for 2030...\n"
     ]
    },
    {
     "name": "stderr",
     "output_type": "stream",
     "text": [
      "0% [#] 100% | ETA: 00:00:01\n",
      "Total time elapsed: 00:00:00\n"
     ]
    },
    {
     "name": "stdout",
     "output_type": "stream",
     "text": [
      "------ Calculating LCA results for 2040...\n"
     ]
    },
    {
     "name": "stderr",
     "output_type": "stream",
     "text": [
      "0% [#] 100% | ETA: 00:00:01\n",
      "Total time elapsed: 00:00:00\n"
     ]
    },
    {
     "name": "stdout",
     "output_type": "stream",
     "text": [
      "------ Calculating LCA results for 2050...\n"
     ]
    },
    {
     "name": "stderr",
     "output_type": "stream",
     "text": [
      "0% [#] 100% | ETA: 00:00:01\n",
      "Total time elapsed: 00:00:00\n",
      "0% [####] 100% | ETA: 00:00:00\n",
      "Total time elapsed: 00:00:09\n"
     ]
    },
    {
     "name": "stdout",
     "output_type": "stream",
     "text": [
      "Invalid datapackage: Descriptor validation error: {'path': 'mapping/mapping.yaml', 'profile': 'data-resource', 'name': 'mapping', 'format': 'yaml', 'mediatype': 'text/yaml', 'encoding': 'utf-8'} is not valid under any of the given schemas at \"resources/29\" in descriptor and at \"properties/resources/items/oneOf\" in profile\n",
      "Invalid datapackage: Descriptor validation error: 'data-resource' is not one of ['tabular-data-resource'] at \"resources/29/profile\" in descriptor and at \"properties/resources/items/properties/profile/enum\" in profile\n",
      "Log file: /Users/romain/Library/Logs/pathways/pathways.log\n",
      "Calculating LCA results for remind...\n",
      "--- Calculating LCA results for SSP2-PkBudg500-SPS1...\n",
      "------ Calculating LCA results for 2020...\n"
     ]
    },
    {
     "name": "stderr",
     "output_type": "stream",
     "text": [
      "0% [#] 100% | ETA: 00:00:01\n",
      "Total time elapsed: 00:00:00\n"
     ]
    },
    {
     "name": "stdout",
     "output_type": "stream",
     "text": [
      "------ Calculating LCA results for 2030...\n"
     ]
    },
    {
     "name": "stderr",
     "output_type": "stream",
     "text": [
      "0% [#] 100% | ETA: 00:00:01\n",
      "Total time elapsed: 00:00:00\n"
     ]
    },
    {
     "name": "stdout",
     "output_type": "stream",
     "text": [
      "------ Calculating LCA results for 2040...\n"
     ]
    },
    {
     "name": "stderr",
     "output_type": "stream",
     "text": [
      "0% [#] 100% | ETA: 00:00:01\n",
      "Total time elapsed: 00:00:00\n"
     ]
    },
    {
     "name": "stdout",
     "output_type": "stream",
     "text": [
      "------ Calculating LCA results for 2050...\n"
     ]
    },
    {
     "name": "stderr",
     "output_type": "stream",
     "text": [
      "/opt/homebrew/Caskroom/miniforge/base/envs/pathways/lib/python3.11/site-packages/scikits/umfpack/umfpack.py:736: UmfpackWarning: (almost) singular matrix! (estimated cond. number: 1.15e+12)\n",
      "  warnings.warn(msg, UmfpackWarning)\n",
      "0% [#] 100% | ETA: 00:00:01\n",
      "Total time elapsed: 00:00:00\n",
      "/opt/homebrew/Caskroom/miniforge/base/envs/pathways/lib/python3.11/site-packages/scikits/umfpack/umfpack.py:736: UmfpackWarning: (almost) singular matrix! (estimated cond. number: 1.15e+12)\n",
      "  warnings.warn(msg, UmfpackWarning)\n",
      "/opt/homebrew/Caskroom/miniforge/base/envs/pathways/lib/python3.11/site-packages/scikits/umfpack/umfpack.py:736: UmfpackWarning: (almost) singular matrix! (estimated cond. number: 1.15e+12)\n",
      "  warnings.warn(msg, UmfpackWarning)\n",
      "/opt/homebrew/Caskroom/miniforge/base/envs/pathways/lib/python3.11/site-packages/scikits/umfpack/umfpack.py:736: UmfpackWarning: (almost) singular matrix! (estimated cond. number: 1.15e+12)\n",
      "  warnings.warn(msg, UmfpackWarning)\n",
      "/opt/homebrew/Caskroom/miniforge/base/envs/pathways/lib/python3.11/site-packages/scikits/umfpack/umfpack.py:736: UmfpackWarning: (almost) singular matrix! (estimated cond. number: 1.15e+12)\n",
      "  warnings.warn(msg, UmfpackWarning)\n",
      "/opt/homebrew/Caskroom/miniforge/base/envs/pathways/lib/python3.11/site-packages/scikits/umfpack/umfpack.py:736: UmfpackWarning: (almost) singular matrix! (estimated cond. number: 1.15e+12)\n",
      "  warnings.warn(msg, UmfpackWarning)\n",
      "/opt/homebrew/Caskroom/miniforge/base/envs/pathways/lib/python3.11/site-packages/scikits/umfpack/umfpack.py:736: UmfpackWarning: (almost) singular matrix! (estimated cond. number: 1.15e+12)\n",
      "  warnings.warn(msg, UmfpackWarning)\n",
      "/opt/homebrew/Caskroom/miniforge/base/envs/pathways/lib/python3.11/site-packages/scikits/umfpack/umfpack.py:736: UmfpackWarning: (almost) singular matrix! (estimated cond. number: 1.15e+12)\n",
      "  warnings.warn(msg, UmfpackWarning)\n",
      "/opt/homebrew/Caskroom/miniforge/base/envs/pathways/lib/python3.11/site-packages/scikits/umfpack/umfpack.py:736: UmfpackWarning: (almost) singular matrix! (estimated cond. number: 1.15e+12)\n",
      "  warnings.warn(msg, UmfpackWarning)\n",
      "/opt/homebrew/Caskroom/miniforge/base/envs/pathways/lib/python3.11/site-packages/scikits/umfpack/umfpack.py:736: UmfpackWarning: (almost) singular matrix! (estimated cond. number: 1.15e+12)\n",
      "  warnings.warn(msg, UmfpackWarning)\n",
      "/opt/homebrew/Caskroom/miniforge/base/envs/pathways/lib/python3.11/site-packages/scikits/umfpack/umfpack.py:736: UmfpackWarning: (almost) singular matrix! (estimated cond. number: 1.15e+12)\n",
      "  warnings.warn(msg, UmfpackWarning)\n",
      "/opt/homebrew/Caskroom/miniforge/base/envs/pathways/lib/python3.11/site-packages/scikits/umfpack/umfpack.py:736: UmfpackWarning: (almost) singular matrix! (estimated cond. number: 1.15e+12)\n",
      "  warnings.warn(msg, UmfpackWarning)\n",
      "/opt/homebrew/Caskroom/miniforge/base/envs/pathways/lib/python3.11/site-packages/scikits/umfpack/umfpack.py:736: UmfpackWarning: (almost) singular matrix! (estimated cond. number: 1.15e+12)\n",
      "  warnings.warn(msg, UmfpackWarning)\n",
      "/opt/homebrew/Caskroom/miniforge/base/envs/pathways/lib/python3.11/site-packages/scikits/umfpack/umfpack.py:736: UmfpackWarning: (almost) singular matrix! (estimated cond. number: 1.15e+12)\n",
      "  warnings.warn(msg, UmfpackWarning)\n",
      "/opt/homebrew/Caskroom/miniforge/base/envs/pathways/lib/python3.11/site-packages/scikits/umfpack/umfpack.py:736: UmfpackWarning: (almost) singular matrix! (estimated cond. number: 1.15e+12)\n",
      "  warnings.warn(msg, UmfpackWarning)\n",
      "/opt/homebrew/Caskroom/miniforge/base/envs/pathways/lib/python3.11/site-packages/scikits/umfpack/umfpack.py:736: UmfpackWarning: (almost) singular matrix! (estimated cond. number: 1.15e+12)\n",
      "  warnings.warn(msg, UmfpackWarning)\n",
      "/opt/homebrew/Caskroom/miniforge/base/envs/pathways/lib/python3.11/site-packages/scikits/umfpack/umfpack.py:736: UmfpackWarning: (almost) singular matrix! (estimated cond. number: 1.15e+12)\n",
      "  warnings.warn(msg, UmfpackWarning)\n",
      "/opt/homebrew/Caskroom/miniforge/base/envs/pathways/lib/python3.11/site-packages/scikits/umfpack/umfpack.py:736: UmfpackWarning: (almost) singular matrix! (estimated cond. number: 1.15e+12)\n",
      "  warnings.warn(msg, UmfpackWarning)\n",
      "/opt/homebrew/Caskroom/miniforge/base/envs/pathways/lib/python3.11/site-packages/scikits/umfpack/umfpack.py:736: UmfpackWarning: (almost) singular matrix! (estimated cond. number: 1.15e+12)\n",
      "  warnings.warn(msg, UmfpackWarning)\n",
      "/opt/homebrew/Caskroom/miniforge/base/envs/pathways/lib/python3.11/site-packages/scikits/umfpack/umfpack.py:736: UmfpackWarning: (almost) singular matrix! (estimated cond. number: 1.15e+12)\n",
      "  warnings.warn(msg, UmfpackWarning)\n",
      "/opt/homebrew/Caskroom/miniforge/base/envs/pathways/lib/python3.11/site-packages/scikits/umfpack/umfpack.py:736: UmfpackWarning: (almost) singular matrix! (estimated cond. number: 1.15e+12)\n",
      "  warnings.warn(msg, UmfpackWarning)\n",
      "/opt/homebrew/Caskroom/miniforge/base/envs/pathways/lib/python3.11/site-packages/scikits/umfpack/umfpack.py:736: UmfpackWarning: (almost) singular matrix! (estimated cond. number: 1.15e+12)\n",
      "  warnings.warn(msg, UmfpackWarning)\n",
      "/opt/homebrew/Caskroom/miniforge/base/envs/pathways/lib/python3.11/site-packages/scikits/umfpack/umfpack.py:736: UmfpackWarning: (almost) singular matrix! (estimated cond. number: 1.15e+12)\n",
      "  warnings.warn(msg, UmfpackWarning)\n",
      "/opt/homebrew/Caskroom/miniforge/base/envs/pathways/lib/python3.11/site-packages/scikits/umfpack/umfpack.py:736: UmfpackWarning: (almost) singular matrix! (estimated cond. number: 1.15e+12)\n",
      "  warnings.warn(msg, UmfpackWarning)\n",
      "/opt/homebrew/Caskroom/miniforge/base/envs/pathways/lib/python3.11/site-packages/scikits/umfpack/umfpack.py:736: UmfpackWarning: (almost) singular matrix! (estimated cond. number: 1.15e+12)\n",
      "  warnings.warn(msg, UmfpackWarning)\n",
      "/opt/homebrew/Caskroom/miniforge/base/envs/pathways/lib/python3.11/site-packages/scikits/umfpack/umfpack.py:736: UmfpackWarning: (almost) singular matrix! (estimated cond. number: 1.15e+12)\n",
      "  warnings.warn(msg, UmfpackWarning)\n",
      "/opt/homebrew/Caskroom/miniforge/base/envs/pathways/lib/python3.11/site-packages/scikits/umfpack/umfpack.py:736: UmfpackWarning: (almost) singular matrix! (estimated cond. number: 1.15e+12)\n",
      "  warnings.warn(msg, UmfpackWarning)\n",
      "/opt/homebrew/Caskroom/miniforge/base/envs/pathways/lib/python3.11/site-packages/scikits/umfpack/umfpack.py:736: UmfpackWarning: (almost) singular matrix! (estimated cond. number: 1.15e+12)\n",
      "  warnings.warn(msg, UmfpackWarning)\n",
      "/opt/homebrew/Caskroom/miniforge/base/envs/pathways/lib/python3.11/site-packages/scikits/umfpack/umfpack.py:736: UmfpackWarning: (almost) singular matrix! (estimated cond. number: 1.15e+12)\n",
      "  warnings.warn(msg, UmfpackWarning)\n",
      "/opt/homebrew/Caskroom/miniforge/base/envs/pathways/lib/python3.11/site-packages/scikits/umfpack/umfpack.py:736: UmfpackWarning: (almost) singular matrix! (estimated cond. number: 1.15e+12)\n",
      "  warnings.warn(msg, UmfpackWarning)\n",
      "/opt/homebrew/Caskroom/miniforge/base/envs/pathways/lib/python3.11/site-packages/scikits/umfpack/umfpack.py:736: UmfpackWarning: (almost) singular matrix! (estimated cond. number: 1.15e+12)\n",
      "  warnings.warn(msg, UmfpackWarning)\n",
      "/opt/homebrew/Caskroom/miniforge/base/envs/pathways/lib/python3.11/site-packages/scikits/umfpack/umfpack.py:736: UmfpackWarning: (almost) singular matrix! (estimated cond. number: 1.15e+12)\n",
      "  warnings.warn(msg, UmfpackWarning)\n",
      "/opt/homebrew/Caskroom/miniforge/base/envs/pathways/lib/python3.11/site-packages/scikits/umfpack/umfpack.py:736: UmfpackWarning: (almost) singular matrix! (estimated cond. number: 1.15e+12)\n",
      "  warnings.warn(msg, UmfpackWarning)\n",
      "/opt/homebrew/Caskroom/miniforge/base/envs/pathways/lib/python3.11/site-packages/scikits/umfpack/umfpack.py:736: UmfpackWarning: (almost) singular matrix! (estimated cond. number: 1.15e+12)\n",
      "  warnings.warn(msg, UmfpackWarning)\n",
      "/opt/homebrew/Caskroom/miniforge/base/envs/pathways/lib/python3.11/site-packages/scikits/umfpack/umfpack.py:736: UmfpackWarning: (almost) singular matrix! (estimated cond. number: 1.15e+12)\n",
      "  warnings.warn(msg, UmfpackWarning)\n",
      "/opt/homebrew/Caskroom/miniforge/base/envs/pathways/lib/python3.11/site-packages/scikits/umfpack/umfpack.py:736: UmfpackWarning: (almost) singular matrix! (estimated cond. number: 1.15e+12)\n",
      "  warnings.warn(msg, UmfpackWarning)\n",
      "/opt/homebrew/Caskroom/miniforge/base/envs/pathways/lib/python3.11/site-packages/scikits/umfpack/umfpack.py:736: UmfpackWarning: (almost) singular matrix! (estimated cond. number: 1.15e+12)\n",
      "  warnings.warn(msg, UmfpackWarning)\n",
      "/opt/homebrew/Caskroom/miniforge/base/envs/pathways/lib/python3.11/site-packages/scikits/umfpack/umfpack.py:736: UmfpackWarning: (almost) singular matrix! (estimated cond. number: 1.15e+12)\n",
      "  warnings.warn(msg, UmfpackWarning)\n",
      "/opt/homebrew/Caskroom/miniforge/base/envs/pathways/lib/python3.11/site-packages/scikits/umfpack/umfpack.py:736: UmfpackWarning: (almost) singular matrix! (estimated cond. number: 1.15e+12)\n",
      "  warnings.warn(msg, UmfpackWarning)\n",
      "/opt/homebrew/Caskroom/miniforge/base/envs/pathways/lib/python3.11/site-packages/scikits/umfpack/umfpack.py:736: UmfpackWarning: (almost) singular matrix! (estimated cond. number: 1.15e+12)\n",
      "  warnings.warn(msg, UmfpackWarning)\n",
      "/opt/homebrew/Caskroom/miniforge/base/envs/pathways/lib/python3.11/site-packages/scikits/umfpack/umfpack.py:736: UmfpackWarning: (almost) singular matrix! (estimated cond. number: 1.15e+12)\n",
      "  warnings.warn(msg, UmfpackWarning)\n",
      "/opt/homebrew/Caskroom/miniforge/base/envs/pathways/lib/python3.11/site-packages/scikits/umfpack/umfpack.py:736: UmfpackWarning: (almost) singular matrix! (estimated cond. number: 1.15e+12)\n",
      "  warnings.warn(msg, UmfpackWarning)\n",
      "/opt/homebrew/Caskroom/miniforge/base/envs/pathways/lib/python3.11/site-packages/scikits/umfpack/umfpack.py:736: UmfpackWarning: (almost) singular matrix! (estimated cond. number: 1.15e+12)\n",
      "  warnings.warn(msg, UmfpackWarning)\n",
      "/opt/homebrew/Caskroom/miniforge/base/envs/pathways/lib/python3.11/site-packages/scikits/umfpack/umfpack.py:736: UmfpackWarning: (almost) singular matrix! (estimated cond. number: 1.15e+12)\n",
      "  warnings.warn(msg, UmfpackWarning)\n",
      "/opt/homebrew/Caskroom/miniforge/base/envs/pathways/lib/python3.11/site-packages/scikits/umfpack/umfpack.py:736: UmfpackWarning: (almost) singular matrix! (estimated cond. number: 1.15e+12)\n",
      "  warnings.warn(msg, UmfpackWarning)\n",
      "/opt/homebrew/Caskroom/miniforge/base/envs/pathways/lib/python3.11/site-packages/scikits/umfpack/umfpack.py:736: UmfpackWarning: (almost) singular matrix! (estimated cond. number: 1.15e+12)\n",
      "  warnings.warn(msg, UmfpackWarning)\n",
      "/opt/homebrew/Caskroom/miniforge/base/envs/pathways/lib/python3.11/site-packages/scikits/umfpack/umfpack.py:736: UmfpackWarning: (almost) singular matrix! (estimated cond. number: 1.15e+12)\n",
      "  warnings.warn(msg, UmfpackWarning)\n",
      "/opt/homebrew/Caskroom/miniforge/base/envs/pathways/lib/python3.11/site-packages/scikits/umfpack/umfpack.py:736: UmfpackWarning: (almost) singular matrix! (estimated cond. number: 1.15e+12)\n",
      "  warnings.warn(msg, UmfpackWarning)\n",
      "/opt/homebrew/Caskroom/miniforge/base/envs/pathways/lib/python3.11/site-packages/scikits/umfpack/umfpack.py:736: UmfpackWarning: (almost) singular matrix! (estimated cond. number: 1.15e+12)\n",
      "  warnings.warn(msg, UmfpackWarning)\n",
      "/opt/homebrew/Caskroom/miniforge/base/envs/pathways/lib/python3.11/site-packages/scikits/umfpack/umfpack.py:736: UmfpackWarning: (almost) singular matrix! (estimated cond. number: 1.15e+12)\n",
      "  warnings.warn(msg, UmfpackWarning)\n",
      "/opt/homebrew/Caskroom/miniforge/base/envs/pathways/lib/python3.11/site-packages/scikits/umfpack/umfpack.py:736: UmfpackWarning: (almost) singular matrix! (estimated cond. number: 1.15e+12)\n",
      "  warnings.warn(msg, UmfpackWarning)\n",
      "/opt/homebrew/Caskroom/miniforge/base/envs/pathways/lib/python3.11/site-packages/scikits/umfpack/umfpack.py:736: UmfpackWarning: (almost) singular matrix! (estimated cond. number: 1.15e+12)\n",
      "  warnings.warn(msg, UmfpackWarning)\n",
      "/opt/homebrew/Caskroom/miniforge/base/envs/pathways/lib/python3.11/site-packages/scikits/umfpack/umfpack.py:736: UmfpackWarning: (almost) singular matrix! (estimated cond. number: 1.15e+12)\n",
      "  warnings.warn(msg, UmfpackWarning)\n",
      "/opt/homebrew/Caskroom/miniforge/base/envs/pathways/lib/python3.11/site-packages/scikits/umfpack/umfpack.py:736: UmfpackWarning: (almost) singular matrix! (estimated cond. number: 1.15e+12)\n",
      "  warnings.warn(msg, UmfpackWarning)\n",
      "/opt/homebrew/Caskroom/miniforge/base/envs/pathways/lib/python3.11/site-packages/scikits/umfpack/umfpack.py:736: UmfpackWarning: (almost) singular matrix! (estimated cond. number: 1.15e+12)\n",
      "  warnings.warn(msg, UmfpackWarning)\n",
      "0% [####] 100% | ETA: 00:00:00\n",
      "Total time elapsed: 00:00:09\n"
     ]
    },
    {
     "name": "stdout",
     "output_type": "stream",
     "text": [
      "Invalid datapackage: Descriptor validation error: {'path': 'mapping/mapping.yaml', 'profile': 'data-resource', 'name': 'mapping', 'format': 'yaml', 'mediatype': 'text/yaml', 'encoding': 'utf-8'} is not valid under any of the given schemas at \"resources/29\" in descriptor and at \"properties/resources/items/oneOf\" in profile\n",
      "Invalid datapackage: Descriptor validation error: 'data-resource' is not one of ['tabular-data-resource'] at \"resources/29/profile\" in descriptor and at \"properties/resources/items/properties/profile/enum\" in profile\n"
     ]
    }
   ],
   "source": [
    "import numpy as np\n",
    "from pathways import Pathways\n",
    "\n",
    "for scenario in [\n",
    "    \"remind-SSP2-NPi-stem-SPS1.zip\",\n",
    "    \"remind-SSP2-PkBudg1150-stem-SPS1.zip\",\n",
    "    \"remind-SSP2-PkBudg500-stem-SPS1.zip\",\n",
    "    \"remind-SSP2-NPi-stem-SPS4.zip\",\n",
    "    \"remind-SSP2-PkBudg1150-stem-SPS4.zip\",\n",
    "    \"remind-SSP2-PkBudg500-stem-SPS4.zip\",\n",
    "]:\n",
    "    p = Pathways(datapackage=scenario, debug=True)\n",
    "    \n",
    "    p.calculate(\n",
    "        methods=[\n",
    "            'EF v3.1 EN15804 - climate change - global warming potential (GWP100)',\n",
    "            'ReCiPe 2016 v1.03, endpoint (I) - total: ecosystem quality - ecosystem quality',\n",
    "            'EF v3.1 - material resources: metals/minerals - abiotic depletion potential (ADP): elements (ultimate reserves)',\n",
    "            'Ecological Scarcity 2021 - total - UBP',\n",
    "            'ReCiPe 2016 v1.03, endpoint (E) - total: human health - human health',\n",
    "            'selected LCI results - resource - land occupation',\n",
    "            'Cumulative Energy Demand (CED) - energy resources: renewable - energy content (HHV)',\n",
    "            'Cumulative Energy Demand (CED) - energy resources: non-renewable - energy content (HHV)',\n",
    "        ]  + [m for m in p.lcia_methods if \"RELICS\" in m],\n",
    "        regions=[\"CH\",],\n",
    "        scenarios=p.scenarios.pathway.values.tolist(),\n",
    "        variables=[v for v in p.scenarios.coords[\"variables\"].values if v.startswith(\"FE\")],\n",
    "        years=[\n",
    "            2020,\n",
    "            #2025,\n",
    "            2030,\n",
    "            #2035,\n",
    "            2040,\n",
    "            #2045,\n",
    "            2050\n",
    "        ],\n",
    "        multiprocessing=False,\n",
    "        use_distributions=0,\n",
    "    )\n",
    "    df = extract_non_zero_values(p.lca_results)\n",
    "    df.to_parquet(path=scenario.replace(\".zip\", \".gzip\"), compression='gzip')\n",
    "    del df\n",
    "    del p"
   ]
  },
  {
   "cell_type": "code",
   "execution_count": 1,
   "id": "2691ad71-6eb5-4aa5-adbb-db4d688328a3",
   "metadata": {},
   "outputs": [
    {
     "name": "stdout",
     "output_type": "stream",
     "text": [
      "Invalid datapackage: Descriptor validation error: {'path': 'mapping/mapping.yaml', 'profile': 'data-resource', 'name': 'mapping', 'format': 'yaml', 'mediatype': 'text/yaml', 'encoding': 'utf-8'} is not valid under any of the given schemas at \"resources/29\" in descriptor and at \"properties/resources/items/oneOf\" in profile\n",
      "Invalid datapackage: Descriptor validation error: 'data-resource' is not one of ['tabular-data-resource'] at \"resources/29/profile\" in descriptor and at \"properties/resources/items/properties/profile/enum\" in profile\n",
      "Log file: /Users/romain/Library/Logs/pathways/pathways.log\n",
      "Calculating LCA results for remind...\n",
      "--- Calculating LCA results for SSP2-NPi-SPS1...\n",
      "------ Calculating LCA results for 2020...\n"
     ]
    },
    {
     "name": "stderr",
     "output_type": "stream",
     "text": [
      "0% [#] 100% | ETA: 00:00:01\n",
      "Total time elapsed: 00:00:00\n"
     ]
    },
    {
     "name": "stdout",
     "output_type": "stream",
     "text": [
      "------ Calculating LCA results for 2025...\n"
     ]
    },
    {
     "name": "stderr",
     "output_type": "stream",
     "text": [
      "0% [#] 100% | ETA: 00:00:01\n",
      "Total time elapsed: 00:00:00\n"
     ]
    },
    {
     "name": "stdout",
     "output_type": "stream",
     "text": [
      "------ Calculating LCA results for 2030...\n"
     ]
    },
    {
     "name": "stderr",
     "output_type": "stream",
     "text": [
      "0% [#] 100% | ETA: 00:00:01\n",
      "Total time elapsed: 00:00:00\n"
     ]
    },
    {
     "name": "stdout",
     "output_type": "stream",
     "text": [
      "------ Calculating LCA results for 2035...\n"
     ]
    },
    {
     "name": "stderr",
     "output_type": "stream",
     "text": [
      "0% [#] 100% | ETA: 00:00:01\n",
      "Total time elapsed: 00:00:00\n"
     ]
    },
    {
     "name": "stdout",
     "output_type": "stream",
     "text": [
      "------ Calculating LCA results for 2040...\n"
     ]
    },
    {
     "name": "stderr",
     "output_type": "stream",
     "text": [
      "0% [#] 100% | ETA: 00:00:01\n",
      "Total time elapsed: 00:00:00\n"
     ]
    },
    {
     "name": "stdout",
     "output_type": "stream",
     "text": [
      "------ Calculating LCA results for 2045...\n"
     ]
    },
    {
     "name": "stderr",
     "output_type": "stream",
     "text": [
      "0% [#] 100% | ETA: 00:00:01\n",
      "Total time elapsed: 00:00:00\n"
     ]
    },
    {
     "name": "stdout",
     "output_type": "stream",
     "text": [
      "------ Calculating LCA results for 2050...\n"
     ]
    },
    {
     "name": "stderr",
     "output_type": "stream",
     "text": [
      "0% [#] 100% | ETA: 00:00:01\n",
      "Total time elapsed: 00:00:00\n",
      "0% [#######] 100% | ETA: 00:00:00\n",
      "Total time elapsed: 00:00:18\n"
     ]
    }
   ],
   "source": [
    "import numpy as np\n",
    "from pathways import Pathways\n",
    "\n",
    "scenario = \"remind-SSP2-NPi-stem-SPS1.zip\"\n",
    "p = Pathways(datapackage=scenario, debug=True)\n",
    "\n",
    "p.calculate(\n",
    "    methods=[\n",
    "        'EF v3.1 EN15804 - climate change - global warming potential (GWP100)',\n",
    "        'ReCiPe 2016 v1.03, endpoint (I) - total: ecosystem quality - ecosystem quality',\n",
    "        'EF v3.1 - material resources: metals/minerals - abiotic depletion potential (ADP): elements (ultimate reserves)',\n",
    "        'Ecological Scarcity 2021 - total - UBP',\n",
    "        'ReCiPe 2016 v1.03, endpoint (E) - total: human health - human health',\n",
    "        'selected LCI results - resource - land occupation',\n",
    "        'Cumulative Energy Demand (CED) - energy resources: renewable - energy content (HHV)',\n",
    "        'Cumulative Energy Demand (CED) - energy resources: non-renewable - energy content (HHV)',\n",
    "    ]  + [m for m in p.lcia_methods if \"RELICS\" in m],\n",
    "    regions=[\"CH\",],\n",
    "    scenarios=p.scenarios.pathway.values.tolist(),\n",
    "    variables=[v for v in p.scenarios.coords[\"variables\"].values if v.startswith(\"FE\")],\n",
    "    years=[\n",
    "        2020,\n",
    "        2025,\n",
    "        2030,\n",
    "        2035,\n",
    "        2040,\n",
    "        2045,\n",
    "        2050\n",
    "    ],\n",
    "    multiprocessing=False,\n",
    "    use_distributions=0,\n",
    ")\n"
   ]
  },
  {
   "cell_type": "code",
   "execution_count": 3,
   "id": "1815aaa4-150a-4564-af41-255a7bac80fd",
   "metadata": {},
   "outputs": [
    {
     "data": {
      "text/html": [
       "<div>\n",
       "<style scoped>\n",
       "    .dataframe tbody tr th:only-of-type {\n",
       "        vertical-align: middle;\n",
       "    }\n",
       "\n",
       "    .dataframe tbody tr th {\n",
       "        vertical-align: top;\n",
       "    }\n",
       "\n",
       "    .dataframe thead th {\n",
       "        text-align: right;\n",
       "    }\n",
       "</style>\n",
       "<table border=\"1\" class=\"dataframe\">\n",
       "  <thead>\n",
       "    <tr style=\"text-align: right;\">\n",
       "      <th></th>\n",
       "      <th>act_category</th>\n",
       "      <th>variable</th>\n",
       "      <th>year</th>\n",
       "      <th>region</th>\n",
       "      <th>location</th>\n",
       "      <th>model</th>\n",
       "      <th>scenario</th>\n",
       "      <th>impact_category</th>\n",
       "      <th>value</th>\n",
       "    </tr>\n",
       "  </thead>\n",
       "  <tbody>\n",
       "    <tr>\n",
       "      <th>0</th>\n",
       "      <td>Other transportation support activities</td>\n",
       "      <td>FE_bus_diesel</td>\n",
       "      <td>2020</td>\n",
       "      <td>CH</td>\n",
       "      <td>GLO</td>\n",
       "      <td>remind</td>\n",
       "      <td>SSP2-NPi-SPS1</td>\n",
       "      <td>EF v3.1 EN15804 - climate change - global warm...</td>\n",
       "      <td>5.995914e-07</td>\n",
       "    </tr>\n",
       "    <tr>\n",
       "      <th>1</th>\n",
       "      <td>Other transportation support activities</td>\n",
       "      <td>FE_bus_diesel</td>\n",
       "      <td>2020</td>\n",
       "      <td>CH</td>\n",
       "      <td>GLO</td>\n",
       "      <td>remind</td>\n",
       "      <td>SSP2-NPi-SPS1</td>\n",
       "      <td>ReCiPe 2016 v1.03, endpoint (I) - total: ecosy...</td>\n",
       "      <td>3.189913e-16</td>\n",
       "    </tr>\n",
       "    <tr>\n",
       "      <th>2</th>\n",
       "      <td>Other transportation support activities</td>\n",
       "      <td>FE_bus_diesel</td>\n",
       "      <td>2020</td>\n",
       "      <td>CH</td>\n",
       "      <td>GLO</td>\n",
       "      <td>remind</td>\n",
       "      <td>SSP2-NPi-SPS1</td>\n",
       "      <td>Ecological Scarcity 2021 - total - UBP</td>\n",
       "      <td>5.995914e-04</td>\n",
       "    </tr>\n",
       "    <tr>\n",
       "      <th>3</th>\n",
       "      <td>Other transportation support activities</td>\n",
       "      <td>FE_bus_diesel</td>\n",
       "      <td>2020</td>\n",
       "      <td>CH</td>\n",
       "      <td>GLO</td>\n",
       "      <td>remind</td>\n",
       "      <td>SSP2-NPi-SPS1</td>\n",
       "      <td>ReCiPe 2016 v1.03, endpoint (E) - total: human...</td>\n",
       "      <td>7.494892e-12</td>\n",
       "    </tr>\n",
       "    <tr>\n",
       "      <th>4</th>\n",
       "      <td>Other transportation support activities</td>\n",
       "      <td>FE_bus_diesel</td>\n",
       "      <td>2025</td>\n",
       "      <td>CH</td>\n",
       "      <td>GLO</td>\n",
       "      <td>remind</td>\n",
       "      <td>SSP2-NPi-SPS1</td>\n",
       "      <td>EF v3.1 EN15804 - climate change - global warm...</td>\n",
       "      <td>1.745396e-06</td>\n",
       "    </tr>\n",
       "  </tbody>\n",
       "</table>\n",
       "</div>"
      ],
      "text/plain": [
       "                              act_category       variable  year region  \\\n",
       "0  Other transportation support activities  FE_bus_diesel  2020     CH   \n",
       "1  Other transportation support activities  FE_bus_diesel  2020     CH   \n",
       "2  Other transportation support activities  FE_bus_diesel  2020     CH   \n",
       "3  Other transportation support activities  FE_bus_diesel  2020     CH   \n",
       "4  Other transportation support activities  FE_bus_diesel  2025     CH   \n",
       "\n",
       "  location   model       scenario  \\\n",
       "0      GLO  remind  SSP2-NPi-SPS1   \n",
       "1      GLO  remind  SSP2-NPi-SPS1   \n",
       "2      GLO  remind  SSP2-NPi-SPS1   \n",
       "3      GLO  remind  SSP2-NPi-SPS1   \n",
       "4      GLO  remind  SSP2-NPi-SPS1   \n",
       "\n",
       "                                     impact_category         value  \n",
       "0  EF v3.1 EN15804 - climate change - global warm...  5.995914e-07  \n",
       "1  ReCiPe 2016 v1.03, endpoint (I) - total: ecosy...  3.189913e-16  \n",
       "2             Ecological Scarcity 2021 - total - UBP  5.995914e-04  \n",
       "3  ReCiPe 2016 v1.03, endpoint (E) - total: human...  7.494892e-12  \n",
       "4  EF v3.1 EN15804 - climate change - global warm...  1.745396e-06  "
      ]
     },
     "execution_count": 3,
     "metadata": {},
     "output_type": "execute_result"
    }
   ],
   "source": [
    "reduced_data.head()"
   ]
  },
  {
   "cell_type": "code",
   "execution_count": 4,
   "id": "17d822ee-a20f-4971-847e-22df20bdba1f",
   "metadata": {},
   "outputs": [],
   "source": [
    "reduced_data.to_parquet(path=\"test.gzip\", compression='gzip')"
   ]
  },
  {
   "cell_type": "code",
   "execution_count": 4,
   "id": "702b0283-cdb9-4bd7-b12d-7c15aa2bd14c",
   "metadata": {},
   "outputs": [
    {
     "data": {
      "text/plain": [
       "(186, 95, 7, 1, 368, 1, 1, 62)"
      ]
     },
     "execution_count": 4,
     "metadata": {},
     "output_type": "execute_result"
    }
   ],
   "source": [
    "p.lca_results.shape"
   ]
  },
  {
   "cell_type": "code",
   "execution_count": 5,
   "id": "4eb4879b-a66c-4e48-86a1-73134c5f5e03",
   "metadata": {},
   "outputs": [
    {
     "data": {
      "text/html": [
       "<div><svg style=\"position: absolute; width: 0; height: 0; overflow: hidden\">\n",
       "<defs>\n",
       "<symbol id=\"icon-database\" viewBox=\"0 0 32 32\">\n",
       "<path d=\"M16 0c-8.837 0-16 2.239-16 5v4c0 2.761 7.163 5 16 5s16-2.239 16-5v-4c0-2.761-7.163-5-16-5z\"></path>\n",
       "<path d=\"M16 17c-8.837 0-16-2.239-16-5v6c0 2.761 7.163 5 16 5s16-2.239 16-5v-6c0 2.761-7.163 5-16 5z\"></path>\n",
       "<path d=\"M16 26c-8.837 0-16-2.239-16-5v6c0 2.761 7.163 5 16 5s16-2.239 16-5v-6c0 2.761-7.163 5-16 5z\"></path>\n",
       "</symbol>\n",
       "<symbol id=\"icon-file-text2\" viewBox=\"0 0 32 32\">\n",
       "<path d=\"M28.681 7.159c-0.694-0.947-1.662-2.053-2.724-3.116s-2.169-2.030-3.116-2.724c-1.612-1.182-2.393-1.319-2.841-1.319h-15.5c-1.378 0-2.5 1.121-2.5 2.5v27c0 1.378 1.122 2.5 2.5 2.5h23c1.378 0 2.5-1.122 2.5-2.5v-19.5c0-0.448-0.137-1.23-1.319-2.841zM24.543 5.457c0.959 0.959 1.712 1.825 2.268 2.543h-4.811v-4.811c0.718 0.556 1.584 1.309 2.543 2.268zM28 29.5c0 0.271-0.229 0.5-0.5 0.5h-23c-0.271 0-0.5-0.229-0.5-0.5v-27c0-0.271 0.229-0.5 0.5-0.5 0 0 15.499-0 15.5 0v7c0 0.552 0.448 1 1 1h7v19.5z\"></path>\n",
       "<path d=\"M23 26h-14c-0.552 0-1-0.448-1-1s0.448-1 1-1h14c0.552 0 1 0.448 1 1s-0.448 1-1 1z\"></path>\n",
       "<path d=\"M23 22h-14c-0.552 0-1-0.448-1-1s0.448-1 1-1h14c0.552 0 1 0.448 1 1s-0.448 1-1 1z\"></path>\n",
       "<path d=\"M23 18h-14c-0.552 0-1-0.448-1-1s0.448-1 1-1h14c0.552 0 1 0.448 1 1s-0.448 1-1 1z\"></path>\n",
       "</symbol>\n",
       "</defs>\n",
       "</svg>\n",
       "<style>/* CSS stylesheet for displaying xarray objects in jupyterlab.\n",
       " *\n",
       " */\n",
       "\n",
       ":root {\n",
       "  --xr-font-color0: var(--jp-content-font-color0, rgba(0, 0, 0, 1));\n",
       "  --xr-font-color2: var(--jp-content-font-color2, rgba(0, 0, 0, 0.54));\n",
       "  --xr-font-color3: var(--jp-content-font-color3, rgba(0, 0, 0, 0.38));\n",
       "  --xr-border-color: var(--jp-border-color2, #e0e0e0);\n",
       "  --xr-disabled-color: var(--jp-layout-color3, #bdbdbd);\n",
       "  --xr-background-color: var(--jp-layout-color0, white);\n",
       "  --xr-background-color-row-even: var(--jp-layout-color1, white);\n",
       "  --xr-background-color-row-odd: var(--jp-layout-color2, #eeeeee);\n",
       "}\n",
       "\n",
       "html[theme=dark],\n",
       "body[data-theme=dark],\n",
       "body.vscode-dark {\n",
       "  --xr-font-color0: rgba(255, 255, 255, 1);\n",
       "  --xr-font-color2: rgba(255, 255, 255, 0.54);\n",
       "  --xr-font-color3: rgba(255, 255, 255, 0.38);\n",
       "  --xr-border-color: #1F1F1F;\n",
       "  --xr-disabled-color: #515151;\n",
       "  --xr-background-color: #111111;\n",
       "  --xr-background-color-row-even: #111111;\n",
       "  --xr-background-color-row-odd: #313131;\n",
       "}\n",
       "\n",
       ".xr-wrap {\n",
       "  display: block !important;\n",
       "  min-width: 300px;\n",
       "  max-width: 700px;\n",
       "}\n",
       "\n",
       ".xr-text-repr-fallback {\n",
       "  /* fallback to plain text repr when CSS is not injected (untrusted notebook) */\n",
       "  display: none;\n",
       "}\n",
       "\n",
       ".xr-header {\n",
       "  padding-top: 6px;\n",
       "  padding-bottom: 6px;\n",
       "  margin-bottom: 4px;\n",
       "  border-bottom: solid 1px var(--xr-border-color);\n",
       "}\n",
       "\n",
       ".xr-header > div,\n",
       ".xr-header > ul {\n",
       "  display: inline;\n",
       "  margin-top: 0;\n",
       "  margin-bottom: 0;\n",
       "}\n",
       "\n",
       ".xr-obj-type,\n",
       ".xr-array-name {\n",
       "  margin-left: 2px;\n",
       "  margin-right: 10px;\n",
       "}\n",
       "\n",
       ".xr-obj-type {\n",
       "  color: var(--xr-font-color2);\n",
       "}\n",
       "\n",
       ".xr-sections {\n",
       "  padding-left: 0 !important;\n",
       "  display: grid;\n",
       "  grid-template-columns: 150px auto auto 1fr 20px 20px;\n",
       "}\n",
       "\n",
       ".xr-section-item {\n",
       "  display: contents;\n",
       "}\n",
       "\n",
       ".xr-section-item input {\n",
       "  display: none;\n",
       "}\n",
       "\n",
       ".xr-section-item input + label {\n",
       "  color: var(--xr-disabled-color);\n",
       "}\n",
       "\n",
       ".xr-section-item input:enabled + label {\n",
       "  cursor: pointer;\n",
       "  color: var(--xr-font-color2);\n",
       "}\n",
       "\n",
       ".xr-section-item input:enabled + label:hover {\n",
       "  color: var(--xr-font-color0);\n",
       "}\n",
       "\n",
       ".xr-section-summary {\n",
       "  grid-column: 1;\n",
       "  color: var(--xr-font-color2);\n",
       "  font-weight: 500;\n",
       "}\n",
       "\n",
       ".xr-section-summary > span {\n",
       "  display: inline-block;\n",
       "  padding-left: 0.5em;\n",
       "}\n",
       "\n",
       ".xr-section-summary-in:disabled + label {\n",
       "  color: var(--xr-font-color2);\n",
       "}\n",
       "\n",
       ".xr-section-summary-in + label:before {\n",
       "  display: inline-block;\n",
       "  content: '►';\n",
       "  font-size: 11px;\n",
       "  width: 15px;\n",
       "  text-align: center;\n",
       "}\n",
       "\n",
       ".xr-section-summary-in:disabled + label:before {\n",
       "  color: var(--xr-disabled-color);\n",
       "}\n",
       "\n",
       ".xr-section-summary-in:checked + label:before {\n",
       "  content: '▼';\n",
       "}\n",
       "\n",
       ".xr-section-summary-in:checked + label > span {\n",
       "  display: none;\n",
       "}\n",
       "\n",
       ".xr-section-summary,\n",
       ".xr-section-inline-details {\n",
       "  padding-top: 4px;\n",
       "  padding-bottom: 4px;\n",
       "}\n",
       "\n",
       ".xr-section-inline-details {\n",
       "  grid-column: 2 / -1;\n",
       "}\n",
       "\n",
       ".xr-section-details {\n",
       "  display: none;\n",
       "  grid-column: 1 / -1;\n",
       "  margin-bottom: 5px;\n",
       "}\n",
       "\n",
       ".xr-section-summary-in:checked ~ .xr-section-details {\n",
       "  display: contents;\n",
       "}\n",
       "\n",
       ".xr-array-wrap {\n",
       "  grid-column: 1 / -1;\n",
       "  display: grid;\n",
       "  grid-template-columns: 20px auto;\n",
       "}\n",
       "\n",
       ".xr-array-wrap > label {\n",
       "  grid-column: 1;\n",
       "  vertical-align: top;\n",
       "}\n",
       "\n",
       ".xr-preview {\n",
       "  color: var(--xr-font-color3);\n",
       "}\n",
       "\n",
       ".xr-array-preview,\n",
       ".xr-array-data {\n",
       "  padding: 0 5px !important;\n",
       "  grid-column: 2;\n",
       "}\n",
       "\n",
       ".xr-array-data,\n",
       ".xr-array-in:checked ~ .xr-array-preview {\n",
       "  display: none;\n",
       "}\n",
       "\n",
       ".xr-array-in:checked ~ .xr-array-data,\n",
       ".xr-array-preview {\n",
       "  display: inline-block;\n",
       "}\n",
       "\n",
       ".xr-dim-list {\n",
       "  display: inline-block !important;\n",
       "  list-style: none;\n",
       "  padding: 0 !important;\n",
       "  margin: 0;\n",
       "}\n",
       "\n",
       ".xr-dim-list li {\n",
       "  display: inline-block;\n",
       "  padding: 0;\n",
       "  margin: 0;\n",
       "}\n",
       "\n",
       ".xr-dim-list:before {\n",
       "  content: '(';\n",
       "}\n",
       "\n",
       ".xr-dim-list:after {\n",
       "  content: ')';\n",
       "}\n",
       "\n",
       ".xr-dim-list li:not(:last-child):after {\n",
       "  content: ',';\n",
       "  padding-right: 5px;\n",
       "}\n",
       "\n",
       ".xr-has-index {\n",
       "  font-weight: bold;\n",
       "}\n",
       "\n",
       ".xr-var-list,\n",
       ".xr-var-item {\n",
       "  display: contents;\n",
       "}\n",
       "\n",
       ".xr-var-item > div,\n",
       ".xr-var-item label,\n",
       ".xr-var-item > .xr-var-name span {\n",
       "  background-color: var(--xr-background-color-row-even);\n",
       "  margin-bottom: 0;\n",
       "}\n",
       "\n",
       ".xr-var-item > .xr-var-name:hover span {\n",
       "  padding-right: 5px;\n",
       "}\n",
       "\n",
       ".xr-var-list > li:nth-child(odd) > div,\n",
       ".xr-var-list > li:nth-child(odd) > label,\n",
       ".xr-var-list > li:nth-child(odd) > .xr-var-name span {\n",
       "  background-color: var(--xr-background-color-row-odd);\n",
       "}\n",
       "\n",
       ".xr-var-name {\n",
       "  grid-column: 1;\n",
       "}\n",
       "\n",
       ".xr-var-dims {\n",
       "  grid-column: 2;\n",
       "}\n",
       "\n",
       ".xr-var-dtype {\n",
       "  grid-column: 3;\n",
       "  text-align: right;\n",
       "  color: var(--xr-font-color2);\n",
       "}\n",
       "\n",
       ".xr-var-preview {\n",
       "  grid-column: 4;\n",
       "}\n",
       "\n",
       ".xr-index-preview {\n",
       "  grid-column: 2 / 5;\n",
       "  color: var(--xr-font-color2);\n",
       "}\n",
       "\n",
       ".xr-var-name,\n",
       ".xr-var-dims,\n",
       ".xr-var-dtype,\n",
       ".xr-preview,\n",
       ".xr-attrs dt {\n",
       "  white-space: nowrap;\n",
       "  overflow: hidden;\n",
       "  text-overflow: ellipsis;\n",
       "  padding-right: 10px;\n",
       "}\n",
       "\n",
       ".xr-var-name:hover,\n",
       ".xr-var-dims:hover,\n",
       ".xr-var-dtype:hover,\n",
       ".xr-attrs dt:hover {\n",
       "  overflow: visible;\n",
       "  width: auto;\n",
       "  z-index: 1;\n",
       "}\n",
       "\n",
       ".xr-var-attrs,\n",
       ".xr-var-data,\n",
       ".xr-index-data {\n",
       "  display: none;\n",
       "  background-color: var(--xr-background-color) !important;\n",
       "  padding-bottom: 5px !important;\n",
       "}\n",
       "\n",
       ".xr-var-attrs-in:checked ~ .xr-var-attrs,\n",
       ".xr-var-data-in:checked ~ .xr-var-data,\n",
       ".xr-index-data-in:checked ~ .xr-index-data {\n",
       "  display: block;\n",
       "}\n",
       "\n",
       ".xr-var-data > table {\n",
       "  float: right;\n",
       "}\n",
       "\n",
       ".xr-var-name span,\n",
       ".xr-var-data,\n",
       ".xr-index-name div,\n",
       ".xr-index-data,\n",
       ".xr-attrs {\n",
       "  padding-left: 25px !important;\n",
       "}\n",
       "\n",
       ".xr-attrs,\n",
       ".xr-var-attrs,\n",
       ".xr-var-data,\n",
       ".xr-index-data {\n",
       "  grid-column: 1 / -1;\n",
       "}\n",
       "\n",
       "dl.xr-attrs {\n",
       "  padding: 0;\n",
       "  margin: 0;\n",
       "  display: grid;\n",
       "  grid-template-columns: 125px auto;\n",
       "}\n",
       "\n",
       ".xr-attrs dt,\n",
       ".xr-attrs dd {\n",
       "  padding: 0;\n",
       "  margin: 0;\n",
       "  float: left;\n",
       "  padding-right: 10px;\n",
       "  width: auto;\n",
       "}\n",
       "\n",
       ".xr-attrs dt {\n",
       "  font-weight: normal;\n",
       "  grid-column: 1;\n",
       "}\n",
       "\n",
       ".xr-attrs dt:hover span {\n",
       "  display: inline-block;\n",
       "  background: var(--xr-background-color);\n",
       "  padding-right: 10px;\n",
       "}\n",
       "\n",
       ".xr-attrs dd {\n",
       "  grid-column: 2;\n",
       "  white-space: pre-wrap;\n",
       "  word-break: break-all;\n",
       "}\n",
       "\n",
       ".xr-icon-database,\n",
       ".xr-icon-file-text2,\n",
       ".xr-no-icon {\n",
       "  display: inline-block;\n",
       "  vertical-align: middle;\n",
       "  width: 1em;\n",
       "  height: 1.5em !important;\n",
       "  stroke-width: 0;\n",
       "  stroke: currentColor;\n",
       "  fill: currentColor;\n",
       "}\n",
       "</style><pre class='xr-text-repr-fallback'>&lt;xarray.DataArray ()&gt; Size: 8B\n",
       "array(5.098944e+14)</pre><div class='xr-wrap' style='display:none'><div class='xr-header'><div class='xr-obj-type'>xarray.DataArray</div><div class='xr-array-name'></div></div><ul class='xr-sections'><li class='xr-section-item'><div class='xr-array-wrap'><input id='section-043dacf3-e3bc-4519-b54b-08648caf75cc' class='xr-array-in' type='checkbox' checked><label for='section-043dacf3-e3bc-4519-b54b-08648caf75cc' title='Show/hide data repr'><svg class='icon xr-icon-database'><use xlink:href='#icon-database'></use></svg></label><div class='xr-array-preview xr-preview'><span>5.099e+14</span></div><div class='xr-array-data'><pre>array(5.098944e+14)</pre></div></div></li><li class='xr-section-item'><input id='section-9f556524-fbad-4b93-b0a9-c37e3e1eec60' class='xr-section-summary-in' type='checkbox' disabled ><label for='section-9f556524-fbad-4b93-b0a9-c37e3e1eec60' class='xr-section-summary'  title='Expand/collapse section'>Coordinates: <span>(0)</span></label><div class='xr-section-inline-details'></div><div class='xr-section-details'><ul class='xr-var-list'></ul></div></li><li class='xr-section-item'><input id='section-b28e10fc-7a49-44c3-acfc-8c24353c39d0' class='xr-section-summary-in' type='checkbox' disabled ><label for='section-b28e10fc-7a49-44c3-acfc-8c24353c39d0' class='xr-section-summary'  title='Expand/collapse section'>Indexes: <span>(0)</span></label><div class='xr-section-inline-details'></div><div class='xr-section-details'><ul class='xr-var-list'></ul></div></li><li class='xr-section-item'><input id='section-760836c8-de66-41b0-8a2b-a7c57e0ff9d8' class='xr-section-summary-in' type='checkbox' disabled ><label for='section-760836c8-de66-41b0-8a2b-a7c57e0ff9d8' class='xr-section-summary'  title='Expand/collapse section'>Attributes: <span>(0)</span></label><div class='xr-section-inline-details'></div><div class='xr-section-details'><dl class='xr-attrs'></dl></div></li></ul></div></div>"
      ],
      "text/plain": [
       "<xarray.DataArray ()> Size: 8B\n",
       "array(5.098944e+14)"
      ]
     },
     "execution_count": 5,
     "metadata": {},
     "output_type": "execute_result"
    }
   ],
   "source": [
    "p.lca_results.sum()"
   ]
  },
  {
   "cell_type": "code",
   "execution_count": 20,
   "id": "d5a84363-80a0-4a36-b4cd-bd7497e1efbe",
   "metadata": {},
   "outputs": [],
   "source": [
    "p.lca_results.to_netcdf(path=\"remind-SSP2-NPi-stem-SPS1.zip\".replace(\".zip\", \".nc\"))"
   ]
  },
  {
   "cell_type": "code",
   "execution_count": 21,
   "id": "3a780ecd-0b85-46e4-a4ca-5f9d74a7a95f",
   "metadata": {},
   "outputs": [
    {
     "data": {
      "text/plain": [
       "(95, 7, 1, 368, 1, 1, 62)"
      ]
     },
     "execution_count": 21,
     "metadata": {},
     "output_type": "execute_result"
    }
   ],
   "source": [
    "import xarray as xr\n",
    "xr.open_dataarray(\"remind-SSP2-NPi-stem-SPS1.nc\").shape"
   ]
  },
  {
   "cell_type": "code",
   "execution_count": 6,
   "id": "763caf45-08ed-487b-bbf9-4b753254c610",
   "metadata": {},
   "outputs": [],
   "source": [
    "p.lca_results = p.lca_results.sum(dim=\"act_category\")"
   ]
  },
  {
   "cell_type": "code",
   "execution_count": 7,
   "id": "205a6ee9-f7e3-454f-bf8c-394b62270e99",
   "metadata": {},
   "outputs": [],
   "source": [
    "arr = p.lca_results.interp(\n",
    "    year=range(p.lca_results.coords[\"year\"].values.min(), p.lca_results.coords[\"year\"].values.max() + 1)\n",
    ")"
   ]
  },
  {
   "cell_type": "code",
   "execution_count": 8,
   "id": "3f077e4a-3040-490b-9e60-483c3923f29d",
   "metadata": {},
   "outputs": [],
   "source": [
    "df = arr.to_dataframe(\"value\")"
   ]
  },
  {
   "cell_type": "code",
   "execution_count": 9,
   "id": "317fb8da-2bb1-464e-999e-d82c5b89c0a3",
   "metadata": {},
   "outputs": [
    {
     "name": "stdout",
     "output_type": "stream",
     "text": [
      "7803093\n",
      "[2020 2021 2022 2023 2024 2025 2026 2027 2028 2029 2030 2031 2032 2033\n",
      " 2034 2035 2036 2037 2038 2039 2040 2041 2042 2043 2044 2045 2046 2047\n",
      " 2048 2049 2050]\n"
     ]
    }
   ],
   "source": [
    "df = df[df[\"value\"]!=0.0]\n",
    "df = df[~df[\"value\"].isnull()]\n",
    "print(len(df))\n",
    "df=df.reset_index()\n",
    "print(df[\"year\"].unique())"
   ]
  },
  {
   "cell_type": "code",
   "execution_count": 10,
   "id": "c9067f05-3df8-40d3-9924-291068290f4b",
   "metadata": {},
   "outputs": [
    {
     "data": {
      "text/plain": [
       "70"
      ]
     },
     "execution_count": 10,
     "metadata": {},
     "output_type": "execute_result"
    }
   ],
   "source": [
    "from premise.geomap import Geomap\n",
    "geo = Geomap(\"image\")\n",
    "EU = geo.iam_to_ecoinvent_location(\"WEU\")\n",
    "EU.remove(\"CH\")"
   ]
  },
  {
   "cell_type": "code",
   "execution_count": 11,
   "id": "44341fbd-079f-4ef6-b496-23d4790f2068",
   "metadata": {},
   "outputs": [],
   "source": [
    "df.loc[\n",
    "    df[\"location\"].isin(EU), \"location\"\n",
    "] = \"EU wo CH\"\n",
    "df.loc[\n",
    "    ~df[\"location\"].isin([\"CH\", \"EU wo CH\"]), \"location\"\n",
    "] = \"RoW\""
   ]
  },
  {
   "cell_type": "code",
   "execution_count": 12,
   "id": "ee9de1a9-1e3c-403f-9b72-0cf4b512bf7f",
   "metadata": {},
   "outputs": [
    {
     "name": "stdout",
     "output_type": "stream",
     "text": [
      "233697\n"
     ]
    }
   ],
   "source": [
    "df = df.groupby([\n",
    "    'variable', 'year', 'region', 'model', 'scenario', 'impact_category', 'location', #\"act_category\"\n",
    "]).sum().reset_index()\n",
    "print(len(df))"
   ]
  },
  {
   "cell_type": "code",
   "execution_count": 13,
   "id": "f3e01691-b724-42c4-8c65-42cd12c32875",
   "metadata": {},
   "outputs": [],
   "source": [
    "df[\"impact_category\"] = df[\"impact_category\"].str.replace(\"RELICS - metals extraction - \", \"\")\n",
    "df[\"impact_category\"] = df[\"impact_category\"].str.replace(\"EF v3.1 - climate change - global warming potential (GWP100)\", \"climate change\")\n",
    "df[\"impact_category\"] = df[\"impact_category\"].str.replace(\"EF v3.1 EN15804 - climate change - global warming potential (GWP100)\", \"climate change\")\n",
    "df[\"impact_category\"] = df[\"impact_category\"].str.replace(\"selected LCI results - resource - land occupation\", \"land occupation\")\n",
    "df[\"impact_category\"] = df[\"impact_category\"].str.replace(\"EF v3.1 - material resources: metals/minerals - abiotic depletion potential (ADP): elements (ultimate reserves)\", \"natural resources (minerals and metals)\")\n",
    "df[\"impact_category\"] = df[\"impact_category\"].str.replace(\"IPCC 2021 - climate change - GWP 100a, incl. H and bio CO2\", \"climate change\")\n",
    "df[\"impact_category\"] = df[\"impact_category\"].str.replace(\"Cumulative Energy Demand (CED) - energy resources: renewable - energy content (HHV)\", \"renewable primary energy\")\n",
    "df[\"impact_category\"] = df[\"impact_category\"].str.replace(\"Cumulative Energy Demand (CED) - energy resources: non-renewable - energy content (HHV)\", \"non-renewable primary energy\")\n",
    "df[\"impact_category\"] = df[\"impact_category\"].str.replace(\"ReCiPe 2016 v1.03, endpoint (I) - total: ecosystem quality - ecosystem quality\", \"ecosystem impact\")\n",
    "df[\"impact_category\"] = df[\"impact_category\"].str.replace(\"ReCiPe 2016 v1.03, endpoint (E) - total: human health - human health\", \"human health\")\n",
    "df[\"impact_category\"] = df[\"impact_category\"].str.replace(\"Ecological Scarcity 2021 - total - UBP\", \"ecological scarcity\")"
   ]
  },
  {
   "cell_type": "code",
   "execution_count": 14,
   "id": "1bb8f78d-72bc-41d7-9293-0fd2f75d8895",
   "metadata": {},
   "outputs": [],
   "source": [
    "units = {\n",
    "    \"climate change\": \"kg CO2-eq.\",\n",
    "    \"land occupation\": \"square meter-year\",\n",
    "    \"natural resources (minerals and metals)\": \"kg Sb-eq.\",\n",
    "    \"renewable primary energy\": \"MJ (HHV)\",\n",
    "    \"non-renewable primary energy\": \"MJ (HHV)\",\n",
    "    \"ecosystem impact\": \"species-year lost\",\n",
    "    \"human health\": \"DALY\",\n",
    "    \"ecological scarcity\": \"UBP pt\"\n",
    "}\n",
    "df[\"unit\"] = df[\"impact_category\"].map(units)\n",
    "df.loc[df[\"unit\"].isnull(), \"unit\"] = \"kg\""
   ]
  },
  {
   "cell_type": "code",
   "execution_count": 15,
   "id": "5cd6fd9f-3d90-4fd2-875f-db42abf5fef2",
   "metadata": {},
   "outputs": [
    {
     "data": {
      "text/html": [
       "\n",
       "        <iframe\n",
       "            width=\"100%\"\n",
       "            height=\"500\"\n",
       "            src=\"pivottable_ch.html\"\n",
       "            frameborder=\"0\"\n",
       "            allowfullscreen\n",
       "            \n",
       "        ></iframe>\n",
       "        "
      ],
      "text/plain": [
       "<IPython.lib.display.IFrame at 0x105540a10>"
      ]
     },
     "execution_count": 15,
     "metadata": {},
     "output_type": "execute_result"
    }
   ],
   "source": [
    "from pivottablejs import pivot_ui\n",
    "from IPython.display import HTML\n",
    "pivot_ui(df, outfile_path='pivottable_ch.html')"
   ]
  },
  {
   "cell_type": "code",
   "execution_count": null,
   "id": "e487aaba-af40-41df-afe5-36df7482b691",
   "metadata": {},
   "outputs": [],
   "source": []
  }
 ],
 "metadata": {
  "kernelspec": {
   "display_name": "Python 3 (ipykernel)",
   "language": "python",
   "name": "python3"
  },
  "language_info": {
   "codemirror_mode": {
    "name": "ipython",
    "version": 3
   },
   "file_extension": ".py",
   "mimetype": "text/x-python",
   "name": "python",
   "nbconvert_exporter": "python",
   "pygments_lexer": "ipython3",
   "version": "3.11.8"
  }
 },
 "nbformat": 4,
 "nbformat_minor": 5
}
