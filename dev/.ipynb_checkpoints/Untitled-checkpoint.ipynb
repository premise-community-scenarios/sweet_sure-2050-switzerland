{
 "cells": [
  {
   "cell_type": "code",
   "execution_count": 1,
   "id": "90707135-94b0-4255-b298-714ed0038250",
   "metadata": {},
   "outputs": [],
   "source": [
    "from premise import *\n",
    "import bw2data\n",
    "from datapackage import Package\n",
    "bw2data.projects.set_current(\"ei39\")"
   ]
  },
  {
   "cell_type": "code",
   "execution_count": 2,
   "id": "dd2763b8-b6f1-499f-8b72-e6a296052dbc",
   "metadata": {},
   "outputs": [
    {
     "name": "stdout",
     "output_type": "stream",
     "text": [
      "premise v.(2, 0, 2)\n",
      "+------------------------------------------------------------------+\n",
      "| Warning                                                          |\n",
      "+------------------------------------------------------------------+\n",
      "| Because some of the scenarios can yield LCI databases            |\n",
      "| containing net negative emission technologies (NET),             |\n",
      "| it is advised to account for biogenic CO2 flows when calculating |\n",
      "| Global Warming potential indicators.                             |\n",
      "| `premise_gwp` provides characterization factors for such flows.  |\n",
      "| It also provides factors for hydrogen emissions to air.          |\n",
      "|                                                                  |\n",
      "| Within your bw2 project:                                         |\n",
      "| from premise_gwp import add_premise_gwp                          |\n",
      "| add_premise_gwp()                                                |\n",
      "+------------------------------------------------------------------+\n",
      "+--------------------------------+----------------------------------+\n",
      "| Utils functions                | Description                      |\n",
      "+--------------------------------+----------------------------------+\n",
      "| clear_cache()                  | Clears the cache folder. Useful  |\n",
      "|                                | when updating `premise`or        |\n",
      "|                                | encountering issues with         |\n",
      "|                                | inventories.                     |\n",
      "+--------------------------------+----------------------------------+\n",
      "| get_regions_definition(model)  | Retrieves the list of countries  |\n",
      "|                                | for each region of the model.    |\n",
      "+--------------------------------+----------------------------------+\n",
      "| ndb.NewDatabase(...)           | Generates a summary of the most  |\n",
      "| ndb.generate_scenario_report() | important scenarios' variables.  |\n",
      "+--------------------------------+----------------------------------+\n",
      "Keep uncertainty data?\n",
      "NewDatabase(..., keep_uncertainty_data=True)\n",
      "\n",
      "Disable multiprocessing?\n",
      "NewDatabase(..., use_multiprocessing=False)\n",
      "\n",
      "Hide these messages?\n",
      "NewDatabase(..., quiet=True)\n"
     ]
    },
    {
     "ename": "KeyError",
     "evalue": "\"External scenario no. 1 is not compatible with ('image', 'SSP2-Base').\"",
     "output_type": "error",
     "traceback": [
      "\u001b[0;31m---------------------------------------------------------------------------\u001b[0m",
      "\u001b[0;31mKeyError\u001b[0m                                  Traceback (most recent call last)",
      "File \u001b[0;32m~/GitHub/premise/premise/external_data_validation.py:673\u001b[0m, in \u001b[0;36mcheck_scenario_data_file\u001b[0;34m(datapackages, iam_scenarios)\u001b[0m\n\u001b[1;32m    671\u001b[0m     \u001b[38;5;28;01melse\u001b[39;00m:\n\u001b[1;32m    672\u001b[0m         iam_scen[\u001b[38;5;124m\"\u001b[39m\u001b[38;5;124mexternal scenarios\u001b[39m\u001b[38;5;124m\"\u001b[39m] \u001b[38;5;241m=\u001b[39m [\n\u001b[0;32m--> 673\u001b[0m             \u001b[43mrev_scenarios\u001b[49m\u001b[43m[\u001b[49m\u001b[43m(\u001b[49m\u001b[43miam_scen\u001b[49m\u001b[43m[\u001b[49m\u001b[38;5;124;43m\"\u001b[39;49m\u001b[38;5;124;43mmodel\u001b[39;49m\u001b[38;5;124;43m\"\u001b[39;49m\u001b[43m]\u001b[49m\u001b[43m,\u001b[49m\u001b[43m \u001b[49m\u001b[43miam_scen\u001b[49m\u001b[43m[\u001b[49m\u001b[38;5;124;43m\"\u001b[39;49m\u001b[38;5;124;43mpathway\u001b[39;49m\u001b[38;5;124;43m\"\u001b[39;49m\u001b[43m]\u001b[49m\u001b[43m)\u001b[49m\u001b[43m]\u001b[49m[\u001b[38;5;241m0\u001b[39m]\n\u001b[1;32m    674\u001b[0m         ]\n\u001b[1;32m    675\u001b[0m \u001b[38;5;28;01mexcept\u001b[39;00m \u001b[38;5;167;01mKeyError\u001b[39;00m \u001b[38;5;28;01mas\u001b[39;00m err:\n",
      "\u001b[0;31mKeyError\u001b[0m: ('image', 'SSP2-Base')",
      "\nThe above exception was the direct cause of the following exception:\n",
      "\u001b[0;31mKeyError\u001b[0m                                  Traceback (most recent call last)",
      "Cell \u001b[0;32mIn[2], line 12\u001b[0m\n\u001b[1;32m      1\u001b[0m scenarios \u001b[38;5;241m=\u001b[39m [\n\u001b[1;32m      2\u001b[0m     \u001b[38;5;66;03m#{\"model\": \"image\", \"pathway\": \"SSP2-Base\", \"year\": 2020},\u001b[39;00m\n\u001b[1;32m      3\u001b[0m     \u001b[38;5;66;03m#{\"model\": \"image\", \"pathway\": \"SSP2-Base\", \"year\": 2022},\u001b[39;00m\n\u001b[0;32m   (...)\u001b[0m\n\u001b[1;32m      7\u001b[0m     {\u001b[38;5;124m\"\u001b[39m\u001b[38;5;124mmodel\u001b[39m\u001b[38;5;124m\"\u001b[39m: \u001b[38;5;124m\"\u001b[39m\u001b[38;5;124mimage\u001b[39m\u001b[38;5;124m\"\u001b[39m, \u001b[38;5;124m\"\u001b[39m\u001b[38;5;124mpathway\u001b[39m\u001b[38;5;124m\"\u001b[39m: \u001b[38;5;124m\"\u001b[39m\u001b[38;5;124mSSP2-Base\u001b[39m\u001b[38;5;124m\"\u001b[39m, \u001b[38;5;124m\"\u001b[39m\u001b[38;5;124myear\u001b[39m\u001b[38;5;124m\"\u001b[39m: \u001b[38;5;241m2050\u001b[39m},\n\u001b[1;32m      8\u001b[0m ]\n\u001b[1;32m     10\u001b[0m sps \u001b[38;5;241m=\u001b[39m Package(\u001b[38;5;124m\"\u001b[39m\u001b[38;5;124m../datapackage.json\u001b[39m\u001b[38;5;124m\"\u001b[39m)\n\u001b[0;32m---> 12\u001b[0m ndb \u001b[38;5;241m=\u001b[39m \u001b[43mNewDatabase\u001b[49m\u001b[43m(\u001b[49m\n\u001b[1;32m     13\u001b[0m \u001b[43m        \u001b[49m\u001b[43mscenarios\u001b[49m\u001b[38;5;241;43m=\u001b[39;49m\u001b[43mscenarios\u001b[49m\u001b[43m,\u001b[49m\n\u001b[1;32m     14\u001b[0m \u001b[43m        \u001b[49m\u001b[43msource_db\u001b[49m\u001b[38;5;241;43m=\u001b[39;49m\u001b[38;5;124;43m\"\u001b[39;49m\u001b[38;5;124;43mecoinvent 3.9.1 cutoff\u001b[39;49m\u001b[38;5;124;43m\"\u001b[39;49m\u001b[43m,\u001b[49m\n\u001b[1;32m     15\u001b[0m \u001b[43m        \u001b[49m\u001b[43msource_version\u001b[49m\u001b[38;5;241;43m=\u001b[39;49m\u001b[38;5;124;43m\"\u001b[39;49m\u001b[38;5;124;43m3.9.1\u001b[39;49m\u001b[38;5;124;43m\"\u001b[39;49m\u001b[43m,\u001b[49m\n\u001b[1;32m     16\u001b[0m \u001b[43m        \u001b[49m\u001b[43mkey\u001b[49m\u001b[38;5;241;43m=\u001b[39;49m\u001b[38;5;124;43m'\u001b[39;49m\u001b[38;5;124;43mtUePmX_S5B8ieZkkM7WUU2CnO8SmShwmAeWK9x2rTFo=\u001b[39;49m\u001b[38;5;124;43m'\u001b[39;49m\u001b[43m,\u001b[49m\n\u001b[1;32m     17\u001b[0m \u001b[43m        \u001b[49m\u001b[43mexternal_scenarios\u001b[49m\u001b[38;5;241;43m=\u001b[39;49m\u001b[43m[\u001b[49m\u001b[43msps\u001b[49m\u001b[43m,\u001b[49m\u001b[43m]\u001b[49m\u001b[43m,\u001b[49m\n\u001b[1;32m     18\u001b[0m \u001b[43m        \u001b[49m\u001b[43muse_multiprocessing\u001b[49m\u001b[38;5;241;43m=\u001b[39;49m\u001b[38;5;28;43;01mFalse\u001b[39;49;00m\n\u001b[1;32m     19\u001b[0m \u001b[43m)\u001b[49m\n",
      "File \u001b[0;32m~/GitHub/premise/premise/new_database.py:524\u001b[0m, in \u001b[0;36mNewDatabase.__init__\u001b[0;34m(self, scenarios, source_version, source_type, key, source_db, source_file_path, additional_inventories, system_model, system_args, use_cached_inventories, use_cached_database, external_scenarios, quiet, keep_uncertainty_data, gains_scenario, use_absolute_efficiency, use_multiprocessing)\u001b[0m\n\u001b[1;32m    521\u001b[0m     \u001b[38;5;28mself\u001b[39m\u001b[38;5;241m.\u001b[39madditional_inventories \u001b[38;5;241m=\u001b[39m \u001b[38;5;28;01mNone\u001b[39;00m\n\u001b[1;32m    523\u001b[0m \u001b[38;5;28;01mif\u001b[39;00m external_scenarios:\n\u001b[0;32m--> 524\u001b[0m     \u001b[38;5;28mself\u001b[39m\u001b[38;5;241m.\u001b[39mdatapackages, \u001b[38;5;28mself\u001b[39m\u001b[38;5;241m.\u001b[39mscenarios \u001b[38;5;241m=\u001b[39m \u001b[43mcheck_external_scenarios\u001b[49m\u001b[43m(\u001b[49m\n\u001b[1;32m    525\u001b[0m \u001b[43m        \u001b[49m\u001b[43mexternal_scenarios\u001b[49m\u001b[43m,\u001b[49m\u001b[43m \u001b[49m\u001b[38;5;28;43mself\u001b[39;49m\u001b[38;5;241;43m.\u001b[39;49m\u001b[43mscenarios\u001b[49m\n\u001b[1;32m    526\u001b[0m \u001b[43m    \u001b[49m\u001b[43m)\u001b[49m\n\u001b[1;32m    527\u001b[0m \u001b[38;5;28;01melse\u001b[39;00m:\n\u001b[1;32m    528\u001b[0m     \u001b[38;5;28mself\u001b[39m\u001b[38;5;241m.\u001b[39mdatapackages \u001b[38;5;241m=\u001b[39m \u001b[38;5;28;01mNone\u001b[39;00m\n",
      "File \u001b[0;32m~/GitHub/premise/premise/external_data_validation.py:885\u001b[0m, in \u001b[0;36mcheck_external_scenarios\u001b[0;34m(datapackage, iam_scenarios)\u001b[0m\n\u001b[1;32m    882\u001b[0m check_config_file(datapackage)\n\u001b[1;32m    884\u001b[0m \u001b[38;5;66;03m# Validate scenario data\u001b[39;00m\n\u001b[0;32m--> 885\u001b[0m datapackage, iam_scenarios \u001b[38;5;241m=\u001b[39m \u001b[43mcheck_scenario_data_file\u001b[49m\u001b[43m(\u001b[49m\u001b[43mdatapackage\u001b[49m\u001b[43m,\u001b[49m\u001b[43m \u001b[49m\u001b[43miam_scenarios\u001b[49m\u001b[43m)\u001b[49m\n\u001b[1;32m    887\u001b[0m \u001b[38;5;28;01mreturn\u001b[39;00m datapackage, iam_scenarios\n",
      "File \u001b[0;32m~/GitHub/premise/premise/external_data_validation.py:676\u001b[0m, in \u001b[0;36mcheck_scenario_data_file\u001b[0;34m(datapackages, iam_scenarios)\u001b[0m\n\u001b[1;32m    672\u001b[0m             iam_scen[\u001b[38;5;124m\"\u001b[39m\u001b[38;5;124mexternal scenarios\u001b[39m\u001b[38;5;124m\"\u001b[39m] \u001b[38;5;241m=\u001b[39m [\n\u001b[1;32m    673\u001b[0m                 rev_scenarios[(iam_scen[\u001b[38;5;124m\"\u001b[39m\u001b[38;5;124mmodel\u001b[39m\u001b[38;5;124m\"\u001b[39m], iam_scen[\u001b[38;5;124m\"\u001b[39m\u001b[38;5;124mpathway\u001b[39m\u001b[38;5;124m\"\u001b[39m])][\u001b[38;5;241m0\u001b[39m]\n\u001b[1;32m    674\u001b[0m             ]\n\u001b[1;32m    675\u001b[0m     \u001b[38;5;28;01mexcept\u001b[39;00m \u001b[38;5;167;01mKeyError\u001b[39;00m \u001b[38;5;28;01mas\u001b[39;00m err:\n\u001b[0;32m--> 676\u001b[0m         \u001b[38;5;28;01mraise\u001b[39;00m \u001b[38;5;167;01mKeyError\u001b[39;00m(\n\u001b[1;32m    677\u001b[0m             \u001b[38;5;124mf\u001b[39m\u001b[38;5;124m\"\u001b[39m\u001b[38;5;124mExternal scenario no. \u001b[39m\u001b[38;5;132;01m{\u001b[39;00mi\u001b[38;5;250m \u001b[39m\u001b[38;5;241m+\u001b[39m\u001b[38;5;250m \u001b[39m\u001b[38;5;241m1\u001b[39m\u001b[38;5;132;01m}\u001b[39;00m\u001b[38;5;124m is not compatible with \u001b[39m\u001b[38;5;132;01m{\u001b[39;00miam_scen[\u001b[38;5;124m'\u001b[39m\u001b[38;5;124mmodel\u001b[39m\u001b[38;5;124m'\u001b[39m],\u001b[38;5;250m \u001b[39miam_scen[\u001b[38;5;124m'\u001b[39m\u001b[38;5;124mpathway\u001b[39m\u001b[38;5;124m'\u001b[39m]\u001b[38;5;132;01m}\u001b[39;00m\u001b[38;5;124m.\u001b[39m\u001b[38;5;124m\"\u001b[39m\n\u001b[1;32m    678\u001b[0m         ) \u001b[38;5;28;01mfrom\u001b[39;00m \u001b[38;5;21;01merr\u001b[39;00m\n\u001b[1;32m    680\u001b[0m resource \u001b[38;5;241m=\u001b[39m dp\u001b[38;5;241m.\u001b[39mget_resource(\u001b[38;5;124m\"\u001b[39m\u001b[38;5;124mscenario_data\u001b[39m\u001b[38;5;124m\"\u001b[39m)\n\u001b[1;32m    681\u001b[0m scenario_data \u001b[38;5;241m=\u001b[39m resource\u001b[38;5;241m.\u001b[39mread()\n",
      "\u001b[0;31mKeyError\u001b[0m: \"External scenario no. 1 is not compatible with ('image', 'SSP2-Base').\""
     ]
    }
   ],
   "source": [
    "scenarios = [\n",
    "    #{\"model\": \"image\", \"pathway\": \"SSP2-Base\", \"year\": 2020},\n",
    "    #{\"model\": \"image\", \"pathway\": \"SSP2-Base\", \"year\": 2022},\n",
    "    #{\"model\": \"image\", \"pathway\": \"SSP2-Base\", \"year\": 2025},\n",
    "    #{\"model\": \"image\", \"pathway\": \"SSP2-Base\", \"year\": 2030},\n",
    "    #{\"model\": \"image\", \"pathway\": \"SSP2-Base\", \"year\": 2040},\n",
    "    {\"model\": \"image\", \"pathway\": \"SSP2-Base\", \"year\": 2050},\n",
    "]\n",
    "\n",
    "sps = Package(\"../datapackage.json\")\n",
    "\n",
    "ndb = NewDatabase(\n",
    "        scenarios=scenarios,\n",
    "        source_db=\"ecoinvent 3.9.1 cutoff\",\n",
    "        source_version=\"3.9.1\",\n",
    "        key='tUePmX_S5B8ieZkkM7WUU2CnO8SmShwmAeWK9x2rTFo=',\n",
    "        external_scenarios=[sps,],\n",
    "        use_multiprocessing=False\n",
    ")"
   ]
  },
  {
   "cell_type": "code",
   "execution_count": 3,
   "id": "9b2308ee-c525-43e6-8c28-594e12be7cde",
   "metadata": {},
   "outputs": [
    {
     "name": "stderr",
     "output_type": "stream",
     "text": [
      "Updating: external:  50%|███████▌       | 1/2 [01:29<01:29, 89.47s/it]"
     ]
    },
    {
     "name": "stdout",
     "output_type": "stream",
     "text": [
      "No suppliers found for market for heavy fuel oil (SPS) in CH. No market created. This may cause linking issue.\n"
     ]
    },
    {
     "name": "stderr",
     "output_type": "stream",
     "text": [
      "Updating: external: 100%|███████████████| 2/2 [01:33<00:00, 46.78s/it]"
     ]
    },
    {
     "name": "stdout",
     "output_type": "stream",
     "text": [
      "Done!\n",
      "\n"
     ]
    },
    {
     "name": "stderr",
     "output_type": "stream",
     "text": [
      "\n"
     ]
    }
   ],
   "source": [
    "ndb.update([\"electricity\", \"external\"])"
   ]
  },
  {
   "cell_type": "code",
   "execution_count": 1,
   "id": "89e232df-89be-4ec9-ac8a-2761e243c004",
   "metadata": {},
   "outputs": [
    {
     "name": "stdout",
     "output_type": "stream",
     "text": [
      "premise v.(2, 0, 2)\n",
      "+------------------------------------------------------------------+\n",
      "| Warning                                                          |\n",
      "+------------------------------------------------------------------+\n",
      "| Because some of the scenarios can yield LCI databases            |\n",
      "| containing net negative emission technologies (NET),             |\n",
      "| it is advised to account for biogenic CO2 flows when calculating |\n",
      "| Global Warming potential indicators.                             |\n",
      "| `premise_gwp` provides characterization factors for such flows.  |\n",
      "| It also provides factors for hydrogen emissions to air.          |\n",
      "|                                                                  |\n",
      "| Within your bw2 project:                                         |\n",
      "| from premise_gwp import add_premise_gwp                          |\n",
      "| add_premise_gwp()                                                |\n",
      "+------------------------------------------------------------------+\n",
      "+--------------------------------+----------------------------------+\n",
      "| Utils functions                | Description                      |\n",
      "+--------------------------------+----------------------------------+\n",
      "| clear_cache()                  | Clears the cache folder. Useful  |\n",
      "|                                | when updating `premise`or        |\n",
      "|                                | encountering issues with         |\n",
      "|                                | inventories.                     |\n",
      "+--------------------------------+----------------------------------+\n",
      "| get_regions_definition(model)  | Retrieves the list of countries  |\n",
      "|                                | for each region of the model.    |\n",
      "+--------------------------------+----------------------------------+\n",
      "| ndb.NewDatabase(...)           | Generates a summary of the most  |\n",
      "| ndb.generate_scenario_report() | important scenarios' variables.  |\n",
      "+--------------------------------+----------------------------------+\n",
      "Keep uncertainty data?\n",
      "NewDatabase(..., keep_uncertainty_data=True)\n",
      "\n",
      "Disable multiprocessing?\n",
      "NewDatabase(..., use_multiprocessing=False)\n",
      "\n",
      "Hide these messages?\n",
      "NewDatabase(..., quiet=True)\n",
      "- Extracting source database\n",
      "- Extracting inventories\n",
      "- Fetching IAM data\n",
      "Done!\n"
     ]
    }
   ],
   "source": [
    "from premise import *\n",
    "import bw2data\n",
    "from datapackage import Package\n",
    "bw2data.projects.set_current(\"ei39\")\n",
    "\n",
    "sps = Package(\"../datapackage.json\")\n",
    "ndb = PathwaysDataPackage(\n",
    "    scenarios=[\n",
    "        {\"model\": \"image\", \"pathway\": \"SSP2-RCP26\"},\n",
    "    ],\n",
    "    years=[2020, 2022, 2025, 2030, 2035, 2040, 2045, 2050],\n",
    "    #years=[2020],\n",
    "    source_db=\"ecoinvent 3.9.1 cutoff\", # <-- name of the database in the BW2 project. Must be a string.\n",
    "    source_version=\"3.9\", # <-- version of ecoinvent. Can be \"3.5\", \"3.6\", \"3.7\" or \"3.8\". Must be a string.\n",
    "    key=\"tUePmX_S5B8ieZkkM7WUU2CnO8SmShwmAeWK9x2rTFo=\",\n",
    "    external_scenarios=[sps,]\n",
    ")\n"
   ]
  },
  {
   "cell_type": "code",
   "execution_count": 2,
   "id": "046193c8-89a2-4232-95e9-c5341d3b0aaa",
   "metadata": {},
   "outputs": [
    {
     "name": "stdout",
     "output_type": "stream",
     "text": [
      "`update()` will skip the following sectors: 'buses', 'cars', 'two_wheelers'.\n",
      "If you want to update these sectors, please run them separately afterwards.\n"
     ]
    },
    {
     "name": "stderr",
     "output_type": "stream",
     "text": [
      "Updating: metals:  55%|████████▏      | 6/11 [11:54<10:51, 130.33s/it]"
     ]
    },
    {
     "name": "stdout",
     "output_type": "stream",
     "text": [
      "Activity copper-cobalt mining, artisanal - copper-cobalt ore already exists in all locations [].\n",
      "Activity copper mine operation and beneficiation, sulfide ore - copper concentrate, sulfide ore already exists in all locations [].\n",
      "Activity gold mine operation and refining - copper, cathode already exists in all locations [].\n",
      "Activity platinum group metal mine operation, ore with high palladium content - copper, cathode already exists in all locations [].\n",
      "Activity platinum group metal, extraction and refinery operations - copper, cathode already exists in all locations [].\n",
      "Activity gold mine operation and refining - gold already exists in all locations [].\n",
      "Activity gold production - gold already exists in all locations [].\n",
      "Activity platinum group metal, extraction and refinery operations - gold already exists in all locations [].\n",
      "Activity vanadium-titanomagnetite mine operation and beneficiation - iron ore concentrate already exists in all locations [].\n",
      "Activity silver mine operation with extraction - lead concentrate already exists in all locations [].\n",
      "Metal spodumene not found in alternative names. Skipping transport.\n",
      "Metal spodumene not found in alternative names. Skipping transport.\n",
      "Metal spodumene not found in alternative names. Skipping transport.\n",
      "Metal spodumene not found in alternative names. Skipping transport.\n",
      "Metal spodumene not found in alternative names. Skipping transport.\n",
      "Metal spodumene not found in alternative names. Skipping transport.\n",
      "Metal spodumene not found in alternative names. Skipping transport.\n",
      "Metal spodumene not found in alternative names. Skipping transport.\n",
      "Metal spodumene not found in alternative names. Skipping transport.\n",
      "Metal spodumene not found in alternative names. Skipping transport.\n",
      "Metal spodumene not found in alternative names. Skipping transport.\n",
      "Metal spodumene not found in alternative names. Skipping transport.\n",
      "Metal spodumene not found in alternative names. Skipping transport.\n",
      "Activity lithium carbonate production, from Chaerhan salt lake - lithium carbonate, battery grade already exists in all locations [].\n",
      "Activity lithium carbonate production, from Salar de Atacama - lithium carbonate, battery grade already exists in all locations [].\n",
      "Activity lithium carbonate production, from Salar de Cauchari-Olaroz - lithium carbonate, battery grade already exists in all locations [].\n",
      "Activity lithium carbonate production, from Salar de Olaroz - lithium carbonate, battery grade already exists in all locations [].\n",
      "Activity lithium carbonate production, from Salar del Hombre Muerto - lithium carbonate, battery grade already exists in all locations [].\n",
      "Activity magnesium production, pidgeon process - magnesium already exists in all locations [].\n",
      "Activity smelting and refining of nickel concentrate, 7% Ni - nickel, class 1 already exists in all locations [].\n",
      "Metal rare earth carbonate concentrate not found in alternative names. Skipping transport.\n",
      "Metal rare earth carbonate concentrate not found in alternative names. Skipping transport.\n",
      "Metal rare earth carbonate concentrate not found in alternative names. Skipping transport.\n",
      "Metal rare earth carbonate concentrate not found in alternative names. Skipping transport.\n",
      "Metal rare earth carbonate concentrate not found in alternative names. Skipping transport.\n",
      "Metal rare earth carbonate concentrate not found in alternative names. Skipping transport.\n",
      "Metal rare earth carbonate concentrate not found in alternative names. Skipping transport.\n",
      "Metal rare earth carbonate concentrate not found in alternative names. Skipping transport.\n",
      "Metal rare earth carbonate concentrate not found in alternative names. Skipping transport.\n",
      "Metal rare earth carbonate concentrate not found in alternative names. Skipping transport.\n",
      "Metal sand not found in alternative names. Skipping transport.\n",
      "Metal sand not found in alternative names. Skipping transport.\n",
      "Metal sand not found in alternative names. Skipping transport.\n",
      "Metal sand not found in alternative names. Skipping transport.\n",
      "Metal sand not found in alternative names. Skipping transport.\n",
      "Metal sand not found in alternative names. Skipping transport.\n",
      "Metal sand not found in alternative names. Skipping transport.\n",
      "Metal sand not found in alternative names. Skipping transport.\n",
      "Metal sand not found in alternative names. Skipping transport.\n",
      "Metal sand not found in alternative names. Skipping transport.\n",
      "Metal sand not found in alternative names. Skipping transport.\n",
      "Metal sand not found in alternative names. Skipping transport.\n",
      "Metal sand not found in alternative names. Skipping transport.\n",
      "Metal sand not found in alternative names. Skipping transport.\n",
      "Metal sand not found in alternative names. Skipping transport.\n",
      "Metal sand not found in alternative names. Skipping transport.\n",
      "Metal sand not found in alternative names. Skipping transport.\n",
      "Metal sand not found in alternative names. Skipping transport.\n",
      "Metal sand not found in alternative names. Skipping transport.\n",
      "Metal sand not found in alternative names. Skipping transport.\n",
      "Activity gold mine operation and refining - silver already exists in all locations [].\n",
      "Activity heavy mineral sand quarry operation and titania slag production - rutile, 95% titanium dioxide already exists in all locations [].\n",
      "Activity rutile production, synthetic, 95% titanium dioxide, Becher process - rutile, 95% titanium dioxide already exists in all locations [].\n",
      "Activity rutile production, synthetic, 95% titanium dioxide, Benelite process - rutile, 95% titanium dioxide already exists in all locations [].\n",
      "Metal titanium tetrachloride not found in alternative names. Skipping transport.\n",
      "Metal titanium tetrachloride not found in alternative names. Skipping transport.\n",
      "Metal titanium tetrachloride not found in alternative names. Skipping transport.\n",
      "Metal titanium tetrachloride not found in alternative names. Skipping transport.\n",
      "Metal titanium tetrachloride not found in alternative names. Skipping transport.\n",
      "Metal titanium sponge not found in alternative names. Skipping transport.\n",
      "Metal titanium sponge not found in alternative names. Skipping transport.\n",
      "Metal titanium sponge not found in alternative names. Skipping transport.\n",
      "Metal titanium sponge not found in alternative names. Skipping transport.\n",
      "Metal titanium sponge not found in alternative names. Skipping transport.\n",
      "Activity silver mine operation with extraction - zinc concentrate already exists in all locations [].\n",
      "Activity heavy mineral sand quarry operation and titania slag production - zircon already exists in all locations [].\n",
      "Activity copper-cobalt mining, artisanal - copper-cobalt ore already exists in all locations [].\n",
      "Activity copper mine operation and beneficiation, sulfide ore - copper concentrate, sulfide ore already exists in all locations [].\n",
      "Activity gold mine operation and refining - copper, cathode already exists in all locations [].\n",
      "Activity platinum group metal mine operation, ore with high palladium content - copper, cathode already exists in all locations [].\n",
      "Activity platinum group metal, extraction and refinery operations - copper, cathode already exists in all locations [].\n",
      "Activity gold mine operation and refining - gold already exists in all locations [].\n",
      "Activity gold production - gold already exists in all locations [].\n",
      "Activity platinum group metal, extraction and refinery operations - gold already exists in all locations [].\n",
      "Activity vanadium-titanomagnetite mine operation and beneficiation - iron ore concentrate already exists in all locations [].\n",
      "Activity silver mine operation with extraction - lead concentrate already exists in all locations [].\n",
      "Metal spodumene not found in alternative names. Skipping transport.\n",
      "Metal spodumene not found in alternative names. Skipping transport.\n",
      "Metal spodumene not found in alternative names. Skipping transport.\n",
      "Metal spodumene not found in alternative names. Skipping transport.\n",
      "Metal spodumene not found in alternative names. Skipping transport.\n",
      "Metal spodumene not found in alternative names. Skipping transport.\n",
      "Metal spodumene not found in alternative names. Skipping transport.\n",
      "Metal spodumene not found in alternative names. Skipping transport.\n",
      "Metal spodumene not found in alternative names. Skipping transport.\n",
      "Metal spodumene not found in alternative names. Skipping transport.\n",
      "Metal spodumene not found in alternative names. Skipping transport.\n",
      "Metal spodumene not found in alternative names. Skipping transport.\n",
      "Metal spodumene not found in alternative names. Skipping transport.\n",
      "Activity lithium carbonate production, from Chaerhan salt lake - lithium carbonate, battery grade already exists in all locations [].\n",
      "Activity lithium carbonate production, from Salar de Atacama - lithium carbonate, battery grade already exists in all locations [].\n",
      "Activity lithium carbonate production, from Salar de Cauchari-Olaroz - lithium carbonate, battery grade already exists in all locations [].\n",
      "Activity lithium carbonate production, from Salar de Olaroz - lithium carbonate, battery grade already exists in all locations [].\n",
      "Activity lithium carbonate production, from Salar del Hombre Muerto - lithium carbonate, battery grade already exists in all locations [].\n",
      "Activity magnesium production, pidgeon process - magnesium already exists in all locations [].\n",
      "Activity smelting and refining of nickel concentrate, 7% Ni - nickel, class 1 already exists in all locations [].\n",
      "Metal rare earth carbonate concentrate not found in alternative names. Skipping transport.\n",
      "Metal rare earth carbonate concentrate not found in alternative names. Skipping transport.\n",
      "Metal rare earth carbonate concentrate not found in alternative names. Skipping transport.\n",
      "Metal rare earth carbonate concentrate not found in alternative names. Skipping transport.\n",
      "Metal rare earth carbonate concentrate not found in alternative names. Skipping transport.\n",
      "Metal rare earth carbonate concentrate not found in alternative names. Skipping transport.\n",
      "Metal rare earth carbonate concentrate not found in alternative names. Skipping transport.\n",
      "Metal rare earth carbonate concentrate not found in alternative names. Skipping transport.\n",
      "Metal rare earth carbonate concentrate not found in alternative names. Skipping transport.\n",
      "Metal rare earth carbonate concentrate not found in alternative names. Skipping transport.\n",
      "Metal sand not found in alternative names. Skipping transport.\n",
      "Metal sand not found in alternative names. Skipping transport.\n",
      "Metal sand not found in alternative names. Skipping transport.\n",
      "Metal sand not found in alternative names. Skipping transport.\n",
      "Metal sand not found in alternative names. Skipping transport.\n",
      "Metal sand not found in alternative names. Skipping transport.\n",
      "Metal sand not found in alternative names. Skipping transport.\n",
      "Metal sand not found in alternative names. Skipping transport.\n",
      "Metal sand not found in alternative names. Skipping transport.\n",
      "Metal sand not found in alternative names. Skipping transport.\n",
      "Metal sand not found in alternative names. Skipping transport.\n",
      "Metal sand not found in alternative names. Skipping transport.\n",
      "Metal sand not found in alternative names. Skipping transport.\n",
      "Metal sand not found in alternative names. Skipping transport.\n",
      "Metal sand not found in alternative names. Skipping transport.\n",
      "Metal sand not found in alternative names. Skipping transport.\n",
      "Metal sand not found in alternative names. Skipping transport.\n",
      "Metal sand not found in alternative names. Skipping transport.\n",
      "Metal sand not found in alternative names. Skipping transport.\n",
      "Metal sand not found in alternative names. Skipping transport.\n",
      "Activity gold mine operation and refining - silver already exists in all locations [].\n",
      "Activity heavy mineral sand quarry operation and titania slag production - rutile, 95% titanium dioxide already exists in all locations [].\n",
      "Activity rutile production, synthetic, 95% titanium dioxide, Becher process - rutile, 95% titanium dioxide already exists in all locations [].\n",
      "Activity rutile production, synthetic, 95% titanium dioxide, Benelite process - rutile, 95% titanium dioxide already exists in all locations [].\n",
      "Metal titanium tetrachloride not found in alternative names. Skipping transport.\n",
      "Metal titanium tetrachloride not found in alternative names. Skipping transport.\n",
      "Metal titanium tetrachloride not found in alternative names. Skipping transport.\n",
      "Metal titanium tetrachloride not found in alternative names. Skipping transport.\n",
      "Metal titanium tetrachloride not found in alternative names. Skipping transport.\n",
      "Metal titanium sponge not found in alternative names. Skipping transport.\n",
      "Metal titanium sponge not found in alternative names. Skipping transport.\n",
      "Metal titanium sponge not found in alternative names. Skipping transport.\n",
      "Metal titanium sponge not found in alternative names. Skipping transport.\n",
      "Metal titanium sponge not found in alternative names. Skipping transport.\n",
      "Activity silver mine operation with extraction - zinc concentrate already exists in all locations [].\n",
      "Activity heavy mineral sand quarry operation and titania slag production - zircon already exists in all locations [].\n",
      "Activity copper-cobalt mining, artisanal - copper-cobalt ore already exists in all locations [].\n",
      "Activity copper mine operation and beneficiation, sulfide ore - copper concentrate, sulfide ore already exists in all locations [].\n",
      "Activity gold mine operation and refining - copper, cathode already exists in all locations [].\n",
      "Activity platinum group metal mine operation, ore with high palladium content - copper, cathode already exists in all locations [].\n",
      "Activity platinum group metal, extraction and refinery operations - copper, cathode already exists in all locations [].\n",
      "Activity gold mine operation and refining - gold already exists in all locations [].\n",
      "Activity gold production - gold already exists in all locations [].\n",
      "Activity platinum group metal, extraction and refinery operations - gold already exists in all locations [].\n",
      "Activity vanadium-titanomagnetite mine operation and beneficiation - iron ore concentrate already exists in all locations [].\n",
      "Activity silver mine operation with extraction - lead concentrate already exists in all locations [].\n",
      "Metal spodumene not found in alternative names. Skipping transport.\n",
      "Metal spodumene not found in alternative names. Skipping transport.\n",
      "Metal spodumene not found in alternative names. Skipping transport.\n",
      "Metal spodumene not found in alternative names. Skipping transport.\n",
      "Metal spodumene not found in alternative names. Skipping transport.\n",
      "Metal spodumene not found in alternative names. Skipping transport.\n",
      "Metal spodumene not found in alternative names. Skipping transport.\n",
      "Metal spodumene not found in alternative names. Skipping transport.\n",
      "Metal spodumene not found in alternative names. Skipping transport.\n",
      "Metal spodumene not found in alternative names. Skipping transport.\n",
      "Metal spodumene not found in alternative names. Skipping transport.\n",
      "Metal spodumene not found in alternative names. Skipping transport.\n",
      "Metal spodumene not found in alternative names. Skipping transport.\n",
      "Activity lithium carbonate production, from Chaerhan salt lake - lithium carbonate, battery grade already exists in all locations [].\n",
      "Activity lithium carbonate production, from Salar de Atacama - lithium carbonate, battery grade already exists in all locations [].\n",
      "Activity lithium carbonate production, from Salar de Cauchari-Olaroz - lithium carbonate, battery grade already exists in all locations [].\n",
      "Activity lithium carbonate production, from Salar de Olaroz - lithium carbonate, battery grade already exists in all locations [].\n",
      "Activity lithium carbonate production, from Salar del Hombre Muerto - lithium carbonate, battery grade already exists in all locations [].\n",
      "Activity magnesium production, pidgeon process - magnesium already exists in all locations [].\n",
      "Activity smelting and refining of nickel concentrate, 7% Ni - nickel, class 1 already exists in all locations [].\n",
      "Metal rare earth carbonate concentrate not found in alternative names. Skipping transport.\n",
      "Metal rare earth carbonate concentrate not found in alternative names. Skipping transport.\n",
      "Metal rare earth carbonate concentrate not found in alternative names. Skipping transport.\n",
      "Metal rare earth carbonate concentrate not found in alternative names. Skipping transport.\n",
      "Metal rare earth carbonate concentrate not found in alternative names. Skipping transport.\n",
      "Metal rare earth carbonate concentrate not found in alternative names. Skipping transport.\n",
      "Metal rare earth carbonate concentrate not found in alternative names. Skipping transport.\n",
      "Metal rare earth carbonate concentrate not found in alternative names. Skipping transport.\n",
      "Metal rare earth carbonate concentrate not found in alternative names. Skipping transport.\n",
      "Metal rare earth carbonate concentrate not found in alternative names. Skipping transport.\n",
      "Metal sand not found in alternative names. Skipping transport.\n",
      "Metal sand not found in alternative names. Skipping transport.\n",
      "Metal sand not found in alternative names. Skipping transport.\n",
      "Metal sand not found in alternative names. Skipping transport.\n",
      "Metal sand not found in alternative names. Skipping transport.\n",
      "Metal sand not found in alternative names. Skipping transport.\n",
      "Metal sand not found in alternative names. Skipping transport.\n",
      "Metal sand not found in alternative names. Skipping transport.\n",
      "Metal sand not found in alternative names. Skipping transport.\n",
      "Metal sand not found in alternative names. Skipping transport.\n",
      "Metal sand not found in alternative names. Skipping transport.\n",
      "Metal sand not found in alternative names. Skipping transport.\n",
      "Metal sand not found in alternative names. Skipping transport.\n",
      "Metal sand not found in alternative names. Skipping transport.\n",
      "Metal sand not found in alternative names. Skipping transport.\n",
      "Metal sand not found in alternative names. Skipping transport.\n",
      "Metal sand not found in alternative names. Skipping transport.\n",
      "Metal sand not found in alternative names. Skipping transport.\n",
      "Metal sand not found in alternative names. Skipping transport.\n",
      "Metal sand not found in alternative names. Skipping transport.\n",
      "Activity gold mine operation and refining - silver already exists in all locations [].\n",
      "Activity heavy mineral sand quarry operation and titania slag production - rutile, 95% titanium dioxide already exists in all locations [].\n",
      "Activity rutile production, synthetic, 95% titanium dioxide, Becher process - rutile, 95% titanium dioxide already exists in all locations [].\n",
      "Activity rutile production, synthetic, 95% titanium dioxide, Benelite process - rutile, 95% titanium dioxide already exists in all locations [].\n",
      "Metal titanium tetrachloride not found in alternative names. Skipping transport.\n",
      "Metal titanium tetrachloride not found in alternative names. Skipping transport.\n",
      "Metal titanium tetrachloride not found in alternative names. Skipping transport.\n",
      "Metal titanium tetrachloride not found in alternative names. Skipping transport.\n",
      "Metal titanium tetrachloride not found in alternative names. Skipping transport.\n",
      "Metal titanium sponge not found in alternative names. Skipping transport.\n",
      "Metal titanium sponge not found in alternative names. Skipping transport.\n",
      "Metal titanium sponge not found in alternative names. Skipping transport.\n",
      "Metal titanium sponge not found in alternative names. Skipping transport.\n",
      "Metal titanium sponge not found in alternative names. Skipping transport.\n",
      "Activity silver mine operation with extraction - zinc concentrate already exists in all locations [].\n",
      "Activity heavy mineral sand quarry operation and titania slag production - zircon already exists in all locations [].\n",
      "Activity copper-cobalt mining, artisanal - copper-cobalt ore already exists in all locations [].\n",
      "Activity copper mine operation and beneficiation, sulfide ore - copper concentrate, sulfide ore already exists in all locations [].\n",
      "Activity gold mine operation and refining - copper, cathode already exists in all locations [].\n",
      "Activity platinum group metal mine operation, ore with high palladium content - copper, cathode already exists in all locations [].\n",
      "Activity platinum group metal, extraction and refinery operations - copper, cathode already exists in all locations [].\n",
      "Activity gold mine operation and refining - gold already exists in all locations [].\n",
      "Activity gold production - gold already exists in all locations [].\n",
      "Activity platinum group metal, extraction and refinery operations - gold already exists in all locations [].\n",
      "Activity vanadium-titanomagnetite mine operation and beneficiation - iron ore concentrate already exists in all locations [].\n",
      "Activity silver mine operation with extraction - lead concentrate already exists in all locations [].\n",
      "Metal spodumene not found in alternative names. Skipping transport.\n",
      "Metal spodumene not found in alternative names. Skipping transport.\n",
      "Metal spodumene not found in alternative names. Skipping transport.\n",
      "Metal spodumene not found in alternative names. Skipping transport.\n",
      "Metal spodumene not found in alternative names. Skipping transport.\n",
      "Metal spodumene not found in alternative names. Skipping transport.\n",
      "Metal spodumene not found in alternative names. Skipping transport.\n",
      "Metal spodumene not found in alternative names. Skipping transport.\n",
      "Metal spodumene not found in alternative names. Skipping transport.\n",
      "Metal spodumene not found in alternative names. Skipping transport.\n",
      "Metal spodumene not found in alternative names. Skipping transport.\n",
      "Metal spodumene not found in alternative names. Skipping transport.\n",
      "Metal spodumene not found in alternative names. Skipping transport.\n",
      "Activity lithium carbonate production, from Chaerhan salt lake - lithium carbonate, battery grade already exists in all locations [].\n",
      "Activity lithium carbonate production, from Salar de Atacama - lithium carbonate, battery grade already exists in all locations [].\n",
      "Activity lithium carbonate production, from Salar de Cauchari-Olaroz - lithium carbonate, battery grade already exists in all locations [].\n",
      "Activity lithium carbonate production, from Salar de Olaroz - lithium carbonate, battery grade already exists in all locations [].\n",
      "Activity lithium carbonate production, from Salar del Hombre Muerto - lithium carbonate, battery grade already exists in all locations [].\n",
      "Activity magnesium production, pidgeon process - magnesium already exists in all locations [].\n",
      "Activity smelting and refining of nickel concentrate, 7% Ni - nickel, class 1 already exists in all locations [].\n",
      "Metal rare earth carbonate concentrate not found in alternative names. Skipping transport.\n",
      "Metal rare earth carbonate concentrate not found in alternative names. Skipping transport.\n",
      "Metal rare earth carbonate concentrate not found in alternative names. Skipping transport.\n",
      "Metal rare earth carbonate concentrate not found in alternative names. Skipping transport.\n",
      "Metal rare earth carbonate concentrate not found in alternative names. Skipping transport.\n",
      "Metal rare earth carbonate concentrate not found in alternative names. Skipping transport.\n",
      "Metal rare earth carbonate concentrate not found in alternative names. Skipping transport.\n",
      "Metal rare earth carbonate concentrate not found in alternative names. Skipping transport.\n",
      "Metal rare earth carbonate concentrate not found in alternative names. Skipping transport.\n",
      "Metal rare earth carbonate concentrate not found in alternative names. Skipping transport.\n",
      "Metal sand not found in alternative names. Skipping transport.\n",
      "Metal sand not found in alternative names. Skipping transport.\n",
      "Metal sand not found in alternative names. Skipping transport.\n",
      "Metal sand not found in alternative names. Skipping transport.\n",
      "Metal sand not found in alternative names. Skipping transport.\n",
      "Metal sand not found in alternative names. Skipping transport.\n",
      "Metal sand not found in alternative names. Skipping transport.\n",
      "Metal sand not found in alternative names. Skipping transport.\n",
      "Metal sand not found in alternative names. Skipping transport.\n",
      "Metal sand not found in alternative names. Skipping transport.\n",
      "Metal sand not found in alternative names. Skipping transport.\n",
      "Metal sand not found in alternative names. Skipping transport.\n",
      "Metal sand not found in alternative names. Skipping transport.\n",
      "Metal sand not found in alternative names. Skipping transport.\n",
      "Metal sand not found in alternative names. Skipping transport.\n",
      "Metal sand not found in alternative names. Skipping transport.\n",
      "Metal sand not found in alternative names. Skipping transport.\n",
      "Metal sand not found in alternative names. Skipping transport.\n",
      "Metal sand not found in alternative names. Skipping transport.\n",
      "Metal sand not found in alternative names. Skipping transport.\n",
      "Activity gold mine operation and refining - silver already exists in all locations [].\n",
      "Activity heavy mineral sand quarry operation and titania slag production - rutile, 95% titanium dioxide already exists in all locations [].\n",
      "Activity rutile production, synthetic, 95% titanium dioxide, Becher process - rutile, 95% titanium dioxide already exists in all locations [].\n",
      "Activity rutile production, synthetic, 95% titanium dioxide, Benelite process - rutile, 95% titanium dioxide already exists in all locations [].\n",
      "Metal titanium tetrachloride not found in alternative names. Skipping transport.\n",
      "Metal titanium tetrachloride not found in alternative names. Skipping transport.\n",
      "Metal titanium tetrachloride not found in alternative names. Skipping transport.\n",
      "Metal titanium tetrachloride not found in alternative names. Skipping transport.\n",
      "Metal titanium tetrachloride not found in alternative names. Skipping transport.\n",
      "Metal titanium sponge not found in alternative names. Skipping transport.\n",
      "Metal titanium sponge not found in alternative names. Skipping transport.\n",
      "Metal titanium sponge not found in alternative names. Skipping transport.\n",
      "Metal titanium sponge not found in alternative names. Skipping transport.\n",
      "Metal titanium sponge not found in alternative names. Skipping transport.\n",
      "Activity silver mine operation with extraction - zinc concentrate already exists in all locations [].\n",
      "Activity heavy mineral sand quarry operation and titania slag production - zircon already exists in all locations [].\n"
     ]
    },
    {
     "name": "stderr",
     "output_type": "stream",
     "text": [
      "Updating: external: 100%|████████████| 11/11 [29:48<00:00, 162.64s/it]\n"
     ]
    },
    {
     "name": "stdout",
     "output_type": "stream",
     "text": [
      "Done!\n",
      "\n",
      "Extracted 1 worksheets in 0.04 seconds\n",
      "Remove uncertainty data.\n",
      "Extracted 1 worksheets in 0.03 seconds\n",
      "Remove uncertainty data.\n",
      "Extracted 1 worksheets in 0.03 seconds\n",
      "Remove uncertainty data.\n",
      "Extracted 1 worksheets in 0.03 seconds\n",
      "Remove uncertainty data.\n",
      "Extracted 1 worksheets in 0.03 seconds\n",
      "Remove uncertainty data.\n",
      "Extracted 1 worksheets in 0.03 seconds\n",
      "Remove uncertainty data.\n",
      "Extracted 1 worksheets in 0.03 seconds\n",
      "Remove uncertainty data.\n",
      "Extracted 1 worksheets in 0.03 seconds\n",
      "Remove uncertainty data.\n",
      "Write new database(s) to matrix.\n",
      "Running all checks...\n",
      "Anomalies found: check the change report.\n",
      "Running all checks...\n",
      "Anomalies found: check the change report.\n",
      "Running all checks...\n",
      "Anomalies found: check the change report.\n",
      "Running all checks...\n",
      "Anomalies found: check the change report.\n",
      "Matrices saved in /Users/romain/GitHub/sweet_sure-2050-switzerland/dev/pathways/inventories/image/SSP2-RCP26/2020.\n",
      "Matrices saved in /Users/romain/GitHub/sweet_sure-2050-switzerland/dev/pathways/inventories/image/SSP2-RCP26/2022.\n",
      "Matrices saved in /Users/romain/GitHub/sweet_sure-2050-switzerland/dev/pathways/inventories/image/SSP2-RCP26/2025.\n",
      "Matrices saved in /Users/romain/GitHub/sweet_sure-2050-switzerland/dev/pathways/inventories/image/SSP2-RCP26/2040.\n",
      "Matrices saved in /Users/romain/GitHub/sweet_sure-2050-switzerland/dev/pathways/inventories/image/SSP2-RCP26/2030.\n",
      "Matrices saved in /Users/romain/GitHub/sweet_sure-2050-switzerland/dev/pathways/inventories/image/SSP2-RCP26/2035.\n",
      "Matrices saved in /Users/romain/GitHub/sweet_sure-2050-switzerland/dev/pathways/inventories/image/SSP2-RCP26/2045.\n",
      "Generate scenario report.\n",
      "Report saved under /Users/romain/GitHub/sweet_sure-2050-switzerland/dev/export/scenario_report.\n",
      "Generate change report.\n",
      "Report saved under /Users/romain/GitHub/sweet_sure-2050-switzerland/dev.\n",
      "Data package saved at /Users/romain/GitHub/sweet_sure-2050-switzerland/dev/pathways/image-SSP2-stem-SPS1.zip\n"
     ]
    }
   ],
   "source": [
    "ndb.create_datapackage(\n",
    "    name=\"image-SSP2-stem-SPS1\",\n",
    "    contributors=[\n",
    "        {\"name\": \"Romain\",\n",
    "        \"email\": \"r_s at me.com\",}\n",
    "    ],\n",
    "    #transformations=[\"trucks\", \"metals\"]\n",
    ")"
   ]
  },
  {
   "cell_type": "code",
   "execution_count": 3,
   "id": "dd742014-f8cc-46fd-9387-5094efa527db",
   "metadata": {},
   "outputs": [
    {
     "name": "stdout",
     "output_type": "stream",
     "text": [
      "Invalid datapackage: Descriptor validation error: {'path': 'mapping/mapping.yaml', 'profile': 'data-resource', 'name': 'mapping', 'format': 'yaml', 'mediatype': 'text/yaml', 'encoding': 'utf-8'} is not valid under any of the given schemas at \"resources/33\" in descriptor and at \"properties/resources/items/oneOf\" in profile\n",
      "Invalid datapackage: Descriptor validation error: 'data-resource' is not one of ['tabular-data-resource'] at \"resources/33/profile\" in descriptor and at \"properties/resources/items/properties/profile/enum\" in profile\n"
     ]
    }
   ],
   "source": [
    "from pathways import Pathways\n",
    "p = Pathways(datapackage=\"image-SSP2-stem-SPS1/datapackage.json\", debug=True)"
   ]
  },
  {
   "cell_type": "code",
   "execution_count": 4,
   "id": "4f1f9a86-bb48-4f89-a4dc-9477f32840a7",
   "metadata": {
    "scrolled": true
   },
   "outputs": [
    {
     "name": "stdout",
     "output_type": "stream",
     "text": [
      "Calculating LCA results for image...\n",
      "--- Calculating LCA results for SSP2-RCP26...\n",
      "------ Calculating LCA results for 2020...\n",
      "CH is not an IAM location.\n",
      "CH is not an IAM location.\n"
     ]
    },
    {
     "name": "stderr",
     "output_type": "stream",
     "text": [
      "0% [#] 100% | ETA: 00:00:01\n",
      "Total time elapsed: 00:00:00\n"
     ]
    },
    {
     "name": "stdout",
     "output_type": "stream",
     "text": [
      "------ Calculating LCA results for 2022...\n",
      "CH is not an IAM location.\n",
      "CH is not an IAM location.\n"
     ]
    },
    {
     "name": "stderr",
     "output_type": "stream",
     "text": [
      "0% [#] 100% | ETA: 00:00:01\n",
      "Total time elapsed: 00:00:00\n"
     ]
    },
    {
     "name": "stdout",
     "output_type": "stream",
     "text": [
      "------ Calculating LCA results for 2030...\n",
      "CH is not an IAM location.\n",
      "CH is not an IAM location.\n"
     ]
    },
    {
     "name": "stderr",
     "output_type": "stream",
     "text": [
      "0% [#] 100% | ETA: 00:00:01\n",
      "Total time elapsed: 00:00:00\n"
     ]
    },
    {
     "name": "stdout",
     "output_type": "stream",
     "text": [
      "------ Calculating LCA results for 2040...\n",
      "CH is not an IAM location.\n",
      "CH is not an IAM location.\n"
     ]
    },
    {
     "name": "stderr",
     "output_type": "stream",
     "text": [
      "0% [#] 100% | ETA: 00:00:01\n",
      "Total time elapsed: 00:00:00\n"
     ]
    },
    {
     "name": "stdout",
     "output_type": "stream",
     "text": [
      "------ Calculating LCA results for 2050...\n",
      "CH is not an IAM location.\n",
      "CH is not an IAM location.\n"
     ]
    },
    {
     "name": "stderr",
     "output_type": "stream",
     "text": [
      "0% [#] 100% | ETA: 00:00:01\n",
      "Total time elapsed: 00:00:00\n",
      "0% [#####] 100% | ETA: 00:00:00\n",
      "Total time elapsed: 00:00:11\n"
     ]
    }
   ],
   "source": [
    "import numpy as np\n",
    "p.calculate(\n",
    "    methods=[\n",
    "        #'IPCC 2021 - climate change - GWP 100a, incl. H',\n",
    "        'IPCC 2021 - climate change - GWP 100a, incl. H and bio CO2',\n",
    "    ],\n",
    "    regions=[\"CH\",],\n",
    "    scenarios=[\n",
    "        #\"SSP2-Base\",\n",
    "        \"SSP2-RCP26\",\n",
    "    ],\n",
    "    variables=[\n",
    "        \"hydro_run_of_river\",\n",
    "        \"hydro (reservoir)\",\n",
    "        \"hydro (pumped storage)\",\n",
    "        \"nuclear (boiling water)\",\n",
    "        \"nuclear (pressure water)\",\n",
    "        \"oil (peak devices)\",\n",
    "        \"oil (DH CHP)\",\n",
    "        \"oil (industry CHP)\",\n",
    "        \"gas (CCGT)\",\n",
    "        \"gas (OCGT)\",\n",
    "        \"gas (CCGT CCS)\",\n",
    "        \"gas (CHP DH)\",\n",
    "        \"gas (fuel cell DH)\",\n",
    "        \"gas (CHP industry)\",\n",
    "        \"gas (CHP CCS industry)\",\n",
    "        \"gas (CHP fuel cell reformer)\",\n",
    "        \"gas (CHP single family)\",\n",
    "        \"gas (single family CHP fuel cell)\",\n",
    "        \"gas (multi family CHP)\",\n",
    "        \"gas (multi family CHP fuel cell)\",\n",
    "        \"biogas (services CHP)\",\n",
    "        \"gas (services CHP)\",\n",
    "        \"gas (services CHP fuel cell)\",\n",
    "        \"waste incineration, fossil\",\n",
    "        \"waste incineration, fossil (CHP)\",\n",
    "        \"waste incineration, fossil (industrial)\",\n",
    "        \"waste incineration, fossil (CCS)\",\n",
    "        \"waste incineration, fossil (CHP, CCS)\",\n",
    "        \"waste incineration, fossil (industrial, CCS)\",\n",
    "        \"waste incineration, non-fossil\",\n",
    "        \"waste incineration, non-fossil (CHP)\",\n",
    "        \"waste incineration, non-fossil (industrial)\",\n",
    "        \"waste incineration, non-fossil (CCS)\",\n",
    "        \"waste incineration, non-fossil (CHP, CCS)\",\n",
    "        \"waste incineration, non-fossil (industrial, CCS)\",\n",
    "        \"pv (large scale)\",\n",
    "        \"pv (industry)\",\n",
    "        \"pv (services)\",\n",
    "        \"pv residential (multi family)\",\n",
    "        \"pv residential (single family)\",\n",
    "        \"wind\",\n",
    "        \"geothermal\",\n",
    "        \"hydrogen fuel cell (DH CHP)\",\n",
    "        \"hydrogen fuel cell (industrial CHP)\",\n",
    "        \"hydrogen fuel cell (services CHP)\",\n",
    "        \"biomass (DH)\",\n",
    "        \"biomass (CHP)\",\n",
    "        \"biomass (CCS, BECCS)\",\n",
    "        \"biomass (CCS, industrial)\",\n",
    "        \"battery (large)\",\n",
    "        \"battery (medium)\",\n",
    "        \"battery (industry)\",\n",
    "        \"battery (services)\",\n",
    "        \"battery (single family)\",\n",
    "        \"battery (multi family)\",\n",
    "        \"CAES\",\n",
    "        \"import\",\n",
    "    ],\n",
    "    years=[\n",
    "        2020,\n",
    "        2022,\n",
    "        2030,\n",
    "        2040,\n",
    "        2050\n",
    "    ],\n",
    "    characterization=True,\n",
    "    multiprocessing=False,\n",
    ")\n",
    "arr = p.display_results()"
   ]
  },
  {
   "cell_type": "code",
   "execution_count": 17,
   "id": "81e7486d-9fe1-499c-8b9a-af37fd1ada05",
   "metadata": {},
   "outputs": [],
   "source": [
    "p.lca_results = p.lca_results.sum(dim=\"act_category\")"
   ]
  },
  {
   "cell_type": "code",
   "execution_count": 26,
   "id": "3b9ac49a-5bdc-4c20-9ba3-3520cb5d2eb3",
   "metadata": {},
   "outputs": [],
   "source": [
    "p.lca_results.to_netcdf(\"CH.nc\")"
   ]
  },
  {
   "cell_type": "code",
   "execution_count": 65,
   "id": "00f0cfff-d302-4a5b-8a84-d83df9509d3a",
   "metadata": {},
   "outputs": [],
   "source": [
    "df = p.lca_results.interp(\n",
    "    year=range(2020, 2051)\n",
    ").to_dataframe(\"value\")"
   ]
  },
  {
   "cell_type": "code",
   "execution_count": 66,
   "id": "97a41fc1-5a2a-4897-b7d9-0d1c33a4ce82",
   "metadata": {},
   "outputs": [
    {
     "data": {
      "text/plain": [
       "634353"
      ]
     },
     "execution_count": 66,
     "metadata": {},
     "output_type": "execute_result"
    }
   ],
   "source": [
    "len(df)"
   ]
  },
  {
   "cell_type": "code",
   "execution_count": 67,
   "id": "82b3c4e4-faeb-4526-95b4-0db29240c1c9",
   "metadata": {},
   "outputs": [
    {
     "data": {
      "text/plain": [
       "221874"
      ]
     },
     "execution_count": 67,
     "metadata": {},
     "output_type": "execute_result"
    }
   ],
   "source": [
    "df = df[df[\"value\"]!=0.0]\n",
    "df = df[~df[\"value\"].isnull()]\n",
    "len(df)"
   ]
  },
  {
   "cell_type": "code",
   "execution_count": 68,
   "id": "3d0c4403-81c3-42cb-999a-4628dce47647",
   "metadata": {},
   "outputs": [],
   "source": [
    "df=df.reset_index()"
   ]
  },
  {
   "cell_type": "code",
   "execution_count": 69,
   "id": "018824a9-5be3-4d68-b2c7-a6ff6db3caa8",
   "metadata": {},
   "outputs": [
    {
     "data": {
      "text/plain": [
       "array([2041, 2042, 2043, 2044, 2045, 2046, 2047, 2048, 2049, 2050, 2020,\n",
       "       2021, 2022, 2023, 2024, 2025, 2026, 2027, 2028, 2029, 2030, 2031,\n",
       "       2032, 2033, 2034, 2035, 2036, 2037, 2038, 2039, 2040])"
      ]
     },
     "execution_count": 69,
     "metadata": {},
     "output_type": "execute_result"
    }
   ],
   "source": [
    "df[\"year\"].unique()"
   ]
  },
  {
   "cell_type": "code",
   "execution_count": 70,
   "id": "37c1cdc0-23f9-444b-8a5f-b2bac5c4b205",
   "metadata": {},
   "outputs": [],
   "source": [
    "from premise.geomap import Geomap\n",
    "geo = Geomap(\"image\")"
   ]
  },
  {
   "cell_type": "code",
   "execution_count": 71,
   "id": "29401401-d42d-4116-8e86-467ed41beb65",
   "metadata": {},
   "outputs": [],
   "source": [
    "EU = geo.iam_to_ecoinvent_location(\"WEU\")\n",
    "EU.remove(\"CH\")"
   ]
  },
  {
   "cell_type": "code",
   "execution_count": 72,
   "id": "c41b574d-bfda-4d56-878a-e0ff108a89c7",
   "metadata": {},
   "outputs": [
    {
     "data": {
      "text/html": [
       "<div>\n",
       "<style scoped>\n",
       "    .dataframe tbody tr th:only-of-type {\n",
       "        vertical-align: middle;\n",
       "    }\n",
       "\n",
       "    .dataframe tbody tr th {\n",
       "        vertical-align: top;\n",
       "    }\n",
       "\n",
       "    .dataframe thead th {\n",
       "        text-align: right;\n",
       "    }\n",
       "</style>\n",
       "<table border=\"1\" class=\"dataframe\">\n",
       "  <thead>\n",
       "    <tr style=\"text-align: right;\">\n",
       "      <th></th>\n",
       "      <th>variable</th>\n",
       "      <th>year</th>\n",
       "      <th>region</th>\n",
       "      <th>location</th>\n",
       "      <th>model</th>\n",
       "      <th>scenario</th>\n",
       "      <th>impact_category</th>\n",
       "      <th>value</th>\n",
       "    </tr>\n",
       "  </thead>\n",
       "  <tbody>\n",
       "    <tr>\n",
       "      <th>0</th>\n",
       "      <td>battery (multi family)</td>\n",
       "      <td>2041</td>\n",
       "      <td>CH</td>\n",
       "      <td>CD</td>\n",
       "      <td>image</td>\n",
       "      <td>SSP2-RCP26</td>\n",
       "      <td>IPCC 2021 - climate change - GWP 100a, incl. H...</td>\n",
       "      <td>1248.208565</td>\n",
       "    </tr>\n",
       "    <tr>\n",
       "      <th>1</th>\n",
       "      <td>battery (multi family)</td>\n",
       "      <td>2041</td>\n",
       "      <td>CH</td>\n",
       "      <td>TUR</td>\n",
       "      <td>image</td>\n",
       "      <td>SSP2-RCP26</td>\n",
       "      <td>IPCC 2021 - climate change - GWP 100a, incl. H...</td>\n",
       "      <td>-5417.535576</td>\n",
       "    </tr>\n",
       "    <tr>\n",
       "      <th>2</th>\n",
       "      <td>battery (multi family)</td>\n",
       "      <td>2041</td>\n",
       "      <td>CH</td>\n",
       "      <td>JP</td>\n",
       "      <td>image</td>\n",
       "      <td>SSP2-RCP26</td>\n",
       "      <td>IPCC 2021 - climate change - GWP 100a, incl. H...</td>\n",
       "      <td>388.862083</td>\n",
       "    </tr>\n",
       "    <tr>\n",
       "      <th>3</th>\n",
       "      <td>battery (multi family)</td>\n",
       "      <td>2041</td>\n",
       "      <td>CH</td>\n",
       "      <td>CN-SX</td>\n",
       "      <td>image</td>\n",
       "      <td>SSP2-RCP26</td>\n",
       "      <td>IPCC 2021 - climate change - GWP 100a, incl. H...</td>\n",
       "      <td>6917.912833</td>\n",
       "    </tr>\n",
       "    <tr>\n",
       "      <th>4</th>\n",
       "      <td>battery (multi family)</td>\n",
       "      <td>2041</td>\n",
       "      <td>CH</td>\n",
       "      <td>CN-BJ</td>\n",
       "      <td>image</td>\n",
       "      <td>SSP2-RCP26</td>\n",
       "      <td>IPCC 2021 - climate change - GWP 100a, incl. H...</td>\n",
       "      <td>891.570279</td>\n",
       "    </tr>\n",
       "  </tbody>\n",
       "</table>\n",
       "</div>"
      ],
      "text/plain": [
       "                 variable  year region location  model    scenario  \\\n",
       "0  battery (multi family)  2041     CH       CD  image  SSP2-RCP26   \n",
       "1  battery (multi family)  2041     CH      TUR  image  SSP2-RCP26   \n",
       "2  battery (multi family)  2041     CH       JP  image  SSP2-RCP26   \n",
       "3  battery (multi family)  2041     CH    CN-SX  image  SSP2-RCP26   \n",
       "4  battery (multi family)  2041     CH    CN-BJ  image  SSP2-RCP26   \n",
       "\n",
       "                                     impact_category        value  \n",
       "0  IPCC 2021 - climate change - GWP 100a, incl. H...  1248.208565  \n",
       "1  IPCC 2021 - climate change - GWP 100a, incl. H... -5417.535576  \n",
       "2  IPCC 2021 - climate change - GWP 100a, incl. H...   388.862083  \n",
       "3  IPCC 2021 - climate change - GWP 100a, incl. H...  6917.912833  \n",
       "4  IPCC 2021 - climate change - GWP 100a, incl. H...   891.570279  "
      ]
     },
     "execution_count": 72,
     "metadata": {},
     "output_type": "execute_result"
    }
   ],
   "source": [
    "df.head()"
   ]
  },
  {
   "cell_type": "code",
   "execution_count": 73,
   "id": "70f199e2-8227-4cd9-8df1-d384ed7b2a3c",
   "metadata": {},
   "outputs": [],
   "source": [
    "df.loc[df[\"location\"].isin(EU), \"location\"] = \"EU wo CH\""
   ]
  },
  {
   "cell_type": "code",
   "execution_count": 77,
   "id": "2981e416-d4d2-4dee-9822-c57fade78c16",
   "metadata": {},
   "outputs": [],
   "source": [
    "df.loc[\n",
    "    (~df[\"location\"].isin(EU))\n",
    "    &(df[\"location\"]!=\"CH\")\n",
    "    &(df[\"location\"]!=\"EU wo CH\")\n",
    ", \"location\"] = \"RoW\""
   ]
  },
  {
   "cell_type": "code",
   "execution_count": 80,
   "id": "214bc069-36f8-4d66-8016-cce340f8361b",
   "metadata": {},
   "outputs": [],
   "source": [
    "df = df.groupby([\n",
    "    'variable', 'year', 'region', 'model', 'scenario', 'impact_category', 'location'\n",
    "]).sum().reset_index()"
   ]
  },
  {
   "cell_type": "code",
   "execution_count": 81,
   "id": "18da2d5a-8d62-409f-9a28-3683364d6e80",
   "metadata": {},
   "outputs": [
    {
     "data": {
      "text/plain": [
       "2213"
      ]
     },
     "execution_count": 81,
     "metadata": {},
     "output_type": "execute_result"
    }
   ],
   "source": [
    "len(df)"
   ]
  },
  {
   "cell_type": "code",
   "execution_count": 85,
   "id": "76292ff5-c9fe-472f-84ab-0669bfdc2186",
   "metadata": {},
   "outputs": [],
   "source": [
    "elec_vars = [\n",
    "        \"hydro_run_of_river\",\n",
    "        \"hydro (reservoir)\",\n",
    "        \"hydro (pumped storage)\",\n",
    "        \"nuclear (boiling water)\",\n",
    "        \"nuclear (pressure water)\",\n",
    "        \"oil (peak devices)\",\n",
    "        \"oil (DH CHP)\",\n",
    "        \"oil (industry CHP)\",\n",
    "        \"gas (CCGT)\",\n",
    "        \"gas (OCGT)\",\n",
    "        \"gas (CCGT CCS)\",\n",
    "        \"gas (CHP DH)\",\n",
    "        \"gas (fuel cell DH)\",\n",
    "        \"gas (CHP industry)\",\n",
    "        \"gas (CHP CCS industry)\",\n",
    "        \"gas (CHP fuel cell reformer)\",\n",
    "        \"gas (CHP single family)\",\n",
    "        \"gas (single family CHP fuel cell)\",\n",
    "        \"gas (multi family CHP)\",\n",
    "        \"gas (multi family CHP fuel cell)\",\n",
    "        \"biogas (services CHP)\",\n",
    "        \"gas (services CHP)\",\n",
    "        \"gas (services CHP fuel cell)\",\n",
    "        \"waste incineration, fossil\",\n",
    "        \"waste incineration, fossil (CHP)\",\n",
    "        \"waste incineration, fossil (industrial)\",\n",
    "        \"waste incineration, fossil (CCS)\",\n",
    "        \"waste incineration, fossil (CHP, CCS)\",\n",
    "        \"waste incineration, fossil (industrial, CCS)\",\n",
    "        \"waste incineration, non-fossil\",\n",
    "        \"waste incineration, non-fossil (CHP)\",\n",
    "        \"waste incineration, non-fossil (industrial)\",\n",
    "        \"waste incineration, non-fossil (CCS)\",\n",
    "        \"waste incineration, non-fossil (CHP, CCS)\",\n",
    "        \"waste incineration, non-fossil (industrial, CCS)\",\n",
    "        \"pv (large scale)\",\n",
    "        \"pv (industry)\",\n",
    "        \"pv (services)\",\n",
    "        \"pv residential (multi family)\",\n",
    "        \"pv residential (single family)\",\n",
    "        \"wind\",\n",
    "        \"geothermal\",\n",
    "        \"hydrogen fuel cell (DH CHP)\",\n",
    "        \"hydrogen fuel cell (industrial CHP)\",\n",
    "        \"hydrogen fuel cell (services CHP)\",\n",
    "        \"biomass (DH)\",\n",
    "        \"biomass (CHP)\",\n",
    "        \"biomass (CCS, BECCS)\",\n",
    "        \"biomass (CCS, industrial)\",\n",
    "        \"battery (large)\",\n",
    "        \"battery (medium)\",\n",
    "        \"battery (industry)\",\n",
    "        \"battery (services)\",\n",
    "        \"battery (single family)\",\n",
    "        \"battery (multi family)\",\n",
    "        \"CAES\",\n",
    "        \"import\",\n",
    "    ]\n",
    "df[\"sector\"] = df[\"variable\"].map({x: \"electricity\" for x in elec_vars})"
   ]
  },
  {
   "cell_type": "code",
   "execution_count": 82,
   "id": "f0c85132-0a04-4db8-98a1-b5019ff06787",
   "metadata": {},
   "outputs": [
    {
     "data": {
      "text/html": [
       "\n",
       "        <iframe\n",
       "            width=\"100%\"\n",
       "            height=\"500\"\n",
       "            src=\"pivottable_ch.html\"\n",
       "            frameborder=\"0\"\n",
       "            allowfullscreen\n",
       "            \n",
       "        ></iframe>\n",
       "        "
      ],
      "text/plain": [
       "<IPython.lib.display.IFrame at 0x29dcfc090>"
      ]
     },
     "execution_count": 82,
     "metadata": {},
     "output_type": "execute_result"
    }
   ],
   "source": [
    "from pivottablejs import pivot_ui\n",
    "from IPython.display import HTML\n",
    "pivot_ui(df, outfile_path='pivottable_ch.html')"
   ]
  },
  {
   "cell_type": "code",
   "execution_count": null,
   "id": "7d78d835-eb40-4962-89cc-59639d356f79",
   "metadata": {},
   "outputs": [],
   "source": []
  }
 ],
 "metadata": {
  "kernelspec": {
   "display_name": "Python 3 (ipykernel)",
   "language": "python",
   "name": "python3"
  },
  "language_info": {
   "codemirror_mode": {
    "name": "ipython",
    "version": 3
   },
   "file_extension": ".py",
   "mimetype": "text/x-python",
   "name": "python",
   "nbconvert_exporter": "python",
   "pygments_lexer": "ipython3",
   "version": "3.11.8"
  }
 },
 "nbformat": 4,
 "nbformat_minor": 5
}
