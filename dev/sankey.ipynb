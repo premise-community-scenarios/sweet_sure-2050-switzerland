{
 "cells": [
  {
   "cell_type": "code",
   "execution_count": 1,
   "id": "d3775ce4-b1a2-4d49-a91c-827581efc52b",
   "metadata": {},
   "outputs": [
    {
     "name": "stdout",
     "output_type": "stream",
     "text": [
      "Invalid datapackage: Descriptor validation error: {'path': 'mapping/mapping.yaml', 'profile': 'data-resource', 'name': 'mapping', 'format': 'yaml', 'mediatype': 'text/yaml', 'encoding': 'utf-8'} is not valid under any of the given schemas at \"resources/29\" in descriptor and at \"properties/resources/items/oneOf\" in profile\n",
      "Invalid datapackage: Descriptor validation error: 'data-resource' is not one of ['tabular-data-resource'] at \"resources/29/profile\" in descriptor and at \"properties/resources/items/properties/profile/enum\" in profile\n",
      "Log file: /Users/romain/Library/Logs/pathways/pathways.log\n"
     ]
    }
   ],
   "source": [
    "from pathways import Pathways\n",
    "import bw2calc as bc\n",
    "import pandas as pd\n",
    "from bw2calc.graph_traversal import AssumedDiagonalGraphTraversal\n",
    "from d3blocks import D3Blocks\n",
    "p = Pathways(datapackage=\"remind-SSP2-NPi-stem-SPS1.zip\", debug=True)"
   ]
  },
  {
   "cell_type": "code",
   "execution_count": 2,
   "id": "74f81bf8-27aa-40c7-b950-77885d0cfcc4",
   "metadata": {},
   "outputs": [],
   "source": [
    "sankey = p.sankey(\n",
    "    method='EF v3.0 EN15804 - climate change - global warming potential (GWP100)',\n",
    "    model=\"remind\",\n",
    "    scenario=\"SSP2-NPi-SPS1\",\n",
    "    region=\"CH\",\n",
    "    year=2020,\n",
    "    variable='FE_industry_process_heat_pump',\n",
    "    cutoff = 1e-3,\n",
    ")"
   ]
  },
  {
   "cell_type": "code",
   "execution_count": 4,
   "id": "18dbf7ad-9030-4277-afaa-87da9ebc350e",
   "metadata": {},
   "outputs": [],
   "source": [
    "import bw2data"
   ]
  },
  {
   "cell_type": "code",
   "execution_count": 6,
   "id": "cdd4ab7d-a663-4917-a678-21eefbd84f79",
   "metadata": {},
   "outputs": [
    {
     "ename": "UnknownObject",
     "evalue": "Key {} cannot be understood as an activity or `(database, code)` tuple.",
     "output_type": "error",
     "traceback": [
      "\u001b[0;31m---------------------------------------------------------------------------\u001b[0m",
      "\u001b[0;31mTypeError\u001b[0m                                 Traceback (most recent call last)",
      "File \u001b[0;32m~/anaconda3/envs/pathways/lib/python3.11/site-packages/bw2data/utils.py:335\u001b[0m, in \u001b[0;36mget_activity\u001b[0;34m(key)\u001b[0m\n\u001b[1;32m    334\u001b[0m \u001b[38;5;28;01mtry\u001b[39;00m:\n\u001b[0;32m--> 335\u001b[0m     \u001b[38;5;28;01mreturn\u001b[39;00m Database(\u001b[43mkey\u001b[49m\u001b[43m[\u001b[49m\u001b[38;5;241;43m0\u001b[39;49m\u001b[43m]\u001b[49m)\u001b[38;5;241m.\u001b[39mget(key[\u001b[38;5;241m1\u001b[39m])\n\u001b[1;32m    336\u001b[0m \u001b[38;5;28;01mexcept\u001b[39;00m \u001b[38;5;167;01mTypeError\u001b[39;00m:\n",
      "\u001b[0;31mTypeError\u001b[0m: 'int' object is not subscriptable",
      "\nDuring handling of the above exception, another exception occurred:\n",
      "\u001b[0;31mUnknownObject\u001b[0m                             Traceback (most recent call last)",
      "Cell \u001b[0;32mIn[6], line 1\u001b[0m\n\u001b[0;32m----> 1\u001b[0m \u001b[43mbw2data\u001b[49m\u001b[38;5;241;43m.\u001b[39;49m\u001b[43mget_activity\u001b[49m\u001b[43m(\u001b[49m\u001b[43msankey\u001b[49m\u001b[38;5;241;43m.\u001b[39;49m\u001b[43mdataset_index\u001b[49m\u001b[43m)\u001b[49m\n",
      "File \u001b[0;32m~/anaconda3/envs/pathways/lib/python3.11/site-packages/bw2data/utils.py:337\u001b[0m, in \u001b[0;36mget_activity\u001b[0;34m(key)\u001b[0m\n\u001b[1;32m    335\u001b[0m     \u001b[38;5;28;01mreturn\u001b[39;00m Database(key[\u001b[38;5;241m0\u001b[39m])\u001b[38;5;241m.\u001b[39mget(key[\u001b[38;5;241m1\u001b[39m])\n\u001b[1;32m    336\u001b[0m \u001b[38;5;28;01mexcept\u001b[39;00m \u001b[38;5;167;01mTypeError\u001b[39;00m:\n\u001b[0;32m--> 337\u001b[0m     \u001b[38;5;28;01mraise\u001b[39;00m UnknownObject(\u001b[38;5;124m\"\u001b[39m\u001b[38;5;124mKey \u001b[39m\u001b[38;5;132;01m{}\u001b[39;00m\u001b[38;5;124m cannot be understood as an activity\u001b[39m\u001b[38;5;124m\"\u001b[39m\n\u001b[1;32m    338\u001b[0m                         \u001b[38;5;124m\"\u001b[39m\u001b[38;5;124m or `(database, code)` tuple.\u001b[39m\u001b[38;5;124m\"\u001b[39m)\n",
      "\u001b[0;31mUnknownObject\u001b[0m: Key {} cannot be understood as an activity or `(database, code)` tuple."
     ]
    }
   ],
   "source": [
    "bw2data.get_activity(sankey.dataset_index)"
   ]
  },
  {
   "cell_type": "code",
   "execution_count": null,
   "id": "fb490a29-97e9-4b5b-ba13-5259f0379c1c",
   "metadata": {},
   "outputs": [],
   "source": [
    "gt = AssumedDiagonalGraphTraversal().calculate(sankey.lca, cutoff=0.1)"
   ]
  },
  {
   "cell_type": "code",
   "execution_count": 5,
   "id": "6e8e1763-f67e-4881-9b01-5e33125c4482",
   "metadata": {},
   "outputs": [],
   "source": [
    "df = pd.DataFrame(gt[\"edges\"])"
   ]
  },
  {
   "cell_type": "code",
   "execution_count": 6,
   "id": "c9fd1e63-c95d-480b-922d-3ef8dffbb8dd",
   "metadata": {},
   "outputs": [],
   "source": [
    "df.columns = [\"target\", \"source\", \"amount\", \"exc_amount\", \"weight\"]\n",
    "df[\"unit\"] = sankey.lcia_unit"
   ]
  },
  {
   "cell_type": "code",
   "execution_count": 7,
   "id": "bcc7a52d-ef56-45a8-8c9f-cf8f45d4e621",
   "metadata": {},
   "outputs": [],
   "source": [
    "df[\"target\"] = df[\"target\"].map({v: f\"{k[0]} [{k[-1]}]\" for k, v in sankey.activity_dict.items()})\n",
    "df[\"source\"] = df[\"source\"].map({v: f\"{k[0]} [{k[-1]}]\" for k, v in sankey.activity_dict.items()})"
   ]
  },
  {
   "cell_type": "code",
   "execution_count": 8,
   "id": "4c34c812-63b3-4d88-97c3-8f45497db062",
   "metadata": {},
   "outputs": [],
   "source": [
    "df[\"target\"] = df[\"target\"].str.replace(\"market for\", \"m. for\")\n",
    "df[\"source\"] = df[\"source\"].str.replace(\"market for\", \"m. for\")"
   ]
  },
  {
   "cell_type": "code",
   "execution_count": 9,
   "id": "7ed01183-6e0d-4a82-b9b6-9b87601e51c7",
   "metadata": {},
   "outputs": [],
   "source": [
    "d3_graph = D3Blocks()\n",
    "d3_graph.sankey(\n",
    "    df=df[1:],\n",
    "    link={\"color\": \"source-target\"},\n",
    "    filepath=\"/Users/romain/Github/pathways/dev/test.html\",\n",
    ")"
   ]
  },
  {
   "cell_type": "code",
   "execution_count": 1,
   "id": "afd24f80-5ce7-4540-b604-9e09cccf9fbb",
   "metadata": {},
   "outputs": [],
   "source": []
  },
  {
   "cell_type": "code",
   "execution_count": 1,
   "id": "35574391-e3a1-4f91-bdc6-4c0a0bb41259",
   "metadata": {},
   "outputs": [],
   "source": [
    "import bw2data\n",
    "from polyviz import sankey\n",
    "bw2data.projects.set_current(\"ei310\")"
   ]
  },
  {
   "cell_type": "code",
   "execution_count": 2,
   "id": "467d506b-0f78-4937-b97c-762825439165",
   "metadata": {},
   "outputs": [
    {
     "data": {
      "text/plain": [
       "'hydrogen burned, in hydrogen boiler_FE_residential_space_heating_hydrogen' (megajoule, CH, None)"
      ]
     },
     "execution_count": 2,
     "metadata": {},
     "output_type": "execute_result"
    }
   ],
   "source": [
    "act = [a for a in bw2data.Database(\"2050 2\") if \"FE_\" in a [\"name\"]][0]\n",
    "act"
   ]
  },
  {
   "cell_type": "code",
   "execution_count": null,
   "id": "7ccafbac-055e-4159-8c73-f5b3d79345fe",
   "metadata": {},
   "outputs": [
    {
     "name": "stdout",
     "output_type": "stream",
     "text": [
      "Calculating supply chain score...\n"
     ]
    }
   ],
   "source": [
    "sankey(\n",
    "    activity=act,\n",
    "    method=('IPCC 2021', 'climate change: fossil', 'global warming potential (GWP100)'),\n",
    "    #level=3,\n",
    "    cutoff=0.1,\n",
    ")"
   ]
  },
  {
   "cell_type": "code",
   "execution_count": null,
   "id": "bcf8e530-1238-451f-ac9e-db9bc8dcc818",
   "metadata": {},
   "outputs": [],
   "source": []
  }
 ],
 "metadata": {
  "kernelspec": {
   "display_name": "Python 3 (ipykernel)",
   "language": "python",
   "name": "python3"
  },
  "language_info": {
   "codemirror_mode": {
    "name": "ipython",
    "version": 3
   },
   "file_extension": ".py",
   "mimetype": "text/x-python",
   "name": "python",
   "nbconvert_exporter": "python",
   "pygments_lexer": "ipython3",
   "version": "3.10.13"
  }
 },
 "nbformat": 4,
 "nbformat_minor": 5
}
