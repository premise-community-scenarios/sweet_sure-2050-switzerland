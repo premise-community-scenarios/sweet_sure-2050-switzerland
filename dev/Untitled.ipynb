{
 "cells": [
  {
   "cell_type": "code",
   "execution_count": 1,
   "id": "90707135-94b0-4255-b298-714ed0038250",
   "metadata": {},
   "outputs": [],
   "source": [
    "from premise import *\n",
    "import bw2data\n",
    "from datapackage import Package\n",
    "bw2data.projects.set_current(\"ei39\")"
   ]
  },
  {
   "cell_type": "code",
   "execution_count": 2,
   "id": "dd2763b8-b6f1-499f-8b72-e6a296052dbc",
   "metadata": {},
   "outputs": [
    {
     "name": "stdout",
     "output_type": "stream",
     "text": [
      "premise v.(2, 0, 1)\n",
      "+------------------------------------------------------------------+\n",
      "| Warning                                                          |\n",
      "+------------------------------------------------------------------+\n",
      "| Because some of the scenarios can yield LCI databases            |\n",
      "| containing net negative emission technologies (NET),             |\n",
      "| it is advised to account for biogenic CO2 flows when calculating |\n",
      "| Global Warming potential indicators.                             |\n",
      "| `premise_gwp` provides characterization factors for such flows.  |\n",
      "| It also provides factors for hydrogen emissions to air.          |\n",
      "|                                                                  |\n",
      "| Within your bw2 project:                                         |\n",
      "| from premise_gwp import add_premise_gwp                          |\n",
      "| add_premise_gwp()                                                |\n",
      "+------------------------------------------------------------------+\n",
      "+--------------------------------+----------------------------------+\n",
      "| Utils functions                | Description                      |\n",
      "+--------------------------------+----------------------------------+\n",
      "| clear_cache()                  | Clears the cache folder. Useful  |\n",
      "|                                | when updating `premise`or        |\n",
      "|                                | encountering issues with         |\n",
      "|                                | inventories.                     |\n",
      "+--------------------------------+----------------------------------+\n",
      "| get_regions_definition(model)  | Retrieves the list of countries  |\n",
      "|                                | for each region of the model.    |\n",
      "+--------------------------------+----------------------------------+\n",
      "| ndb.NewDatabase(...)           | Generates a summary of the most  |\n",
      "| ndb.generate_scenario_report() | important scenarios' variables.  |\n",
      "+--------------------------------+----------------------------------+\n",
      "Keep uncertainty data?\n",
      "NewDatabase(..., keep_uncertainty_data=True)\n",
      "\n",
      "Disable multiprocessing?\n",
      "NewDatabase(..., use_multiprocessing=False)\n",
      "\n",
      "Hide these messages?\n",
      "NewDatabase(..., quiet=True)\n",
      "- Extracting source database\n",
      "- Extracting inventories\n",
      "- Fetching IAM data\n",
      "Done!\n"
     ]
    }
   ],
   "source": [
    "scenarios = [\n",
    "    #{\"model\": \"image\", \"pathway\": \"SSP2-Base\", \"year\": 2020},\n",
    "    #{\"model\": \"image\", \"pathway\": \"SSP2-Base\", \"year\": 2022},\n",
    "    #{\"model\": \"image\", \"pathway\": \"SSP2-Base\", \"year\": 2025},\n",
    "    #{\"model\": \"image\", \"pathway\": \"SSP2-Base\", \"year\": 2030},\n",
    "    #{\"model\": \"image\", \"pathway\": \"SSP2-Base\", \"year\": 2040},\n",
    "    {\"model\": \"image\", \"pathway\": \"SSP2-Base\", \"year\": 2050},\n",
    "]\n",
    "\n",
    "sps = Package(\"../datapackage.json\")\n",
    "\n",
    "ndb = NewDatabase(\n",
    "        scenarios=scenarios,\n",
    "        source_db=\"ecoinvent 3.9.1 cutoff\",\n",
    "        source_version=\"3.9.1\",\n",
    "        key='tUePmX_S5B8ieZkkM7WUU2CnO8SmShwmAeWK9x2rTFo=',\n",
    "        external_scenarios=[sps,],\n",
    "        use_multiprocessing=False\n",
    ")"
   ]
  },
  {
   "cell_type": "code",
   "execution_count": 4,
   "id": "5fd69bee-55fa-421b-8298-d9f154f8ed79",
   "metadata": {},
   "outputs": [
    {
     "data": {
      "text/plain": [
       "{'production volume': <xarray.DataArray 'value' (region: 1, variables: 64, year: 6)>\n",
       " array([[[5.26599105e-06, 9.83804298e-07, 2.52575348e-06, 0.00000000e+00,\n",
       "          0.00000000e+00, 0.00000000e+00],\n",
       "         [4.62987274e-06, 6.66775991e-07, 1.84290549e-06, 0.00000000e+00,\n",
       "          0.00000000e+00, 3.18415645e-08],\n",
       "         [1.26494770e-05, 2.41887931e-06, 5.78929390e-06, 3.51477849e-03,\n",
       "          1.06706047e-01, 4.03800037e-01],\n",
       "         [1.26494490e-05, 2.41887345e-06, 5.78631891e-06, 2.59601637e-05,\n",
       "          2.14003716e-04, 4.60970592e-05],\n",
       "         [0.00000000e+00, 0.00000000e+00, 0.00000000e+00, 0.00000000e+00,\n",
       "          1.19823349e-03, 6.64247532e-03],\n",
       "         [0.00000000e+00, 0.00000000e+00, 0.00000000e+00, 0.00000000e+00,\n",
       "          0.00000000e+00, 7.84586529e-01],\n",
       "         [9.44999665e-02, 7.94707337e-03, 4.87163804e-02, 0.00000000e+00,\n",
       "          4.94998570e-04, 1.87920118e-02],\n",
       "         [0.00000000e+00, 0.00000000e+00, 0.00000000e+00, 0.00000000e+00,\n",
       "          1.59822393e-01, 9.64868496e-02],\n",
       "         [9.65880000e-01, 0.00000000e+00, 0.00000000e+00, 1.44890604e-01,\n",
       "          2.04396156e-03, 0.00000000e+00],\n",
       "         [0.00000000e+00, 0.00000000e+00, 0.00000000e+00, 0.00000000e+00,\n",
       "          0.00000000e+00, 0.00000000e+00],\n",
       " ...\n",
       "         [2.77636859e+00, 0.00000000e+00, 0.00000000e+00, 0.00000000e+00,\n",
       "          0.00000000e+00, 0.00000000e+00],\n",
       "         [1.01636392e+02, 8.96675527e+01, 8.84418927e+01, 6.74012917e+01,\n",
       "          2.64296707e+01, 6.86404547e+00],\n",
       "         [0.00000000e+00, 5.16499482e-01, 7.93067260e-01, 1.68177557e+00,\n",
       "          3.25607949e-01, 1.68177557e+00],\n",
       "         [0.00000000e+00, 0.00000000e+00, 0.00000000e+00, 0.00000000e+00,\n",
       "          0.00000000e+00, 4.53923980e-01],\n",
       "         [1.01823394e+01, 1.11529505e+01, 1.26088671e+01, 1.50353948e+01,\n",
       "          1.74619225e+01, 1.74619225e+01],\n",
       "         [2.45059162e+01, 2.48399057e+01, 2.16045389e+01, 1.62122609e+01,\n",
       "          1.35051515e+01, 3.44174848e+01],\n",
       "         [2.62252814e+00, 3.26500438e+00, 4.22871874e+00, 5.83490933e+00,\n",
       "          6.38062385e+00, 4.25967170e+00],\n",
       "         [7.45921623e+00, 8.00304009e+00, 8.81877589e+00, 1.01783356e+01,\n",
       "          1.02307882e+01, 7.61657421e+00],\n",
       "         [1.00000000e+00, 1.00000000e+00, 1.00000000e+00, 1.00000000e+00,\n",
       "          1.00000000e+00, 1.00000000e+00],\n",
       "         [1.00000000e+00, 1.00000000e+00, 1.00000000e+00, 1.00000000e+00,\n",
       "          1.00000000e+00, 1.00000000e+00]]])\n",
       " Coordinates:\n",
       "   * region     (region) object 'CH'\n",
       "   * variables  (variables) object 'Electricity generation|Electricity storage...\n",
       "   * year       (year) int64 2020 2022 2025 2030 2040 2050,\n",
       " 'regions': ['CH'],\n",
       " 'efficiency': <xarray.DataArray 'value' (region: 1, variables: 36, year: 6)>\n",
       " array([[[1.        , 0.70362418, 1.00598883, 1.00598883, 1.00598883,\n",
       "          1.00598883],\n",
       "         [1.        , 0.64774845, 0.92002855, 0.19739645, 0.19739645,\n",
       "          0.19739645],\n",
       "         [1.        , 0.72597907, 0.98298229, 0.95757483, 0.95756461,\n",
       "          0.95756475],\n",
       "         [1.        , 0.7259793 , 0.98271057, 0.9588856 , 0.95731052,\n",
       "          0.9538306 ],\n",
       "         [1.        , 1.        , 1.        , 1.        , 1.        ,\n",
       "          1.00000001],\n",
       "         [1.        , 1.        , 1.        , 1.        , 1.        ,\n",
       "          1.        ],\n",
       "         [1.        , 0.99997166, 0.99999068, 1.00003496, 1.00003496,\n",
       "          0.99999369],\n",
       "         [1.        , 1.        , 1.        , 1.        , 1.        ,\n",
       "          1.00000016],\n",
       "         [1.        , 0.93581669, 0.93581669, 0.93581669, 0.94598659,\n",
       "          0.94598659],\n",
       "         [1.        , 1.        , 1.        , 1.        , 1.        ,\n",
       "          1.        ],\n",
       " ...\n",
       "         [1.        , 1.        , 1.        , 1.        , 1.        ,\n",
       "          1.        ],\n",
       "         [1.        , 1.        , 1.        , 1.        , 1.        ,\n",
       "          1.        ],\n",
       "         [1.        , 0.99999999, 1.00000004, 0.99999998, 0.99999999,\n",
       "          0.99999997],\n",
       "         [1.        , 0.99169266, 0.99541708, 0.98557447, 0.90446952,\n",
       "          0.66115525],\n",
       "         [1.        , 0.99999978, 1.00000017, 1.00000018, 0.99999942,\n",
       "          0.99999942],\n",
       "         [1.        , 1.        , 1.        , 1.        , 1.        ,\n",
       "          1.        ],\n",
       "         [1.        , 1.        , 1.        , 1.        , 1.        ,\n",
       "          1.        ],\n",
       "         [1.        , 1.        , 1.        , 1.        , 1.        ,\n",
       "          1.        ],\n",
       "         [1.        , 1.1425498 , 1.13459302, 1.71274946, 1.78580255,\n",
       "          1.85921136],\n",
       "         [1.        , 1.        , 1.        , 1.        , 1.        ,\n",
       "          1.04152355]]])\n",
       " Coordinates:\n",
       "   * region     (region) object 'CH'\n",
       "   * variables  (variables) object 'Efficiency of power plants (electric)|Elec...\n",
       "   * year       (year) int64 2020 2022 2025 2030 2040 2050}"
      ]
     },
     "execution_count": 4,
     "metadata": {},
     "output_type": "execute_result"
    }
   ],
   "source": [
    "ndb.scenarios[0][\"external data\"][0]"
   ]
  },
  {
   "cell_type": "code",
   "execution_count": 3,
   "id": "268af87f-a1de-472e-97b6-df71104c0a94",
   "metadata": {},
   "outputs": [
    {
     "name": "stderr",
     "output_type": "stream",
     "text": [
      "Updating: external:   0%|                       | 0/1 [00:00<?, ?it/s]"
     ]
    },
    {
     "name": "stdout",
     "output_type": "stream",
     "text": [
      "Regionalizing electricity production, oil, electricity, high voltage, RoW\n",
      "not found in regions\n",
      "Adding electricity production, oil, CH to the database\n",
      "Regionalizing electricity production, compressed air energy storage, electricity, high voltage, RER\n",
      "not found in regions\n",
      "Adding electricity production, compressed air energy storage, CH to the database\n",
      "Regionalizing heat and power co-generation, natural gas, conventional power plant, 100MW electrical, electricity, high voltage, RoW\n",
      "not found in regions\n",
      "Adding heat and power co-generation, natural gas, conventional power plant, 100MW electrical, CH to the database\n",
      "Regionalizing carbon dioxide, captured at wood burning power plant 20 MW post, pipeline 200km, storage 1000m, carbon dioxide, captured at wood burning power plant 20 MW post, pipeline 200km, storage 1000m, RER\n",
      "not found in regions\n",
      "Adding carbon dioxide, captured at wood burning power plant 20 MW post, pipeline 200km, storage 1000m, CH to the database\n",
      "Regionalizing electricity production, at natural gas-fired combined cycle power plant, post, pipeline 200km, storage 1000m, electricity, high voltage, RER\n",
      "not found in regions\n",
      "Adding electricity production, at natural gas-fired combined cycle power plant, post, pipeline 200km, storage 1000m, CH to the database\n",
      "Regionalizing electricity production, at co-generation wood-fired power plant, post, pipeline 200km, storage 1000m, electricity, high voltage, RER\n",
      "not found in regions\n",
      "Adding electricity production, at co-generation wood-fired power plant, post, pipeline 200km, storage 1000m, CH to the database\n",
      "Regionalizing electricity production, at co-generation natural gas-fired power plant, post, pipeline 200km, storage 1000m, electricity, high voltage, RER\n",
      "not found in regions\n",
      "Adding electricity production, at co-generation natural gas-fired power plant, post, pipeline 200km, storage 1000m, CH to the database\n",
      "Regionalizing methane, from electrochemical methanation, with carbon from atmosphere, methane, from electrochemical methanation, RER\n",
      "not found in regions\n",
      "Adding methane, from electrochemical methanation, with carbon from atmosphere, CH to the database\n",
      "Regionalizing electricity production, at biomass-fired IGCC power plant, pre, pipeline 200km, storage 1000m, electricity, high voltage, RER\n",
      "not found in regions\n",
      "Adding electricity production, at biomass-fired IGCC power plant, pre, pipeline 200km, storage 1000m, CH to the database\n",
      "Regionalizing electricity supply, high voltage, from vanadium-redox flow battery system, electricity, high voltage, RER\n",
      "not found in regions\n",
      "Adding electricity supply, high voltage, from vanadium-redox flow battery system, CH to the database\n",
      "Regionalizing electricity production, oil, electricity, high voltage, CH\n",
      "Regionalizing heat and power co-generation, natural gas, conventional power plant, 100MW electrical, electricity, high voltage, CH\n",
      "Regionalizing carbon dioxide, captured at wood burning power plant 20 MW post, pipeline 200km, storage 1000m, carbon dioxide, captured at wood burning power plant 20 MW post, pipeline 200km, storage 1000m, CH\n",
      "Regionalizing electricity production, at natural gas-fired combined cycle power plant, post, pipeline 200km, storage 1000m, electricity, high voltage, CH\n",
      "Regionalizing electricity production, at co-generation wood-fired power plant, post, pipeline 200km, storage 1000m, electricity, high voltage, CH\n",
      "Regionalizing electricity production, at co-generation natural gas-fired power plant, post, pipeline 200km, storage 1000m, electricity, high voltage, CH\n",
      "Regionalizing methane, from electrochemical methanation, with carbon from atmosphere, methane, from electrochemical methanation, CH\n",
      "Regionalizing electricity production, at biomass-fired IGCC power plant, pre, pipeline 200km, storage 1000m, electricity, high voltage, CH\n",
      "Regionalizing electricity supply, high voltage, from vanadium-redox flow battery system, electricity, high voltage, CH\n",
      "No suppliers found for market for heavy fuel oil (SPS) in CH. No market created. This may cause linking issue.\n"
     ]
    },
    {
     "name": "stderr",
     "output_type": "stream",
     "text": [
      "Updating: external: 100%|███████████████| 1/1 [00:04<00:00,  4.83s/it]"
     ]
    },
    {
     "name": "stdout",
     "output_type": "stream",
     "text": [
      "Done!\n",
      "\n"
     ]
    },
    {
     "name": "stderr",
     "output_type": "stream",
     "text": [
      "\n"
     ]
    }
   ],
   "source": [
    "ndb.update(\"external\")"
   ]
  },
  {
   "cell_type": "code",
   "execution_count": 4,
   "id": "44faf9ab-68a4-4fc0-b3b2-3514a36e6a89",
   "metadata": {},
   "outputs": [
    {
     "name": "stdout",
     "output_type": "stream",
     "text": [
      "market for electricity, high voltage (SP 1 CH kilowatt hour\n",
      "electricity production, hydro, run-of-ri 0.2098645143070873 CH kilowatt hour\n",
      "electricity production, hydro, reservoir 0.24128864212686676 CH kilowatt hour\n",
      "electricity production, hydro, pumped st 0.044427203948210384 CH kilowatt hour\n",
      "electricity production, natural gas, 10M 5.227744089657459e-05 CH kilowatt hour\n",
      "heat and power co-generation, natural ga 0.000321700668677393 CH kilowatt hour\n",
      "heat and power co-generation, natural ga 2.404222733862657e-06 CH kilowatt hour\n",
      "electricity production, at co-generation 1.3897630817602434e-06 CH kilowatt hour\n",
      "heat and power co-generation, natural ga 0.0007319337772699444 CH kilowatt hour\n",
      "heat and power co-generation, natural ga 5.906200050120565e-05 CH kilowatt hour\n",
      "heat and power co-generation, biogas, ga 0.009267434940539356 CH kilowatt hour\n",
      "electricity production, from incineratio 0.00775758732387819 CH kilowatt hour\n",
      "electricity production, from incineratio 0.0011658322926844514 CH kilowatt hour\n",
      "electricity production, at co-generation 0.0074086455344119775 CH kilowatt hour\n",
      "electricity production, at co-generation 0.0011865386014710817 CH kilowatt hour\n",
      "electricity production, at co-generation 0.001977028311755584 CH kilowatt hour\n",
      "electricity production, from biowaste, m 0.00775758732387819 CH kilowatt hour\n",
      "electricity production, from biowaste, m 0.0011658322926844514 CH kilowatt hour\n",
      "electricity production, at co-generation 0.0074086455344119775 CH kilowatt hour\n",
      "electricity production, at co-generation 0.0011865386014710817 CH kilowatt hour\n",
      "electricity production, at co-generation 0.001977028311755584 CH kilowatt hour\n",
      "electricity production, photovoltaic, co 0.04801067858558663 CH kilowatt hour\n",
      "electricity production, photovoltaic, co 0.1717588951605704 CH kilowatt hour\n",
      "electricity production, photovoltaic, co 0.03321561017573829 CH kilowatt hour\n",
      "electricity production, photovoltaic, re 0.01279191463928207 CH kilowatt hour\n",
      "electricity production, photovoltaic, re 0.025203965179984383 CH kilowatt hour\n",
      "electricity production, wind, 1-3MW turb 0.08526261872510171 CH kilowatt hour\n",
      "electricity production, deep geothermal 1.1668942559713217e-07 CH kilowatt hour\n",
      "electricity, residential, by conversion  0.0008496526899954773 CH kilowatt hour\n",
      "heat and power co-generation, wood chips 0.000895243115084199 CH kilowatt hour\n",
      "electricity production, at biomass-fired 0.01233854158791137 CH kilowatt hour\n",
      "electricity production, at co-generation 0.018061289276655377 CH kilowatt hour\n",
      "electricity supply, high voltage, from v 2.214694292456259e-05 CH kilowatt hour\n",
      "electricity supply, high voltage, from v 0.002615921361361641 CH kilowatt hour\n",
      "electricity supply, high voltage, from v 1.0616423532429127e-10 CH kilowatt hour\n",
      "electricity supply, from stationary 19.5 1.5369405072542445e-07 CH kilowatt hour\n",
      "electricity supply, from stationary 19.5 0.001346325871945658 CH kilowatt hour\n",
      "electricity production, compressed air e 6.265519907936091e-05 CH kilowatt hour\n",
      "market group for electricity, high volta 0.04255644367487126 RER kilowatt hour\n",
      "transmission network construction, elect 6.58e-09 CH kilometer\n",
      "Dinitrogen monoxide 5e-06 None kilogram\n",
      "Ozone 4.16e-06 None kilogram\n",
      "\n",
      "market for electricity, medium voltage ( 1 CH kilowatt hour\n",
      "market for electricity, high voltage (SP 1.0 CH kilowatt hour\n",
      "market for sulfur hexafluoride, liquid 5.4e-08 RER kilogram\n",
      "transmission network construction, elect 1.86e-08 CH kilometer\n",
      "Sulfur hexafluoride 5.4e-08 None kilogram\n",
      "market for electricity, high voltage (SP 0.065 CH kilowatt hour\n",
      "\n",
      "market for electricity, low voltage (SPS 1 CH kilowatt hour\n",
      "market for electricity, medium voltage ( 1.0 CH kilowatt hour\n",
      "market for sulfur hexafluoride, liquid 2.99e-09 RER kilogram\n",
      "distribution network construction, elect 8.74e-08 CH kilometer\n",
      "Sulfur hexafluoride 2.99e-09 None kilogram\n",
      "market for electricity, medium voltage ( 0.027 CH kilowatt hour\n",
      "\n",
      "market for gas, for power generation (SP 1 CH cubic meter\n",
      "market for natural gas, high pressure 0.9285759801883099 CH cubic meter\n",
      "methane, from electrochemical methanatio 0.005790518793832704 CH kilogram\n",
      "market for biomethane, high pressure 0.02992149111201236 CH cubic meter\n",
      "market for biomethane, high pressure 0.02992149111201236 CH cubic meter\n",
      "methane, from electrochemical methanatio 0.005790518793832704 CH kilogram\n",
      "\n",
      "market for light fuel oil (SPS) 1 CH kilogram\n",
      "light fuel oil, import from Europe 1.0 CH kilogram\n",
      "market for transport, freight train 0.0336 CH ton kilometer\n",
      "market for transport, freight, lorry, un 0.0326 RER ton kilometer\n",
      "market for electricity, low voltage 0.0067 CH kilowatt hour\n",
      "market for tap water 0.000689 CH kilogram\n",
      "light fuel oil production, from waste po 0.000551109935409916 CH kilogram\n",
      "infrastructure construction, for regiona 1.04e-10 RER unit\n",
      "treatment of wastewater, average, wastew -6.89e-07 CH cubic meter\n",
      "market for municipal solid waste -6.27e-06 CH kilogram\n",
      "market for fly ash and scrubber sludge -1.85e-05 CH kilogram\n",
      "market for rainwater mineral oil storage -5e-05 CH cubic meter\n",
      "Water 1.0335e-07 None cubic meter\n",
      "Water 5.8565e-07 None cubic meter\n",
      "\n",
      "market for biomass, for power generation 1 CH kilogram\n",
      "market for forest residue 0.2738882214629425 CH kilogram\n",
      "market for forest residue 0.11946508010597784 CH kilogram\n",
      "market for forest residue 0.0668124549027237 CH kilogram\n",
      "market for wood chips, wet, measured as  0.539834243528356 CH kilogram\n",
      "\n"
     ]
    }
   ],
   "source": [
    "for ds in ndb.scenarios[0][\"database\"]:\n",
    "    if \"SPS\" in ds[\"name\"]:\n",
    "        for e in ds[\"exchanges\"]:\n",
    "            print(e[\"name\"][:40], e[\"amount\"], e.get(\"location\"), e[\"unit\"])\n",
    "        print()"
   ]
  },
  {
   "cell_type": "code",
   "execution_count": 5,
   "id": "048cc27c-3a8e-4013-a3f9-c521e4cee64b",
   "metadata": {},
   "outputs": [
    {
     "name": "stdout",
     "output_type": "stream",
     "text": [
      "['location', 'comment', 'production amount', 'source', 'reference product', 'type', 'unit', 'name', 'exchanges', 'worksheet name', 'database', 'code', 'regions', 'technosphere filters', 'biosphere filters', 'production volume variable']\n",
      "electricity supply, high voltage, from vanadium-redox flow battery system 1 RER\n",
      "market group for electricity, high voltage 1.33 RER\n",
      "vanadium-redox flow battery system assembly, 8.3 megawatt hour 2.0408163265306123e-08 RER\n",
      "vanadium-redox flow battery stack assembly 2.0408163265306123e-08 RER\n",
      "treatment of stack, for VRFB system -0.00041 RER\n",
      "treatment of electrolyte tank, for VRFB system -0.00066 RER\n",
      "treatment of electrolyte solution, for VRFB system -0.00555 RER\n",
      "treatment of periphericals, for VRFB system -0.0001 RER\n",
      "\n",
      "['location', 'comment', 'production amount', 'source', 'reference product', 'type', 'unit', 'name', 'exchanges', 'worksheet name', 'database', 'code', 'regions', 'technosphere filters', 'biosphere filters', 'production volume variable', 'production volume', 'log parameters', 'custom scenario dataset']\n",
      "electricity supply, high voltage, from vanadium-redox flow battery system 1 CH\n",
      "treatment of electrolyte solution, for VRFB system -0.0055169598509748575 RER\n",
      "treatment of electrolyte tank, for VRFB system -0.0006560709011970101 RER\n",
      "treatment of periphericals, for VRFB system -9.940468199954698e-05 RER\n",
      "treatment of stack, for VRFB system -0.0004075591961981426 RER\n",
      "vanadium-redox flow battery stack assembly 2.0286669795825913e-08 RER\n",
      "vanadium-redox flow battery system assembly, 8.3 megawatt hour 2.0286669795825913e-08 RER\n",
      "market for electricity, high voltage (SPS) 1.3220822705939748 CH\n",
      "\n"
     ]
    }
   ],
   "source": [
    "for ds in ndb.scenarios[0][\"database\"]:\n",
    "    if ds[\"name\"] == \"electricity supply, high voltage, from vanadium-redox flow battery system\" and ds[\"unit\"] == \"kilowatt hour\":\n",
    "        print(list(ds.keys()))\n",
    "        for e in ds[\"exchanges\"]:\n",
    "            print(e[\"name\"], e[\"amount\"], e.get(\"location\"))\n",
    "        print()"
   ]
  },
  {
   "cell_type": "code",
   "execution_count": 4,
   "id": "015664fb-d82b-475d-bb4e-aced6f36237f",
   "metadata": {},
   "outputs": [
    {
     "name": "stdout",
     "output_type": "stream",
     "text": [
      "Generate change report.\n",
      "Report saved under /Users/romain/GitHub/sweet_sure-2050-switzerland/dev.\n"
     ]
    }
   ],
   "source": [
    "ndb.generate_change_report()"
   ]
  },
  {
   "cell_type": "code",
   "execution_count": 6,
   "id": "571f2b99-a687-4a4f-8f48-ac146be374a6",
   "metadata": {},
   "outputs": [
    {
     "name": "stdout",
     "output_type": "stream",
     "text": [
      "Write new database(s) to Brightway.\n",
      "Running all checks...\n",
      "Anomalies found: check the change report.\n"
     ]
    },
    {
     "name": "stderr",
     "output_type": "stream",
     "text": [
      "Writing activities to SQLite3 database:\n",
      "0% [##############################] 100% | ETA: 00:00:00\n",
      "Total time elapsed: 00:00:22\n"
     ]
    },
    {
     "name": "stdout",
     "output_type": "stream",
     "text": [
      "Title: Writing activities to SQLite3 database:\n",
      "  Started: 02/21/2024 12:48:43\n",
      "  Finished: 02/21/2024 12:49:05\n",
      "  Total time elapsed: 00:00:22\n",
      "  CPU %: 95.40\n",
      "  Memory %: 7.94\n",
      "Created database: test SPS1 7\n",
      "Generate scenario report.\n",
      "Report saved under /Users/romain/GitHub/sweet_sure-2050-switzerland/dev/export/scenario_report.\n",
      "Generate change report.\n",
      "Report saved under /Users/romain/GitHub/sweet_sure-2050-switzerland/dev.\n"
     ]
    }
   ],
   "source": [
    "ndb.write_db_to_brightway(\"test SPS1 7\")"
   ]
  },
  {
   "cell_type": "code",
   "execution_count": 1,
   "id": "89e232df-89be-4ec9-ac8a-2761e243c004",
   "metadata": {},
   "outputs": [
    {
     "name": "stdout",
     "output_type": "stream",
     "text": [
      "premise v.(2, 0, 1)\n",
      "+------------------------------------------------------------------+\n",
      "| Warning                                                          |\n",
      "+------------------------------------------------------------------+\n",
      "| Because some of the scenarios can yield LCI databases            |\n",
      "| containing net negative emission technologies (NET),             |\n",
      "| it is advised to account for biogenic CO2 flows when calculating |\n",
      "| Global Warming potential indicators.                             |\n",
      "| `premise_gwp` provides characterization factors for such flows.  |\n",
      "| It also provides factors for hydrogen emissions to air.          |\n",
      "|                                                                  |\n",
      "| Within your bw2 project:                                         |\n",
      "| from premise_gwp import add_premise_gwp                          |\n",
      "| add_premise_gwp()                                                |\n",
      "+------------------------------------------------------------------+\n",
      "+--------------------------------+----------------------------------+\n",
      "| Utils functions                | Description                      |\n",
      "+--------------------------------+----------------------------------+\n",
      "| clear_cache()                  | Clears the cache folder. Useful  |\n",
      "|                                | when updating `premise`or        |\n",
      "|                                | encountering issues with         |\n",
      "|                                | inventories.                     |\n",
      "+--------------------------------+----------------------------------+\n",
      "| get_regions_definition(model)  | Retrieves the list of countries  |\n",
      "|                                | for each region of the model.    |\n",
      "+--------------------------------+----------------------------------+\n",
      "| ndb.NewDatabase(...)           | Generates a summary of the most  |\n",
      "| ndb.generate_scenario_report() | important scenarios' variables.  |\n",
      "+--------------------------------+----------------------------------+\n",
      "Keep uncertainty data?\n",
      "NewDatabase(..., keep_uncertainty_data=True)\n",
      "\n",
      "Disable multiprocessing?\n",
      "NewDatabase(..., use_multiprocessing=False)\n",
      "\n",
      "Hide these messages?\n",
      "NewDatabase(..., quiet=True)\n",
      "- Extracting source database\n",
      "- Extracting inventories\n",
      "- Fetching IAM data\n",
      "Done!\n"
     ]
    }
   ],
   "source": [
    "from premise import *\n",
    "import bw2data\n",
    "from datapackage import Package\n",
    "bw2data.projects.set_current(\"ei39\")\n",
    "sps = Package(\"../datapackage.json\")\n",
    "ndb = PathwaysDataPackage(\n",
    "    scenarios=[\n",
    "        {\"model\": \"image\", \"pathway\": \"SSP2-Base\"},\n",
    "    ],\n",
    "    #years=[2005, 2010, 2020, 2030, 2040, 2050, 2060, 2070, 2080, 2090, 2100],\n",
    "    years=[2020, 2050],\n",
    "    source_db=\"ecoinvent 3.9.1 cutoff\", # <-- name of the database in the BW2 project. Must be a string.\n",
    "    source_version=\"3.9\", # <-- version of ecoinvent. Can be \"3.5\", \"3.6\", \"3.7\" or \"3.8\". Must be a string.\n",
    "    key=\"tUePmX_S5B8ieZkkM7WUU2CnO8SmShwmAeWK9x2rTFo=\",\n",
    "    external_scenarios=[sps,]\n",
    ")"
   ]
  },
  {
   "cell_type": "code",
   "execution_count": 2,
   "id": "956553ed-bea1-4e96-9459-8b1ad68551e8",
   "metadata": {},
   "outputs": [
    {
     "name": "stderr",
     "output_type": "stream",
     "text": [
      "Updating: trucks: 100%|█████████████████| 1/1 [00:28<00:00, 28.32s/it]\n"
     ]
    },
    {
     "name": "stdout",
     "output_type": "stream",
     "text": [
      "Done!\n",
      "\n"
     ]
    },
    {
     "name": "stderr",
     "output_type": "stream",
     "text": [
      "Updating: external: 100%|███████████████| 1/1 [00:20<00:00, 20.22s/it]\n"
     ]
    },
    {
     "name": "stdout",
     "output_type": "stream",
     "text": [
      "Done!\n",
      "\n",
      "Extracted 1 worksheets in 0.04 seconds\n",
      "Remove uncertainty data.\n",
      "Extracted 1 worksheets in 0.04 seconds\n",
      "Remove uncertainty data.\n",
      "Write new database(s) to matrix.\n",
      "Running all checks...\n",
      "Anomalies found: check the change report.\n",
      "Running all checks...\n",
      "Anomalies found: check the change report.\n",
      "Matrices saved in /Users/romain/GitHub/sweet_sure-2050-switzerland/dev/pathways/inventories/image/SSP2-Base/2020.\n",
      "Generate scenario report.\n",
      "Report saved under /Users/romain/GitHub/sweet_sure-2050-switzerland/dev/export/scenario_report.\n",
      "Generate change report.\n",
      "Report saved under /Users/romain/GitHub/sweet_sure-2050-switzerland/dev.\n",
      "{'Carbon Capture|Storage|Direct Air Capture|Cumulative': 'Mt CO2/yr', 'Efficiency|Electricity|Biomass|w/ CCS|1': '-', 'Efficiency|Electricity|Biomass|w/ CCS|2': '-', 'Efficiency|Electricity|Biomass|w/o CCS|1': '-', 'Efficiency|Electricity|Biomass|w/o CCS|2': '-', 'Efficiency|Electricity|Biomass|w/o CCS|3': '-', 'Efficiency|Electricity|Coal|w/ CCS|1': '-', 'Efficiency|Electricity|Coal|w/ CCS|2': '-', 'Efficiency|Electricity|Coal|w/o CCS|1': '-', 'Efficiency|Electricity|Coal|w/o CCS|2': '-', 'Efficiency|Electricity|Coal|w/o CCS|3': '-', 'Efficiency|Electricity|Gas|w/ CCS|1': '-', 'Efficiency|Electricity|Gas|w/ CCS|2': '-', 'Efficiency|Electricity|Gas|w/o CCS|1': '-', 'Efficiency|Electricity|Gas|w/o CCS|2': '-', 'Efficiency|Electricity|Gas|w/o CCS|3': '-', 'Efficiency|Electricity|Nuclear': '-', 'Efficiency|Electricity|Oil|w/ CCS|1': '-', 'Efficiency|Electricity|Oil|w/ CCS|2': '-', 'Efficiency|Electricity|Oil|w/o CCS|1': '-', 'Efficiency|Electricity|Oil|w/o CCS|2': '-', 'Efficiency|Electricity|Oil|w/o CCS|3': '-', 'Efficiency|Liquids|Biomass|Biodiesel|Oilcrops|w/ CCS': '-', 'Efficiency|Liquids|Biomass|Biodiesel|Oilcrops|w/o CCS': '-', 'Efficiency|Liquids|Biomass|Ethanol|Grassy|w/ CCS': '-', 'Efficiency|Liquids|Biomass|Ethanol|Grassy|w/o CCS': '-', 'Efficiency|Liquids|Biomass|Ethanol|Maize|w/ CCS': '-', 'Efficiency|Liquids|Biomass|Ethanol|Maize|w/o CCS': '-', 'Efficiency|Liquids|Biomass|Ethanol|Sugar|w/ CCS': '-', 'Efficiency|Liquids|Biomass|Ethanol|Sugar|w/o CCS': '-', 'Efficiency|Liquids|Biomass|Ethanol|Woody|w/ CCS': '-', 'Efficiency|Liquids|Biomass|Ethanol|Woody|w/o CCS': '-', 'Efficiency|Liquids|Biomass|FT Diesel|Woody|w/ CCS': '-', 'Efficiency|Liquids|Biomass|FT Diesel|Woody|w/o CCS': '-', 'Efficiency|Liquids|Biomass|Methanol|Grassy|w/ CCS': '-', 'Efficiency|Liquids|Biomass|Methanol|Grassy|w/o CCS': '-', 'Efficiency|Liquids|Biomass|Methanol|Woody|w/ CCS': '-', 'Efficiency|Liquids|Biomass|Methanol|Woody|w/o CCS': '-', 'Emission Factor|CO2|Energy|Supply|Biomass|Marginal|Grassy': 'kg CO2/GJ-prim', 'Emission Factor|CO2|Energy|Supply|Biomass|Marginal|Maize': 'kg CO2/GJ-prim', 'Emission Factor|CO2|Energy|Supply|Biomass|Marginal|Oilcrops': 'kg CO2/GJ-prim', 'Emission Factor|CO2|Energy|Supply|Biomass|Marginal|Sugar': 'kg CO2/GJ-prim', 'Emission Factor|CO2|Energy|Supply|Biomass|Marginal|Woody': 'kg CO2/GJ-prim', 'Emissions|CO2': 'Mt CO2/yr', 'Emissions|CO2|Industry|Cement|Gross': 'Mt CO2/yr', 'Emissions|CO2|Industry|Cement|Sequestered': 'Mt CO2/yr', 'Emissions|CO2|Industry|Steel|Gross': 'Mt CO2/yr', 'Emissions|CO2|Industry|Steel|Sequestered': 'Mt CO2/yr', 'Final Energy|Industry|Cement|Dry feed rotary kiln|Coal': 'EJ/yr', 'Final Energy|Industry|Cement|Dry feed rotary kiln|Electricity': 'EJ/yr', 'Final Energy|Industry|Cement|Dry feed rotary kiln|Hydrogen': 'EJ/yr', 'Final Energy|Industry|Cement|Dry feed rotary kiln|Modern Biomass': 'EJ/yr', 'Final Energy|Industry|Cement|Dry feed rotary kiln|Natural Gas': 'EJ/yr', 'Final Energy|Industry|Cement|Dry feed rotary kiln|Oil': 'EJ/yr', 'Final Energy|Industry|Cement|Dry feed rotary kiln|Secondary Heat': 'EJ/yr', 'Final Energy|Industry|Cement|Dry feed rotary kiln|Traditional Biomass': 'EJ/yr', 'Final Energy|Industry|Steel|Electricity': 'EJ/yr', 'Final Energy|Industry|Steel|Gases': 'EJ/yr', 'Final Energy|Industry|Steel|Heat': 'EJ/yr', 'Final Energy|Industry|Steel|Hydrogen': 'EJ/yr', 'Final Energy|Industry|Steel|Liquids': 'EJ/yr', 'Final Energy|Industry|Steel|Solids': 'EJ/yr', 'GDP|PPP': 'billion US$2010/yr OR local currency', 'Land Use|Marginal|Biomass|Grassy': 'Ha/GJ-Prim', 'Land Use|Marginal|Biomass|Maize': 'Ha/GJ-Prim', 'Land Use|Marginal|Biomass|OilCrop': 'Ha/GJ-Prim', 'Land Use|Marginal|Biomass|Sugar': 'Ha/GJ-Prim', 'Land Use|Marginal|Biomass|Woody': 'Ha/GJ-Prim', 'Population': 'million', 'Primary Energy|Biomass|Energy Crops': 'EJ/yr', 'Primary Energy|Biomass|Residues': 'EJ/yr', 'Production|Industry|Cement|Dry feed rotary kiln': 'Mtonne/yr', 'Production|Industry|Iron and Steel|EAF scrap': 'Mtonne/yr', 'Production|Industry|Iron and Steel|Primary': 'Mtonne/yr', 'Secondary Energy|Consumption|Liquids|Biomass|Biodiesel|Oilcrops|w/CCS': 'EJ/yr', 'Secondary Energy|Consumption|Liquids|Biomass|Biodiesel|Oilcrops|w/oCCS': 'EJ/yr', 'Secondary Energy|Consumption|Liquids|Biomass|Ethanol|Grassy|w/CCS': 'EJ/yr', 'Secondary Energy|Consumption|Liquids|Biomass|Ethanol|Grassy|w/oCCS': 'EJ/yr', 'Secondary Energy|Consumption|Liquids|Biomass|Ethanol|Maize|w/CCS': 'EJ/yr', 'Secondary Energy|Consumption|Liquids|Biomass|Ethanol|Maize|w/oCCS': 'EJ/yr', 'Secondary Energy|Consumption|Liquids|Biomass|Ethanol|Sugar|w/CCS': 'EJ/yr', 'Secondary Energy|Consumption|Liquids|Biomass|Ethanol|Sugar|w/oCCS': 'EJ/yr', 'Secondary Energy|Consumption|Liquids|Biomass|Ethanol|Woody|w/CCS': 'EJ/yr', 'Secondary Energy|Consumption|Liquids|Biomass|Ethanol|Woody|w/oCCS': 'EJ/yr', 'Secondary Energy|Consumption|Liquids|Biomass|FT Diesel|Grassy|w/CCS': 'EJ/yr', 'Secondary Energy|Consumption|Liquids|Biomass|FT Diesel|Grassy|w/oCCS': 'EJ/yr', 'Secondary Energy|Consumption|Liquids|Biomass|FT Diesel|Woody|w/CCS': 'EJ/yr', 'Secondary Energy|Consumption|Liquids|Biomass|FT Diesel|Woody|w/oCCS': 'EJ/yr', 'Secondary Energy|Consumption|Liquids|Biomass|Methanol|Grassy|w/CCS': 'EJ/yr', 'Secondary Energy|Consumption|Liquids|Biomass|Methanol|Grassy|w/oCCS': 'EJ/yr', 'Secondary Energy|Consumption|Liquids|Biomass|Methanol|Woody|w/CCS': 'EJ/yr', 'Secondary Energy|Consumption|Liquids|Biomass|Methanol|Woody|w/oCCS': 'EJ/yr', 'Secondary Energy|Consumption|Liquids|Fossil': 'EJ/yr', 'Secondary Energy|Consumption|Liquids|Fossil|Diesel': 'EJ/yr', 'Secondary Energy|Consumption|Liquids|Fossil|Gasoline': 'EJ/yr', 'Secondary Energy|Electricity|Biomass|w/ CCS|1': 'EJ/yr', 'Secondary Energy|Electricity|Biomass|w/ CCS|2': 'EJ/yr', 'Secondary Energy|Electricity|Biomass|w/o CCS|1': 'EJ/yr', 'Secondary Energy|Electricity|Biomass|w/o CCS|2': 'EJ/yr', 'Secondary Energy|Electricity|Biomass|w/o CCS|3': 'EJ/yr', 'Secondary Energy|Electricity|Coal|w/ CCS|1': 'EJ/yr', 'Secondary Energy|Electricity|Coal|w/o CCS|1': 'EJ/yr', 'Secondary Energy|Electricity|Coal|w/o CCS|2': 'EJ/yr', 'Secondary Energy|Electricity|Coal|w/o CCS|3': 'EJ/yr', 'Secondary Energy|Electricity|Gas|w/ CCS|1': 'EJ/yr', 'Secondary Energy|Electricity|Gas|w/ CCS|2': 'EJ/yr', 'Secondary Energy|Electricity|Gas|w/o CCS|1': 'EJ/yr', 'Secondary Energy|Electricity|Gas|w/o CCS|2': 'EJ/yr', 'Secondary Energy|Electricity|Gas|w/o CCS|3': 'EJ/yr', 'Secondary Energy|Electricity|Hydro': 'EJ/yr', 'Secondary Energy|Electricity|Nuclear': 'EJ/yr', 'Secondary Energy|Electricity|Oil|w/ CCS|1': 'EJ/yr', 'Secondary Energy|Electricity|Oil|w/ CCS|2': 'EJ/yr', 'Secondary Energy|Electricity|Oil|w/o CCS|1': 'EJ/yr', 'Secondary Energy|Electricity|Oil|w/o CCS|2': 'EJ/yr', 'Secondary Energy|Electricity|Oil|w/o CCS|3': 'EJ/yr', 'Secondary Energy|Electricity|Other': 'EJ/yr', 'Secondary Energy|Electricity|Solar|CSP': 'EJ/yr', 'Secondary Energy|Electricity|Solar|PV|1': 'EJ/yr', 'Secondary Energy|Electricity|Solar|PV|2': 'EJ/yr', 'Secondary Energy|Electricity|Storage': 'EJ/yr', 'Secondary Energy|Electricity|Wind|1': 'EJ/yr', 'Secondary Energy|Electricity|Wind|2': 'EJ/yr', 'Secondary Energy|Hydrogen|Biomass|w/ CCS': 'EJ/yr', 'Secondary Energy|Hydrogen|Biomass|w/o CCS': 'EJ/yr', 'Secondary Energy|Hydrogen|Coal|w/ CCS': 'EJ/yr', 'Secondary Energy|Hydrogen|Coal|w/o CCS': 'EJ/yr', 'Secondary Energy|Hydrogen|Electrolysis': 'EJ/yr', 'Secondary Energy|Hydrogen|Gas|w/ CCS': 'EJ/yr', 'Secondary Energy|Hydrogen|Gas|w/o CCS': 'EJ/yr', 'Secondary Energy|Hydrogen|Solar': 'EJ/yr', 'Temperature|Global Mean': 'Â°C', 'Electricity generation|Electricity storage (non hydro)|Batteries in Services sector': 'PJ/yr.', 'Electricity generation|Electricity storage (non hydro)|Batteries in industry': 'PJ/yr.', 'Electricity generation|Electricity storage (non hydro)|Batteries in residential multi-family houses': 'PJ/yr.', 'Electricity generation|Electricity storage (non hydro)|Batteries in residentiial single family houses': 'PJ/yr.', 'Electricity generation|Electricity storage (non hydro)|Battery storage large size centralised': 'PJ/yr.', 'Electricity generation|Electricity storage (non hydro)|Battery storage medium size centralised': 'PJ/yr.', 'Electricity generation|Electricity storage (non hydro)|CAES': 'PJ/yr.', 'Electricity generation|Gas|CHP Fuel Cell Gas (for District Heating)': 'PJ/yr.', 'Electricity generation|Gas|CHP Gas (for District Heating)': 'PJ/yr.', 'Electricity generation|Gas|Gas turbines combined cycle': 'PJ/yr.', 'Electricity generation|Gas|Gas turbines combined cycle CCS': 'PJ/yr.', 'Electricity generation|Gas|Gas turbines open cycle': 'PJ/yr.', 'Electricity generation|Gas|Industrial CHPs fuel cells (gas reformer)': 'PJ/yr.', 'Electricity generation|Gas|Industrial CHPs gas': 'PJ/yr.', 'Electricity generation|Gas|Industrial CHPs gas (CCS)': 'PJ/yr.', 'Electricity generation|Gas|Residential multi family CHPs fuel cells gas': 'PJ/yr.', 'Electricity generation|Gas|Residential multi family CHPs gas': 'PJ/yr.', 'Electricity generation|Gas|Residential single family CHPs fuel cells gas': 'PJ/yr.', 'Electricity generation|Gas|Residential single family CHPs gas': 'PJ/yr.', 'Electricity generation|Gas|Services sectors CHPs (bio)gas': 'PJ/yr.', 'Electricity generation|Gas|Services sectors CHPs gas': 'PJ/yr.', 'Electricity generation|Geothermal|Deep geothermal': 'PJ/yr.', 'Electricity generation|Hydrogen|CHP Fuel Cell Hydrogen (for District Heating)': 'PJ/yr.', 'Electricity generation|Hydrogen|Industrial CHPs fuel cells (hydrogen)': 'PJ/yr.', 'Electricity generation|Hydrogen|Services sectors CHPs fuel cells (hydrogen)': 'PJ/yr.', 'Electricity generation|Hydro|Hydro Large': 'PJ/yr.', 'Electricity generation|Hydro|Hydro Run of River': 'PJ/yr.', 'Electricity generation|Hydro|Pump storage': 'PJ/yr.', 'Electricity generation|Nuclear fuel|Boiling water': 'PJ/yr.', 'Electricity generation|Nuclear fuel|Pressure water': 'PJ/yr.', 'Electricity generation|Oil|CHP Oil (for District Heating)': 'PJ/yr.', 'Electricity generation|Oil|Industrial CHPs oil': 'PJ/yr.', 'Electricity generation|Oil|Peak devices': 'PJ/yr.', 'Electricity generation|Solar|Solar PV (Industry)': 'PJ/yr.', 'Electricity generation|Solar|Solar PV (Residential multi family)': 'PJ/yr.', 'Electricity generation|Solar|Solar PV (Residential single family)': 'PJ/yr.', 'Electricity generation|Solar|Solar PV (Services)': 'PJ/yr.', 'Electricity generation|Solar|Solar PV (large scale)': 'PJ/yr.', 'Electricity generation|Wastes|Non Renewable|CHP Wastes (for District Heating)': 'PJ/yr.', 'Electricity generation|Wastes|Non Renewable|CHP Wastes (for District Heating) CCS': 'PJ/yr.', 'Electricity generation|Wastes|Non Renewable|Industrial CHPs wastes': 'PJ/yr.', 'Electricity generation|Wastes|Non Renewable|Industrial CHPs wastes CCS': 'PJ/yr.', 'Electricity generation|Wastes|Non Renewable|Wastes Incineration (electric only)': 'PJ/yr.', 'Electricity generation|Wastes|Non Renewable|Wastes Incineration (electric only) CCS': 'PJ/yr.', 'Electricity generation|Wind|Wind turbines': 'PJ/yr.', 'Electricity generation|Wood|Biomass with CCS (BECCS)': 'PJ/yr.', 'Electricity generation|Wood|CHP Wood (for District Heating)': 'PJ/yr.', 'Electricity generation|Wood|Industrial CHPs wood': 'PJ/yr.', 'Electricity generation|Wood|Industrial CHPs wood (CCS)': 'PJ/yr.', 'Imports|Electricity': 'PJ/yr.', 'Imports|Gas|Fossil gases|Liquified Natural Gas': 'PJ/yr.', 'Imports|Gas|Fossil gases|Natural gas': 'PJ/yr.', 'Imports|Gas|Synthetic gases|Biogases|Biogas': 'PJ/yr.', 'Imports|Gas|Synthetic gases|PtG|PtG gas': 'PJ/yr.', 'Imports|Oil|Fossil liquids|Heavy fuel oil': 'PJ/yr.', 'Imports|Oil|Fossil liquids|Light fuel oil': 'PJ/yr.', 'Primary Energy Consumption|Gas|Synthetic gases|Biogases|Biogas': 'PJ/yr.', 'Primary Energy Consumption|Gas|Synthetic gases|PtG|PtG gas': 'PJ/yr.', 'Primary Energy Consumption|Wood|Waste wood': 'PJ/yr.', 'Primary Energy Consumption|Wood|Wood from Forest (hard wood)': 'PJ/yr.', 'Primary Energy Consumption|Wood|Wood from landscape maintenance': 'PJ/yr.', 'Primary Energy Consumption|Wood|Wood residues': 'PJ/yr.', 'Production|Electricity|Low to medium': 'TWh', 'Production|Electricity|Medium to high': 'TWh'}\n",
      "Data package saved at /Users/romain/GitHub/sweet_sure-2050-switzerland/dev/pathways/image-SSP2-stem-SPS1.zip\n"
     ]
    }
   ],
   "source": [
    "ndb.create_datapackage(\n",
    "    name=\"image-SSP2-stem-SPS1\",\n",
    "    contributors=[\n",
    "        {\"name\": \"Romain\",\n",
    "        \"email\": \"r_s at me.com\",}\n",
    "    ]\n",
    ")"
   ]
  },
  {
   "cell_type": "code",
   "execution_count": 1,
   "id": "dd742014-f8cc-46fd-9387-5094efa527db",
   "metadata": {},
   "outputs": [
    {
     "name": "stdout",
     "output_type": "stream",
     "text": [
      "Invalid datapackage: Descriptor validation error: {'path': 'mapping/mapping.yaml', 'profile': 'data-resource', 'name': 'mapping', 'format': 'yaml', 'mediatype': 'text/yaml', 'encoding': 'utf-8'} is not valid under any of the given schemas at \"resources/17\" in descriptor and at \"properties/resources/items/oneOf\" in profile\n",
      "Invalid datapackage: Descriptor validation error: 'data-resource' is not one of ['tabular-data-resource'] at \"resources/17/profile\" in descriptor and at \"properties/resources/items/properties/profile/enum\" in profile\n",
      "Variable Final Energy|Industry excl Non-Energy Use|Food and Tobacco|Electricity not found in scenario data.\n",
      "Variable Final Energy|Industry excl Non-Energy Use|Food and Tobacco|Gases|Natural Gas not found in scenario data.\n",
      "Variable Final Energy|Industry excl Non-Energy Use|Food and Tobacco|Heat not found in scenario data.\n",
      "Variable Final Energy|Industry excl Non-Energy Use|Food and Tobacco|Hydrogen not found in scenario data.\n",
      "Variable Final Energy|Industry excl Non-Energy Use|Food and Tobacco|Liquids|Petroleum not found in scenario data.\n",
      "Variable Final Energy|Industry excl Non-Energy Use|Food and Tobacco|Solids|Biomass not found in scenario data.\n",
      "Variable Final Energy|Industry excl Non-Energy Use|Food and Tobacco|Solids|Coal not found in scenario data.\n",
      "Variable Final Energy|Industry excl Non-Energy Use|Pulp and Paper|Electricity not found in scenario data.\n",
      "Variable Final Energy|Industry excl Non-Energy Use|Pulp and Paper|Gases|Natural Gas not found in scenario data.\n",
      "Variable Final Energy|Industry excl Non-Energy Use|Pulp and Paper|Heat not found in scenario data.\n",
      "Variable Final Energy|Industry excl Non-Energy Use|Pulp and Paper|Hydrogen not found in scenario data.\n",
      "Variable Final Energy|Industry excl Non-Energy Use|Pulp and Paper|Liquids|Petroleum not found in scenario data.\n",
      "Variable Final Energy|Industry excl Non-Energy Use|Pulp and Paper|Solids|Biomass not found in scenario data.\n",
      "Variable Final Energy|Industry excl Non-Energy Use|Pulp and Paper|Solids|Coal not found in scenario data.\n",
      "Variable Final Energy|Industry excl Non-Energy Use|Steel|Electricity not found in scenario data.\n",
      "Variable Final Energy|Industry excl Non-Energy Use|Steel|Gases|Natural Gas not found in scenario data.\n",
      "Variable Final Energy|Industry excl Non-Energy Use|Steel|Heat not found in scenario data.\n",
      "Variable Final Energy|Industry excl Non-Energy Use|Steel|Hydrogen not found in scenario data.\n",
      "Variable Final Energy|Industry excl Non-Energy Use|Steel|Liquids|Petroleum not found in scenario data.\n",
      "Variable Final Energy|Industry excl Non-Energy Use|Steel|Solids|Biomass not found in scenario data.\n",
      "Variable Final Energy|Industry excl Non-Energy Use|Steel|Solids|Coal not found in scenario data.\n",
      "Variable Final Energy|Industry excl Non-Energy Use|Non-Metallic Minerals|Electricity not found in scenario data.\n",
      "Variable Final Energy|Industry excl Non-Energy Use|Non-Metallic Minerals|Gases|Natural Gas not found in scenario data.\n",
      "Variable Final Energy|Industry excl Non-Energy Use|Non-Metallic Minerals|Heat not found in scenario data.\n",
      "Variable Final Energy|Industry excl Non-Energy Use|Non-Metallic Minerals|Hydrogen not found in scenario data.\n",
      "Variable Final Energy|Industry excl Non-Energy Use|Non-Metallic Minerals|Liquids|Petroleum not found in scenario data.\n",
      "Variable Final Energy|Industry excl Non-Energy Use|Non-Metallic Minerals|Solids|Biomass not found in scenario data.\n",
      "Variable Final Energy|Industry excl Non-Energy Use|Non-Metallic Minerals|Solids|Coal not found in scenario data.\n",
      "Variable Final Energy|Industry|Food Processing|Electricity not found in scenario data.\n",
      "Variable Final Energy|Industry|Food Processing|Gases not found in scenario data.\n",
      "Variable Final Energy|Industry|Food Processing|Heat not found in scenario data.\n",
      "Variable Final Energy|Industry|Food Processing|Hydrogen not found in scenario data.\n",
      "Variable Final Energy|Industry|Food Processing|Liquids|Fossil not found in scenario data.\n",
      "Variable Final Energy|Industry|Food Processing|Solids|Bioenergy not found in scenario data.\n",
      "Variable Final Energy|Industry|Food Processing|Solids|Fossil not found in scenario data.\n",
      "Variable Final Energy|Industry|Chemicals|Ammonia|Electricity not found in scenario data.\n",
      "Variable Final Energy|Industry|Chemicals|Ammonia|Gases|Fossil not found in scenario data.\n",
      "Variable Final Energy|Industry|Chemicals|Ammonia|Liquids|Bioenergy not found in scenario data.\n",
      "Variable Final Energy|Industry|Chemicals|Ammonia|Liquids|Fossil not found in scenario data.\n",
      "Variable Final Energy|Industry|Chemicals|Ammonia|Other not found in scenario data.\n",
      "Variable Final Energy|Industry|Chemicals|Ammonia|Solids|Bioenergy not found in scenario data.\n",
      "Variable Final Energy|Industry|Chemicals|Ammonia|Solids|Fossil not found in scenario data.\n",
      "Variable Final Energy|Industry|Chemicals|High value chemicals|Electricity not found in scenario data.\n",
      "Variable Final Energy|Industry|Chemicals|High value chemicals|Gases|Fossil not found in scenario data.\n",
      "Variable Final Energy|Industry|Chemicals|High value chemicals|Liquids|Bioenergy not found in scenario data.\n",
      "Variable Final Energy|Industry|Chemicals|High value chemicals|Liquids|Fossil not found in scenario data.\n",
      "Variable Final Energy|Industry|Chemicals|High value chemicals|Solids|Bioenergy not found in scenario data.\n",
      "Variable Final Energy|Industry|Chemicals|High value chemicals|Solids|Fossil not found in scenario data.\n",
      "Variable Final Energy|Commercial|Water Heating|Coal not found in scenario data.\n",
      "Variable Final Energy|Commercial|Water Heating|Electricity not found in scenario data.\n",
      "Variable Final Energy|Commercial|Water Heating|Gas (fossil) not found in scenario data.\n",
      "Variable Final Energy|Commercial|Water Heating|Liquid (fossil) not found in scenario data.\n",
      "Variable Final Energy|Commercial|Water Heating|Traditional Biomass not found in scenario data.\n",
      "Variable Final Energy|Residential|Water Heating|Coal not found in scenario data.\n",
      "Variable Final Energy|Residential|Water Heating|Electricity not found in scenario data.\n",
      "Variable Final Energy|Residential|Water Heating|Gas (fossil) not found in scenario data.\n",
      "Variable Final Energy|Residential|Water Heating|Liquid (fossil) not found in scenario data.\n",
      "Variable Final Energy|Residential|Water Heating|Traditional Biomass not found in scenario data.\n",
      "Variable Final Energy|Commercial|Space Heating|Coal not found in scenario data.\n",
      "Variable Final Energy|Commercial|Space Heating|Electricity not found in scenario data.\n",
      "Variable Final Energy|Commercial|Space Heating|Gas (fossil) not found in scenario data.\n",
      "Variable Final Energy|Commercial|Space Heating|Liquid (fossil) not found in scenario data.\n",
      "Variable Final Energy|Commercial|Space Heating|Traditional Biomass not found in scenario data.\n",
      "Variable Final Energy|Transportation|Passenger|Electricity not found in scenario data.\n",
      "Variable Final Energy|Transportation|Passenger|Gases not found in scenario data.\n",
      "Variable Final Energy|Transportation|Passenger|Hydrogen not found in scenario data.\n",
      "Variable Final Energy|Transportation|Passenger|Liquids not found in scenario data.\n",
      "Variable Final Energy|Transportation|Freight|Air|Biofuel not found in scenario data.\n",
      "Variable Final Energy|Transportation|Freight|Air|Electricity not found in scenario data.\n",
      "Variable Final Energy|Transportation|Freight|Air|Gas not found in scenario data.\n",
      "Variable Final Energy|Transportation|Freight|Air|H2 not found in scenario data.\n",
      "Variable Final Energy|Transportation|Freight|Air|Oil not found in scenario data.\n",
      "Variable Final Energy|Transportation|Freight|Heavy Truck|Biofuel not found in scenario data.\n",
      "Variable Final Energy|Transportation|Freight|Heavy Truck|Electricity not found in scenario data.\n",
      "Variable Final Energy|Transportation|Freight|Heavy Truck|Gas not found in scenario data.\n",
      "Variable Final Energy|Transportation|Freight|Heavy Truck|H2 not found in scenario data.\n",
      "Variable Final Energy|Transportation|Freight|Heavy Truck|Oil not found in scenario data.\n",
      "Variable Final Energy|Transportation|Freight|International Shipping|Biofuel not found in scenario data.\n",
      "Variable Final Energy|Transportation|Freight|International Shipping|Electricity not found in scenario data.\n",
      "Variable Final Energy|Transportation|Freight|International Shipping|Gas not found in scenario data.\n",
      "Variable Final Energy|Transportation|Freight|International Shipping|H2 not found in scenario data.\n",
      "Variable Final Energy|Transportation|Freight|International Shipping|Oil not found in scenario data.\n",
      "Variable Final Energy|Transportation|Freight|Medium Truck|Biofuel not found in scenario data.\n",
      "Variable Final Energy|Transportation|Freight|Medium Truck|Electricity not found in scenario data.\n",
      "Variable Final Energy|Transportation|Freight|Medium Truck|Gas not found in scenario data.\n",
      "Variable Final Energy|Transportation|Freight|Medium Truck|H2 not found in scenario data.\n",
      "Variable Final Energy|Transportation|Freight|Medium Truck|Oil not found in scenario data.\n",
      "Variable Final Energy|Transportation|Freight|National Shipping|Biofuel not found in scenario data.\n",
      "Variable Final Energy|Transportation|Freight|National Shipping|Electricity not found in scenario data.\n",
      "Variable Final Energy|Transportation|Freight|National Shipping|Gas not found in scenario data.\n",
      "Variable Final Energy|Transportation|Freight|National Shipping|H2 not found in scenario data.\n",
      "Variable Final Energy|Transportation|Freight|National Shipping|Oil not found in scenario data.\n",
      "Variable Final Energy|Transportation|Freight|Train|Biofuel not found in scenario data.\n",
      "Variable Final Energy|Transportation|Freight|Train|Electricity not found in scenario data.\n",
      "Variable Final Energy|Transportation|Freight|Train|Gas not found in scenario data.\n",
      "Variable Final Energy|Transportation|Freight|Train|H2 not found in scenario data.\n",
      "Variable Final Energy|Transportation|Freight|Train|Oil not found in scenario data.\n"
     ]
    }
   ],
   "source": [
    "from pathways import Pathways\n",
    "p = Pathways(datapackage=\"image-SSP2-stem-SPS1/datapackage.json\")"
   ]
  },
  {
   "cell_type": "code",
   "execution_count": 2,
   "id": "4f1f9a86-bb48-4f89-a4dc-9477f32840a7",
   "metadata": {},
   "outputs": [
    {
     "name": "stdout",
     "output_type": "stream",
     "text": [
      "Calculating LCA results for image...\n",
      "--- Calculating LCA results for SSP2-Base...\n",
      "------ Calculating LCA results for 2020...\n",
      "CH is not an IAM location.\n",
      "CH is not an IAM location.\n",
      "CH is not an IAM location.\n"
     ]
    },
    {
     "name": "stderr",
     "output_type": "stream",
     "text": [
      "0% [#] 100% | ETA: 00:00:00\n",
      "Total time elapsed: 00:00:00\n"
     ]
    },
    {
     "name": "stdout",
     "output_type": "stream",
     "text": [
      "------ Calculating LCA results for 2030...\n",
      "CH is not an IAM location.\n",
      "CH is not an IAM location.\n",
      "CH is not an IAM location.\n"
     ]
    },
    {
     "name": "stderr",
     "output_type": "stream",
     "text": [
      "0% [#] 100% | ETA: 00:00:01\n",
      "Total time elapsed: 00:00:00\n"
     ]
    },
    {
     "name": "stdout",
     "output_type": "stream",
     "text": [
      "------ Calculating LCA results for 2040...\n",
      "CH is not an IAM location.\n",
      "CH is not an IAM location.\n",
      "CH is not an IAM location.\n"
     ]
    },
    {
     "name": "stderr",
     "output_type": "stream",
     "text": [
      "0% [#] 100% | ETA: 00:00:01\n",
      "Total time elapsed: 00:00:00\n"
     ]
    },
    {
     "name": "stdout",
     "output_type": "stream",
     "text": [
      "------ Calculating LCA results for 2050...\n",
      "CH is not an IAM location.\n",
      "CH is not an IAM location.\n",
      "CH is not an IAM location.\n"
     ]
    },
    {
     "name": "stderr",
     "output_type": "stream",
     "text": [
      "0% [#] 100% | ETA: 00:00:01\n",
      "Total time elapsed: 00:00:00\n"
     ]
    }
   ],
   "source": [
    "import numpy as np\n",
    "p.calculate(\n",
    "    methods=[\n",
    "        'IPCC 2021 - climate change - GWP 100a, incl. H',\n",
    "        'IPCC 2021 - climate change - GWP 100a, incl. H and bio CO2',\n",
    "    ],\n",
    "    regions=[\"CH\",],\n",
    "    scenarios=[\n",
    "        \"SSP2-Base\",\n",
    "        #\"SSP2-RCP19\",\n",
    "    ],\n",
    "    variables=[\n",
    "        \"hydro_run_of_river\",\n",
    "        \"hydro (reservoir)\",\n",
    "        \"hydro (pumped storage)\",\n",
    "        \"nuclear (boiling water)\",\n",
    "        \"nuclear (pressure water)\",\n",
    "        \"oil (peak devices)\",\n",
    "        \"oil (DH CHP)\",\n",
    "        \"oil (industry CHP)\",\n",
    "        \"gas (CCGT)\",\n",
    "        \"gas (OCGT)\",\n",
    "        \"gas (CCGT CCS)\",\n",
    "        \"gas (CHP DH)\",\n",
    "        \"gas (fuel cell DH)\",\n",
    "        \"gas (CHP industry)\",\n",
    "        \"gas (CHP CCS industry)\",\n",
    "        \"gas (CHP fuel cell reformer)\",\n",
    "        \"gas (CHP single family)\",\n",
    "        \"gas (single family CHP fuel cell)\",\n",
    "        \"gas (multi family CHP)\",\n",
    "        \"gas (multi family CHP fuel cell)\",\n",
    "        \"biogas (services CHP)\",\n",
    "        \"gas (services CHP)\",\n",
    "        \"gas (services CHP fuel cell)\",\n",
    "        \"waste incineration, fossil\",\n",
    "        \"waste incineration, fossil (CHP)\",\n",
    "        \"waste incineration, fossil (industrial)\",\n",
    "        \"waste incineration, fossil (CCS)\",\n",
    "        \"waste incineration, fossil (CHP, CCS)\",\n",
    "        \"waste incineration, fossil (industrial, CCS)\",\n",
    "        \"waste incineration, non-fossil\",\n",
    "        \"waste incineration, non-fossil (CHP)\",\n",
    "        \"waste incineration, non-fossil (industrial)\",\n",
    "        \"waste incineration, non-fossil (CCS)\",\n",
    "        \"waste incineration, non-fossil (CHP, CCS)\",\n",
    "        \"waste incineration, non-fossil (industrial, CCS)\",\n",
    "        \"pv (large scale)\",\n",
    "        \"pv (industry)\",\n",
    "        \"pv (services)\",\n",
    "        \"pv residential (multi family)\",\n",
    "        \"pv residential (single family)\",\n",
    "        \"wind\",\n",
    "        \"geothermal\",\n",
    "        \"hydrogen fuel cell (DH CHP)\",\n",
    "        \"hydrogen fuel cell (industrial CHP)\",\n",
    "        \"hydrogen fuel cell (services CHP)\",\n",
    "        \"biomass (DH)\",\n",
    "        \"biomass (CHP)\",\n",
    "        \"biomass (CCS, BECCS)\",\n",
    "        \"biomass (CCS, industrial)\",\n",
    "        \"battery (large)\",\n",
    "        \"battery (medium)\",\n",
    "        \"battery (industry)\",\n",
    "        \"battery (services)\",\n",
    "        \"battery (single family)\",\n",
    "        \"battery (multi family)\",\n",
    "        \"CAES\",\n",
    "        \"import\",\n",
    "    ],\n",
    "    years=[\n",
    "        2020,\n",
    "        2030,\n",
    "        2040,\n",
    "        2050\n",
    "    ],\n",
    "    characterization=True,\n",
    "    data_type=np.float32,\n",
    "    multiprocessing=False,\n",
    "    demand_cutoff=0.001,\n",
    ")\n",
    "arr = p.display_results()"
   ]
  },
  {
   "cell_type": "code",
   "execution_count": 3,
   "id": "3d0c4403-81c3-42cb-999a-4628dce47647",
   "metadata": {},
   "outputs": [],
   "source": [
    "df = arr.to_dataframe(\"x\").unstack()[\"x\"].reset_index().melt(id_vars=[\n",
    "    \"model\", \"scenario\", \"region\", \"impact_category\", \"variable\", \"year\"\n",
    "])"
   ]
  },
  {
   "cell_type": "code",
   "execution_count": 4,
   "id": "018824a9-5be3-4d68-b2c7-a6ff6db3caa8",
   "metadata": {},
   "outputs": [],
   "source": [
    "df=df.loc[~df[\"value\"].isnull()]"
   ]
  },
  {
   "cell_type": "code",
   "execution_count": 5,
   "id": "29401401-d42d-4116-8e86-467ed41beb65",
   "metadata": {},
   "outputs": [
    {
     "data": {
      "text/plain": [
       "6726"
      ]
     },
     "execution_count": 5,
     "metadata": {},
     "output_type": "execute_result"
    }
   ],
   "source": [
    "len(df)"
   ]
  },
  {
   "cell_type": "code",
   "execution_count": 6,
   "id": "f0c85132-0a04-4db8-98a1-b5019ff06787",
   "metadata": {},
   "outputs": [
    {
     "data": {
      "text/html": [
       "\n",
       "        <iframe\n",
       "            width=\"100%\"\n",
       "            height=\"500\"\n",
       "            src=\"pivottable_ch.html\"\n",
       "            frameborder=\"0\"\n",
       "            allowfullscreen\n",
       "            \n",
       "        ></iframe>\n",
       "        "
      ],
      "text/plain": [
       "<IPython.lib.display.IFrame at 0x107a806a0>"
      ]
     },
     "execution_count": 6,
     "metadata": {},
     "output_type": "execute_result"
    }
   ],
   "source": [
    "from pivottablejs import pivot_ui\n",
    "from IPython.display import HTML\n",
    "pivot_ui(df, outfile_path='pivottable_ch.html')"
   ]
  },
  {
   "cell_type": "code",
   "execution_count": 6,
   "id": "399e1abb-591f-4337-ab13-19d178a7035e",
   "metadata": {},
   "outputs": [
    {
     "data": {
      "text/html": [
       "\n",
       "        <iframe\n",
       "            width=\"100%\"\n",
       "            height=\"500\"\n",
       "            src=\"pivottable_ch.html\"\n",
       "            frameborder=\"0\"\n",
       "            allowfullscreen\n",
       "            \n",
       "        ></iframe>\n",
       "        "
      ],
      "text/plain": [
       "<IPython.lib.display.IFrame at 0x15b6b6310>"
      ]
     },
     "execution_count": 6,
     "metadata": {},
     "output_type": "execute_result"
    }
   ],
   "source": [
    "from pivottablejs import pivot_ui\n",
    "from IPython.display import HTML\n",
    "pivot_ui(df, outfile_path='pivottable_ch.html')"
   ]
  },
  {
   "cell_type": "code",
   "execution_count": null,
   "id": "7d78d835-eb40-4962-89cc-59639d356f79",
   "metadata": {},
   "outputs": [],
   "source": []
  }
 ],
 "metadata": {
  "kernelspec": {
   "display_name": "Python 3 (ipykernel)",
   "language": "python",
   "name": "python3"
  },
  "language_info": {
   "codemirror_mode": {
    "name": "ipython",
    "version": 3
   },
   "file_extension": ".py",
   "mimetype": "text/x-python",
   "name": "python",
   "nbconvert_exporter": "python",
   "pygments_lexer": "ipython3",
   "version": "3.9.18"
  }
 },
 "nbformat": 4,
 "nbformat_minor": 5
}
