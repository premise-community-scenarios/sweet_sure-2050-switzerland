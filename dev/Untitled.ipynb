{
 "cells": [
  {
   "cell_type": "code",
   "execution_count": 1,
   "id": "90707135-94b0-4255-b298-714ed0038250",
   "metadata": {},
   "outputs": [],
   "source": [
    "from premise import *\n",
    "import bw2data\n",
    "from datapackage import Package\n",
    "bw2data.projects.set_current(\"ei39\")"
   ]
  },
  {
   "cell_type": "code",
   "execution_count": 2,
   "id": "dd2763b8-b6f1-499f-8b72-e6a296052dbc",
   "metadata": {},
   "outputs": [
    {
     "name": "stdout",
     "output_type": "stream",
     "text": [
      "premise v.(2, 0, 1)\n",
      "+------------------------------------------------------------------+\n",
      "| Warning                                                          |\n",
      "+------------------------------------------------------------------+\n",
      "| Because some of the scenarios can yield LCI databases            |\n",
      "| containing net negative emission technologies (NET),             |\n",
      "| it is advised to account for biogenic CO2 flows when calculating |\n",
      "| Global Warming potential indicators.                             |\n",
      "| `premise_gwp` provides characterization factors for such flows.  |\n",
      "| It also provides factors for hydrogen emissions to air.          |\n",
      "|                                                                  |\n",
      "| Within your bw2 project:                                         |\n",
      "| from premise_gwp import add_premise_gwp                          |\n",
      "| add_premise_gwp()                                                |\n",
      "+------------------------------------------------------------------+\n",
      "+--------------------------------+----------------------------------+\n",
      "| Utils functions                | Description                      |\n",
      "+--------------------------------+----------------------------------+\n",
      "| clear_cache()                  | Clears the cache folder. Useful  |\n",
      "|                                | when updating `premise`or        |\n",
      "|                                | encountering issues with         |\n",
      "|                                | inventories.                     |\n",
      "+--------------------------------+----------------------------------+\n",
      "| get_regions_definition(model)  | Retrieves the list of countries  |\n",
      "|                                | for each region of the model.    |\n",
      "+--------------------------------+----------------------------------+\n",
      "| ndb.NewDatabase(...)           | Generates a summary of the most  |\n",
      "| ndb.generate_scenario_report() | important scenarios' variables.  |\n",
      "+--------------------------------+----------------------------------+\n",
      "Keep uncertainty data?\n",
      "NewDatabase(..., keep_uncertainty_data=True)\n",
      "\n",
      "Disable multiprocessing?\n",
      "NewDatabase(..., use_multiprocessing=False)\n",
      "\n",
      "Hide these messages?\n",
      "NewDatabase(..., quiet=True)\n",
      "- Extracting source database\n",
      "- Extracting inventories\n",
      "- Fetching IAM data\n",
      "Done!\n"
     ]
    }
   ],
   "source": [
    "scenarios = [\n",
    "    #{\"model\": \"image\", \"pathway\": \"SSP2-Base\", \"year\": 2020},\n",
    "    #{\"model\": \"image\", \"pathway\": \"SSP2-Base\", \"year\": 2022},\n",
    "    #{\"model\": \"image\", \"pathway\": \"SSP2-Base\", \"year\": 2025},\n",
    "    #{\"model\": \"image\", \"pathway\": \"SSP2-Base\", \"year\": 2030},\n",
    "    #{\"model\": \"image\", \"pathway\": \"SSP2-Base\", \"year\": 2040},\n",
    "    {\"model\": \"image\", \"pathway\": \"SSP2-Base\", \"year\": 2050},\n",
    "]\n",
    "\n",
    "sps = Package(\"../datapackage.json\")\n",
    "\n",
    "ndb = NewDatabase(\n",
    "        scenarios=scenarios,\n",
    "        source_db=\"ecoinvent 3.9.1 cutoff\",\n",
    "        source_version=\"3.9.1\",\n",
    "        key='tUePmX_S5B8ieZkkM7WUU2CnO8SmShwmAeWK9x2rTFo=',\n",
    "        external_scenarios=[sps,],\n",
    "        use_multiprocessing=False\n",
    ")"
   ]
  },
  {
   "cell_type": "code",
   "execution_count": 3,
   "id": "268af87f-a1de-472e-97b6-df71104c0a94",
   "metadata": {},
   "outputs": [
    {
     "name": "stderr",
     "output_type": "stream",
     "text": [
      "Updating: external:   0%|                       | 0/1 [00:00<?, ?it/s]"
     ]
    },
    {
     "name": "stdout",
     "output_type": "stream",
     "text": [
      "Regionalizing electricity production, oil, electricity, high voltage, RoW\n",
      "not found in regions\n",
      "Adding electricity production, oil, CH to the database\n",
      "Regionalizing electricity production, compressed air energy storage, electricity, high voltage, RER\n",
      "not found in regions\n",
      "Adding electricity production, compressed air energy storage, CH to the database\n",
      "Regionalizing heat and power co-generation, natural gas, conventional power plant, 100MW electrical, electricity, high voltage, RoW\n",
      "not found in regions\n",
      "Adding heat and power co-generation, natural gas, conventional power plant, 100MW electrical, CH to the database\n",
      "Regionalizing carbon dioxide, captured at wood burning power plant 20 MW post, pipeline 200km, storage 1000m, carbon dioxide, captured at wood burning power plant 20 MW post, pipeline 200km, storage 1000m, RER\n",
      "not found in regions\n",
      "Adding carbon dioxide, captured at wood burning power plant 20 MW post, pipeline 200km, storage 1000m, CH to the database\n",
      "Regionalizing electricity production, at natural gas-fired combined cycle power plant, post, pipeline 200km, storage 1000m, electricity, high voltage, RER\n",
      "not found in regions\n",
      "Adding electricity production, at natural gas-fired combined cycle power plant, post, pipeline 200km, storage 1000m, CH to the database\n",
      "Regionalizing electricity production, at co-generation wood-fired power plant, post, pipeline 200km, storage 1000m, electricity, high voltage, RER\n",
      "not found in regions\n",
      "Adding electricity production, at co-generation wood-fired power plant, post, pipeline 200km, storage 1000m, CH to the database\n",
      "Regionalizing electricity production, at co-generation natural gas-fired power plant, post, pipeline 200km, storage 1000m, electricity, high voltage, RER\n",
      "not found in regions\n",
      "Adding electricity production, at co-generation natural gas-fired power plant, post, pipeline 200km, storage 1000m, CH to the database\n",
      "Regionalizing methane, from electrochemical methanation, with carbon from atmosphere, methane, from electrochemical methanation, RER\n",
      "not found in regions\n",
      "Adding methane, from electrochemical methanation, with carbon from atmosphere, CH to the database\n",
      "Regionalizing electricity production, at biomass-fired IGCC power plant, pre, pipeline 200km, storage 1000m, electricity, high voltage, RER\n",
      "not found in regions\n",
      "Adding electricity production, at biomass-fired IGCC power plant, pre, pipeline 200km, storage 1000m, CH to the database\n",
      "Regionalizing electricity supply, high voltage, from vanadium-redox flow battery system, electricity, high voltage, RER\n",
      "not found in regions\n",
      "Adding electricity supply, high voltage, from vanadium-redox flow battery system, CH to the database\n",
      "Regionalizing electricity production, oil, electricity, high voltage, CH\n",
      "Regionalizing heat and power co-generation, natural gas, conventional power plant, 100MW electrical, electricity, high voltage, CH\n",
      "Regionalizing carbon dioxide, captured at wood burning power plant 20 MW post, pipeline 200km, storage 1000m, carbon dioxide, captured at wood burning power plant 20 MW post, pipeline 200km, storage 1000m, CH\n",
      "Regionalizing electricity production, at natural gas-fired combined cycle power plant, post, pipeline 200km, storage 1000m, electricity, high voltage, CH\n",
      "Regionalizing electricity production, at co-generation wood-fired power plant, post, pipeline 200km, storage 1000m, electricity, high voltage, CH\n",
      "Regionalizing electricity production, at co-generation natural gas-fired power plant, post, pipeline 200km, storage 1000m, electricity, high voltage, CH\n",
      "Regionalizing methane, from electrochemical methanation, with carbon from atmosphere, methane, from electrochemical methanation, CH\n",
      "Regionalizing electricity production, at biomass-fired IGCC power plant, pre, pipeline 200km, storage 1000m, electricity, high voltage, CH\n",
      "Regionalizing electricity supply, high voltage, from vanadium-redox flow battery system, electricity, high voltage, CH\n",
      "No suppliers found for market for heavy fuel oil (SPS) in CH. No market created. This may cause linking issue.\n"
     ]
    },
    {
     "name": "stderr",
     "output_type": "stream",
     "text": [
      "Updating: external: 100%|███████████████| 1/1 [00:04<00:00,  4.83s/it]"
     ]
    },
    {
     "name": "stdout",
     "output_type": "stream",
     "text": [
      "Done!\n",
      "\n"
     ]
    },
    {
     "name": "stderr",
     "output_type": "stream",
     "text": [
      "\n"
     ]
    }
   ],
   "source": [
    "ndb.update(\"external\")"
   ]
  },
  {
   "cell_type": "code",
   "execution_count": 4,
   "id": "44faf9ab-68a4-4fc0-b3b2-3514a36e6a89",
   "metadata": {},
   "outputs": [
    {
     "name": "stdout",
     "output_type": "stream",
     "text": [
      "market for electricity, high voltage (SP 1 CH kilowatt hour\n",
      "electricity production, hydro, run-of-ri 0.2098645143070873 CH kilowatt hour\n",
      "electricity production, hydro, reservoir 0.24128864212686676 CH kilowatt hour\n",
      "electricity production, hydro, pumped st 0.044427203948210384 CH kilowatt hour\n",
      "electricity production, natural gas, 10M 5.227744089657459e-05 CH kilowatt hour\n",
      "heat and power co-generation, natural ga 0.000321700668677393 CH kilowatt hour\n",
      "heat and power co-generation, natural ga 2.404222733862657e-06 CH kilowatt hour\n",
      "electricity production, at co-generation 1.3897630817602434e-06 CH kilowatt hour\n",
      "heat and power co-generation, natural ga 0.0007319337772699444 CH kilowatt hour\n",
      "heat and power co-generation, natural ga 5.906200050120565e-05 CH kilowatt hour\n",
      "heat and power co-generation, biogas, ga 0.009267434940539356 CH kilowatt hour\n",
      "electricity production, from incineratio 0.00775758732387819 CH kilowatt hour\n",
      "electricity production, from incineratio 0.0011658322926844514 CH kilowatt hour\n",
      "electricity production, at co-generation 0.0074086455344119775 CH kilowatt hour\n",
      "electricity production, at co-generation 0.0011865386014710817 CH kilowatt hour\n",
      "electricity production, at co-generation 0.001977028311755584 CH kilowatt hour\n",
      "electricity production, from biowaste, m 0.00775758732387819 CH kilowatt hour\n",
      "electricity production, from biowaste, m 0.0011658322926844514 CH kilowatt hour\n",
      "electricity production, at co-generation 0.0074086455344119775 CH kilowatt hour\n",
      "electricity production, at co-generation 0.0011865386014710817 CH kilowatt hour\n",
      "electricity production, at co-generation 0.001977028311755584 CH kilowatt hour\n",
      "electricity production, photovoltaic, co 0.04801067858558663 CH kilowatt hour\n",
      "electricity production, photovoltaic, co 0.1717588951605704 CH kilowatt hour\n",
      "electricity production, photovoltaic, co 0.03321561017573829 CH kilowatt hour\n",
      "electricity production, photovoltaic, re 0.01279191463928207 CH kilowatt hour\n",
      "electricity production, photovoltaic, re 0.025203965179984383 CH kilowatt hour\n",
      "electricity production, wind, 1-3MW turb 0.08526261872510171 CH kilowatt hour\n",
      "electricity production, deep geothermal 1.1668942559713217e-07 CH kilowatt hour\n",
      "electricity, residential, by conversion  0.0008496526899954773 CH kilowatt hour\n",
      "heat and power co-generation, wood chips 0.000895243115084199 CH kilowatt hour\n",
      "electricity production, at biomass-fired 0.01233854158791137 CH kilowatt hour\n",
      "electricity production, at co-generation 0.018061289276655377 CH kilowatt hour\n",
      "electricity supply, high voltage, from v 2.214694292456259e-05 CH kilowatt hour\n",
      "electricity supply, high voltage, from v 0.002615921361361641 CH kilowatt hour\n",
      "electricity supply, high voltage, from v 1.0616423532429127e-10 CH kilowatt hour\n",
      "electricity supply, from stationary 19.5 1.5369405072542445e-07 CH kilowatt hour\n",
      "electricity supply, from stationary 19.5 0.001346325871945658 CH kilowatt hour\n",
      "electricity production, compressed air e 6.265519907936091e-05 CH kilowatt hour\n",
      "market group for electricity, high volta 0.04255644367487126 RER kilowatt hour\n",
      "transmission network construction, elect 6.58e-09 CH kilometer\n",
      "Dinitrogen monoxide 5e-06 None kilogram\n",
      "Ozone 4.16e-06 None kilogram\n",
      "\n",
      "market for electricity, medium voltage ( 1 CH kilowatt hour\n",
      "market for electricity, high voltage (SP 1.0 CH kilowatt hour\n",
      "market for sulfur hexafluoride, liquid 5.4e-08 RER kilogram\n",
      "transmission network construction, elect 1.86e-08 CH kilometer\n",
      "Sulfur hexafluoride 5.4e-08 None kilogram\n",
      "market for electricity, high voltage (SP 0.065 CH kilowatt hour\n",
      "\n",
      "market for electricity, low voltage (SPS 1 CH kilowatt hour\n",
      "market for electricity, medium voltage ( 1.0 CH kilowatt hour\n",
      "market for sulfur hexafluoride, liquid 2.99e-09 RER kilogram\n",
      "distribution network construction, elect 8.74e-08 CH kilometer\n",
      "Sulfur hexafluoride 2.99e-09 None kilogram\n",
      "market for electricity, medium voltage ( 0.027 CH kilowatt hour\n",
      "\n",
      "market for gas, for power generation (SP 1 CH cubic meter\n",
      "market for natural gas, high pressure 0.9285759801883099 CH cubic meter\n",
      "methane, from electrochemical methanatio 0.005790518793832704 CH kilogram\n",
      "market for biomethane, high pressure 0.02992149111201236 CH cubic meter\n",
      "market for biomethane, high pressure 0.02992149111201236 CH cubic meter\n",
      "methane, from electrochemical methanatio 0.005790518793832704 CH kilogram\n",
      "\n",
      "market for light fuel oil (SPS) 1 CH kilogram\n",
      "light fuel oil, import from Europe 1.0 CH kilogram\n",
      "market for transport, freight train 0.0336 CH ton kilometer\n",
      "market for transport, freight, lorry, un 0.0326 RER ton kilometer\n",
      "market for electricity, low voltage 0.0067 CH kilowatt hour\n",
      "market for tap water 0.000689 CH kilogram\n",
      "light fuel oil production, from waste po 0.000551109935409916 CH kilogram\n",
      "infrastructure construction, for regiona 1.04e-10 RER unit\n",
      "treatment of wastewater, average, wastew -6.89e-07 CH cubic meter\n",
      "market for municipal solid waste -6.27e-06 CH kilogram\n",
      "market for fly ash and scrubber sludge -1.85e-05 CH kilogram\n",
      "market for rainwater mineral oil storage -5e-05 CH cubic meter\n",
      "Water 1.0335e-07 None cubic meter\n",
      "Water 5.8565e-07 None cubic meter\n",
      "\n",
      "market for biomass, for power generation 1 CH kilogram\n",
      "market for forest residue 0.2738882214629425 CH kilogram\n",
      "market for forest residue 0.11946508010597784 CH kilogram\n",
      "market for forest residue 0.0668124549027237 CH kilogram\n",
      "market for wood chips, wet, measured as  0.539834243528356 CH kilogram\n",
      "\n"
     ]
    }
   ],
   "source": [
    "for ds in ndb.scenarios[0][\"database\"]:\n",
    "    if \"SPS\" in ds[\"name\"]:\n",
    "        for e in ds[\"exchanges\"]:\n",
    "            print(e[\"name\"][:40], e[\"amount\"], e.get(\"location\"), e[\"unit\"])\n",
    "        print()"
   ]
  },
  {
   "cell_type": "code",
   "execution_count": 5,
   "id": "048cc27c-3a8e-4013-a3f9-c521e4cee64b",
   "metadata": {},
   "outputs": [
    {
     "name": "stdout",
     "output_type": "stream",
     "text": [
      "['location', 'comment', 'production amount', 'source', 'reference product', 'type', 'unit', 'name', 'exchanges', 'worksheet name', 'database', 'code', 'regions', 'technosphere filters', 'biosphere filters', 'production volume variable']\n",
      "electricity supply, high voltage, from vanadium-redox flow battery system 1 RER\n",
      "market group for electricity, high voltage 1.33 RER\n",
      "vanadium-redox flow battery system assembly, 8.3 megawatt hour 2.0408163265306123e-08 RER\n",
      "vanadium-redox flow battery stack assembly 2.0408163265306123e-08 RER\n",
      "treatment of stack, for VRFB system -0.00041 RER\n",
      "treatment of electrolyte tank, for VRFB system -0.00066 RER\n",
      "treatment of electrolyte solution, for VRFB system -0.00555 RER\n",
      "treatment of periphericals, for VRFB system -0.0001 RER\n",
      "\n",
      "['location', 'comment', 'production amount', 'source', 'reference product', 'type', 'unit', 'name', 'exchanges', 'worksheet name', 'database', 'code', 'regions', 'technosphere filters', 'biosphere filters', 'production volume variable', 'production volume', 'log parameters', 'custom scenario dataset']\n",
      "electricity supply, high voltage, from vanadium-redox flow battery system 1 CH\n",
      "treatment of electrolyte solution, for VRFB system -0.0055169598509748575 RER\n",
      "treatment of electrolyte tank, for VRFB system -0.0006560709011970101 RER\n",
      "treatment of periphericals, for VRFB system -9.940468199954698e-05 RER\n",
      "treatment of stack, for VRFB system -0.0004075591961981426 RER\n",
      "vanadium-redox flow battery stack assembly 2.0286669795825913e-08 RER\n",
      "vanadium-redox flow battery system assembly, 8.3 megawatt hour 2.0286669795825913e-08 RER\n",
      "market for electricity, high voltage (SPS) 1.3220822705939748 CH\n",
      "\n"
     ]
    }
   ],
   "source": [
    "for ds in ndb.scenarios[0][\"database\"]:\n",
    "    if ds[\"name\"] == \"electricity supply, high voltage, from vanadium-redox flow battery system\" and ds[\"unit\"] == \"kilowatt hour\":\n",
    "        print(list(ds.keys()))\n",
    "        for e in ds[\"exchanges\"]:\n",
    "            print(e[\"name\"], e[\"amount\"], e.get(\"location\"))\n",
    "        print()"
   ]
  },
  {
   "cell_type": "code",
   "execution_count": 4,
   "id": "015664fb-d82b-475d-bb4e-aced6f36237f",
   "metadata": {},
   "outputs": [
    {
     "name": "stdout",
     "output_type": "stream",
     "text": [
      "Generate change report.\n",
      "Report saved under /Users/romain/GitHub/sweet_sure-2050-switzerland/dev.\n"
     ]
    }
   ],
   "source": [
    "ndb.generate_change_report()"
   ]
  },
  {
   "cell_type": "code",
   "execution_count": 6,
   "id": "571f2b99-a687-4a4f-8f48-ac146be374a6",
   "metadata": {},
   "outputs": [
    {
     "name": "stdout",
     "output_type": "stream",
     "text": [
      "Write new database(s) to Brightway.\n",
      "Running all checks...\n",
      "Anomalies found: check the change report.\n"
     ]
    },
    {
     "name": "stderr",
     "output_type": "stream",
     "text": [
      "Writing activities to SQLite3 database:\n",
      "0% [##############################] 100% | ETA: 00:00:00\n",
      "Total time elapsed: 00:00:22\n"
     ]
    },
    {
     "name": "stdout",
     "output_type": "stream",
     "text": [
      "Title: Writing activities to SQLite3 database:\n",
      "  Started: 02/21/2024 12:48:43\n",
      "  Finished: 02/21/2024 12:49:05\n",
      "  Total time elapsed: 00:00:22\n",
      "  CPU %: 95.40\n",
      "  Memory %: 7.94\n",
      "Created database: test SPS1 7\n",
      "Generate scenario report.\n",
      "Report saved under /Users/romain/GitHub/sweet_sure-2050-switzerland/dev/export/scenario_report.\n",
      "Generate change report.\n",
      "Report saved under /Users/romain/GitHub/sweet_sure-2050-switzerland/dev.\n"
     ]
    }
   ],
   "source": [
    "ndb.write_db_to_brightway(\"test SPS1 7\")"
   ]
  },
  {
   "cell_type": "code",
   "execution_count": 14,
   "id": "89e232df-89be-4ec9-ac8a-2761e243c004",
   "metadata": {},
   "outputs": [
    {
     "data": {
      "text/plain": [
       "array(['Electricity generation|Electricity storage (non hydro)|Batteries in Services sector',\n",
       "       'Electricity generation|Electricity storage (non hydro)|Batteries in industry',\n",
       "       'Electricity generation|Electricity storage (non hydro)|Batteries in residential multi-family houses',\n",
       "       'Electricity generation|Electricity storage (non hydro)|Batteries in residentiial single family houses',\n",
       "       'Electricity generation|Electricity storage (non hydro)|Battery storage large size centralised',\n",
       "       'Electricity generation|Electricity storage (non hydro)|Battery storage medium size centralised',\n",
       "       'Electricity generation|Electricity storage (non hydro)|CAES',\n",
       "       'Electricity generation|Geothermal|Deep geothermal',\n",
       "       'Electricity generation|Hydrogen|CHP Fuel Cell Hydrogen (for District Heating)',\n",
       "       'Electricity generation|Hydrogen|Industrial CHPs fuel cells (hydrogen)',\n",
       "       'Electricity generation|Hydro|Hydro Large',\n",
       "       'Electricity generation|Hydro|Hydro Run of River',\n",
       "       'Electricity generation|Hydro|Pump storage',\n",
       "       'Electricity generation|Nuclear fuel|Boiling water',\n",
       "       'Electricity generation|Nuclear fuel|Pressure water',\n",
       "       'Electricity generation|Solar|Solar PV (Industry)',\n",
       "       'Electricity generation|Solar|Solar PV (Residential multi family)',\n",
       "       'Electricity generation|Solar|Solar PV (Residential single family)',\n",
       "       'Electricity generation|Solar|Solar PV (Services)',\n",
       "       'Electricity generation|Solar|Solar PV (large scale)',\n",
       "       'Electricity generation|Wastes|CHP Wastes (for District Heating)',\n",
       "       'Electricity generation|Wastes|Industrial CHPs wastes',\n",
       "       'Electricity generation|Wastes|Wastes Incineration (electric only)',\n",
       "       'Electricity generation|Wind|Wind turbines',\n",
       "       'Electricity generation|Wood|Biomass with CCS (BECCS)',\n",
       "       'Electricity generation|Wood|CHP Wood (for District Heating)',\n",
       "       'Electricity generation|Wood|Industrial CHPs wood',\n",
       "       'Electricity generation|Wood|Industrial CHPs wood (CCS)',\n",
       "       'Imports|Electricity'], dtype=object)"
      ]
     },
     "execution_count": 14,
     "metadata": {},
     "output_type": "execute_result"
    }
   ],
   "source": [
    "ndb.scenarios[0][\"external data\"][0][\"production volume\"].coords[\"variables\"].values"
   ]
  },
  {
   "cell_type": "code",
   "execution_count": 8,
   "id": "956553ed-bea1-4e96-9459-8b1ad68551e8",
   "metadata": {},
   "outputs": [
    {
     "data": {
      "text/plain": [
       "[]"
      ]
     },
     "execution_count": 8,
     "metadata": {},
     "output_type": "execute_result"
    }
   ],
   "source": [
    "sps.errors"
   ]
  },
  {
   "cell_type": "code",
   "execution_count": null,
   "id": "dd742014-f8cc-46fd-9387-5094efa527db",
   "metadata": {},
   "outputs": [],
   "source": []
  }
 ],
 "metadata": {
  "kernelspec": {
   "display_name": "Python 3 (ipykernel)",
   "language": "python",
   "name": "python3"
  },
  "language_info": {
   "codemirror_mode": {
    "name": "ipython",
    "version": 3
   },
   "file_extension": ".py",
   "mimetype": "text/x-python",
   "name": "python",
   "nbconvert_exporter": "python",
   "pygments_lexer": "ipython3",
   "version": "3.10.13"
  }
 },
 "nbformat": 4,
 "nbformat_minor": 5
}
