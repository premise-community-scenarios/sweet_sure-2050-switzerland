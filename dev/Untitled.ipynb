{
 "cells": [
  {
   "cell_type": "code",
   "execution_count": 1,
   "id": "90707135-94b0-4255-b298-714ed0038250",
   "metadata": {},
   "outputs": [],
   "source": [
    "from premise import *\n",
    "import bw2data\n",
    "from datapackage import Package\n",
    "bw2data.projects.set_current(\"ei39\")"
   ]
  },
  {
   "cell_type": "code",
   "execution_count": 3,
   "id": "dd2763b8-b6f1-499f-8b72-e6a296052dbc",
   "metadata": {},
   "outputs": [
    {
     "name": "stdout",
     "output_type": "stream",
     "text": [
      "premise v.(2, 0, 2)\n",
      "+------------------------------------------------------------------+\n",
      "| Warning                                                          |\n",
      "+------------------------------------------------------------------+\n",
      "| Because some of the scenarios can yield LCI databases            |\n",
      "| containing net negative emission technologies (NET),             |\n",
      "| it is advised to account for biogenic CO2 flows when calculating |\n",
      "| Global Warming potential indicators.                             |\n",
      "| `premise_gwp` provides characterization factors for such flows.  |\n",
      "| It also provides factors for hydrogen emissions to air.          |\n",
      "|                                                                  |\n",
      "| Within your bw2 project:                                         |\n",
      "| from premise_gwp import add_premise_gwp                          |\n",
      "| add_premise_gwp()                                                |\n",
      "+------------------------------------------------------------------+\n",
      "+--------------------------------+----------------------------------+\n",
      "| Utils functions                | Description                      |\n",
      "+--------------------------------+----------------------------------+\n",
      "| clear_cache()                  | Clears the cache folder. Useful  |\n",
      "|                                | when updating `premise`or        |\n",
      "|                                | encountering issues with         |\n",
      "|                                | inventories.                     |\n",
      "+--------------------------------+----------------------------------+\n",
      "| get_regions_definition(model)  | Retrieves the list of countries  |\n",
      "|                                | for each region of the model.    |\n",
      "+--------------------------------+----------------------------------+\n",
      "| ndb.NewDatabase(...)           | Generates a summary of the most  |\n",
      "| ndb.generate_scenario_report() | important scenarios' variables.  |\n",
      "+--------------------------------+----------------------------------+\n",
      "Keep uncertainty data?\n",
      "NewDatabase(..., keep_uncertainty_data=True)\n",
      "\n",
      "Disable multiprocessing?\n",
      "NewDatabase(..., use_multiprocessing=False)\n",
      "\n",
      "Hide these messages?\n",
      "NewDatabase(..., quiet=True)\n",
      "- Extracting source database\n",
      "- Extracting inventories\n",
      "- Fetching IAM data\n",
      "Done!\n"
     ]
    }
   ],
   "source": [
    "scenarios = [\n",
    "    {\"model\": \"image\", \"pathway\": \"SSP2-RCP26\", \"year\": 2020},\n",
    "    #{\"model\": \"image\", \"pathway\": \"SSP2-RCP26\", \"year\": 2022},\n",
    "    #{\"model\": \"image\", \"pathway\": \"SSP2-Base\", \"year\": 2025},\n",
    "    #{\"model\": \"image\", \"pathway\": \"SSP2-Base\", \"year\": 2030},\n",
    "    #{\"model\": \"image\", \"pathway\": \"SSP2-Base\", \"year\": 2040},\n",
    "    #{\"model\": \"image\", \"pathway\": \"SSP2-RCP26\", \"year\": 2050},\n",
    "]\n",
    "\n",
    "sps = Package(\"../datapackage.json\")\n",
    "\n",
    "ndb = NewDatabase(\n",
    "        scenarios=scenarios,\n",
    "        source_db=\"ecoinvent 3.9.1 cutoff\",\n",
    "        source_version=\"3.9.1\",\n",
    "        key='tUePmX_S5B8ieZkkM7WUU2CnO8SmShwmAeWK9x2rTFo=',\n",
    "        external_scenarios=[sps,],\n",
    "        use_multiprocessing=False\n",
    ")"
   ]
  },
  {
   "cell_type": "code",
   "execution_count": 4,
   "id": "2383b371-1a3b-4f1e-8562-560e07b01913",
   "metadata": {},
   "outputs": [
    {
     "name": "stdout",
     "output_type": "stream",
     "text": [
      "`update()` will skip the following sectors: 'buses', 'cars', 'two_wheelers'.\n",
      "If you want to update these sectors, please run them separately afterwards.\n"
     ]
    },
    {
     "name": "stderr",
     "output_type": "stream",
     "text": [
      "Updating: metals:  55%|████████▋       | 6/11 [01:44<01:39, 19.84s/it]"
     ]
    },
    {
     "name": "stdout",
     "output_type": "stream",
     "text": [
      "Metal spodumene not found in alternative names. Skipping transport.\n",
      "Metal spodumene not found in alternative names. Skipping transport.\n",
      "Metal spodumene not found in alternative names. Skipping transport.\n",
      "Metal spodumene not found in alternative names. Skipping transport.\n",
      "Metal spodumene not found in alternative names. Skipping transport.\n",
      "Metal spodumene not found in alternative names. Skipping transport.\n",
      "Metal spodumene not found in alternative names. Skipping transport.\n",
      "Metal spodumene not found in alternative names. Skipping transport.\n",
      "Metal spodumene not found in alternative names. Skipping transport.\n",
      "Metal spodumene not found in alternative names. Skipping transport.\n",
      "Metal spodumene not found in alternative names. Skipping transport.\n",
      "Metal spodumene not found in alternative names. Skipping transport.\n",
      "Metal spodumene not found in alternative names. Skipping transport.\n",
      "Metal rare earth carbonate concentrate not found in alternative names. Skipping transport.\n",
      "Metal rare earth carbonate concentrate not found in alternative names. Skipping transport.\n",
      "Metal rare earth carbonate concentrate not found in alternative names. Skipping transport.\n",
      "Metal rare earth carbonate concentrate not found in alternative names. Skipping transport.\n",
      "Metal rare earth carbonate concentrate not found in alternative names. Skipping transport.\n",
      "Metal rare earth carbonate concentrate not found in alternative names. Skipping transport.\n",
      "Metal rare earth carbonate concentrate not found in alternative names. Skipping transport.\n",
      "Metal rare earth carbonate concentrate not found in alternative names. Skipping transport.\n",
      "Metal rare earth carbonate concentrate not found in alternative names. Skipping transport.\n",
      "Metal rare earth carbonate concentrate not found in alternative names. Skipping transport.\n",
      "Metal sand not found in alternative names. Skipping transport.\n",
      "Metal sand not found in alternative names. Skipping transport.\n",
      "Metal sand not found in alternative names. Skipping transport.\n",
      "Metal sand not found in alternative names. Skipping transport.\n",
      "Metal sand not found in alternative names. Skipping transport.\n",
      "Metal sand not found in alternative names. Skipping transport.\n",
      "Metal sand not found in alternative names. Skipping transport.\n",
      "Metal sand not found in alternative names. Skipping transport.\n",
      "Metal sand not found in alternative names. Skipping transport.\n",
      "Metal sand not found in alternative names. Skipping transport.\n",
      "Metal sand not found in alternative names. Skipping transport.\n",
      "Metal sand not found in alternative names. Skipping transport.\n",
      "Metal sand not found in alternative names. Skipping transport.\n",
      "Metal sand not found in alternative names. Skipping transport.\n",
      "Metal sand not found in alternative names. Skipping transport.\n",
      "Metal sand not found in alternative names. Skipping transport.\n",
      "Metal sand not found in alternative names. Skipping transport.\n",
      "Metal sand not found in alternative names. Skipping transport.\n",
      "Metal sand not found in alternative names. Skipping transport.\n",
      "Metal sand not found in alternative names. Skipping transport.\n",
      "Metal titanium tetrachloride not found in alternative names. Skipping transport.\n",
      "Metal titanium tetrachloride not found in alternative names. Skipping transport.\n",
      "Metal titanium tetrachloride not found in alternative names. Skipping transport.\n",
      "Metal titanium tetrachloride not found in alternative names. Skipping transport.\n",
      "Metal titanium tetrachloride not found in alternative names. Skipping transport.\n",
      "Metal titanium sponge not found in alternative names. Skipping transport.\n",
      "Metal titanium sponge not found in alternative names. Skipping transport.\n",
      "Metal titanium sponge not found in alternative names. Skipping transport.\n",
      "Metal titanium sponge not found in alternative names. Skipping transport.\n",
      "Metal titanium sponge not found in alternative names. Skipping transport.\n"
     ]
    },
    {
     "name": "stderr",
     "output_type": "stream",
     "text": [
      "Updating: external:  91%|███████████▊ | 10/11 [04:00<00:22, 22.55s/it]"
     ]
    },
    {
     "name": "stdout",
     "output_type": "stream",
     "text": [
      "Warning: Efficiency factor for electricity production, from incineration of plast in CH is 1.9702232866224763.\n",
      "Warning: Efficiency factor for electricity production, from incineration of plast in CH is 1.9702232866224763.\n",
      "Warning: Efficiency factor for electricity production, at co-generation plastic w in CH is 1.7732009579602288.\n",
      "Warning: Efficiency factor for electricity production, at co-generation plastic w in CH is 1.7732009579602288.\n",
      "Warning: Efficiency factor for electricity production, from biowaste, municipal i in CH is 1.5442290624878867.\n",
      "Warning: Efficiency factor for electricity production, from biowaste, municipal i in CH is 1.5442290624878867.\n",
      "Warning: ('electricity production, at natural gas-fired combined cycle power plant, post, pipeline 200km, storage 1000m', 'CH') has no energy input\n",
      "Warning: ('electricity production, at co-generation natural gas-fired power plant, post, pipeline 200km, storage 1000m', 'CH') has no energy input\n",
      "Warning: ('electricity production, at biomass-fired IGCC power plant, pre, pipeline 200km, storage 1000m', 'CH') has no energy input\n"
     ]
    },
    {
     "name": "stderr",
     "output_type": "stream",
     "text": [
      "Updating: external: 100%|█████████████| 11/11 [04:05<00:00, 22.29s/it]"
     ]
    },
    {
     "name": "stdout",
     "output_type": "stream",
     "text": [
      "Done!\n",
      "\n"
     ]
    },
    {
     "name": "stderr",
     "output_type": "stream",
     "text": [
      "\n"
     ]
    }
   ],
   "source": [
    "ndb.update()"
   ]
  },
  {
   "cell_type": "code",
   "execution_count": 5,
   "id": "aa1cb22c-f8fd-43ab-b434-e9b655800948",
   "metadata": {},
   "outputs": [],
   "source": [
    "db_names = []\n",
    "db_prods = []\n",
    "for ds in ndb.scenarios[0][\"database\"]:\n",
    "    db_names.append([ds[\"name\"], ds[\"reference product\"], ds[\"location\"]])\n",
    "    for e in ds[\"exchanges\"]:\n",
    "        if e[\"type\"] == \"production\":\n",
    "            db_prods.append([e[\"name\"], e[\"product\"], e[\"location\"]])\n",
    "            assert ds[\"name\"] == e[\"name\"]\n",
    "            assert ds[\"reference product\"] == e[\"product\"]\n",
    "            assert ds[\"location\"] == e[\"location\"]"
   ]
  },
  {
   "cell_type": "code",
   "execution_count": 6,
   "id": "53e68bfe-5ece-4ab9-b841-ea2b1a8608a3",
   "metadata": {},
   "outputs": [
    {
     "data": {
      "text/plain": [
       "36060"
      ]
     },
     "execution_count": 6,
     "metadata": {},
     "output_type": "execute_result"
    }
   ],
   "source": [
    "len(db_names)"
   ]
  },
  {
   "cell_type": "code",
   "execution_count": 7,
   "id": "f5972d00-e7fa-4085-82bf-5089e5d596d7",
   "metadata": {},
   "outputs": [
    {
     "data": {
      "text/plain": [
       "36060"
      ]
     },
     "execution_count": 7,
     "metadata": {},
     "output_type": "execute_result"
    }
   ],
   "source": [
    "len(db_prods)"
   ]
  },
  {
   "cell_type": "code",
   "execution_count": 5,
   "id": "6c487683-34c5-435f-99da-e1bf1eac20a1",
   "metadata": {},
   "outputs": [
    {
     "name": "stdout",
     "output_type": "stream",
     "text": [
      "Write new database(s) to Brightway.\n",
      "Running all checks...\n",
      "Anomalies found: check the change report.\n"
     ]
    },
    {
     "name": "stderr",
     "output_type": "stream",
     "text": [
      "Writing activities to SQLite3 database:\n",
      "0% [##############################] 100% | ETA: 00:00:00\n",
      "Total time elapsed: 00:00:19\n"
     ]
    },
    {
     "name": "stdout",
     "output_type": "stream",
     "text": [
      "Title: Writing activities to SQLite3 database:\n",
      "  Started: 04/03/2024 15:49:24\n",
      "  Finished: 04/03/2024 15:49:43\n",
      "  Total time elapsed: 00:00:19\n",
      "  CPU %: 90.20\n",
      "  Memory %: 6.19\n",
      "Created database: stem test 4\n",
      "Generate scenario report.\n",
      "Report saved under /Users/romain/Github/sweet_sure-2050-switzerland/dev/export/scenario_report.\n",
      "Generate change report.\n",
      "Report saved under /Users/romain/Github/sweet_sure-2050-switzerland/dev.\n"
     ]
    }
   ],
   "source": [
    "ndb.write_db_to_brightway(\"stem test 4\")"
   ]
  },
  {
   "cell_type": "code",
   "execution_count": 5,
   "id": "c6c3d506-2dc2-41ad-ad5c-668ccb23a6b2",
   "metadata": {},
   "outputs": [],
   "source": [
    "import numpy as np\n",
    "for ds in ndb.scenarios[0][\"database\"]:\n",
    "    for e in ds[\"exchanges\"]:\n",
    "        if np.isnan(e[\"amount\"]):\n",
    "            print(e)"
   ]
  },
  {
   "cell_type": "code",
   "execution_count": 1,
   "id": "89e232df-89be-4ec9-ac8a-2761e243c004",
   "metadata": {},
   "outputs": [
    {
     "name": "stdout",
     "output_type": "stream",
     "text": [
      "premise v.(2, 0, 2)\n",
      "+------------------------------------------------------------------+\n",
      "| Warning                                                          |\n",
      "+------------------------------------------------------------------+\n",
      "| Because some of the scenarios can yield LCI databases            |\n",
      "| containing net negative emission technologies (NET),             |\n",
      "| it is advised to account for biogenic CO2 flows when calculating |\n",
      "| Global Warming potential indicators.                             |\n",
      "| `premise_gwp` provides characterization factors for such flows.  |\n",
      "| It also provides factors for hydrogen emissions to air.          |\n",
      "|                                                                  |\n",
      "| Within your bw2 project:                                         |\n",
      "| from premise_gwp import add_premise_gwp                          |\n",
      "| add_premise_gwp()                                                |\n",
      "+------------------------------------------------------------------+\n",
      "+--------------------------------+----------------------------------+\n",
      "| Utils functions                | Description                      |\n",
      "+--------------------------------+----------------------------------+\n",
      "| clear_cache()                  | Clears the cache folder. Useful  |\n",
      "|                                | when updating `premise`or        |\n",
      "|                                | encountering issues with         |\n",
      "|                                | inventories.                     |\n",
      "+--------------------------------+----------------------------------+\n",
      "| get_regions_definition(model)  | Retrieves the list of countries  |\n",
      "|                                | for each region of the model.    |\n",
      "+--------------------------------+----------------------------------+\n",
      "| ndb.NewDatabase(...)           | Generates a summary of the most  |\n",
      "| ndb.generate_scenario_report() | important scenarios' variables.  |\n",
      "+--------------------------------+----------------------------------+\n",
      "Keep uncertainty data?\n",
      "NewDatabase(..., keep_uncertainty_data=True)\n",
      "\n",
      "Disable multiprocessing?\n",
      "NewDatabase(..., use_multiprocessing=False)\n",
      "\n",
      "Hide these messages?\n",
      "NewDatabase(..., quiet=True)\n",
      "- Extracting source database\n",
      "- Extracting inventories\n",
      "- Fetching IAM data\n",
      "Done!\n"
     ]
    }
   ],
   "source": [
    "from premise import *\n",
    "import bw2data\n",
    "from datapackage import Package\n",
    "bw2data.projects.set_current(\"ei39\")\n",
    "sps = Package(\"../datapackage.json\")\n",
    "ndb = PathwaysDataPackage(\n",
    "    scenarios=[\n",
    "        {\"model\": \"image\", \"pathway\": \"SSP2-RCP26\"},\n",
    "    ],\n",
    "    years=[2020, 2050],\n",
    "    #years=[2020, 2022, 2025, 2030, 2035, 2040, 2045, 2050],\n",
    "    source_db=\"ecoinvent 3.9.1 cutoff\", # <-- name of the database in the BW2 project. Must be a string.\n",
    "    source_version=\"3.9\", # <-- version of ecoinvent. Can be \"3.5\", \"3.6\", \"3.7\" or \"3.8\". Must be a string.\n",
    "    key=\"tUePmX_S5B8ieZkkM7WUU2CnO8SmShwmAeWK9x2rTFo=\",\n",
    "    external_scenarios=[sps,],\n",
    "    use_multiprocessing=True\n",
    ")"
   ]
  },
  {
   "cell_type": "code",
   "execution_count": 2,
   "id": "956553ed-bea1-4e96-9459-8b1ad68551e8",
   "metadata": {},
   "outputs": [
    {
     "name": "stderr",
     "output_type": "stream",
     "text": [
      "Updating: external:  75%|███████████▎   | 3/4 [03:07<01:07, 67.28s/it]"
     ]
    },
    {
     "name": "stdout",
     "output_type": "stream",
     "text": [
      "Metal spodumene not found in alternative names. Skipping transport.\n",
      "Metal spodumene not found in alternative names. Skipping transport.\n",
      "Metal spodumene not found in alternative names. Skipping transport.\n",
      "Metal spodumene not found in alternative names. Skipping transport.\n",
      "Metal spodumene not found in alternative names. Skipping transport.\n",
      "Metal spodumene not found in alternative names. Skipping transport.\n",
      "Metal spodumene not found in alternative names. Skipping transport.\n",
      "Metal spodumene not found in alternative names. Skipping transport.\n",
      "Metal spodumene not found in alternative names. Skipping transport.\n",
      "Metal spodumene not found in alternative names. Skipping transport.\n",
      "Metal spodumene not found in alternative names. Skipping transport.\n",
      "Metal spodumene not found in alternative names. Skipping transport.\n",
      "Metal spodumene not found in alternative names. Skipping transport.\n",
      "Metal rare earth carbonate concentrate not found in alternative names. Skipping transport.\n",
      "Metal rare earth carbonate concentrate not found in alternative names. Skipping transport.\n",
      "Metal rare earth carbonate concentrate not found in alternative names. Skipping transport.\n",
      "Metal rare earth carbonate concentrate not found in alternative names. Skipping transport.\n",
      "Metal rare earth carbonate concentrate not found in alternative names. Skipping transport.\n",
      "Metal rare earth carbonate concentrate not found in alternative names. Skipping transport.\n",
      "Metal rare earth carbonate concentrate not found in alternative names. Skipping transport.\n",
      "Metal rare earth carbonate concentrate not found in alternative names. Skipping transport.\n",
      "Metal rare earth carbonate concentrate not found in alternative names. Skipping transport.\n",
      "Metal rare earth carbonate concentrate not found in alternative names. Skipping transport.\n",
      "Metal sand not found in alternative names. Skipping transport.\n",
      "Metal sand not found in alternative names. Skipping transport.\n",
      "Metal sand not found in alternative names. Skipping transport.\n",
      "Metal sand not found in alternative names. Skipping transport.\n",
      "Metal sand not found in alternative names. Skipping transport.\n",
      "Metal sand not found in alternative names. Skipping transport.\n",
      "Metal sand not found in alternative names. Skipping transport.\n",
      "Metal sand not found in alternative names. Skipping transport.\n",
      "Metal sand not found in alternative names. Skipping transport.\n",
      "Metal sand not found in alternative names. Skipping transport.\n",
      "Metal sand not found in alternative names. Skipping transport.\n",
      "Metal sand not found in alternative names. Skipping transport.\n",
      "Metal sand not found in alternative names. Skipping transport.\n",
      "Metal sand not found in alternative names. Skipping transport.\n",
      "Metal sand not found in alternative names. Skipping transport.\n",
      "Metal sand not found in alternative names. Skipping transport.\n",
      "Metal sand not found in alternative names. Skipping transport.\n",
      "Metal sand not found in alternative names. Skipping transport.\n",
      "Metal sand not found in alternative names. Skipping transport.\n",
      "Metal sand not found in alternative names. Skipping transport.\n",
      "Metal titanium tetrachloride not found in alternative names. Skipping transport.\n",
      "Metal titanium tetrachloride not found in alternative names. Skipping transport.\n",
      "Metal titanium tetrachloride not found in alternative names. Skipping transport.\n",
      "Metal titanium tetrachloride not found in alternative names. Skipping transport.\n",
      "Metal titanium tetrachloride not found in alternative names. Skipping transport.\n",
      "Metal titanium sponge not found in alternative names. Skipping transport.\n",
      "Metal titanium sponge not found in alternative names. Skipping transport.\n",
      "Metal titanium sponge not found in alternative names. Skipping transport.\n",
      "Metal titanium sponge not found in alternative names. Skipping transport.\n",
      "Metal titanium sponge not found in alternative names. Skipping transport.\n",
      "Warning: Missing data for Aluminium for frame, blanks and saddle, for lorry:\n",
      "- conversion factor\n",
      "Warning: Missing data for Antimony for frame, blanks and saddle, for lorry:\n",
      "- conversion factor\n",
      "Warning: Missing data for Beryllium for frame, blanks and saddle, for lorry:\n",
      "- conversion factor\n",
      "Warning: Missing data for Cerium for frame, blanks and saddle, for lorry:\n",
      "- conversion factor\n",
      "Warning: Missing data for Cobalt for frame, blanks and saddle, for lorry:\n",
      "- conversion factor\n",
      "Warning: Missing data for Dysprosium for frame, blanks and saddle, for lorry:\n",
      "- conversion factor\n",
      "Warning: Missing data for Erbium for frame, blanks and saddle, for lorry:\n",
      "- conversion factor\n",
      "Warning: Missing data for Europium for frame, blanks and saddle, for lorry:\n",
      "- conversion factor\n",
      "Warning: Missing data for Gadolinium for frame, blanks and saddle, for lorry:\n",
      "- conversion factor\n",
      "Warning: Missing data for Gallium for frame, blanks and saddle, for lorry:\n",
      "- conversion factor\n",
      "Warning: Missing data for Germanium for frame, blanks and saddle, for lorry:\n",
      "- conversion factor\n",
      "Warning: Missing data for Gold for frame, blanks and saddle, for lorry:\n",
      "- conversion factor\n",
      "Warning: Missing data for Indium for frame, blanks and saddle, for lorry:\n",
      "- conversion factor\n",
      "Warning: Missing data for Lanthanum for frame, blanks and saddle, for lorry:\n",
      "- conversion factor\n",
      "Warning: Missing data for Lithium for frame, blanks and saddle, for lorry:\n",
      "- conversion factor\n",
      "Warning: Missing data for Manganese for frame, blanks and saddle, for lorry:\n",
      "- conversion factor\n",
      "Warning: Missing data for Molybdenum for frame, blanks and saddle, for lorry:\n",
      "- conversion factor\n",
      "Warning: Missing data for Neodymium for frame, blanks and saddle, for lorry:\n",
      "- conversion factor\n",
      "Warning: Missing data for Niobium for frame, blanks and saddle, for lorry:\n",
      "- conversion factor\n",
      "Warning: Missing data for Praseodymium for frame, blanks and saddle, for lorry:\n",
      "- conversion factor\n",
      "Warning: Missing data for Rhenium for frame, blanks and saddle, for lorry:\n",
      "- conversion factor\n",
      "Warning: Missing data for Rhodium for frame, blanks and saddle, for lorry:\n",
      "- conversion factor\n",
      "Warning: Missing data for Ruthenium for frame, blanks and saddle, for lorry:\n",
      "- conversion factor\n",
      "Warning: Missing data for Samarium for frame, blanks and saddle, for lorry:\n",
      "- conversion factor\n",
      "Warning: Missing data for Scandium for frame, blanks and saddle, for lorry:\n",
      "- conversion factor\n",
      "Warning: Missing data for Silver for frame, blanks and saddle, for lorry:\n",
      "- conversion factor\n",
      "Warning: Missing data for Strontium for frame, blanks and saddle, for lorry:\n",
      "- conversion factor\n",
      "Warning: Missing data for Tantalum for frame, blanks and saddle, for lorry:\n",
      "- conversion factor\n",
      "Warning: Missing data for Tellurium for frame, blanks and saddle, for lorry:\n",
      "- conversion factor\n",
      "Warning: Missing data for Terbium for frame, blanks and saddle, for lorry:\n",
      "- conversion factor\n",
      "Warning: Missing data for Tin for frame, blanks and saddle, for lorry:\n",
      "- conversion factor\n",
      "Warning: Missing data for Tungsten for frame, blanks and saddle, for lorry:\n",
      "- conversion factor\n",
      "Warning: Missing data for Ytterbium for frame, blanks and saddle, for lorry:\n",
      "- conversion factor\n",
      "Warning: Missing data for Yttrium for frame, blanks and saddle, for lorry:\n",
      "- conversion factor\n",
      "Warning: Missing data for Zirconium for frame, blanks and saddle, for lorry:\n",
      "- conversion factor\n",
      "Warning: Missing data for Palladium for frame, blanks and saddle, for lorry:\n",
      "- conversion factor\n",
      "Warning: Missing data for Palladium for frame, blanks and saddle, for lorry:\n",
      "- conversion factor\n",
      "Warning: Missing data for Platinum for frame, blanks and saddle, for lorry:\n",
      "- conversion factor\n",
      "Warning: Missing data for Platinum for frame, blanks and saddle, for lorry:\n",
      "- conversion factor\n"
     ]
    },
    {
     "name": "stderr",
     "output_type": "stream",
     "text": [
      "Updating: external: 100%|███████████████| 4/4 [03:22<00:00, 50.62s/it]\n"
     ]
    },
    {
     "name": "stdout",
     "output_type": "stream",
     "text": [
      "Done!\n",
      "\n",
      "Extracted 1 worksheets in 0.02 seconds\n",
      "Remove uncertainty data.\n",
      "Extracted 1 worksheets in 0.02 seconds\n",
      "Remove uncertainty data.\n",
      "Write new database(s) to matrix.\n",
      "Running all checks...\n",
      "Anomalies found: check the change report.\n",
      "Running all checks...\n",
      "Anomalies found: check the change report.\n",
      "Matrices saved in /Users/romain/Github/sweet_sure-2050-switzerland/dev/pathways/inventories/image/SSP2-RCP26/2020.\n",
      "Generate scenario report.\n",
      "Report saved under /Users/romain/Github/sweet_sure-2050-switzerland/dev/export/scenario_report.\n",
      "Generate change report.\n",
      "Report saved under /Users/romain/Github/sweet_sure-2050-switzerland/dev.\n",
      "Data package saved at /Users/romain/Github/sweet_sure-2050-switzerland/dev/pathways/image-SSP2-stem-SPS1.zip\n"
     ]
    }
   ],
   "source": [
    "ndb.create_datapackage(\n",
    "    name=\"image-SSP2-stem-SPS1\",\n",
    "    contributors=[\n",
    "        {\"name\": \"Romain\",\n",
    "        \"email\": \"r_s at me.com\",}\n",
    "    ],\n",
    "    transformations=[\"electricity\", \"trucks\", \"metals\", \"external\"],\n",
    ")"
   ]
  },
  {
   "cell_type": "code",
   "execution_count": 1,
   "id": "dd742014-f8cc-46fd-9387-5094efa527db",
   "metadata": {},
   "outputs": [
    {
     "name": "stdout",
     "output_type": "stream",
     "text": [
      "Solver: scikits.umfpack\n",
      "Invalid datapackage: Descriptor validation error: {'path': 'mapping/mapping.yaml', 'profile': 'data-resource', 'name': 'mapping', 'format': 'yaml', 'mediatype': 'text/yaml', 'encoding': 'utf-8'} is not valid under any of the given schemas at \"resources/9\" in descriptor and at \"properties/resources/items/oneOf\" in profile\n",
      "Invalid datapackage: Descriptor validation error: 'data-resource' is not one of ['tabular-data-resource'] at \"resources/9/profile\" in descriptor and at \"properties/resources/items/properties/profile/enum\" in profile\n"
     ]
    }
   ],
   "source": [
    "from pathways import Pathways\n",
    "p = Pathways(datapackage=\"image-SSP2-stem-SPS1/datapackage.json\", debug=True)"
   ]
  },
  {
   "cell_type": "code",
   "execution_count": 2,
   "id": "4f1f9a86-bb48-4f89-a4dc-9477f32840a7",
   "metadata": {},
   "outputs": [
    {
     "name": "stdout",
     "output_type": "stream",
     "text": [
      "Calculating LCA results for image...\n",
      "--- Calculating LCA results for SSP2-RCP26...\n",
      "------ Calculating LCA results for 2020...\n"
     ]
    },
    {
     "name": "stderr",
     "output_type": "stream",
     "text": [
      "0% [#] 100% | ETA: 00:00:01\n",
      "Total time elapsed: 00:00:00\n"
     ]
    },
    {
     "name": "stdout",
     "output_type": "stream",
     "text": [
      "------ Calculating LCA results for 2050...\n"
     ]
    },
    {
     "name": "stderr",
     "output_type": "stream",
     "text": [
      "0% [#] 100% | ETA: 00:00:01\n",
      "Total time elapsed: 00:00:00\n",
      "0% [##] 100% | ETA: 00:00:00\n",
      "Total time elapsed: 00:00:02\n"
     ]
    }
   ],
   "source": [
    "import numpy as np\n",
    "p.calculate(\n",
    "    methods=[\n",
    "        #'IPCC 2021 - climate change - GWP 100a, incl. H',\n",
    "        #'IPCC 2021 - climate change - GWP 100a, incl. H and bio CO2',\n",
    "        'EF v3.1 EN15804 - climate change - global warming potential (GWP100)',\n",
    "        #'ReCiPe 2016 v1.03, endpoint (I) - total: ecosystem quality - ecosystem quality',\n",
    "        #'EF v3.1 - material resources: metals/minerals - abiotic depletion potential (ADP): elements (ultimate reserves)',\n",
    "        #'selected LCI results - resource - land occupation',\n",
    "        #'Cumulative Energy Demand (CED) - energy resources: renewable - energy content (HHV)',\n",
    "        #'Cumulative Energy Demand (CED) - energy resources: non-renewable - energy content (HHV)',\n",
    "    ], #+ [m for m in p.lcia_methods if \"RELICS\" in m],\n",
    "    regions=[\"CH\",],\n",
    "    scenarios=[\n",
    "        \"SSP2-RCP26\",\n",
    "        #\"SSP2-RCP19\",\n",
    "    ],\n",
    "    variables=[\n",
    "        \"hydro_run_of_river\",\n",
    "        \"hydro (reservoir)\",\n",
    "        \"hydro (pumped storage)\",\n",
    "        \"nuclear (boiling water)\",\n",
    "        \"nuclear (pressure water)\",\n",
    "        \"oil (peak devices)\",\n",
    "        \"oil (DH CHP)\",\n",
    "        \"oil (industry CHP)\",\n",
    "        \"gas (CCGT)\",\n",
    "        \"gas (OCGT)\",\n",
    "        \"gas (CCGT CCS)\",\n",
    "        \"gas (CHP DH)\",\n",
    "        \"gas (fuel cell DH)\",\n",
    "        \"gas (CHP industry)\",\n",
    "        \"gas (CHP CCS industry)\",\n",
    "        \"gas (CHP fuel cell reformer)\",\n",
    "        \"gas (CHP single family)\",\n",
    "        \"gas (single family CHP fuel cell)\",\n",
    "        \"gas (multi family CHP)\",\n",
    "        \"gas (multi family CHP fuel cell)\",\n",
    "        \"biogas (services CHP)\",\n",
    "        \"gas (services CHP)\",\n",
    "        \"gas (services CHP fuel cell)\",\n",
    "        \"waste incineration, fossil\",\n",
    "        \"waste incineration, fossil (CHP)\",\n",
    "        \"waste incineration, fossil (industrial)\",\n",
    "        \"waste incineration, fossil (CCS)\",\n",
    "        \"waste incineration, fossil (CHP, CCS)\",\n",
    "        \"waste incineration, fossil (industrial, CCS)\",\n",
    "        \"waste incineration, non-fossil\",\n",
    "        \"waste incineration, non-fossil (CHP)\",\n",
    "        \"waste incineration, non-fossil (industrial)\",\n",
    "        \"waste incineration, non-fossil (CCS)\",\n",
    "        \"waste incineration, non-fossil (CHP, CCS)\",\n",
    "        \"waste incineration, non-fossil (industrial, CCS)\",\n",
    "        \"pv (large scale)\",\n",
    "        \"pv (industry)\",\n",
    "        \"pv (services)\",\n",
    "        \"pv residential (multi family)\",\n",
    "        \"pv residential (single family)\",\n",
    "        \"wind\",\n",
    "        \"geothermal\",\n",
    "        \"hydrogen fuel cell (DH CHP)\",\n",
    "        \"hydrogen fuel cell (industrial CHP)\",\n",
    "        \"hydrogen fuel cell (services CHP)\",\n",
    "        \"biomass (DH)\",\n",
    "        \"biomass (CHP)\",\n",
    "        \"biomass (CCS, BECCS)\",\n",
    "        \"biomass (CCS, industrial)\",\n",
    "        \"battery (large)\",\n",
    "        \"battery (medium)\",\n",
    "        \"battery (industry)\",\n",
    "        \"battery (services)\",\n",
    "        \"battery (single family)\",\n",
    "        \"battery (multi family)\",\n",
    "        \"CAES\",\n",
    "        \"import\",\n",
    "    ],\n",
    "    years=[\n",
    "        2020,\n",
    "        #2022,\n",
    "        #2030,\n",
    "        #2040,\n",
    "        2050\n",
    "    ],\n",
    "    characterization=True,\n",
    "    multiprocessing=False,\n",
    "    use_distributions=3,\n",
    ")"
   ]
  },
  {
   "cell_type": "code",
   "execution_count": 4,
   "id": "96e6b486-1a9d-4d3f-8dd6-142b8f1f67cf",
   "metadata": {},
   "outputs": [
    {
     "data": {
      "text/html": [
       "<div><svg style=\"position: absolute; width: 0; height: 0; overflow: hidden\">\n",
       "<defs>\n",
       "<symbol id=\"icon-database\" viewBox=\"0 0 32 32\">\n",
       "<path d=\"M16 0c-8.837 0-16 2.239-16 5v4c0 2.761 7.163 5 16 5s16-2.239 16-5v-4c0-2.761-7.163-5-16-5z\"></path>\n",
       "<path d=\"M16 17c-8.837 0-16-2.239-16-5v6c0 2.761 7.163 5 16 5s16-2.239 16-5v-6c0 2.761-7.163 5-16 5z\"></path>\n",
       "<path d=\"M16 26c-8.837 0-16-2.239-16-5v6c0 2.761 7.163 5 16 5s16-2.239 16-5v-6c0 2.761-7.163 5-16 5z\"></path>\n",
       "</symbol>\n",
       "<symbol id=\"icon-file-text2\" viewBox=\"0 0 32 32\">\n",
       "<path d=\"M28.681 7.159c-0.694-0.947-1.662-2.053-2.724-3.116s-2.169-2.030-3.116-2.724c-1.612-1.182-2.393-1.319-2.841-1.319h-15.5c-1.378 0-2.5 1.121-2.5 2.5v27c0 1.378 1.122 2.5 2.5 2.5h23c1.378 0 2.5-1.122 2.5-2.5v-19.5c0-0.448-0.137-1.23-1.319-2.841zM24.543 5.457c0.959 0.959 1.712 1.825 2.268 2.543h-4.811v-4.811c0.718 0.556 1.584 1.309 2.543 2.268zM28 29.5c0 0.271-0.229 0.5-0.5 0.5h-23c-0.271 0-0.5-0.229-0.5-0.5v-27c0-0.271 0.229-0.5 0.5-0.5 0 0 15.499-0 15.5 0v7c0 0.552 0.448 1 1 1h7v19.5z\"></path>\n",
       "<path d=\"M23 26h-14c-0.552 0-1-0.448-1-1s0.448-1 1-1h14c0.552 0 1 0.448 1 1s-0.448 1-1 1z\"></path>\n",
       "<path d=\"M23 22h-14c-0.552 0-1-0.448-1-1s0.448-1 1-1h14c0.552 0 1 0.448 1 1s-0.448 1-1 1z\"></path>\n",
       "<path d=\"M23 18h-14c-0.552 0-1-0.448-1-1s0.448-1 1-1h14c0.552 0 1 0.448 1 1s-0.448 1-1 1z\"></path>\n",
       "</symbol>\n",
       "</defs>\n",
       "</svg>\n",
       "<style>/* CSS stylesheet for displaying xarray objects in jupyterlab.\n",
       " *\n",
       " */\n",
       "\n",
       ":root {\n",
       "  --xr-font-color0: var(--jp-content-font-color0, rgba(0, 0, 0, 1));\n",
       "  --xr-font-color2: var(--jp-content-font-color2, rgba(0, 0, 0, 0.54));\n",
       "  --xr-font-color3: var(--jp-content-font-color3, rgba(0, 0, 0, 0.38));\n",
       "  --xr-border-color: var(--jp-border-color2, #e0e0e0);\n",
       "  --xr-disabled-color: var(--jp-layout-color3, #bdbdbd);\n",
       "  --xr-background-color: var(--jp-layout-color0, white);\n",
       "  --xr-background-color-row-even: var(--jp-layout-color1, white);\n",
       "  --xr-background-color-row-odd: var(--jp-layout-color2, #eeeeee);\n",
       "}\n",
       "\n",
       "html[theme=dark],\n",
       "body[data-theme=dark],\n",
       "body.vscode-dark {\n",
       "  --xr-font-color0: rgba(255, 255, 255, 1);\n",
       "  --xr-font-color2: rgba(255, 255, 255, 0.54);\n",
       "  --xr-font-color3: rgba(255, 255, 255, 0.38);\n",
       "  --xr-border-color: #1F1F1F;\n",
       "  --xr-disabled-color: #515151;\n",
       "  --xr-background-color: #111111;\n",
       "  --xr-background-color-row-even: #111111;\n",
       "  --xr-background-color-row-odd: #313131;\n",
       "}\n",
       "\n",
       ".xr-wrap {\n",
       "  display: block !important;\n",
       "  min-width: 300px;\n",
       "  max-width: 700px;\n",
       "}\n",
       "\n",
       ".xr-text-repr-fallback {\n",
       "  /* fallback to plain text repr when CSS is not injected (untrusted notebook) */\n",
       "  display: none;\n",
       "}\n",
       "\n",
       ".xr-header {\n",
       "  padding-top: 6px;\n",
       "  padding-bottom: 6px;\n",
       "  margin-bottom: 4px;\n",
       "  border-bottom: solid 1px var(--xr-border-color);\n",
       "}\n",
       "\n",
       ".xr-header > div,\n",
       ".xr-header > ul {\n",
       "  display: inline;\n",
       "  margin-top: 0;\n",
       "  margin-bottom: 0;\n",
       "}\n",
       "\n",
       ".xr-obj-type,\n",
       ".xr-array-name {\n",
       "  margin-left: 2px;\n",
       "  margin-right: 10px;\n",
       "}\n",
       "\n",
       ".xr-obj-type {\n",
       "  color: var(--xr-font-color2);\n",
       "}\n",
       "\n",
       ".xr-sections {\n",
       "  padding-left: 0 !important;\n",
       "  display: grid;\n",
       "  grid-template-columns: 150px auto auto 1fr 20px 20px;\n",
       "}\n",
       "\n",
       ".xr-section-item {\n",
       "  display: contents;\n",
       "}\n",
       "\n",
       ".xr-section-item input {\n",
       "  display: none;\n",
       "}\n",
       "\n",
       ".xr-section-item input + label {\n",
       "  color: var(--xr-disabled-color);\n",
       "}\n",
       "\n",
       ".xr-section-item input:enabled + label {\n",
       "  cursor: pointer;\n",
       "  color: var(--xr-font-color2);\n",
       "}\n",
       "\n",
       ".xr-section-item input:enabled + label:hover {\n",
       "  color: var(--xr-font-color0);\n",
       "}\n",
       "\n",
       ".xr-section-summary {\n",
       "  grid-column: 1;\n",
       "  color: var(--xr-font-color2);\n",
       "  font-weight: 500;\n",
       "}\n",
       "\n",
       ".xr-section-summary > span {\n",
       "  display: inline-block;\n",
       "  padding-left: 0.5em;\n",
       "}\n",
       "\n",
       ".xr-section-summary-in:disabled + label {\n",
       "  color: var(--xr-font-color2);\n",
       "}\n",
       "\n",
       ".xr-section-summary-in + label:before {\n",
       "  display: inline-block;\n",
       "  content: '►';\n",
       "  font-size: 11px;\n",
       "  width: 15px;\n",
       "  text-align: center;\n",
       "}\n",
       "\n",
       ".xr-section-summary-in:disabled + label:before {\n",
       "  color: var(--xr-disabled-color);\n",
       "}\n",
       "\n",
       ".xr-section-summary-in:checked + label:before {\n",
       "  content: '▼';\n",
       "}\n",
       "\n",
       ".xr-section-summary-in:checked + label > span {\n",
       "  display: none;\n",
       "}\n",
       "\n",
       ".xr-section-summary,\n",
       ".xr-section-inline-details {\n",
       "  padding-top: 4px;\n",
       "  padding-bottom: 4px;\n",
       "}\n",
       "\n",
       ".xr-section-inline-details {\n",
       "  grid-column: 2 / -1;\n",
       "}\n",
       "\n",
       ".xr-section-details {\n",
       "  display: none;\n",
       "  grid-column: 1 / -1;\n",
       "  margin-bottom: 5px;\n",
       "}\n",
       "\n",
       ".xr-section-summary-in:checked ~ .xr-section-details {\n",
       "  display: contents;\n",
       "}\n",
       "\n",
       ".xr-array-wrap {\n",
       "  grid-column: 1 / -1;\n",
       "  display: grid;\n",
       "  grid-template-columns: 20px auto;\n",
       "}\n",
       "\n",
       ".xr-array-wrap > label {\n",
       "  grid-column: 1;\n",
       "  vertical-align: top;\n",
       "}\n",
       "\n",
       ".xr-preview {\n",
       "  color: var(--xr-font-color3);\n",
       "}\n",
       "\n",
       ".xr-array-preview,\n",
       ".xr-array-data {\n",
       "  padding: 0 5px !important;\n",
       "  grid-column: 2;\n",
       "}\n",
       "\n",
       ".xr-array-data,\n",
       ".xr-array-in:checked ~ .xr-array-preview {\n",
       "  display: none;\n",
       "}\n",
       "\n",
       ".xr-array-in:checked ~ .xr-array-data,\n",
       ".xr-array-preview {\n",
       "  display: inline-block;\n",
       "}\n",
       "\n",
       ".xr-dim-list {\n",
       "  display: inline-block !important;\n",
       "  list-style: none;\n",
       "  padding: 0 !important;\n",
       "  margin: 0;\n",
       "}\n",
       "\n",
       ".xr-dim-list li {\n",
       "  display: inline-block;\n",
       "  padding: 0;\n",
       "  margin: 0;\n",
       "}\n",
       "\n",
       ".xr-dim-list:before {\n",
       "  content: '(';\n",
       "}\n",
       "\n",
       ".xr-dim-list:after {\n",
       "  content: ')';\n",
       "}\n",
       "\n",
       ".xr-dim-list li:not(:last-child):after {\n",
       "  content: ',';\n",
       "  padding-right: 5px;\n",
       "}\n",
       "\n",
       ".xr-has-index {\n",
       "  font-weight: bold;\n",
       "}\n",
       "\n",
       ".xr-var-list,\n",
       ".xr-var-item {\n",
       "  display: contents;\n",
       "}\n",
       "\n",
       ".xr-var-item > div,\n",
       ".xr-var-item label,\n",
       ".xr-var-item > .xr-var-name span {\n",
       "  background-color: var(--xr-background-color-row-even);\n",
       "  margin-bottom: 0;\n",
       "}\n",
       "\n",
       ".xr-var-item > .xr-var-name:hover span {\n",
       "  padding-right: 5px;\n",
       "}\n",
       "\n",
       ".xr-var-list > li:nth-child(odd) > div,\n",
       ".xr-var-list > li:nth-child(odd) > label,\n",
       ".xr-var-list > li:nth-child(odd) > .xr-var-name span {\n",
       "  background-color: var(--xr-background-color-row-odd);\n",
       "}\n",
       "\n",
       ".xr-var-name {\n",
       "  grid-column: 1;\n",
       "}\n",
       "\n",
       ".xr-var-dims {\n",
       "  grid-column: 2;\n",
       "}\n",
       "\n",
       ".xr-var-dtype {\n",
       "  grid-column: 3;\n",
       "  text-align: right;\n",
       "  color: var(--xr-font-color2);\n",
       "}\n",
       "\n",
       ".xr-var-preview {\n",
       "  grid-column: 4;\n",
       "}\n",
       "\n",
       ".xr-index-preview {\n",
       "  grid-column: 2 / 5;\n",
       "  color: var(--xr-font-color2);\n",
       "}\n",
       "\n",
       ".xr-var-name,\n",
       ".xr-var-dims,\n",
       ".xr-var-dtype,\n",
       ".xr-preview,\n",
       ".xr-attrs dt {\n",
       "  white-space: nowrap;\n",
       "  overflow: hidden;\n",
       "  text-overflow: ellipsis;\n",
       "  padding-right: 10px;\n",
       "}\n",
       "\n",
       ".xr-var-name:hover,\n",
       ".xr-var-dims:hover,\n",
       ".xr-var-dtype:hover,\n",
       ".xr-attrs dt:hover {\n",
       "  overflow: visible;\n",
       "  width: auto;\n",
       "  z-index: 1;\n",
       "}\n",
       "\n",
       ".xr-var-attrs,\n",
       ".xr-var-data,\n",
       ".xr-index-data {\n",
       "  display: none;\n",
       "  background-color: var(--xr-background-color) !important;\n",
       "  padding-bottom: 5px !important;\n",
       "}\n",
       "\n",
       ".xr-var-attrs-in:checked ~ .xr-var-attrs,\n",
       ".xr-var-data-in:checked ~ .xr-var-data,\n",
       ".xr-index-data-in:checked ~ .xr-index-data {\n",
       "  display: block;\n",
       "}\n",
       "\n",
       ".xr-var-data > table {\n",
       "  float: right;\n",
       "}\n",
       "\n",
       ".xr-var-name span,\n",
       ".xr-var-data,\n",
       ".xr-index-name div,\n",
       ".xr-index-data,\n",
       ".xr-attrs {\n",
       "  padding-left: 25px !important;\n",
       "}\n",
       "\n",
       ".xr-attrs,\n",
       ".xr-var-attrs,\n",
       ".xr-var-data,\n",
       ".xr-index-data {\n",
       "  grid-column: 1 / -1;\n",
       "}\n",
       "\n",
       "dl.xr-attrs {\n",
       "  padding: 0;\n",
       "  margin: 0;\n",
       "  display: grid;\n",
       "  grid-template-columns: 125px auto;\n",
       "}\n",
       "\n",
       ".xr-attrs dt,\n",
       ".xr-attrs dd {\n",
       "  padding: 0;\n",
       "  margin: 0;\n",
       "  float: left;\n",
       "  padding-right: 10px;\n",
       "  width: auto;\n",
       "}\n",
       "\n",
       ".xr-attrs dt {\n",
       "  font-weight: normal;\n",
       "  grid-column: 1;\n",
       "}\n",
       "\n",
       ".xr-attrs dt:hover span {\n",
       "  display: inline-block;\n",
       "  background: var(--xr-background-color);\n",
       "  padding-right: 10px;\n",
       "}\n",
       "\n",
       ".xr-attrs dd {\n",
       "  grid-column: 2;\n",
       "  white-space: pre-wrap;\n",
       "  word-break: break-all;\n",
       "}\n",
       "\n",
       ".xr-icon-database,\n",
       ".xr-icon-file-text2,\n",
       ".xr-no-icon {\n",
       "  display: inline-block;\n",
       "  vertical-align: middle;\n",
       "  width: 1em;\n",
       "  height: 1.5em !important;\n",
       "  stroke-width: 0;\n",
       "  stroke: currentColor;\n",
       "  fill: currentColor;\n",
       "}\n",
       "</style><pre class='xr-text-repr-fallback'>&lt;xarray.DataArray ()&gt; Size: 8B\n",
       "array(-2.26465094e+11)\n",
       "Coordinates:\n",
       "    quantile  float64 8B 0.5</pre><div class='xr-wrap' style='display:none'><div class='xr-header'><div class='xr-obj-type'>xarray.DataArray</div><div class='xr-array-name'></div></div><ul class='xr-sections'><li class='xr-section-item'><div class='xr-array-wrap'><input id='section-5075343e-bc1a-485e-8820-20e177b056c0' class='xr-array-in' type='checkbox' checked><label for='section-5075343e-bc1a-485e-8820-20e177b056c0' title='Show/hide data repr'><svg class='icon xr-icon-database'><use xlink:href='#icon-database'></use></svg></label><div class='xr-array-preview xr-preview'><span>-2.265e+11</span></div><div class='xr-array-data'><pre>array(-2.26465094e+11)</pre></div></div></li><li class='xr-section-item'><input id='section-e1a2e32b-55c1-432b-a7ec-28f480f4280a' class='xr-section-summary-in' type='checkbox'  checked><label for='section-e1a2e32b-55c1-432b-a7ec-28f480f4280a' class='xr-section-summary' >Coordinates: <span>(1)</span></label><div class='xr-section-inline-details'></div><div class='xr-section-details'><ul class='xr-var-list'><li class='xr-var-item'><div class='xr-var-name'><span>quantile</span></div><div class='xr-var-dims'>()</div><div class='xr-var-dtype'>float64</div><div class='xr-var-preview xr-preview'>0.5</div><input id='attrs-78e27790-af93-41f9-b8fb-3a1f7ebf7852' class='xr-var-attrs-in' type='checkbox' disabled><label for='attrs-78e27790-af93-41f9-b8fb-3a1f7ebf7852' title='Show/Hide attributes'><svg class='icon xr-icon-file-text2'><use xlink:href='#icon-file-text2'></use></svg></label><input id='data-98f3f151-04b7-4d8b-a585-ad78dc144554' class='xr-var-data-in' type='checkbox'><label for='data-98f3f151-04b7-4d8b-a585-ad78dc144554' title='Show/Hide data repr'><svg class='icon xr-icon-database'><use xlink:href='#icon-database'></use></svg></label><div class='xr-var-attrs'><dl class='xr-attrs'></dl></div><div class='xr-var-data'><pre>array(0.5)</pre></div></li></ul></div></li><li class='xr-section-item'><input id='section-fdedab55-fb39-4a4d-9061-0b56adf4af99' class='xr-section-summary-in' type='checkbox' disabled ><label for='section-fdedab55-fb39-4a4d-9061-0b56adf4af99' class='xr-section-summary'  title='Expand/collapse section'>Indexes: <span>(0)</span></label><div class='xr-section-inline-details'></div><div class='xr-section-details'><ul class='xr-var-list'></ul></div></li><li class='xr-section-item'><input id='section-f1b0ed86-3fc8-4ec9-abc9-2eabd71fd7df' class='xr-section-summary-in' type='checkbox' disabled ><label for='section-f1b0ed86-3fc8-4ec9-abc9-2eabd71fd7df' class='xr-section-summary'  title='Expand/collapse section'>Attributes: <span>(0)</span></label><div class='xr-section-inline-details'></div><div class='xr-section-details'><dl class='xr-attrs'></dl></div></li></ul></div></div>"
      ],
      "text/plain": [
       "<xarray.DataArray ()> Size: 8B\n",
       "array(-2.26465094e+11)\n",
       "Coordinates:\n",
       "    quantile  float64 8B 0.5"
      ]
     },
     "execution_count": 4,
     "metadata": {},
     "output_type": "execute_result"
    }
   ],
   "source": [
    "p.lca_results.sel(quantile=0.5).sum()"
   ]
  },
  {
   "cell_type": "code",
   "execution_count": 4,
   "id": "ca6f199e-a0a3-4d24-8e72-db6f0507ccd9",
   "metadata": {},
   "outputs": [],
   "source": [
    "p.lca_results = p.lca_results.sum(dim=\"act_category\")\n",
    "arr = p.lca_results.interp(\n",
    "    year=range(p.lca_results.coords[\"year\"].values.min(), p.lca_results.coords[\"year\"].values.max() + 1)\n",
    ")\n"
   ]
  },
  {
   "cell_type": "code",
   "execution_count": 5,
   "id": "f9580a93-9746-421f-a22e-657b69eed633",
   "metadata": {},
   "outputs": [],
   "source": [
    "df = arr.to_dataframe(\"value\")"
   ]
  },
  {
   "cell_type": "code",
   "execution_count": 6,
   "id": "303a749b-1fec-4870-9968-09f81d97bc73",
   "metadata": {},
   "outputs": [
    {
     "name": "stdout",
     "output_type": "stream",
     "text": [
      "221866\n",
      "[2041 2042 2043 2044 2045 2046 2047 2048 2049 2050 2020 2021 2022 2023\n",
      " 2024 2025 2026 2027 2028 2029 2030 2031 2032 2033 2034 2035 2036 2037\n",
      " 2038 2039 2040]\n"
     ]
    }
   ],
   "source": [
    "df = df[df[\"value\"]!=0.0]\n",
    "df = df[~df[\"value\"].isnull()]\n",
    "print(len(df))\n",
    "df=df.reset_index()\n",
    "print(df[\"year\"].unique())"
   ]
  },
  {
   "cell_type": "code",
   "execution_count": 7,
   "id": "e6ff80b3-1aaa-4a21-8958-cc4df8ce8f55",
   "metadata": {},
   "outputs": [],
   "source": [
    "from premise.geomap import Geomap\n",
    "geo = Geomap(\"image\")"
   ]
  },
  {
   "cell_type": "code",
   "execution_count": 8,
   "id": "8e2724e7-ba04-4d97-8838-a3213662394a",
   "metadata": {},
   "outputs": [
    {
     "data": {
      "text/plain": [
       "70"
      ]
     },
     "execution_count": 8,
     "metadata": {},
     "output_type": "execute_result"
    }
   ],
   "source": [
    "EU = geo.iam_to_ecoinvent_location(\"WEU\")\n",
    "EU.remove(\"CH\")\n",
    "len(EU)"
   ]
  },
  {
   "cell_type": "code",
   "execution_count": 9,
   "id": "2ce55de7-73be-430b-b346-d610fcfe3de4",
   "metadata": {},
   "outputs": [],
   "source": [
    "df.loc[\n",
    "    df[\"location\"].isin(EU), \"location\"\n",
    "] = \"EU wo CH\""
   ]
  },
  {
   "cell_type": "code",
   "execution_count": 10,
   "id": "2987223d-36ae-42a1-aa0a-7b63c438050a",
   "metadata": {},
   "outputs": [],
   "source": [
    "df.loc[\n",
    "    ~df[\"location\"].isin([\"CH\", \"EU wo CH\"]), \"location\"\n",
    "] = \"RoW\""
   ]
  },
  {
   "cell_type": "markdown",
   "id": "407c0d28-1bee-4998-98d6-efcc602c735e",
   "metadata": {},
   "source": [
    "d = {\n",
    "    loc: geo.ecoinvent_to_iam_location(loc)\n",
    "    for loc in df[\"location\"].unique()\n",
    "}\n",
    "df[\"region from\"] = df[\"location\"].map(d)\n",
    "df = df.drop('location', axis=1)"
   ]
  },
  {
   "cell_type": "code",
   "execution_count": 11,
   "id": "20cca727-d020-413c-ac6f-19f287b47c8b",
   "metadata": {},
   "outputs": [
    {
     "name": "stdout",
     "output_type": "stream",
     "text": [
      "2213\n"
     ]
    }
   ],
   "source": [
    "df = df.groupby([\n",
    "    'variable', 'year', 'region', 'model', 'scenario', 'impact_category', 'location'\n",
    "]).sum().reset_index()\n",
    "print(len(df))"
   ]
  },
  {
   "cell_type": "code",
   "execution_count": 12,
   "id": "5b67b439-311a-4e3a-9977-510dbb64447b",
   "metadata": {},
   "outputs": [],
   "source": [
    "df[\"impact_category\"] = df[\"impact_category\"].str.replace(\"RELICS - metals extraction - \", \"\")\n",
    "df[\"impact_category\"] = df[\"impact_category\"].str.replace(\"EF v3.1 - climate change - global warming potential (GWP100)\", \"climate change\")\n",
    "df[\"impact_category\"] = df[\"impact_category\"].str.replace(\"selected LCI results - resource - land occupation\", \"land occupation\")\n",
    "df[\"impact_category\"] = df[\"impact_category\"].str.replace(\"EF v3.1 - material resources: metals/minerals - abiotic depletion potential (ADP): elements (ultimate reserves)\", \"natural resources (minerals and metals)\")\n",
    "df[\"impact_category\"] = df[\"impact_category\"].str.replace(\"IPCC 2021 - climate change - GWP 100a, incl. H and bio CO2\", \"climate change\")\n",
    "df[\"impact_category\"] = df[\"impact_category\"].str.replace(\"Cumulative Energy Demand (CED) - energy resources: renewable - energy content (HHV)\", \"renewable primary energy\")\n",
    "df[\"impact_category\"] = df[\"impact_category\"].str.replace(\"Cumulative Energy Demand (CED) - energy resources: non-renewable - energy content (HHV)\", \"non-renewable primary energy\")\n",
    "df[\"impact_category\"] = df[\"impact_category\"].str.replace(\"ReCiPe 2016 v1.03, endpoint (I) - total: ecosystem quality - ecosystem quality\", \"ecosystem impact\")"
   ]
  },
  {
   "cell_type": "code",
   "execution_count": 13,
   "id": "d09ec51a-9b24-4ec8-8e29-be62f20dbe27",
   "metadata": {},
   "outputs": [],
   "source": [
    "units = {\n",
    "    \"climate change\": \"kg CO2-eq.\",\n",
    "    \"land occupation\": \"square meter-year\",\n",
    "    \"natural resources (minerals and metals)\": \"kg Sb-eq.\",\n",
    "    \"renewable primary energy\": \"MJ (HHV)\",\n",
    "    \"non-renewable primary energy\": \"MJ (HHV)\",\n",
    "    \"ecosystem impact\": \"species-year lost\"\n",
    "}\n",
    "df[\"unit\"] = df[\"impact_category\"].map(units)"
   ]
  },
  {
   "cell_type": "code",
   "execution_count": 14,
   "id": "0d67a289-d262-42c5-a883-72275b8d66d4",
   "metadata": {},
   "outputs": [
    {
     "data": {
      "text/plain": [
       "array(['kg CO2-eq.'], dtype=object)"
      ]
     },
     "execution_count": 14,
     "metadata": {},
     "output_type": "execute_result"
    }
   ],
   "source": [
    "df[\"unit\"].unique()"
   ]
  },
  {
   "cell_type": "code",
   "execution_count": 15,
   "id": "ae0a8b4b-8d30-4df9-800f-d81d8f8c481b",
   "metadata": {},
   "outputs": [],
   "source": [
    "df.loc[df[\"unit\"].isnull(), \"unit\"] = \"kg\""
   ]
  },
  {
   "cell_type": "code",
   "execution_count": 16,
   "id": "f0c85132-0a04-4db8-98a1-b5019ff06787",
   "metadata": {},
   "outputs": [
    {
     "data": {
      "text/html": [
       "\n",
       "        <iframe\n",
       "            width=\"100%\"\n",
       "            height=\"500\"\n",
       "            src=\"pivottable_ch.html\"\n",
       "            frameborder=\"0\"\n",
       "            allowfullscreen\n",
       "            \n",
       "        ></iframe>\n",
       "        "
      ],
      "text/plain": [
       "<IPython.lib.display.IFrame at 0x103808290>"
      ]
     },
     "execution_count": 16,
     "metadata": {},
     "output_type": "execute_result"
    }
   ],
   "source": [
    "from pivottablejs import pivot_ui\n",
    "from IPython.display import HTML\n",
    "pivot_ui(df, outfile_path='pivottable_ch.html')"
   ]
  },
  {
   "cell_type": "code",
   "execution_count": 15,
   "id": "d76f3bdf-5ae0-451c-a2b6-b880b683d8c0",
   "metadata": {},
   "outputs": [],
   "source": [
    "pivot = df.pivot_table(index=['variable', 'region', 'model', 'scenario', 'impact_category', 'location', 'unit'], \n",
    "                          columns='year', \n",
    "                          values='value', \n",
    "                          aggfunc='sum').reset_index()\n",
    "pivot.fillna(0, inplace=True)"
   ]
  },
  {
   "cell_type": "code",
   "execution_count": 16,
   "id": "8abb35a6-ea5d-440d-a3dc-77ea8b408922",
   "metadata": {},
   "outputs": [],
   "source": [
    "scenarios = p.scenarios.sel(region=\"CH\", pathway='SSP2-RCP26', model=\"image\").astype(float).interp(\n",
    "    year=range(p.scenarios.coords[\"year\"].values.min(), p.scenarios.coords[\"year\"].values.max() + 1)\n",
    ")"
   ]
  },
  {
   "cell_type": "code",
   "execution_count": 17,
   "id": "48b232d2-d5aa-4d4a-983c-540d34eb6bb6",
   "metadata": {},
   "outputs": [],
   "source": [
    "df_scenarios = scenarios.to_dataframe(\"value\").reset_index().pivot_table(\n",
    "    index=['variables', 'region', 'model', 'pathway', ], \n",
    "                          columns='year', \n",
    "                          values='value', \n",
    "                          aggfunc='sum'\n",
    ")"
   ]
  },
  {
   "cell_type": "code",
   "execution_count": 18,
   "id": "46f5ecc2-a7ac-4623-b3a3-7042022ba3e9",
   "metadata": {},
   "outputs": [],
   "source": [
    "df_scenarios[\"unit\"] = \"PJ\"\n",
    "df_scenarios[\"impact_category\"] = \"Production\""
   ]
  },
  {
   "cell_type": "code",
   "execution_count": 19,
   "id": "83f4c400-4441-4bb7-9b36-542cc0d0019c",
   "metadata": {},
   "outputs": [],
   "source": [
    "df_scenarios = df_scenarios.reset_index()"
   ]
  },
  {
   "cell_type": "code",
   "execution_count": 20,
   "id": "a033333c-3db3-48d3-ad4a-ae007369217d",
   "metadata": {},
   "outputs": [],
   "source": [
    "df_scenarios.rename(columns={'variables':'variable'}, inplace=True)\n",
    "df_scenarios.rename(columns={'pathway':'scenario'}, inplace=True)"
   ]
  },
  {
   "cell_type": "code",
   "execution_count": 21,
   "id": "6799d75d-4888-4722-bc38-718b94663c65",
   "metadata": {},
   "outputs": [],
   "source": [
    "import pandas as pd\n",
    "df_final = pd.concat([pivot, df_scenarios], ignore_index=True)"
   ]
  },
  {
   "cell_type": "code",
   "execution_count": 22,
   "id": "7bf30170-952c-41ad-898f-3ba5c0ea45a2",
   "metadata": {},
   "outputs": [],
   "source": [
    "df_final.loc[df_final[\"location\"].isnull(), \"location\"] = \"CH\""
   ]
  },
  {
   "cell_type": "code",
   "execution_count": 23,
   "id": "867158a4-1552-4750-8925-e1abc9396870",
   "metadata": {},
   "outputs": [],
   "source": [
    "df_final.to_excel(\"indicators_export_SPS1.xlsx\")"
   ]
  },
  {
   "cell_type": "code",
   "execution_count": null,
   "id": "85f2b007-df2c-45e4-8966-9c5f3c8e46a5",
   "metadata": {},
   "outputs": [],
   "source": []
  }
 ],
 "metadata": {
  "kernelspec": {
   "display_name": "Python 3 (ipykernel)",
   "language": "python",
   "name": "python3"
  },
  "language_info": {
   "codemirror_mode": {
    "name": "ipython",
    "version": 3
   },
   "file_extension": ".py",
   "mimetype": "text/x-python",
   "name": "python",
   "nbconvert_exporter": "python",
   "pygments_lexer": "ipython3",
   "version": "3.11.8"
  }
 },
 "nbformat": 4,
 "nbformat_minor": 5
}
