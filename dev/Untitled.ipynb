{
 "cells": [
  {
   "cell_type": "code",
   "execution_count": null,
   "id": "90707135-94b0-4255-b298-714ed0038250",
   "metadata": {},
   "outputs": [],
   "source": [
    "from premise import *\n",
    "import bw2data\n",
    "from datapackage import Package\n",
    "bw2data.projects.set_current(\"ei310\")"
   ]
  },
  {
   "cell_type": "code",
   "execution_count": null,
   "id": "dd2763b8-b6f1-499f-8b72-e6a296052dbc",
   "metadata": {},
   "outputs": [],
   "source": [
    "sps = Package(\"../datapackage.json\")\n",
    "scenarios = [\n",
    "    #{\"model\": \"remind\", \"pathway\": \"SSP2-Base\", \"year\": 2020, \"external scenarios\": [{\"scenario\": \"SPS1\", \"data\": sps}]},\n",
    "    #{\"model\": \"remind\", \"pathway\": \"SSP2-Base\", \"year\": 2030, \"external scenarios\": [{\"scenario\": \"SPS1\", \"data\": sps}]},\n",
    "    #{\"model\": \"remind\", \"pathway\": \"SSP2-Base\", \"year\": 2040, \"external scenarios\": [{\"scenario\": \"SPS1\", \"data\": sps}]},\n",
    "    {\"model\": \"remind\", \"pathway\": \"SSP2-Base\", \"year\": 2050, \"external scenarios\": [{\"scenario\": \"SPS1\", \"data\": sps}]},\n",
    "]\n",
    "\n",
    "ndb = NewDatabase(\n",
    "        scenarios=scenarios,\n",
    "        source_db=\"ecoinvent-3.10-cutoff\", # <-- name of the database in the BW2 project. Must be a string.\n",
    "        source_version=\"3.10\", # <-- version of ecoinvent. Can be \"3.5\", \"3.6\", \"3.7\" or \"3.8\". Must be a string.\n",
    "        key=\"tUePmX_S5B8ieZkkM7WUU2CnO8SmShwmAeWK9x2rTFo=\",\n",
    "        use_absolute_efficiency=True,\n",
    "        biosphere_name=\"ecoinvent-3.10-biosphere\"\n",
    "        \n",
    ")\n",
    "\n",
    "ndb.update()\n",
    "\n",
    "#ndb.write_db_to_brightway(\"2050\")"
   ]
  },
  {
   "cell_type": "code",
   "execution_count": null,
   "id": "cc0ad44d-69da-448d-9569-4ceea8105279",
   "metadata": {},
   "outputs": [],
   "source": [
    "ndb.write_db_to_brightway(\"2050 2\")"
   ]
  },
  {
   "cell_type": "code",
   "execution_count": null,
   "id": "2383b371-1a3b-4f1e-8562-560e07b01913",
   "metadata": {},
   "outputs": [],
   "source": [
    "ndb.update()"
   ]
  },
  {
   "cell_type": "code",
   "execution_count": null,
   "id": "d1dcc23f-2ca1-4c14-b685-619affbd2b4c",
   "metadata": {},
   "outputs": [],
   "source": [
    "ndb.write_db_to_brightway([\n",
    "    \"test stem 2020\",\n",
    "    #\"test stem 2050\"\n",
    "])"
   ]
  },
  {
   "cell_type": "code",
   "execution_count": null,
   "id": "c8fa4555-b24d-44a6-b1eb-95e707055b52",
   "metadata": {},
   "outputs": [],
   "source": [
    "from premise import __file__\n",
    "__file__"
   ]
  },
  {
   "cell_type": "code",
   "execution_count": null,
   "id": "89e232df-89be-4ec9-ac8a-2761e243c004",
   "metadata": {},
   "outputs": [],
   "source": [
    "from premise import *\n",
    "import bw2data\n",
    "from datapackage import Package\n",
    "bw2data.projects.set_current(\"ei310\")"
   ]
  },
  {
   "cell_type": "code",
   "execution_count": null,
   "id": "bd903ac0-bdf0-47c4-b0a4-7e5048ff70c0",
   "metadata": {},
   "outputs": [],
   "source": [
    "#clear_inventory_cache()\n",
    "sps = Package(\"../datapackage.json\")\n",
    "scenarios=[\n",
    "    {\"model\": \"remind\", \"pathway\": \"SSP2-NPi\", \"external scenarios\": [{\"scenario\": \"SPS4\", \"data\": sps}]},\n",
    "    {\"model\": \"remind\", \"pathway\": \"SSP2-PkBudg1150\", \"external scenarios\": [{\"scenario\": \"SPS4\", \"data\": sps}]},\n",
    "    {\"model\": \"remind\", \"pathway\": \"SSP2-PkBudg500\", \"external scenarios\": [{\"scenario\": \"SPS4\", \"data\": sps}]},\n",
    "    {\"model\": \"remind\", \"pathway\": \"SSP2-NPi\", \"external scenarios\": [{\"scenario\": \"SPS1\", \"data\": sps}]},\n",
    "    {\"model\": \"remind\", \"pathway\": \"SSP2-PkBudg1150\", \"external scenarios\": [{\"scenario\": \"SPS1\", \"data\": sps}]},\n",
    "    {\"model\": \"remind\", \"pathway\": \"SSP2-PkBudg500\", \"external scenarios\": [{\"scenario\": \"SPS1\", \"data\": sps}]},\n",
    "]\n",
    "\n",
    "for scenario in scenarios:\n",
    "    name=f\"{scenario['model']}-{scenario['pathway']}-stem-{scenario['external scenarios'][0]['scenario']}\"\n",
    "    print(name)\n",
    "    ndb = PathwaysDataPackage(\n",
    "        scenarios=[\n",
    "            scenario,\n",
    "        ],\n",
    "        #years=[\n",
    "        #    2020, \n",
    "            #2050\n",
    "        #],\n",
    "        years=[2020, 2025, 2030, 2035, 2040, 2045, 2050],\n",
    "        source_db=\"ecoinvent-3.10-cutoff\", # <-- name of the database in the BW2 project. Must be a string.\n",
    "        source_version=\"3.10\", # <-- version of ecoinvent. Can be \"3.5\", \"3.6\", \"3.7\" or \"3.8\". Must be a string.\n",
    "        key=\"tUePmX_S5B8ieZkkM7WUU2CnO8SmShwmAeWK9x2rTFo=\",\n",
    "        use_absolute_efficiency=True,\n",
    "        biosphere_name=\"ecoinvent-3.10-biosphere\"\n",
    "    )\n",
    "    \n",
    "    ndb.create_datapackage(\n",
    "        name=name,\n",
    "        contributors=[\n",
    "            {\"name\": \"Romain\",\n",
    "            \"email\": \"r_s at me.com\",}\n",
    "        ],\n",
    "    )"
   ]
  },
  {
   "cell_type": "code",
   "execution_count": null,
   "id": "0610a8d1-522f-44c9-8297-09a44e3984ac",
   "metadata": {},
   "outputs": [],
   "source": [
    "for ds in ndb.datapackage.scenarios[0][\"database\"]:\n",
    "    for e in ds[\"exchanges\"]:\n",
    "        if e[\"name\"] == \"2-Methylpentane\":\n",
    "            print(ds[\"name\"])"
   ]
  },
  {
   "cell_type": "code",
   "execution_count": null,
   "id": "db953a54-f89a-43ee-8a85-3fe8f2d9cbd8",
   "metadata": {},
   "outputs": [],
   "source": [
    "from premise.activity_maps import InventorySet\n",
    "i = InventorySet(ndb.datapackage.database, \"3.10\", \"image\")"
   ]
  },
  {
   "cell_type": "code",
   "execution_count": null,
   "id": "e5a88eb2-0737-412f-b05a-99bd67a97ba4",
   "metadata": {},
   "outputs": [],
   "source": [
    "d = i.generate_metals_activities_map()"
   ]
  },
  {
   "cell_type": "code",
   "execution_count": null,
   "id": "bbb7ebf2-b927-4b28-b26b-7d94abaff2b0",
   "metadata": {},
   "outputs": [],
   "source": [
    "from pprint import pprint\n",
    "pprint(d)"
   ]
  },
  {
   "cell_type": "code",
   "execution_count": null,
   "id": "956553ed-bea1-4e96-9459-8b1ad68551e8",
   "metadata": {},
   "outputs": [],
   "source": [
    "ndb.create_datapackage(\n",
    "    name=\"image-SSP2-stem-SPS1\",\n",
    "    contributors=[\n",
    "        {\"name\": \"Romain\",\n",
    "        \"email\": \"r_s at me.com\",}\n",
    "    ],\n",
    ")"
   ]
  },
  {
   "cell_type": "code",
   "execution_count": null,
   "id": "dd742014-f8cc-46fd-9387-5094efa527db",
   "metadata": {},
   "outputs": [],
   "source": [
    "from pathways import Pathways\n",
    "p = Pathways(datapackage=\"image-SSP2-stem-SPS1.zip\", debug=True)"
   ]
  },
  {
   "cell_type": "code",
   "execution_count": null,
   "id": "96180f01-e87f-40c5-bf3b-bb526eb76fe3",
   "metadata": {},
   "outputs": [],
   "source": [
    "elec = [\n",
    "        \"hydro_run_of_river\",\n",
    "        \"hydro (reservoir)\",\n",
    "        \"hydro (pumped storage)\",\n",
    "        \"nuclear (boiling water)\",\n",
    "        \"nuclear (pressure water)\",\n",
    "        \"oil (peak devices)\",\n",
    "        \"oil (DH CHP)\",\n",
    "        \"oil (industry CHP)\",\n",
    "        \"gas (CCGT)\",\n",
    "        \"gas (OCGT)\",\n",
    "        \"gas (CCGT CCS)\",\n",
    "        \"gas (CHP DH)\",\n",
    "        \"gas (fuel cell DH)\",\n",
    "        \"gas (CHP industry)\",\n",
    "        \"gas (CHP CCS industry)\",\n",
    "        \"gas (CHP fuel cell reformer)\",\n",
    "        \"gas (CHP single family)\",\n",
    "        \"gas (single family CHP fuel cell)\",\n",
    "        \"gas (multi family CHP)\",\n",
    "        \"gas (multi family CHP fuel cell)\",\n",
    "        \"biogas (services CHP)\",\n",
    "        \"gas (services CHP)\",\n",
    "        \"gas (services CHP fuel cell)\",\n",
    "        \"waste incineration, fossil (CHP)\",\n",
    "        \"waste incineration, fossil (industrial)\",\n",
    "        \"waste incineration, fossil (CHP, CCS)\",\n",
    "        \"waste incineration, fossil (industrial, CCS)\",\n",
    "        \"waste incineration, non-fossil (CHP)\",\n",
    "        \"waste incineration, non-fossil (industrial)\",\n",
    "        \"waste incineration, non-fossil (CHP, CCS)\",\n",
    "        \"waste incineration, non-fossil (industrial, CCS)\",\n",
    "        \"pv (large scale)\",\n",
    "        \"pv (industry)\",\n",
    "        \"pv (services)\",\n",
    "        \"pv residential (multi family)\",\n",
    "        \"pv residential (single family)\",\n",
    "        \"wind\",\n",
    "        \"geothermal\",\n",
    "        \"hydrogen fuel cell (DH CHP)\",\n",
    "        \"hydrogen fuel cell (industrial CHP)\",\n",
    "        \"hydrogen fuel cell (services CHP)\",\n",
    "        \"biomass (DH)\",\n",
    "        \"biomass (CHP)\",\n",
    "        \"biomass (CCS, BECCS)\",\n",
    "        \"biomass (CCS, industrial)\",\n",
    "        \"battery (large)\",\n",
    "        \"battery (medium)\",\n",
    "        \"battery (industry)\",\n",
    "        \"battery (services)\",\n",
    "        \"battery (single family)\",\n",
    "        \"battery (multi family)\",\n",
    "        \"CAES\",\n",
    "        \"import\",\n",
    "    ]"
   ]
  },
  {
   "cell_type": "code",
   "execution_count": null,
   "id": "4f1f9a86-bb48-4f89-a4dc-9477f32840a7",
   "metadata": {},
   "outputs": [],
   "source": [
    "import numpy as np\n",
    "p.calculate(\n",
    "    methods=[\n",
    "        #'IPCC 2021 - climate change - GWP 100a, incl. H',\n",
    "        #'IPCC 2021 - climate change - GWP 100a, incl. H and bio CO2',\n",
    "        'EF v3.1 EN15804 - climate change - global warming potential (GWP100)',\n",
    "        'ReCiPe 2016 v1.03, endpoint (I) - total: ecosystem quality - ecosystem quality',\n",
    "        'EF v3.1 - material resources: metals/minerals - abiotic depletion potential (ADP): elements (ultimate reserves)',\n",
    "        'Ecological Scarcity 2021 - total - UBP',\n",
    "        'ReCiPe 2016 v1.03, endpoint (E) - total: human health - human health',\n",
    "        'selected LCI results - resource - land occupation',\n",
    "        'Cumulative Energy Demand (CED) - energy resources: renewable - energy content (HHV)',\n",
    "        'Cumulative Energy Demand (CED) - energy resources: non-renewable - energy content (HHV)',\n",
    "    ]  + [m for m in p.lcia_methods if \"RELICS\" in m],\n",
    "    regions=[\"CH\",],\n",
    "    scenarios=[\n",
    "        \"SSP2-RCP26-SPS1\",\n",
    "        #\"SSP2-RCP19\",\n",
    "    ],\n",
    "    variables=[v for v in p.scenarios.coords[\"variables\"].values if v.startswith(\"FE\")],\n",
    "    years=[\n",
    "        2020,\n",
    "        2022,\n",
    "        2025,\n",
    "        2030,\n",
    "        2035,\n",
    "        2040,\n",
    "        2045,\n",
    "        2050\n",
    "    ],\n",
    "    multiprocessing=False,\n",
    "    use_distributions=0,\n",
    ")"
   ]
  },
  {
   "cell_type": "code",
   "execution_count": null,
   "id": "ca6f199e-a0a3-4d24-8e72-db6f0507ccd9",
   "metadata": {},
   "outputs": [],
   "source": [
    "p.lca_results = p.lca_results.sum(dim=\"act_category\")"
   ]
  },
  {
   "cell_type": "code",
   "execution_count": null,
   "id": "ab8c72d8-9ba7-4a5a-922c-95a517816ca4",
   "metadata": {},
   "outputs": [],
   "source": [
    "arr = p.lca_results.interp(\n",
    "    year=range(p.lca_results.coords[\"year\"].values.min(), p.lca_results.coords[\"year\"].values.max() + 1)\n",
    ")"
   ]
  },
  {
   "cell_type": "code",
   "execution_count": null,
   "id": "f9580a93-9746-421f-a22e-657b69eed633",
   "metadata": {},
   "outputs": [],
   "source": [
    "df = arr.to_dataframe(\"value\")"
   ]
  },
  {
   "cell_type": "code",
   "execution_count": null,
   "id": "303a749b-1fec-4870-9968-09f81d97bc73",
   "metadata": {},
   "outputs": [],
   "source": [
    "df = df[df[\"value\"]!=0.0]\n",
    "df = df[~df[\"value\"].isnull()]\n",
    "print(len(df))\n",
    "df=df.reset_index()\n",
    "print(df[\"year\"].unique())"
   ]
  },
  {
   "cell_type": "code",
   "execution_count": null,
   "id": "e6ff80b3-1aaa-4a21-8958-cc4df8ce8f55",
   "metadata": {},
   "outputs": [],
   "source": [
    "from premise.geomap import Geomap\n",
    "geo = Geomap(\"image\")"
   ]
  },
  {
   "cell_type": "code",
   "execution_count": null,
   "id": "8e2724e7-ba04-4d97-8838-a3213662394a",
   "metadata": {},
   "outputs": [],
   "source": [
    "EU = geo.iam_to_ecoinvent_location(\"WEU\")\n",
    "EU.remove(\"CH\")\n",
    "len(EU)"
   ]
  },
  {
   "cell_type": "code",
   "execution_count": null,
   "id": "2ce55de7-73be-430b-b346-d610fcfe3de4",
   "metadata": {},
   "outputs": [],
   "source": [
    "df.loc[\n",
    "    df[\"location\"].isin(EU), \"location\"\n",
    "] = \"EU wo CH\""
   ]
  },
  {
   "cell_type": "code",
   "execution_count": null,
   "id": "2987223d-36ae-42a1-aa0a-7b63c438050a",
   "metadata": {},
   "outputs": [],
   "source": [
    "df.loc[\n",
    "    ~df[\"location\"].isin([\"CH\", \"EU wo CH\"]), \"location\"\n",
    "] = \"RoW\""
   ]
  },
  {
   "cell_type": "markdown",
   "id": "407c0d28-1bee-4998-98d6-efcc602c735e",
   "metadata": {},
   "source": [
    "d = {\n",
    "    loc: geo.ecoinvent_to_iam_location(loc)\n",
    "    for loc in df[\"location\"].unique()\n",
    "}\n",
    "df[\"region from\"] = df[\"location\"].map(d)\n",
    "df = df.drop('location', axis=1)"
   ]
  },
  {
   "cell_type": "code",
   "execution_count": null,
   "id": "20cca727-d020-413c-ac6f-19f287b47c8b",
   "metadata": {},
   "outputs": [],
   "source": [
    "df = df.groupby([\n",
    "    'variable', 'year', 'region', 'model', 'scenario', 'impact_category', 'location', #\"act_category\"\n",
    "]).sum().reset_index()\n",
    "print(len(df))"
   ]
  },
  {
   "cell_type": "code",
   "execution_count": null,
   "id": "5b67b439-311a-4e3a-9977-510dbb64447b",
   "metadata": {},
   "outputs": [],
   "source": [
    "df[\"impact_category\"] = df[\"impact_category\"].str.replace(\"RELICS - metals extraction - \", \"\")\n",
    "df[\"impact_category\"] = df[\"impact_category\"].str.replace(\"EF v3.1 - climate change - global warming potential (GWP100)\", \"climate change\")\n",
    "df[\"impact_category\"] = df[\"impact_category\"].str.replace(\"EF v3.1 EN15804 - climate change - global warming potential (GWP100)\", \"climate change\")\n",
    "df[\"impact_category\"] = df[\"impact_category\"].str.replace(\"selected LCI results - resource - land occupation\", \"land occupation\")\n",
    "df[\"impact_category\"] = df[\"impact_category\"].str.replace(\"EF v3.1 - material resources: metals/minerals - abiotic depletion potential (ADP): elements (ultimate reserves)\", \"natural resources (minerals and metals)\")\n",
    "df[\"impact_category\"] = df[\"impact_category\"].str.replace(\"IPCC 2021 - climate change - GWP 100a, incl. H and bio CO2\", \"climate change\")\n",
    "df[\"impact_category\"] = df[\"impact_category\"].str.replace(\"Cumulative Energy Demand (CED) - energy resources: renewable - energy content (HHV)\", \"renewable primary energy\")\n",
    "df[\"impact_category\"] = df[\"impact_category\"].str.replace(\"Cumulative Energy Demand (CED) - energy resources: non-renewable - energy content (HHV)\", \"non-renewable primary energy\")\n",
    "df[\"impact_category\"] = df[\"impact_category\"].str.replace(\"ReCiPe 2016 v1.03, endpoint (I) - total: ecosystem quality - ecosystem quality\", \"ecosystem impact\")\n",
    "df[\"impact_category\"] = df[\"impact_category\"].str.replace(\"ReCiPe 2016 v1.03, endpoint (E) - total: human health - human health\", \"human health\")\n",
    "df[\"impact_category\"] = df[\"impact_category\"].str.replace(\"Ecological Scarcity 2021 - total - UBP\", \"ecological scarcity\")"
   ]
  },
  {
   "cell_type": "code",
   "execution_count": null,
   "id": "d09ec51a-9b24-4ec8-8e29-be62f20dbe27",
   "metadata": {},
   "outputs": [],
   "source": [
    "units = {\n",
    "    \"climate change\": \"kg CO2-eq.\",\n",
    "    \"land occupation\": \"square meter-year\",\n",
    "    \"natural resources (minerals and metals)\": \"kg Sb-eq.\",\n",
    "    \"renewable primary energy\": \"MJ (HHV)\",\n",
    "    \"non-renewable primary energy\": \"MJ (HHV)\",\n",
    "    \"ecosystem impact\": \"species-year lost\",\n",
    "    \"human health\": \"DALY\",\n",
    "    \"ecological scarcity\": \"UBP pt\"\n",
    "}\n",
    "df[\"unit\"] = df[\"impact_category\"].map(units)"
   ]
  },
  {
   "cell_type": "code",
   "execution_count": null,
   "id": "0d67a289-d262-42c5-a883-72275b8d66d4",
   "metadata": {},
   "outputs": [],
   "source": [
    "df[\"impact_category\"].unique()"
   ]
  },
  {
   "cell_type": "code",
   "execution_count": null,
   "id": "e9ba60a3-c562-40cb-bcf9-3a60a945ba6e",
   "metadata": {},
   "outputs": [],
   "source": [
    "df.head()"
   ]
  },
  {
   "cell_type": "code",
   "execution_count": null,
   "id": "ae0a8b4b-8d30-4df9-800f-d81d8f8c481b",
   "metadata": {},
   "outputs": [],
   "source": [
    "df.loc[df[\"unit\"].isnull(), \"unit\"] = \"kg\""
   ]
  },
  {
   "cell_type": "code",
   "execution_count": null,
   "id": "f0c85132-0a04-4db8-98a1-b5019ff06787",
   "metadata": {},
   "outputs": [],
   "source": [
    "from pivottablejs import pivot_ui\n",
    "from IPython.display import HTML\n",
    "pivot_ui(df, outfile_path='pivottable_ch.html')"
   ]
  },
  {
   "cell_type": "code",
   "execution_count": null,
   "id": "d76f3bdf-5ae0-451c-a2b6-b880b683d8c0",
   "metadata": {},
   "outputs": [],
   "source": [
    "pivot = df.pivot_table(index=['variable', 'region', 'model', 'scenario', 'impact_category', 'location', 'unit'], \n",
    "                          columns='year', \n",
    "                          values='value', \n",
    "                          aggfunc='sum').reset_index()\n",
    "pivot.fillna(0, inplace=True)"
   ]
  },
  {
   "cell_type": "code",
   "execution_count": null,
   "id": "8abb35a6-ea5d-440d-a3dc-77ea8b408922",
   "metadata": {},
   "outputs": [],
   "source": [
    "scenarios = p.scenarios.sel(region=\"CH\", pathway='SSP2-RCP26-SPS1', model=\"image\").astype(float).interp(\n",
    "    year=range(p.scenarios.coords[\"year\"].values.min(), p.scenarios.coords[\"year\"].values.max() + 1)\n",
    ")"
   ]
  },
  {
   "cell_type": "code",
   "execution_count": null,
   "id": "48b232d2-d5aa-4d4a-983c-540d34eb6bb6",
   "metadata": {},
   "outputs": [],
   "source": [
    "df_scenarios = scenarios.to_dataframe(\"value\").reset_index().pivot_table(\n",
    "    index=['variables', 'region', 'model', 'pathway', ], \n",
    "                          columns='year', \n",
    "                          values='value', \n",
    "                          aggfunc='sum'\n",
    ")"
   ]
  },
  {
   "cell_type": "code",
   "execution_count": null,
   "id": "46f5ecc2-a7ac-4623-b3a3-7042022ba3e9",
   "metadata": {},
   "outputs": [],
   "source": [
    "df_scenarios[\"unit\"] = \"PJ\"\n",
    "df_scenarios[\"impact_category\"] = \"Production\""
   ]
  },
  {
   "cell_type": "code",
   "execution_count": null,
   "id": "83f4c400-4441-4bb7-9b36-542cc0d0019c",
   "metadata": {},
   "outputs": [],
   "source": [
    "df_scenarios = df_scenarios.reset_index()"
   ]
  },
  {
   "cell_type": "code",
   "execution_count": null,
   "id": "a033333c-3db3-48d3-ad4a-ae007369217d",
   "metadata": {},
   "outputs": [],
   "source": [
    "df_scenarios.rename(columns={'variables':'variable'}, inplace=True)\n",
    "df_scenarios.rename(columns={'pathway':'scenario'}, inplace=True)"
   ]
  },
  {
   "cell_type": "code",
   "execution_count": null,
   "id": "6799d75d-4888-4722-bc38-718b94663c65",
   "metadata": {},
   "outputs": [],
   "source": [
    "import pandas as pd\n",
    "df_final = pd.concat([pivot, df_scenarios], ignore_index=True)"
   ]
  },
  {
   "cell_type": "code",
   "execution_count": null,
   "id": "7bf30170-952c-41ad-898f-3ba5c0ea45a2",
   "metadata": {},
   "outputs": [],
   "source": [
    "df_final.loc[df_final[\"location\"].isnull(), \"location\"] = \"CH\""
   ]
  },
  {
   "cell_type": "code",
   "execution_count": null,
   "id": "867158a4-1552-4750-8925-e1abc9396870",
   "metadata": {},
   "outputs": [],
   "source": [
    "df_final.to_excel(\"indicators_export_SPS1.xlsx\")"
   ]
  },
  {
   "cell_type": "code",
   "execution_count": null,
   "id": "85f2b007-df2c-45e4-8966-9c5f3c8e46a5",
   "metadata": {},
   "outputs": [],
   "source": []
  },
  {
   "cell_type": "code",
   "execution_count": null,
   "id": "6cec27df-809a-45a6-a3fd-10b58bbc4719",
   "metadata": {},
   "outputs": [],
   "source": [
    "!pip install pyyaml"
   ]
  },
  {
   "cell_type": "code",
   "execution_count": null,
   "id": "7caa5681-5b07-4e29-929a-901eba305302",
   "metadata": {},
   "outputs": [],
   "source": [
    "# Adjusting the YAML loader to handle Python-specific objects (tuples)\n",
    "import yaml\n",
    "from yaml import SafeLoader\n",
    "from yaml.constructor import SafeConstructor\n",
    "\n",
    "# Define a constructor for Python tuples\n",
    "def construct_python_tuple(loader, node):\n",
    "    return tuple(loader.construct_sequence(node))\n",
    "\n",
    "# Add the constructor to the SafeLoader\n",
    "SafeLoader.add_constructor('tag:yaml.org,2002:python/tuple', construct_python_tuple)\n",
    "\n",
    "file_path = \"/Users/romain/Github/pathways/pathways/data/activities_classifications.yaml\"\n",
    "\n",
    "# Now, let's try loading the YAML file again with the adjusted loader\n",
    "with open(file_path, 'r') as file:\n",
    "    data_adjusted = yaml.load(file, Loader=SafeLoader)\n",
    "\n",
    "# Display the first few items to understand its structure with adjustments\n",
    "list(data_adjusted.items())[:5]"
   ]
  },
  {
   "cell_type": "code",
   "execution_count": null,
   "id": "e0c0ae93-8070-425a-b5bb-678bc3ab7014",
   "metadata": {},
   "outputs": [],
   "source": [
    "# Modify the data by removing the last item from each tuple key\n",
    "modified_data = {(key[:-1]): value for key, value in data_adjusted.items()}\n",
    "\n",
    "# Define the new file path for the modified YAML\n",
    "modified_file_path = 'modified_activities_classifications.yaml'\n",
    "\n",
    "# Re-export the modified data to a new YAML file\n",
    "with open(modified_file_path, 'w') as modified_file:\n",
    "    yaml.dump(modified_data, modified_file)"
   ]
  },
  {
   "cell_type": "code",
   "execution_count": null,
   "id": "1f2367ac-f922-425f-8468-6d2582d4dc43",
   "metadata": {},
   "outputs": [],
   "source": []
  }
 ],
 "metadata": {
  "kernelspec": {
   "display_name": "Python 3 (ipykernel)",
   "language": "python",
   "name": "python3"
  },
  "language_info": {
   "codemirror_mode": {
    "name": "ipython",
    "version": 3
   },
   "file_extension": ".py",
   "mimetype": "text/x-python",
   "name": "python",
   "nbconvert_exporter": "python",
   "pygments_lexer": "ipython3",
   "version": "3.11.9"
  }
 },
 "nbformat": 4,
 "nbformat_minor": 5
}
