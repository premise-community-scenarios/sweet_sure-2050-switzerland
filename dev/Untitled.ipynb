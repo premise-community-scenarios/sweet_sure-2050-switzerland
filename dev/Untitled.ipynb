{
 "cells": [
  {
   "cell_type": "code",
   "execution_count": 1,
   "id": "90707135-94b0-4255-b298-714ed0038250",
   "metadata": {},
   "outputs": [],
   "source": [
    "from premise import *\n",
    "import bw2data\n",
    "from datapackage import Package\n",
    "bw2data.projects.set_current(\"ei39\")"
   ]
  },
  {
   "cell_type": "code",
   "execution_count": 4,
   "id": "dd2763b8-b6f1-499f-8b72-e6a296052dbc",
   "metadata": {},
   "outputs": [
    {
     "name": "stdout",
     "output_type": "stream",
     "text": [
      "premise v.(2, 0, 2)\n",
      "+------------------------------------------------------------------+\n",
      "| Warning                                                          |\n",
      "+------------------------------------------------------------------+\n",
      "| Because some of the scenarios can yield LCI databases            |\n",
      "| containing net negative emission technologies (NET),             |\n",
      "| it is advised to account for biogenic CO2 flows when calculating |\n",
      "| Global Warming potential indicators.                             |\n",
      "| `premise_gwp` provides characterization factors for such flows.  |\n",
      "| It also provides factors for hydrogen emissions to air.          |\n",
      "|                                                                  |\n",
      "| Within your bw2 project:                                         |\n",
      "| from premise_gwp import add_premise_gwp                          |\n",
      "| add_premise_gwp()                                                |\n",
      "+------------------------------------------------------------------+\n",
      "+--------------------------------+----------------------------------+\n",
      "| Utils functions                | Description                      |\n",
      "+--------------------------------+----------------------------------+\n",
      "| clear_cache()                  | Clears the cache folder. Useful  |\n",
      "|                                | when updating `premise`or        |\n",
      "|                                | encountering issues with         |\n",
      "|                                | inventories.                     |\n",
      "+--------------------------------+----------------------------------+\n",
      "| get_regions_definition(model)  | Retrieves the list of countries  |\n",
      "|                                | for each region of the model.    |\n",
      "+--------------------------------+----------------------------------+\n",
      "| ndb.NewDatabase(...)           | Generates a summary of the most  |\n",
      "| ndb.generate_scenario_report() | important scenarios' variables.  |\n",
      "+--------------------------------+----------------------------------+\n",
      "Keep uncertainty data?\n",
      "NewDatabase(..., keep_uncertainty_data=True)\n",
      "\n",
      "Disable multiprocessing?\n",
      "NewDatabase(..., use_multiprocessing=False)\n",
      "\n",
      "Hide these messages?\n",
      "NewDatabase(..., quiet=True)\n",
      "- Extracting source database\n",
      "- Extracting inventories\n",
      "- Fetching IAM data\n",
      "Done!\n"
     ]
    }
   ],
   "source": [
    "scenarios = [\n",
    "    #{\"model\": \"image\", \"pathway\": \"SSP2-Base\", \"year\": 2020},\n",
    "    #{\"model\": \"image\", \"pathway\": \"SSP2-Base\", \"year\": 2022},\n",
    "    #{\"model\": \"image\", \"pathway\": \"SSP2-Base\", \"year\": 2025},\n",
    "    #{\"model\": \"image\", \"pathway\": \"SSP2-Base\", \"year\": 2030},\n",
    "    #{\"model\": \"image\", \"pathway\": \"SSP2-Base\", \"year\": 2040},\n",
    "    {\"model\": \"image\", \"pathway\": \"SSP2-RCP26\", \"year\": 2050},\n",
    "]\n",
    "\n",
    "sps = Package(\"../datapackage.json\")\n",
    "\n",
    "ndb = NewDatabase(\n",
    "        scenarios=scenarios,\n",
    "        source_db=\"ecoinvent 3.9.1 cutoff\",\n",
    "        source_version=\"3.9.1\",\n",
    "        key='tUePmX_S5B8ieZkkM7WUU2CnO8SmShwmAeWK9x2rTFo=',\n",
    "        external_scenarios=[sps,],\n",
    "        use_multiprocessing=False\n",
    ")"
   ]
  },
  {
   "cell_type": "code",
   "execution_count": 1,
   "id": "89e232df-89be-4ec9-ac8a-2761e243c004",
   "metadata": {},
   "outputs": [
    {
     "name": "stdout",
     "output_type": "stream",
     "text": [
      "premise v.(2, 0, 2)\n",
      "+------------------------------------------------------------------+\n",
      "| Warning                                                          |\n",
      "+------------------------------------------------------------------+\n",
      "| Because some of the scenarios can yield LCI databases            |\n",
      "| containing net negative emission technologies (NET),             |\n",
      "| it is advised to account for biogenic CO2 flows when calculating |\n",
      "| Global Warming potential indicators.                             |\n",
      "| `premise_gwp` provides characterization factors for such flows.  |\n",
      "| It also provides factors for hydrogen emissions to air.          |\n",
      "|                                                                  |\n",
      "| Within your bw2 project:                                         |\n",
      "| from premise_gwp import add_premise_gwp                          |\n",
      "| add_premise_gwp()                                                |\n",
      "+------------------------------------------------------------------+\n",
      "+--------------------------------+----------------------------------+\n",
      "| Utils functions                | Description                      |\n",
      "+--------------------------------+----------------------------------+\n",
      "| clear_cache()                  | Clears the cache folder. Useful  |\n",
      "|                                | when updating `premise`or        |\n",
      "|                                | encountering issues with         |\n",
      "|                                | inventories.                     |\n",
      "+--------------------------------+----------------------------------+\n",
      "| get_regions_definition(model)  | Retrieves the list of countries  |\n",
      "|                                | for each region of the model.    |\n",
      "+--------------------------------+----------------------------------+\n",
      "| ndb.NewDatabase(...)           | Generates a summary of the most  |\n",
      "| ndb.generate_scenario_report() | important scenarios' variables.  |\n",
      "+--------------------------------+----------------------------------+\n",
      "Keep uncertainty data?\n",
      "NewDatabase(..., keep_uncertainty_data=True)\n",
      "\n",
      "Disable multiprocessing?\n",
      "NewDatabase(..., use_multiprocessing=False)\n",
      "\n",
      "Hide these messages?\n",
      "NewDatabase(..., quiet=True)\n",
      "- Extracting source database\n",
      "- Extracting inventories\n",
      "- Fetching IAM data\n",
      "Done!\n"
     ]
    }
   ],
   "source": [
    "from premise import *\n",
    "import bw2data\n",
    "from datapackage import Package\n",
    "bw2data.projects.set_current(\"ei39\")\n",
    "sps = Package(\"../datapackage.json\")\n",
    "ndb = PathwaysDataPackage(\n",
    "    scenarios=[\n",
    "        {\"model\": \"image\", \"pathway\": \"SSP2-RCP26\"},\n",
    "    ],\n",
    "    #years=[2005, 2010, 2020, 2030, 2040, 2050, 2060, 2070, 2080, 2090, 2100],\n",
    "    years=[2020, 2022, 2025, 2030, 2035, 2040, 2045, 2050],\n",
    "    source_db=\"ecoinvent 3.9.1 cutoff\", # <-- name of the database in the BW2 project. Must be a string.\n",
    "    source_version=\"3.9\", # <-- version of ecoinvent. Can be \"3.5\", \"3.6\", \"3.7\" or \"3.8\". Must be a string.\n",
    "    key=\"tUePmX_S5B8ieZkkM7WUU2CnO8SmShwmAeWK9x2rTFo=\",\n",
    "    external_scenarios=[sps,]\n",
    ")"
   ]
  },
  {
   "cell_type": "code",
   "execution_count": 2,
   "id": "956553ed-bea1-4e96-9459-8b1ad68551e8",
   "metadata": {},
   "outputs": [
    {
     "name": "stdout",
     "output_type": "stream",
     "text": [
      "`update()` will skip the following sectors: 'buses', 'cars', 'two_wheelers'.\n",
      "If you want to update these sectors, please run them separately afterwards.\n"
     ]
    },
    {
     "name": "stderr",
     "output_type": "stream",
     "text": [
      "Updating: metals:  55%|████████▏      | 6/11 [13:19<12:19, 147.82s/it]"
     ]
    },
    {
     "name": "stdout",
     "output_type": "stream",
     "text": [
      "Activity copper-cobalt mining, artisanal - copper-cobalt ore already exists in all locations [].\n",
      "Activity copper mine operation and beneficiation, sulfide ore - copper concentrate, sulfide ore already exists in all locations [].\n",
      "Activity gold mine operation and refining - copper, cathode already exists in all locations [].\n",
      "Activity platinum group metal mine operation, ore with high palladium content - copper, cathode already exists in all locations [].\n",
      "Activity platinum group metal, extraction and refinery operations - copper, cathode already exists in all locations [].\n",
      "Activity gold mine operation and refining - gold already exists in all locations [].\n",
      "Activity gold production - gold already exists in all locations [].\n",
      "Activity platinum group metal, extraction and refinery operations - gold already exists in all locations [].\n",
      "Activity vanadium-titanomagnetite mine operation and beneficiation - iron ore concentrate already exists in all locations [].\n",
      "Activity silver mine operation with extraction - lead concentrate already exists in all locations [].\n",
      "Metal spodumene not found in alternative names. Skipping transport.\n",
      "Metal spodumene not found in alternative names. Skipping transport.\n",
      "Metal spodumene not found in alternative names. Skipping transport.\n",
      "Metal spodumene not found in alternative names. Skipping transport.\n",
      "Metal spodumene not found in alternative names. Skipping transport.\n",
      "Metal spodumene not found in alternative names. Skipping transport.\n",
      "Metal spodumene not found in alternative names. Skipping transport.\n",
      "Metal spodumene not found in alternative names. Skipping transport.\n",
      "Metal spodumene not found in alternative names. Skipping transport.\n",
      "Metal spodumene not found in alternative names. Skipping transport.\n",
      "Metal spodumene not found in alternative names. Skipping transport.\n",
      "Metal spodumene not found in alternative names. Skipping transport.\n",
      "Metal spodumene not found in alternative names. Skipping transport.\n",
      "Activity lithium carbonate production, from Chaerhan salt lake - lithium carbonate, battery grade already exists in all locations [].\n",
      "Activity lithium carbonate production, from Salar de Atacama - lithium carbonate, battery grade already exists in all locations [].\n",
      "Activity lithium carbonate production, from Salar de Cauchari-Olaroz - lithium carbonate, battery grade already exists in all locations [].\n",
      "Activity lithium carbonate production, from Salar de Olaroz - lithium carbonate, battery grade already exists in all locations [].\n",
      "Activity lithium carbonate production, from Salar del Hombre Muerto - lithium carbonate, battery grade already exists in all locations [].\n",
      "Activity magnesium production, pidgeon process - magnesium already exists in all locations [].\n",
      "Activity smelting and refining of nickel concentrate, 7% Ni - nickel, class 1 already exists in all locations [].\n",
      "Metal rare earth carbonate concentrate not found in alternative names. Skipping transport.\n",
      "Metal rare earth carbonate concentrate not found in alternative names. Skipping transport.\n",
      "Metal rare earth carbonate concentrate not found in alternative names. Skipping transport.\n",
      "Metal rare earth carbonate concentrate not found in alternative names. Skipping transport.\n",
      "Metal rare earth carbonate concentrate not found in alternative names. Skipping transport.\n",
      "Metal rare earth carbonate concentrate not found in alternative names. Skipping transport.\n",
      "Metal rare earth carbonate concentrate not found in alternative names. Skipping transport.\n",
      "Metal rare earth carbonate concentrate not found in alternative names. Skipping transport.\n",
      "Metal rare earth carbonate concentrate not found in alternative names. Skipping transport.\n",
      "Metal rare earth carbonate concentrate not found in alternative names. Skipping transport.\n",
      "Metal sand not found in alternative names. Skipping transport.\n",
      "Metal sand not found in alternative names. Skipping transport.\n",
      "Metal sand not found in alternative names. Skipping transport.\n",
      "Metal sand not found in alternative names. Skipping transport.\n",
      "Metal sand not found in alternative names. Skipping transport.\n",
      "Metal sand not found in alternative names. Skipping transport.\n",
      "Metal sand not found in alternative names. Skipping transport.\n",
      "Metal sand not found in alternative names. Skipping transport.\n",
      "Metal sand not found in alternative names. Skipping transport.\n",
      "Metal sand not found in alternative names. Skipping transport.\n",
      "Metal sand not found in alternative names. Skipping transport.\n",
      "Metal sand not found in alternative names. Skipping transport.\n",
      "Metal sand not found in alternative names. Skipping transport.\n",
      "Metal sand not found in alternative names. Skipping transport.\n",
      "Metal sand not found in alternative names. Skipping transport.\n",
      "Metal sand not found in alternative names. Skipping transport.\n",
      "Metal sand not found in alternative names. Skipping transport.\n",
      "Metal sand not found in alternative names. Skipping transport.\n",
      "Metal sand not found in alternative names. Skipping transport.\n",
      "Metal sand not found in alternative names. Skipping transport.\n",
      "Activity gold mine operation and refining - silver already exists in all locations [].\n",
      "Activity heavy mineral sand quarry operation and titania slag production - rutile, 95% titanium dioxide already exists in all locations [].\n",
      "Activity rutile production, synthetic, 95% titanium dioxide, Becher process - rutile, 95% titanium dioxide already exists in all locations [].\n",
      "Activity rutile production, synthetic, 95% titanium dioxide, Benelite process - rutile, 95% titanium dioxide already exists in all locations [].\n",
      "Metal titanium tetrachloride not found in alternative names. Skipping transport.\n",
      "Metal titanium tetrachloride not found in alternative names. Skipping transport.\n",
      "Metal titanium tetrachloride not found in alternative names. Skipping transport.\n",
      "Metal titanium tetrachloride not found in alternative names. Skipping transport.\n",
      "Metal titanium tetrachloride not found in alternative names. Skipping transport.\n",
      "Metal titanium sponge not found in alternative names. Skipping transport.\n",
      "Metal titanium sponge not found in alternative names. Skipping transport.\n",
      "Metal titanium sponge not found in alternative names. Skipping transport.\n",
      "Metal titanium sponge not found in alternative names. Skipping transport.\n",
      "Metal titanium sponge not found in alternative names. Skipping transport.\n",
      "Activity silver mine operation with extraction - zinc concentrate already exists in all locations [].\n",
      "Activity heavy mineral sand quarry operation and titania slag production - zircon already exists in all locations [].\n",
      "Activity copper-cobalt mining, artisanal - copper-cobalt ore already exists in all locations [].\n",
      "Activity copper mine operation and beneficiation, sulfide ore - copper concentrate, sulfide ore already exists in all locations [].\n",
      "Activity gold mine operation and refining - copper, cathode already exists in all locations [].\n",
      "Activity platinum group metal mine operation, ore with high palladium content - copper, cathode already exists in all locations [].\n",
      "Activity platinum group metal, extraction and refinery operations - copper, cathode already exists in all locations [].\n",
      "Activity gold mine operation and refining - gold already exists in all locations [].\n",
      "Activity gold production - gold already exists in all locations [].\n",
      "Activity platinum group metal, extraction and refinery operations - gold already exists in all locations [].\n",
      "Activity vanadium-titanomagnetite mine operation and beneficiation - iron ore concentrate already exists in all locations [].\n",
      "Activity silver mine operation with extraction - lead concentrate already exists in all locations [].\n",
      "Metal spodumene not found in alternative names. Skipping transport.\n",
      "Metal spodumene not found in alternative names. Skipping transport.\n",
      "Metal spodumene not found in alternative names. Skipping transport.\n",
      "Metal spodumene not found in alternative names. Skipping transport.\n",
      "Metal spodumene not found in alternative names. Skipping transport.\n",
      "Metal spodumene not found in alternative names. Skipping transport.\n",
      "Metal spodumene not found in alternative names. Skipping transport.\n",
      "Metal spodumene not found in alternative names. Skipping transport.\n",
      "Metal spodumene not found in alternative names. Skipping transport.\n",
      "Metal spodumene not found in alternative names. Skipping transport.\n",
      "Metal spodumene not found in alternative names. Skipping transport.\n",
      "Metal spodumene not found in alternative names. Skipping transport.\n",
      "Metal spodumene not found in alternative names. Skipping transport.\n",
      "Activity lithium carbonate production, from Chaerhan salt lake - lithium carbonate, battery grade already exists in all locations [].\n",
      "Activity lithium carbonate production, from Salar de Atacama - lithium carbonate, battery grade already exists in all locations [].\n",
      "Activity lithium carbonate production, from Salar de Cauchari-Olaroz - lithium carbonate, battery grade already exists in all locations [].\n",
      "Activity lithium carbonate production, from Salar de Olaroz - lithium carbonate, battery grade already exists in all locations [].\n",
      "Activity lithium carbonate production, from Salar del Hombre Muerto - lithium carbonate, battery grade already exists in all locations [].\n",
      "Activity magnesium production, pidgeon process - magnesium already exists in all locations [].\n",
      "Activity smelting and refining of nickel concentrate, 7% Ni - nickel, class 1 already exists in all locations [].\n",
      "Metal rare earth carbonate concentrate not found in alternative names. Skipping transport.\n",
      "Metal rare earth carbonate concentrate not found in alternative names. Skipping transport.\n",
      "Metal rare earth carbonate concentrate not found in alternative names. Skipping transport.\n",
      "Metal rare earth carbonate concentrate not found in alternative names. Skipping transport.\n",
      "Metal rare earth carbonate concentrate not found in alternative names. Skipping transport.\n",
      "Metal rare earth carbonate concentrate not found in alternative names. Skipping transport.\n",
      "Metal rare earth carbonate concentrate not found in alternative names. Skipping transport.\n",
      "Metal rare earth carbonate concentrate not found in alternative names. Skipping transport.\n",
      "Metal rare earth carbonate concentrate not found in alternative names. Skipping transport.\n",
      "Metal rare earth carbonate concentrate not found in alternative names. Skipping transport.\n",
      "Metal sand not found in alternative names. Skipping transport.\n",
      "Metal sand not found in alternative names. Skipping transport.\n",
      "Metal sand not found in alternative names. Skipping transport.\n",
      "Metal sand not found in alternative names. Skipping transport.\n",
      "Metal sand not found in alternative names. Skipping transport.\n",
      "Metal sand not found in alternative names. Skipping transport.\n",
      "Metal sand not found in alternative names. Skipping transport.\n",
      "Metal sand not found in alternative names. Skipping transport.\n",
      "Metal sand not found in alternative names. Skipping transport.\n",
      "Metal sand not found in alternative names. Skipping transport.\n",
      "Metal sand not found in alternative names. Skipping transport.\n",
      "Metal sand not found in alternative names. Skipping transport.\n",
      "Metal sand not found in alternative names. Skipping transport.\n",
      "Metal sand not found in alternative names. Skipping transport.\n",
      "Metal sand not found in alternative names. Skipping transport.\n",
      "Metal sand not found in alternative names. Skipping transport.\n",
      "Metal sand not found in alternative names. Skipping transport.\n",
      "Metal sand not found in alternative names. Skipping transport.\n",
      "Metal sand not found in alternative names. Skipping transport.\n",
      "Metal sand not found in alternative names. Skipping transport.\n",
      "Activity gold mine operation and refining - silver already exists in all locations [].\n",
      "Activity heavy mineral sand quarry operation and titania slag production - rutile, 95% titanium dioxide already exists in all locations [].\n",
      "Activity rutile production, synthetic, 95% titanium dioxide, Becher process - rutile, 95% titanium dioxide already exists in all locations [].\n",
      "Activity rutile production, synthetic, 95% titanium dioxide, Benelite process - rutile, 95% titanium dioxide already exists in all locations [].\n",
      "Metal titanium tetrachloride not found in alternative names. Skipping transport.\n",
      "Metal titanium tetrachloride not found in alternative names. Skipping transport.\n",
      "Metal titanium tetrachloride not found in alternative names. Skipping transport.\n",
      "Metal titanium tetrachloride not found in alternative names. Skipping transport.\n",
      "Metal titanium tetrachloride not found in alternative names. Skipping transport.\n",
      "Metal titanium sponge not found in alternative names. Skipping transport.\n",
      "Metal titanium sponge not found in alternative names. Skipping transport.\n",
      "Metal titanium sponge not found in alternative names. Skipping transport.\n",
      "Metal titanium sponge not found in alternative names. Skipping transport.\n",
      "Metal titanium sponge not found in alternative names. Skipping transport.\n",
      "Activity silver mine operation with extraction - zinc concentrate already exists in all locations [].\n",
      "Activity heavy mineral sand quarry operation and titania slag production - zircon already exists in all locations [].\n",
      "Activity copper-cobalt mining, artisanal - copper-cobalt ore already exists in all locations [].\n",
      "Activity copper mine operation and beneficiation, sulfide ore - copper concentrate, sulfide ore already exists in all locations [].\n",
      "Activity gold mine operation and refining - copper, cathode already exists in all locations [].\n",
      "Activity platinum group metal mine operation, ore with high palladium content - copper, cathode already exists in all locations [].\n",
      "Activity platinum group metal, extraction and refinery operations - copper, cathode already exists in all locations [].\n",
      "Activity gold mine operation and refining - gold already exists in all locations [].\n",
      "Activity gold production - gold already exists in all locations [].\n",
      "Activity platinum group metal, extraction and refinery operations - gold already exists in all locations [].\n",
      "Activity vanadium-titanomagnetite mine operation and beneficiation - iron ore concentrate already exists in all locations [].\n",
      "Activity silver mine operation with extraction - lead concentrate already exists in all locations [].\n",
      "Metal spodumene not found in alternative names. Skipping transport.\n",
      "Metal spodumene not found in alternative names. Skipping transport.\n",
      "Metal spodumene not found in alternative names. Skipping transport.\n",
      "Metal spodumene not found in alternative names. Skipping transport.\n",
      "Metal spodumene not found in alternative names. Skipping transport.\n",
      "Metal spodumene not found in alternative names. Skipping transport.\n",
      "Metal spodumene not found in alternative names. Skipping transport.\n",
      "Metal spodumene not found in alternative names. Skipping transport.\n",
      "Metal spodumene not found in alternative names. Skipping transport.\n",
      "Metal spodumene not found in alternative names. Skipping transport.\n",
      "Metal spodumene not found in alternative names. Skipping transport.\n",
      "Metal spodumene not found in alternative names. Skipping transport.\n",
      "Metal spodumene not found in alternative names. Skipping transport.\n",
      "Activity lithium carbonate production, from Chaerhan salt lake - lithium carbonate, battery grade already exists in all locations [].\n",
      "Activity lithium carbonate production, from Salar de Atacama - lithium carbonate, battery grade already exists in all locations [].\n",
      "Activity lithium carbonate production, from Salar de Cauchari-Olaroz - lithium carbonate, battery grade already exists in all locations [].\n",
      "Activity lithium carbonate production, from Salar de Olaroz - lithium carbonate, battery grade already exists in all locations [].\n",
      "Activity lithium carbonate production, from Salar del Hombre Muerto - lithium carbonate, battery grade already exists in all locations [].\n",
      "Activity magnesium production, pidgeon process - magnesium already exists in all locations [].\n",
      "Activity smelting and refining of nickel concentrate, 7% Ni - nickel, class 1 already exists in all locations [].\n",
      "Metal rare earth carbonate concentrate not found in alternative names. Skipping transport.\n",
      "Metal rare earth carbonate concentrate not found in alternative names. Skipping transport.\n",
      "Metal rare earth carbonate concentrate not found in alternative names. Skipping transport.\n",
      "Metal rare earth carbonate concentrate not found in alternative names. Skipping transport.\n",
      "Metal rare earth carbonate concentrate not found in alternative names. Skipping transport.\n",
      "Metal rare earth carbonate concentrate not found in alternative names. Skipping transport.\n",
      "Metal rare earth carbonate concentrate not found in alternative names. Skipping transport.\n",
      "Metal rare earth carbonate concentrate not found in alternative names. Skipping transport.\n",
      "Metal rare earth carbonate concentrate not found in alternative names. Skipping transport.\n",
      "Metal rare earth carbonate concentrate not found in alternative names. Skipping transport.\n",
      "Metal sand not found in alternative names. Skipping transport.\n",
      "Metal sand not found in alternative names. Skipping transport.\n",
      "Metal sand not found in alternative names. Skipping transport.\n",
      "Metal sand not found in alternative names. Skipping transport.\n",
      "Metal sand not found in alternative names. Skipping transport.\n",
      "Metal sand not found in alternative names. Skipping transport.\n",
      "Metal sand not found in alternative names. Skipping transport.\n",
      "Metal sand not found in alternative names. Skipping transport.\n",
      "Metal sand not found in alternative names. Skipping transport.\n",
      "Metal sand not found in alternative names. Skipping transport.\n",
      "Metal sand not found in alternative names. Skipping transport.\n",
      "Metal sand not found in alternative names. Skipping transport.\n",
      "Metal sand not found in alternative names. Skipping transport.\n",
      "Metal sand not found in alternative names. Skipping transport.\n",
      "Metal sand not found in alternative names. Skipping transport.\n",
      "Metal sand not found in alternative names. Skipping transport.\n",
      "Metal sand not found in alternative names. Skipping transport.\n",
      "Metal sand not found in alternative names. Skipping transport.\n",
      "Metal sand not found in alternative names. Skipping transport.\n",
      "Metal sand not found in alternative names. Skipping transport.\n",
      "Activity gold mine operation and refining - silver already exists in all locations [].\n",
      "Activity heavy mineral sand quarry operation and titania slag production - rutile, 95% titanium dioxide already exists in all locations [].\n",
      "Activity rutile production, synthetic, 95% titanium dioxide, Becher process - rutile, 95% titanium dioxide already exis"
     ]
    },
    {
     "name": "stderr",
     "output_type": "stream",
     "text": [
      "Updating: external:  91%|██████████▉ | 10/11 [26:34<02:43, 163.78s/it]"
     ]
    },
    {
     "name": "stdout",
     "output_type": "stream",
     "text": [
      "Warning: Efficiency factor for electricity production, from incineration of plast in CH is 1.9702232866224763.\n",
      "Warning: Efficiency factor for electricity production, from incineration of plast in CH is 1.9702232866224763.\n",
      "Warning: Efficiency factor for electricity production, at co-generation plastic w in CH is 1.7732009579602288.\n",
      "Warning: Efficiency factor for electricity production, at co-generation plastic w in CH is 1.7732009579602288.\n",
      "Warning: Efficiency factor for electricity production, from biowaste, municipal i in CH is 1.5442290624878867.\n",
      "Warning: Efficiency factor for electricity production, from biowaste, municipal i in CH is 1.5442290624878867.\n",
      "Warning: ('electricity production, at natural gas-fired combined cycle power plant, post, pipeline 200km, storage 1000m', 'CH') has no energy input\n",
      "Warning: ('electricity production, at co-generation natural gas-fired power plant, post, pipeline 200km, storage 1000m', 'CH') has no energy input\n",
      "Warning: ('electricity production, at biomass-fired IGCC power plant, pre, pipeline 200km, storage 1000m', 'CH') has no energy input\n",
      "Warning: Efficiency factor for electricity production, from incineration of plast in CH is 1.9702237114566141.\n",
      "Warning: Efficiency factor for electricity production, from incineration of plast in CH is 1.9702237114566141.\n",
      "Warning: Efficiency factor for electricity production, at co-generation plastic w in CH is 1.7732013403109528.\n",
      "Warning: Efficiency factor for electricity production, at co-generation plastic w in CH is 1.7732013403109528.\n",
      "Warning: Efficiency factor for electricity production, from biowaste, municipal i in CH is 1.5442293954659947.\n",
      "Warning: Efficiency factor for electricity production, from biowaste, municipal i in CH is 1.5442293954659947.\n",
      "Warning: ('electricity production, at natural gas-fired combined cycle power plant, post, pipeline 200km, storage 1000m', 'CH') has no energy input\n",
      "Warning: ('electricity production, at co-generation natural gas-fired power plant, post, pipeline 200km, storage 1000m', 'CH') has no energy input\n",
      "Warning: ('electricity production, at biomass-fired IGCC power plant, pre, pipeline 200km, storage 1000m', 'CH') has no energy input\n",
      "No suppliers found for market for biodiesel (SPS) in CH. No market created. This may cause linking issue.\n",
      "Warning: Efficiency factor for electricity production, from incineration of plast in CH is 1.9702239540032707.\n",
      "Warning: Efficiency factor for electricity production, from incineration of plast in CH is 1.9702239540032707.\n",
      "Warning: Efficiency factor for electricity production, at co-generation plastic w in CH is 1.7732015586029437.\n",
      "Warning: Efficiency factor for electricity production, at co-generation plastic w in CH is 1.7732015586029437.\n",
      "Warning: Efficiency factor for electricity production, from biowaste, municipal i in CH is 1.544229585570131.\n",
      "Warning: Efficiency factor for electricity production, from biowaste, municipal i in CH is 1.544229585570131.\n",
      "Warning: ('electricity production, at natural gas-fired combined cycle power plant, post, pipeline 200km, storage 1000m', 'CH') has no energy input\n",
      "Warning: ('electricity production, at co-generation natural gas-fired power plant, post, pipeline 200km, storage 1000m', 'CH') has no energy input\n",
      "Warning: ('electricity production, at biomass-fired IGCC power plant, pre, pipeline 200km, storage 1000m', 'CH') has no energy input\n",
      "Warning: Efficiency factor for electricity production, from incineration of plast in CH is 1.970223964344568.\n",
      "Warning: Efficiency factor for electricity production, from incineration of plast in CH is 1.970223964344568.\n",
      "Warning: Efficiency factor for electricity production, at co-generation plastic w in CH is 1.7732015679101112.\n",
      "Warning: Efficiency factor for electricity production, at co-generation plastic w in CH is 1.7732015679101112.\n",
      "Warning: Efficiency factor for electricity production, from biowaste, municipal i in CH is 1.5442295936754722.\n",
      "Warning: Efficiency factor for electricity production, from biowaste, municipal i in CH is 1.5442295936754722.\n",
      "Warning: ('electricity production, at natural gas-fired combined cycle power plant, post, pipeline 200km, storage 1000m', 'CH') has no energy input\n",
      "Warning: ('electricity production, at co-generation natural gas-fired power plant, post, pipeline 200km, storage 1000m', 'CH') has no energy input\n",
      "Warning: ('electricity production, at biomass-fired IGCC power plant, pre, pipeline 200km, storage 1000m', 'CH') has no energy input\n",
      "Warning: Efficiency factor for electricity production, from incineration of plast in CH is 1.9702239436619735.\n",
      "Warning: Efficiency factor for electricity production, from incineration of plast in CH is 1.9702239436619735.\n",
      "Warning: Efficiency factor for electricity production, at co-generation plastic w in CH is 1.773201549295776.\n",
      "Warning: Efficiency factor for electricity production, at co-generation plastic w in CH is 1.773201549295776.\n",
      "Warning: Efficiency factor for electricity production, from biowaste, municipal i in CH is 1.5442295774647898.\n",
      "Warning: Efficiency factor for electricity production, from biowaste, municipal i in CH is 1.5442295774647898.\n",
      "Warning: ('electricity production, at natural gas-fired combined cycle power plant, post, pipeline 200km, storage 1000m', 'CH') has no energy input\n",
      "Warning: ('electricity production, at co-generation natural gas-fired power plant, post, pipeline 200km, storage 1000m', 'CH') has no energy input\n",
      "Warning: ('electricity production, at biomass-fired IGCC power plant, pre, pipeline 200km, storage 1000m', 'CH') has no energy input\n"
     ]
    },
    {
     "name": "stderr",
     "output_type": "stream",
     "text": [
      "Updating: external: 100%|████████████| 11/11 [28:46<00:00, 156.94s/it]\n"
     ]
    },
    {
     "name": "stdout",
     "output_type": "stream",
     "text": [
      "Done!\n",
      "\n",
      "Extracted 1 worksheets in 0.03 seconds\n",
      "Remove uncertainty data.\n",
      "Extracted 1 worksheets in 0.02 seconds\n",
      "Remove uncertainty data.\n",
      "Extracted 1 worksheets in 0.02 seconds\n",
      "Remove uncertainty data.\n",
      "Extracted 1 worksheets in 0.02 seconds\n",
      "Remove uncertainty data.\n",
      "Extracted 1 worksheets in 0.02 seconds\n",
      "Remove uncertainty data.\n",
      "Extracted 1 worksheets in 0.02 seconds\n",
      "Remove uncertainty data.\n",
      "Extracted 1 worksheets in 0.02 seconds\n",
      "Remove uncertainty data.\n",
      "Extracted 1 worksheets in 0.02 seconds\n",
      "Remove uncertainty data.\n",
      "Write new database(s) to matrix.\n",
      "Running all checks...\n",
      "Anomalies found: check the change report.\n",
      "Running all checks...\n",
      "Anomalies found: check the change report.\n",
      "Running all checks...\n",
      "Anomalies found: check the change report.\n",
      "Running all checks...\n",
      "Anomalies found: check the change report.\n",
      "True 0\n",
      "Exporting uncertainty data... 0\n",
      "Matrices saved in /Users/romain/GitHub/sweet_sure-2050-switzerland/dev/pathways/inventories/image/SSP2-RCP26/2022.\n",
      "True 0\n",
      "Exporting uncertainty data... 0\n",
      "Matrices saved in /Users/romain/GitHub/sweet_sure-2050-switzerland/dev/pathways/inventories/image/SSP2-RCP26/2025.\n",
      "True 0\n",
      "Exporting uncertainty data... 0\n",
      "Matrices saved in /Users/romain/GitHub/sweet_sure-2050-switzerland/dev/pathways/inventories/image/SSP2-RCP26/2040.\n",
      "True 0\n",
      "Exporting uncertainty data... 0\n",
      "Matrices saved in /Users/romain/GitHub/sweet_sure-2050-switzerland/dev/pathways/inventories/image/SSP2-RCP26/2020.\n",
      "True 0\n",
      "Exporting uncertainty data... 0\n",
      "Matrices saved in /Users/romain/GitHub/sweet_sure-2050-switzerland/dev/pathways/inventories/image/SSP2-RCP26/2030.\n",
      "True 0\n",
      "Exporting uncertainty data... 0\n",
      "Matrices saved in /Users/romain/GitHub/sweet_sure-2050-switzerland/dev/pathways/inventories/image/SSP2-RCP26/2045.\n",
      "True 0\n",
      "Exporting uncertainty data... 0\n",
      "Matrices saved in /Users/romain/GitHub/sweet_sure-2050-switzerland/dev/pathways/inventories/image/SSP2-RCP26/2035.\n",
      "Generate scenario report.\n",
      "Report saved under /Users/romain/GitHub/sweet_sure-2050-switzerland/dev/export/scenario_report.\n",
      "Generate change report.\n",
      "Report saved under /Users/romain/GitHub/sweet_sure-2050-switzerland/dev.\n",
      "Data package saved at /Users/romain/GitHub/sweet_sure-2050-switzerland/dev/pathways/image-SSP2-stem-SPS1.zip\n"
     ]
    }
   ],
   "source": [
    "ndb.create_datapackage(\n",
    "    name=\"image-SSP2-stem-SPS1\",\n",
    "    contributors=[\n",
    "        {\"name\": \"Romain\",\n",
    "        \"email\": \"r_s at me.com\",}\n",
    "    ]\n",
    ")"
   ]
  },
  {
   "cell_type": "code",
   "execution_count": 1,
   "id": "dd742014-f8cc-46fd-9387-5094efa527db",
   "metadata": {},
   "outputs": [
    {
     "name": "stdout",
     "output_type": "stream",
     "text": [
      "Solver: scikits.umfpack\n",
      "Invalid datapackage: Descriptor validation error: {'path': 'mapping/mapping.yaml', 'profile': 'data-resource', 'name': 'mapping', 'format': 'yaml', 'mediatype': 'text/yaml', 'encoding': 'utf-8'} is not valid under any of the given schemas at \"resources/41\" in descriptor and at \"properties/resources/items/oneOf\" in profile\n",
      "Invalid datapackage: Descriptor validation error: 'data-resource' is not one of ['tabular-data-resource'] at \"resources/41/profile\" in descriptor and at \"properties/resources/items/properties/profile/enum\" in profile\n"
     ]
    }
   ],
   "source": [
    "from pathways import Pathways\n",
    "p = Pathways(datapackage=\"image-SSP2-stem-SPS1/datapackage.json\")"
   ]
  },
  {
   "cell_type": "code",
   "execution_count": 2,
   "id": "4f1f9a86-bb48-4f89-a4dc-9477f32840a7",
   "metadata": {},
   "outputs": [
    {
     "name": "stdout",
     "output_type": "stream",
     "text": [
      "Calculating LCA results for image...\n",
      "--- Calculating LCA results for SSP2-RCP26...\n",
      "------ Calculating LCA results for 2020...\n",
      "CH is not an IAM location.\n",
      "CH is not an IAM location.\n"
     ]
    },
    {
     "name": "stderr",
     "output_type": "stream",
     "text": [
      "0% [#] 100% | ETA: 00:00:01\n",
      "Total time elapsed: 00:00:00\n"
     ]
    },
    {
     "name": "stdout",
     "output_type": "stream",
     "text": [
      "------ Calculating LCA results for 2022...\n",
      "CH is not an IAM location.\n",
      "CH is not an IAM location.\n"
     ]
    },
    {
     "name": "stderr",
     "output_type": "stream",
     "text": [
      "0% [#] 100% | ETA: 00:00:01\n",
      "Total time elapsed: 00:00:00\n"
     ]
    },
    {
     "name": "stdout",
     "output_type": "stream",
     "text": [
      "------ Calculating LCA results for 2030...\n",
      "CH is not an IAM location.\n",
      "CH is not an IAM location.\n"
     ]
    },
    {
     "name": "stderr",
     "output_type": "stream",
     "text": [
      "0% [#] 100% | ETA: 00:00:01\n",
      "Total time elapsed: 00:00:00\n"
     ]
    },
    {
     "name": "stdout",
     "output_type": "stream",
     "text": [
      "------ Calculating LCA results for 2040...\n",
      "CH is not an IAM location.\n",
      "CH is not an IAM location.\n"
     ]
    },
    {
     "name": "stderr",
     "output_type": "stream",
     "text": [
      "0% [#] 100% | ETA: 00:00:01\n",
      "Total time elapsed: 00:00:00\n"
     ]
    },
    {
     "name": "stdout",
     "output_type": "stream",
     "text": [
      "------ Calculating LCA results for 2050...\n",
      "CH is not an IAM location.\n",
      "CH is not an IAM location.\n"
     ]
    },
    {
     "name": "stderr",
     "output_type": "stream",
     "text": [
      "0% [#] 100% | ETA: 00:00:01\n",
      "Total time elapsed: 00:00:00\n",
      "0% [#####] 100% | ETA: 00:00:00\n",
      "Total time elapsed: 00:00:09\n"
     ]
    }
   ],
   "source": [
    "import numpy as np\n",
    "p.calculate(\n",
    "    methods=[\n",
    "        #'IPCC 2021 - climate change - GWP 100a, incl. H',\n",
    "        'IPCC 2021 - climate change - GWP 100a, incl. H and bio CO2',\n",
    "    ]+ [m for m in p.lcia_methods if \"relics\" in m.lower()][:10],\n",
    "    regions=[\"CH\",],\n",
    "    scenarios=[\n",
    "        #\"SSP2-Base\",\n",
    "        \"SSP2-RCP26\",\n",
    "    ],\n",
    "    variables=[\n",
    "        \"hydro_run_of_river\",\n",
    "        \"hydro (reservoir)\",\n",
    "        \"hydro (pumped storage)\",\n",
    "        \"nuclear (boiling water)\",\n",
    "        \"nuclear (pressure water)\",\n",
    "        \"oil (peak devices)\",\n",
    "        \"oil (DH CHP)\",\n",
    "        \"oil (industry CHP)\",\n",
    "        \"gas (CCGT)\",\n",
    "        \"gas (OCGT)\",\n",
    "        \"gas (CCGT CCS)\",\n",
    "        \"gas (CHP DH)\",\n",
    "        \"gas (fuel cell DH)\",\n",
    "        \"gas (CHP industry)\",\n",
    "        \"gas (CHP CCS industry)\",\n",
    "        \"gas (CHP fuel cell reformer)\",\n",
    "        \"gas (CHP single family)\",\n",
    "        \"gas (single family CHP fuel cell)\",\n",
    "        \"gas (multi family CHP)\",\n",
    "        \"gas (multi family CHP fuel cell)\",\n",
    "        \"biogas (services CHP)\",\n",
    "        \"gas (services CHP)\",\n",
    "        \"gas (services CHP fuel cell)\",\n",
    "        \"waste incineration, fossil\",\n",
    "        \"waste incineration, fossil (CHP)\",\n",
    "        \"waste incineration, fossil (industrial)\",\n",
    "        \"waste incineration, fossil (CCS)\",\n",
    "        \"waste incineration, fossil (CHP, CCS)\",\n",
    "        \"waste incineration, fossil (industrial, CCS)\",\n",
    "        \"waste incineration, non-fossil\",\n",
    "        \"waste incineration, non-fossil (CHP)\",\n",
    "        \"waste incineration, non-fossil (industrial)\",\n",
    "        \"waste incineration, non-fossil (CCS)\",\n",
    "        \"waste incineration, non-fossil (CHP, CCS)\",\n",
    "        \"waste incineration, non-fossil (industrial, CCS)\",\n",
    "        \"pv (large scale)\",\n",
    "        \"pv (industry)\",\n",
    "        \"pv (services)\",\n",
    "        \"pv residential (multi family)\",\n",
    "        \"pv residential (single family)\",\n",
    "        \"wind\",\n",
    "        \"geothermal\",\n",
    "        \"hydrogen fuel cell (DH CHP)\",\n",
    "        \"hydrogen fuel cell (industrial CHP)\",\n",
    "        \"hydrogen fuel cell (services CHP)\",\n",
    "        \"biomass (DH)\",\n",
    "        \"biomass (CHP)\",\n",
    "        \"biomass (CCS, BECCS)\",\n",
    "        \"biomass (CCS, industrial)\",\n",
    "        \"battery (large)\",\n",
    "        \"battery (medium)\",\n",
    "        \"battery (industry)\",\n",
    "        \"battery (services)\",\n",
    "        \"battery (single family)\",\n",
    "        \"battery (multi family)\",\n",
    "        \"CAES\",\n",
    "        \"import\",\n",
    "    ],\n",
    "    years=[\n",
    "        2020,\n",
    "        2022,\n",
    "        2030,\n",
    "        2040,\n",
    "        2050\n",
    "    ],\n",
    "    characterization=True,\n",
    "    #data_type=np.float32,\n",
    "    multiprocessing=False,\n",
    "    demand_cutoff=0.01,\n",
    ")"
   ]
  },
  {
   "cell_type": "code",
   "execution_count": 3,
   "id": "6b46a369-f0db-4707-b9ef-625ba85ff94a",
   "metadata": {},
   "outputs": [],
   "source": [
    "p.lca_results = p.lca_results.interp(\n",
    "    year=range(2020, 2051)\n",
    ")"
   ]
  },
  {
   "cell_type": "code",
   "execution_count": 32,
   "id": "00f0cfff-d302-4a5b-8a84-d83df9509d3a",
   "metadata": {},
   "outputs": [],
   "source": [
    "df = p.lca_results.sum(dim=\"act_category\").to_dataframe(\"value\")"
   ]
  },
  {
   "cell_type": "code",
   "execution_count": 33,
   "id": "97a41fc1-5a2a-4897-b7d9-0d1c33a4ce82",
   "metadata": {},
   "outputs": [],
   "source": [
    "df = df[df[\"value\"]!=0.0]\n",
    "df = df[~df[\"value\"].isnull()]\n",
    "df=df.reset_index()"
   ]
  },
  {
   "cell_type": "code",
   "execution_count": 34,
   "id": "21a14ae2-ef37-4dec-af5f-323ff630085a",
   "metadata": {},
   "outputs": [],
   "source": [
    "from premise.geomap import Geomap\n",
    "geo = Geomap(\"image\")\n",
    "EU = geo.iam_to_ecoinvent_location(\"WEU\")\n",
    "EU.remove(\"CH\")"
   ]
  },
  {
   "cell_type": "code",
   "execution_count": 35,
   "id": "8fa7eb3d-d81c-47f2-b1bb-b4d8ccaf218a",
   "metadata": {},
   "outputs": [],
   "source": [
    "df.loc[\n",
    "    df[\"location\"].isin(EU),\n",
    "    \"location\"\n",
    "] = \"EU wo CH\""
   ]
  },
  {
   "cell_type": "code",
   "execution_count": 36,
   "id": "003dd064-b807-428b-ac3d-5b31b8e629bd",
   "metadata": {},
   "outputs": [],
   "source": [
    "df.loc[\n",
    "    ~df[\"location\"].isin([\"EU wo CH\", \"CH\"]),\n",
    "    \"location\"\n",
    "] = \"Rest of World\""
   ]
  },
  {
   "cell_type": "code",
   "execution_count": 12,
   "id": "c7db317e-253c-4e57-8f09-8b5ecbd6626e",
   "metadata": {},
   "outputs": [],
   "source": [
    "d = {\n",
    "    loc: geo.ecoinvent_to_iam_location(loc)\n",
    "    for loc in df[\"location\"].unique()\n",
    "}"
   ]
  },
  {
   "cell_type": "code",
   "execution_count": 13,
   "id": "39b75743-23ce-4c0e-96fa-13b1e59ced84",
   "metadata": {},
   "outputs": [],
   "source": [
    "df[\"region from\"] = df[\"location\"].map(d)\n",
    "df = df.drop('location', axis=1)"
   ]
  },
  {
   "cell_type": "code",
   "execution_count": 14,
   "id": "e9568858-901a-4a67-aed2-b2488de84306",
   "metadata": {},
   "outputs": [],
   "source": [
    "df = df.groupby([\n",
    "    'variable', 'year', 'region', 'model', 'scenario', 'impact_category', 'region from'\n",
    "]).sum().reset_index()"
   ]
  },
  {
   "cell_type": "code",
   "execution_count": 37,
   "id": "018824a9-5be3-4d68-b2c7-a6ff6db3caa8",
   "metadata": {},
   "outputs": [],
   "source": [
    "df=df.loc[~df[\"value\"].isnull()]"
   ]
  },
  {
   "cell_type": "code",
   "execution_count": 38,
   "id": "29401401-d42d-4116-8e86-467ed41beb65",
   "metadata": {},
   "outputs": [
    {
     "data": {
      "text/plain": [
       "337072"
      ]
     },
     "execution_count": 38,
     "metadata": {},
     "output_type": "execute_result"
    }
   ],
   "source": [
    "len(df)"
   ]
  },
  {
   "cell_type": "code",
   "execution_count": 39,
   "id": "0f1e46d6-edf7-451d-a9d0-13209af5eed2",
   "metadata": {},
   "outputs": [
    {
     "data": {
      "text/plain": [
       "array(['Rest of World', 'EU wo CH', 'CH'], dtype=object)"
      ]
     },
     "execution_count": 39,
     "metadata": {},
     "output_type": "execute_result"
    }
   ],
   "source": [
    "df[\"location\"].unique()"
   ]
  },
  {
   "cell_type": "code",
   "execution_count": 40,
   "id": "dae30af6-cff4-4dd3-890e-0d2a6e2ea4a3",
   "metadata": {},
   "outputs": [
    {
     "data": {
      "text/plain": [
       "array(['IPCC 2021 - climate change - GWP 100a, incl. H and bio CO2',\n",
       "       'RELICS - metals extraction - Aluminium',\n",
       "       'RELICS - metals extraction - Chromium',\n",
       "       'RELICS - metals extraction - Cobalt',\n",
       "       'RELICS - metals extraction - Copper',\n",
       "       'RELICS - metals extraction - Cadmium',\n",
       "       'RELICS - metals extraction - Cerium',\n",
       "       'RELICS - metals extraction - Antimony',\n",
       "       'RELICS - metals extraction - Boron',\n",
       "       'RELICS - metals extraction - Dysprosium',\n",
       "       'RELICS - metals extraction - Beryllium'], dtype=object)"
      ]
     },
     "execution_count": 40,
     "metadata": {},
     "output_type": "execute_result"
    }
   ],
   "source": [
    "df[\"impact_category\"].unique()"
   ]
  },
  {
   "cell_type": "code",
   "execution_count": 41,
   "id": "315c014c-e29d-4d40-b6c5-d5d032d2717e",
   "metadata": {},
   "outputs": [],
   "source": [
    "df.loc[df[\"impact_category\"] == 'IPCC 2021 - climate change - GWP 100a, incl. H and bio CO2', \"value\"] /= 1e6"
   ]
  },
  {
   "cell_type": "code",
   "execution_count": 42,
   "id": "f0c85132-0a04-4db8-98a1-b5019ff06787",
   "metadata": {},
   "outputs": [
    {
     "data": {
      "text/html": [
       "\n",
       "        <iframe\n",
       "            width=\"100%\"\n",
       "            height=\"500\"\n",
       "            src=\"pivottable_ch.html\"\n",
       "            frameborder=\"0\"\n",
       "            allowfullscreen\n",
       "            \n",
       "        ></iframe>\n",
       "        "
      ],
      "text/plain": [
       "<IPython.lib.display.IFrame at 0x28ddc4510>"
      ]
     },
     "execution_count": 42,
     "metadata": {},
     "output_type": "execute_result"
    }
   ],
   "source": [
    "from pivottablejs import pivot_ui\n",
    "from IPython.display import HTML\n",
    "pivot_ui(df, outfile_path='pivottable_ch.html')"
   ]
  },
  {
   "cell_type": "code",
   "execution_count": 6,
   "id": "399e1abb-591f-4337-ab13-19d178a7035e",
   "metadata": {},
   "outputs": [
    {
     "data": {
      "text/html": [
       "\n",
       "        <iframe\n",
       "            width=\"100%\"\n",
       "            height=\"500\"\n",
       "            src=\"pivottable_ch.html\"\n",
       "            frameborder=\"0\"\n",
       "            allowfullscreen\n",
       "            \n",
       "        ></iframe>\n",
       "        "
      ],
      "text/plain": [
       "<IPython.lib.display.IFrame at 0x15b6b6310>"
      ]
     },
     "execution_count": 6,
     "metadata": {},
     "output_type": "execute_result"
    }
   ],
   "source": [
    "from pivottablejs import pivot_ui\n",
    "from IPython.display import HTML\n",
    "pivot_ui(df, outfile_path='pivottable_ch.html')"
   ]
  },
  {
   "cell_type": "code",
   "execution_count": null,
   "id": "7d78d835-eb40-4962-89cc-59639d356f79",
   "metadata": {},
   "outputs": [],
   "source": []
  }
 ],
 "metadata": {
  "kernelspec": {
   "display_name": "Python 3 (ipykernel)",
   "language": "python",
   "name": "python3"
  },
  "language_info": {
   "codemirror_mode": {
    "name": "ipython",
    "version": 3
   },
   "file_extension": ".py",
   "mimetype": "text/x-python",
   "name": "python",
   "nbconvert_exporter": "python",
   "pygments_lexer": "ipython3",
   "version": "3.11.8"
  }
 },
 "nbformat": 4,
 "nbformat_minor": 5
}
